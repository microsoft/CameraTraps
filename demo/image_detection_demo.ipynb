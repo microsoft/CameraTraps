{
 "cells": [
  {
   "cell_type": "markdown",
   "id": "b739c0e2",
   "metadata": {},
   "source": [
    "# Image Detection Demo with PytorchWildlife"
   ]
  },
  {
   "cell_type": "markdown",
   "id": "1197e180",
   "metadata": {},
   "source": [
    "This tutorial showcases the capabilities of the PytorchWildlife package for image detection. We will walk through the steps of setting up the environment, processing a single image, batch processing multiple images, and saving the results in various formats.\n",
    "\n",
    "## Prerequisites\n",
    "Ensure that the PytorchWildlife package and other required libraries are installed. Also, make sure you have a CUDA-capable GPU if you intend to run the model on a GPU.\n",
    "\n",
    "## Setup\n",
    "First, we'll start by importing the necessary libraries and modules."
   ]
  },
  {
   "cell_type": "code",
   "execution_count": null,
   "id": "c44e7713",
   "metadata": {},
   "outputs": [],
   "source": [
    "import numpy as np\n",
    "from PIL import Image\n",
    "import torch\n",
    "from torch.utils.data import DataLoader\n",
    "from PytorchWildlife.models import detection as pw_detection\n",
    "from PytorchWildlife.data import transforms as pw_trans\n",
    "from PytorchWildlife.data import datasets as pw_data \n",
    "from PytorchWildlife import utils as pw_utils"
   ]
  },
  {
   "cell_type": "markdown",
   "id": "3a23982f",
   "metadata": {},
   "source": [
    "## Setting GPU\n",
    "If you have multiple GPUs, you can specify which one you'd like to use. By default, we'll use GPU number 0. Adjust this if your setup is different."
   ]
  },
  {
   "cell_type": "code",
   "execution_count": null,
   "id": "8f622040",
   "metadata": {},
   "outputs": [],
   "source": [
    "torch.cuda.set_device(0) # Only use if you are running on GPU."
   ]
  },
  {
   "cell_type": "markdown",
   "id": "6abd07b5",
   "metadata": {},
   "source": [
    "## Model Initialization\n",
    "We will initialize the MegaDetectorV5 model for image detection. This model is designed for detecting animals in images."
   ]
  },
  {
   "cell_type": "code",
   "execution_count": null,
   "id": "eb25db43",
   "metadata": {},
   "outputs": [],
   "source": [
    "DEVICE = \"cpu\"  # Use \"cuda\" if GPU is available \"cpu\" if no GPU is available\n",
    "detection_model = pw_detection.MegaDetectorV5(device=DEVICE, pretrained=True)"
   ]
  },
  {
   "cell_type": "markdown",
   "id": "1e57dcca",
   "metadata": {},
   "source": [
    "## Single Image Detection\n",
    "For demonstration purposes, we will first perform detection on a single image. Make sure to specify the correct path to your image."
   ]
  },
  {
   "cell_type": "code",
   "execution_count": null,
   "id": "0d730b20",
   "metadata": {},
   "outputs": [],
   "source": [
    "tgt_img_path = \"./demo_data/imgs/10050028_0.JPG\"\n",
    "img = np.array(Image.open(tgt_img_path).convert(\"RGB\"))\n",
    "transform = pw_trans.MegaDetector_v5_Transform(target_size=detection_model.IMAGE_SIZE,\n",
    "                                               stride=detection_model.STRIDE)\n",
    "results = detection_model.single_image_detection(transform(img), img.shape, tgt_img_path)\n",
    "pw_utils.save_detection_images(results, \"./demo_output\")"
   ]
  },
  {
   "cell_type": "markdown",
   "id": "2e23329c",
   "metadata": {},
   "source": [
    "## Batch Image Detection\n",
    "Next, we'll demonstrate how to process multiple images in batches. This is useful when you have a large number of images and want to process them efficiently."
   ]
  },
  {
   "cell_type": "code",
   "execution_count": null,
   "id": "561eff0c",
   "metadata": {},
   "outputs": [],
   "source": [
    "tgt_folder_path = \"./demo_data/imgs\"\n",
    "dataset = pw_data.DetectionImageFolder(\n",
    "    tgt_folder_path,\n",
    "    transform=pw_trans.MegaDetector_v5_Transform(target_size=detection_model.IMAGE_SIZE,\n",
    "                                                 stride=detection_model.STRIDE)\n",
    ")\n",
    "loader = DataLoader(dataset, batch_size=32, shuffle=False, \n",
    "                    pin_memory=True, num_workers=8, drop_last=False)\n",
    "results = detection_model.batch_image_detection(loader)"
   ]
  },
  {
   "cell_type": "markdown",
   "id": "bb41830b",
   "metadata": {},
   "source": [
    "## Output Results\n",
    "Once we have the detection results, we can save them in various formats. Here are a few examples:\n",
    "\n",
    "### 1. Annotated Images:"
   ]
  },
  {
   "cell_type": "code",
   "execution_count": null,
   "id": "f63310ab",
   "metadata": {},
   "outputs": [],
   "source": [
    "pw_utils.save_detection_images(results, \"batch_output\")"
   ]
  },
  {
   "cell_type": "markdown",
   "id": "bbd016ae",
   "metadata": {},
   "source": [
    "### 2. Cropped Images:"
   ]
  },
  {
   "cell_type": "code",
   "execution_count": null,
   "id": "13653739",
   "metadata": {},
   "outputs": [],
   "source": [
    "pw_utils.save_crop_images(results, \"crop_output\")"
   ]
  },
  {
   "cell_type": "markdown",
   "id": "49be4063",
   "metadata": {},
   "source": [
    "### 3. JSON Format:"
   ]
  },
  {
   "cell_type": "code",
   "execution_count": null,
   "id": "b627280b",
   "metadata": {},
   "outputs": [],
   "source": [
    "pw_utils.save_detection_json(results, \"./batch_output.json\",\n",
    "                             categories=detection_model.CLASS_NAMES)"
   ]
  },
  {
   "cell_type": "markdown",
   "id": "a4ee1d7b",
   "metadata": {},
   "source": [
    "## Conclusion\n",
    "This tutorial walked you through image detection using the PytorchWildlife package. You can further explore the package's capabilities, fine-tune the model, or adapt this demo for your specific needs."
   ]
  }
 ],
 "metadata": {
  "language_info": {
   "name": "python"
  }
 },
 "nbformat": 4,
 "nbformat_minor": 5
}
