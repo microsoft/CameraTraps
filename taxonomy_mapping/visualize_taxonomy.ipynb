{
 "cells": [
  {
   "cell_type": "markdown",
   "metadata": {},
   "source": [
    "# Visualize Taxonomy\n",
    "\n",
    "We use the [*networkx*](https://networkx.github.io/) Python package for analyzing graphs and the [*graphviz*](https://graphviz.readthedocs.io/) Python package for drawing graphs."
   ]
  },
  {
   "cell_type": "code",
   "execution_count": null,
   "metadata": {},
   "outputs": [],
   "source": [
    "%load_ext autoreload\n",
    "%autoreload 2\n",
    "%matplotlib inline"
   ]
  },
  {
   "cell_type": "code",
   "execution_count": null,
   "metadata": {},
   "outputs": [],
   "source": [
    "from typing import Any, Mapping, Tuple\n",
    "\n",
    "import graphviz as gv\n",
    "import networkx as nx\n",
    "import pandas as pd\n",
    "\n",
    "from classification.json_validator import TaxonNode, build_taxonomy_dict"
   ]
  },
  {
   "cell_type": "code",
   "execution_count": null,
   "metadata": {},
   "outputs": [],
   "source": [
    "TAXONOMY_CSV_PATH = '/path/to/camera-traps-private/camera_trap_taxonomy_mapping.csv'"
   ]
  },
  {
   "cell_type": "markdown",
   "metadata": {},
   "source": [
    "## Load taxonomy CSV"
   ]
  },
  {
   "cell_type": "code",
   "execution_count": null,
   "metadata": {},
   "outputs": [],
   "source": [
    "df = pd.read_csv(TAXONOMY_CSV_PATH)\n",
    "display(df.head())"
   ]
  },
  {
   "cell_type": "code",
   "execution_count": null,
   "metadata": {},
   "outputs": [],
   "source": [
    "# display all rows without a taxonomy string\n",
    "# with pd.option_context('display.max_rows', 100):\n",
    "#     display(df[df['taxonomy_string'].isna()])"
   ]
  },
  {
   "cell_type": "code",
   "execution_count": null,
   "metadata": {},
   "outputs": [],
   "source": [
    "taxon_to_node, label_to_node = build_taxonomy_dict(df)"
   ]
  },
  {
   "cell_type": "markdown",
   "metadata": {},
   "source": [
    "## Graph helper methods"
   ]
  },
  {
   "cell_type": "code",
   "execution_count": null,
   "metadata": {},
   "outputs": [],
   "source": [
    "def build_nx_graph(taxon_to_node: Mapping[Tuple[str, str], TaxonNode]) -> nx.DiGraph:\n",
    "    g = nx.DiGraph()\n",
    "    for node_id, taxon_node in taxon_to_node.items():\n",
    "        g.add_node(node_id)  # node_id is a tuple (taxon_level, taxon_name)\n",
    "        for child in taxon_node.children:\n",
    "            child_id = (child.level, child.name)\n",
    "            g.add_edge(node_id, child_id)\n",
    "    assert nx.is_directed_acyclic_graph(g)\n",
    "    return g\n",
    "\n",
    "\n",
    "def nx_to_gv(nx_g: nx.DiGraph) -> gv.Digraph:\n",
    "    \"\"\"Converts a networkX graph to a graphviz graph.\"\"\"\n",
    "    gv_g = gv.Digraph()\n",
    "    for node in nx_g.nodes:  # each node is a tuple\n",
    "        gv_g.node('\\n'.join(node))\n",
    "    for n1, n2 in nx_g.edges:\n",
    "        n1 = '\\n'.join(n1)\n",
    "        n2 = '\\n'.join(n2)\n",
    "        gv_g.edge(n1, n2)\n",
    "    return gv_g\n",
    "\n",
    "\n",
    "def visualize_subgraph(nx_graph: nx.DiGraph, node: Any) -> gv.Digraph:\n",
    "    \"\"\"Returns a gv.DiGraph rooted at node.\"\"\"\n",
    "    nx_subgraph_nodes = nx.descendants(nx_graph, node) | {node}\n",
    "    nx_subgraph = nx_graph.subgraph(nx_subgraph_nodes)\n",
    "    gv_subgraph = nx_to_gv(nx_subgraph)\n",
    "    return gv_subgraph\n",
    "\n",
    "\n",
    "def build_graphviz_graph(taxon_to_node: Mapping[Tuple[str, str], TaxonNode]) -> gv.Digraph:\n",
    "    g = gv.Digraph()\n",
    "    g.attr(overlap='false')\n",
    "    for (taxon_level, taxon_name), taxon_node in taxon_to_node.items():\n",
    "        taxon_id = f'{taxon_level}\\n{taxon_name}'\n",
    "        g.node(taxon_id)\n",
    "        for child in taxon_node.children:\n",
    "            child_id = f'{child.level}\\n{child.name}'\n",
    "            g.edge(taxon_id, child_id)\n",
    "    return g"
   ]
  },
  {
   "cell_type": "markdown",
   "metadata": {},
   "source": [
    "## Render entire Taxonomy graph to SVG\n",
    "\n",
    "May include disconnected components."
   ]
  },
  {
   "cell_type": "code",
   "execution_count": null,
   "metadata": {},
   "outputs": [],
   "source": [
    "gv_g = build_graphviz_graph(taxon_to_node)\n",
    "gv_g.render('taxonomy', format='svg', cleanup=True)\n",
    "# display(gv_g)  # this can be huge"
   ]
  },
  {
   "cell_type": "markdown",
   "metadata": {},
   "source": [
    "## Analyze Taxonomy graph"
   ]
  },
  {
   "cell_type": "code",
   "execution_count": null,
   "metadata": {},
   "outputs": [],
   "source": [
    "nx_g = build_nx_graph(taxon_to_node)\n",
    "print('Number of disconnected components:', nx.number_weakly_connected_components(nx_g))\n",
    "\n",
    "for subgraph in nx.weakly_connected_components(nx_g):\n",
    "    # each subgraph is a set of (taxon_level, taxon_name)\n",
    "    \n",
    "    # get root node\n",
    "    subgraph = nx_g.subgraph(subgraph)\n",
    "    root_taxa = [n for n, d in subgraph.in_degree() if d==0]\n",
    "    assert len(root_taxa) == 1\n",
    "    root_taxon = root_taxa[0]\n",
    "\n",
    "    print(f'Graph rooted at {root_taxon} has {len(subgraph)} nodes')\n",
    "    print('   ', taxon_to_node[root_taxon])"
   ]
  },
  {
   "cell_type": "markdown",
   "metadata": {},
   "source": [
    "### Display disconnected component"
   ]
  },
  {
   "cell_type": "code",
   "execution_count": null,
   "metadata": {},
   "outputs": [],
   "source": [
    "gv_g = visualize_subgraph(nx_g, node=('phylum', 'tracheophyta'))\n",
    "display(gv_g)"
   ]
  },
  {
   "cell_type": "markdown",
   "metadata": {},
   "source": [
    "## Query the graph"
   ]
  },
  {
   "cell_type": "markdown",
   "metadata": {},
   "source": [
    "### Show the smallest subgraph containing all given dataset labels"
   ]
  },
  {
   "cell_type": "code",
   "execution_count": null,
   "metadata": {},
   "outputs": [],
   "source": [
    "labels = [\n",
    "    ('idfg_swwlf_2019', 'mountain_lion'),\n",
    "    ('idfg_swwlf_2019', 'bobcat'),\n",
    "    ('idfg_swwlf_2019', 'cat_domestic'),\n",
    "    ('idfg_swwlf_2019', 'lynx'),\n",
    "    ('idfg', 'lion')\n",
    "]\n",
    "nodes = [label_to_node[label] for label in labels]\n",
    "lca_node = TaxonNode.lowest_common_ancestor(set(nodes))\n",
    "display(lca_node)\n",
    "display(visualize_subgraph(nx_g, node=(lca_node.level, lca_node.name)))"
   ]
  },
  {
   "cell_type": "markdown",
   "metadata": {},
   "source": [
    "### Get the set of dataset labels corresponding to this subgraph"
   ]
  },
  {
   "cell_type": "code",
   "execution_count": null,
   "metadata": {},
   "outputs": [],
   "source": [
    "lca_node.get_dataset_labels()"
   ]
  }
 ],
 "metadata": {
  "kernelspec": {
   "display_name": "Python [conda env:cameratraps-classifier] *",
   "language": "python",
   "name": "conda-env-cameratraps-classifier-py"
  },
  "language_info": {
   "codemirror_mode": {
    "name": "ipython",
    "version": 3
   },
   "file_extension": ".py",
   "mimetype": "text/x-python",
   "name": "python",
   "nbconvert_exporter": "python",
   "pygments_lexer": "ipython3",
   "version": "3.8.2"
  }
 },
 "nbformat": 4,
 "nbformat_minor": 4
}
