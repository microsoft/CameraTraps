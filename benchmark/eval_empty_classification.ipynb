{
 "cells": [
  {
   "cell_type": "code",
   "execution_count": 1,
   "metadata": {},
   "outputs": [],
   "source": [
    "from IPython.core.interactiveshell import InteractiveShell\n",
    "InteractiveShell.ast_node_interactivity = 'all'  # default is ‘last_expr’\n",
    "\n",
    "%load_ext autoreload\n",
    "%autoreload 2"
   ]
  },
  {
   "cell_type": "code",
   "execution_count": 2,
   "metadata": {},
   "outputs": [],
   "source": [
    "import sys\n",
    "sys.path.append('/data/home/marmot/camtrap/PyCharm/CameraTraps-benchmark')\n",
    "#sys.path.append('/Users/siyuyang/Source/Repos/GitHub_MSFT/CameraTraps-benchmark')"
   ]
  },
  {
   "cell_type": "code",
   "execution_count": 3,
   "metadata": {},
   "outputs": [],
   "source": [
    "import json\n",
    "import os\n",
    "\n",
    "from sklearn.metrics import precision_recall_curve\n",
    "\n",
    "import numpy as np\n",
    "from benchmark import model_eval_utils\n",
    "from data_management import cct_json_utils\n",
    "from api.batch_processing.postprocessing import load_api_results\n",
    "from visualization.visualization_utils import plot_precision_recall_curve"
   ]
  },
  {
   "cell_type": "markdown",
   "metadata": {},
   "source": [
    "# Evaluate empty non-empty classification on the sequence level\n",
    "\n",
    "Evaluated on the two validation sets using models trained on the respective training set."
   ]
  },
  {
   "cell_type": "code",
   "execution_count": 4,
   "metadata": {},
   "outputs": [],
   "source": [
    "def load_json(path):\n",
    "    with open(path) as f:\n",
    "        j = json.load(f)\n",
    "    return j"
   ]
  },
  {
   "cell_type": "markdown",
   "metadata": {},
   "source": [
    "## SS Season 1"
   ]
  },
  {
   "cell_type": "markdown",
   "metadata": {},
   "source": [
    "### On validation set"
   ]
  },
  {
   "cell_type": "markdown",
   "metadata": {},
   "source": [
    "threshold | accuracy\n",
    "0.5 | 0.8602\n",
    "0.9 | 0.8860\n",
    "0.95 | 0.8926\n",
    "0.98 | 0.9018\n",
    "0.99 | 0.9078"
   ]
  },
  {
   "cell_type": "code",
   "execution_count": 8,
   "metadata": {},
   "outputs": [
    {
     "name": "stdout",
     "output_type": "stream",
     "text": [
      "There are 34819 sequences, 27735 are empty, which is 79.65478617995922%\n",
      "Number of sequences not in both gt and pred: 0\n",
      "Evaluating results on 34819 sequences\n",
      "Accuracy by using 0.5 as confidence threshold: 0.8602199948304087\n",
      "Number of sequences not in both gt and pred: 0\n",
      "Evaluating results on 34819 sequences\n",
      "Accuracy by using 0.99 as confidence threshold: 0.9078376748327063\n",
      "Precision at 0.9 recall is 0.6903162911611785, at threshold 0.969\n"
     ]
    },
    {
     "data": {
      "image/png": "[encoded data removed]",
      "text/plain": [
       "<Figure size 432x288 with 1 Axes>"
      ]
     },
     "metadata": {},
     "output_type": "display_data"
    }
   ],
   "source": [
    "gt_path = '/beaver_disk/camtrap/ss_season1/benchmark/ss_season1_images_20190919_val.json'\n",
    "detector_output_path = '/home/marmot/camtrap/mnt/intermediate/dataset_paper/detector_results_one_class/SS_season1/detections_ss_1c_detector_ss_val_all_images.json'\n",
    "\n",
    "gt_db_indexed = cct_json_utils.IndexedJsonDb(gt_path)\n",
    "\n",
    "model_eval_utils.get_number_empty_seq(gt_db_indexed)\n",
    "\n",
    "accuracy, gt_seq_level, pred_seq_level = model_eval_utils.empty_accuracy_seq_level(gt_db_indexed, \n",
    "                                                                                   detector_output_path,\n",
    "                                                                                   load_api_results.ss_file_to_file_name,\n",
    "                                                                                    threshold=0.5)\n",
    "print('Accuracy by using 0.5 as confidence threshold:', accuracy)\n",
    "\n",
    "accuracy, gt_seq_level, pred_seq_level = model_eval_utils.empty_accuracy_seq_level(gt_db_indexed, \n",
    "                                                                                   detector_output_path,\n",
    "                                                                                   load_api_results.ss_file_to_file_name,\n",
    "                                                                                    threshold=0.99)\n",
    "print('Accuracy by using 0.99 as confidence threshold:', accuracy)\n",
    "\n",
    "precisions, recalls, thresholds = precision_recall_curve(gt_seq_level, pred_seq_level)\n",
    "\n",
    "p = plot_precision_recall_curve(precisions, recalls, title='SS Season 1 validation set')\n",
    "\n",
    "prec_at_recall, th = model_eval_utils.find_precision_at_recall(precisions, recalls, thresholds, recall_level=0.9)\n",
    "print('Precision at 0.9 recall is {}, at threshold {}'.format(prec_at_recall, th))"
   ]
  },
  {
   "cell_type": "markdown",
   "metadata": {},
   "source": [
    "### On training set\n",
    "\n",
    "Just to see..."
   ]
  },
  {
   "cell_type": "code",
   "execution_count": 9,
   "metadata": {},
   "outputs": [
    {
     "name": "stdout",
     "output_type": "stream",
     "text": [
      "There are 113407 sequences, 94802 are empty, which is 83.59448711278846%\n",
      "Number of sequences not in both gt and pred: 34\n",
      "Evaluating results on 113373 sequences\n",
      "Accuracy by using 0.5 as confidence threshold: 0.8429343847300503\n",
      "Number of sequences not in both gt and pred: 34\n",
      "Evaluating results on 113373 sequences\n",
      "Accuracy by using 0.99 as confidence threshold: 0.9485327194305523\n",
      "Precision at 0.9 recall is 0.8517422580480588, at threshold 0.996\n"
     ]
    },
    {
     "data": {
      "image/png": "[encoded data removed]",
      "text/plain": [
       "<Figure size 432x288 with 1 Axes>"
      ]
     },
     "metadata": {},
     "output_type": "display_data"
    }
   ],
   "source": [
    "gt_path = '/beaver_disk/camtrap/ss_season1/benchmark/ss_season1_images_20190919_train.json'\n",
    "detector_output_path = '/home/marmot/camtrap/mnt/intermediate/dataset_paper/detector_results_one_class/SS_season1/331_detections_ss_1c_detector_ss_train_all_images_20191001001617.json'\n",
    "\n",
    "gt_db_indexed = cct_json_utils.IndexedJsonDb(gt_path)\n",
    "\n",
    "model_eval_utils.get_number_empty_seq(gt_db_indexed)\n",
    "\n",
    "accuracy, gt_seq_level, pred_seq_level = model_eval_utils.empty_accuracy_seq_level(gt_db_indexed, \n",
    "                                                                                   detector_output_path,\n",
    "                                                                                   load_api_results.ss_file_to_file_name,\n",
    "                                                                                    threshold=0.5)\n",
    "print('Accuracy by using 0.5 as confidence threshold:', accuracy)\n",
    "\n",
    "accuracy, gt_seq_level, pred_seq_level = model_eval_utils.empty_accuracy_seq_level(gt_db_indexed, \n",
    "                                                                                   detector_output_path,\n",
    "                                                                                   load_api_results.ss_file_to_file_name,\n",
    "                                                                                    threshold=0.99)\n",
    "print('Accuracy by using 0.99 as confidence threshold:', accuracy)\n",
    "\n",
    "precisions, recalls, thresholds = precision_recall_curve(gt_seq_level, pred_seq_level)\n",
    "\n",
    "p = plot_precision_recall_curve(precisions, recalls, title='SS Season 1 training set')\n",
    "\n",
    "prec_at_recall, th = model_eval_utils.find_precision_at_recall(precisions, recalls, thresholds, recall_level=0.9)\n",
    "print('Precision at 0.9 recall is {}, at threshold {}'.format(prec_at_recall, th))"
   ]
  },
  {
   "cell_type": "markdown",
   "metadata": {},
   "source": [
    "## CCT all images"
   ]
  },
  {
   "cell_type": "markdown",
   "metadata": {},
   "source": [
    "### On validation set"
   ]
  },
  {
   "cell_type": "code",
   "execution_count": 10,
   "metadata": {},
   "outputs": [
    {
     "name": "stdout",
     "output_type": "stream",
     "text": [
      "There are 40603 sequences, 18544 are empty, which is 45.671502105755735%\n",
      "Number of sequences not in both gt and pred: 0\n",
      "Evaluating results on 40603 sequences\n",
      "Accuracy by using 0.5 as confidence threshold: 0.827648203334729\n",
      "Number of sequences not in both gt and pred: 0\n",
      "Evaluating results on 40603 sequences\n",
      "Accuracy by using 0.99 as confidence threshold: 0.858507992020294\n",
      "Precision at 0.9 recall is 0.8109477124183007, at threshold 0.54\n"
     ]
    },
    {
     "data": {
      "image/png": "[encoded data removed]",
      "text/plain": [
       "<Figure size 432x288 with 1 Axes>"
      ]
     },
     "metadata": {},
     "output_type": "display_data"
    }
   ],
   "source": [
    "gt_path = '/beaver_disk/camtrap/caltech/benchmark/caltech_images_20190919_val.json'\n",
    "detector_output_path = '/home/marmot/camtrap/mnt/intermediate/dataset_paper/detector_results_one_class/CCT/2784_detections_cct_1c_detector_cct_val_all_images_20191001000804.json'\n",
    "\n",
    "gt_db_indexed = cct_json_utils.IndexedJsonDb(gt_path)\n",
    "\n",
    "model_eval_utils.get_number_empty_seq(gt_db_indexed)\n",
    "\n",
    "accuracy, gt_seq_level, pred_seq_level = model_eval_utils.empty_accuracy_seq_level(gt_db_indexed, \n",
    "                                                                                   detector_output_path,\n",
    "                                                                                   load_api_results.caltech_file_to_file_name,\n",
    "                                                                                    threshold=0.5)\n",
    "print('Accuracy by using 0.5 as confidence threshold:', accuracy)\n",
    "\n",
    "accuracy, gt_seq_level, pred_seq_level = model_eval_utils.empty_accuracy_seq_level(gt_db_indexed, \n",
    "                                                                                   detector_output_path,\n",
    "                                                                                   load_api_results.caltech_file_to_file_name,\n",
    "                                                                                    threshold=0.99)\n",
    "print('Accuracy by using 0.99 as confidence threshold:', accuracy)\n",
    "\n",
    "precisions, recalls, thresholds = precision_recall_curve(gt_seq_level, pred_seq_level)\n",
    "\n",
    "p = plot_precision_recall_curve(precisions, recalls, title='CCT val set')\n",
    "\n",
    "prec_at_recall, th = model_eval_utils.find_precision_at_recall(precisions, recalls, thresholds, recall_level=0.9)\n",
    "print('Precision at 0.9 recall is {}, at threshold {}'.format(prec_at_recall, th))"
   ]
  },
  {
   "cell_type": "code",
   "execution_count": 11,
   "metadata": {},
   "outputs": [
    {
     "name": "stdout",
     "output_type": "stream",
     "text": [
      "There are 140405 sequences, 102604 are empty, which is 73.07716961646665%\n",
      "Number of sequences not in both gt and pred: 0\n",
      "Evaluating results on 140405 sequences\n",
      "Accuracy by using 0.5 as confidence threshold: 0.7466471991738186\n",
      "Number of sequences not in both gt and pred: 0\n",
      "Evaluating results on 140405 sequences\n",
      "Accuracy by using 0.99 as confidence threshold: 0.9263274099925216\n",
      "Precision at 0.9 recall is 0.4560413034732466, at threshold 0.3\n"
     ]
    },
    {
     "data": {
      "image/png": "[encoded data removed]",
      "text/plain": [
       "<Figure size 432x288 with 1 Axes>"
      ]
     },
     "metadata": {},
     "output_type": "display_data"
    }
   ],
   "source": [
    "gt_path = '/beaver_disk/camtrap/caltech/benchmark/caltech_images_20190919_train.json'\n",
    "detector_output_path = '/home/marmot/camtrap/mnt/intermediate/dataset_paper/detector_results_one_class/CCT/detections_cct_1c_detector_cct_train_all_images.json'\n",
    "\n",
    "gt_db_indexed = cct_json_utils.IndexedJsonDb(gt_path)\n",
    "\n",
    "model_eval_utils.get_number_empty_seq(gt_db_indexed)\n",
    "\n",
    "accuracy, gt_seq_level, pred_seq_level = model_eval_utils.empty_accuracy_seq_level(gt_db_indexed, \n",
    "                                                                                   detector_output_path,\n",
    "                                                                                   load_api_results.caltech_file_to_file_name,\n",
    "                                                                                    threshold=0.5)\n",
    "print('Accuracy by using 0.5 as confidence threshold:', accuracy)\n",
    "\n",
    "accuracy, gt_seq_level, pred_seq_level = model_eval_utils.empty_accuracy_seq_level(gt_db_indexed, \n",
    "                                                                                   detector_output_path,\n",
    "                                                                                   load_api_results.caltech_file_to_file_name,\n",
    "                                                                                    threshold=0.99)\n",
    "print('Accuracy by using 0.99 as confidence threshold:', accuracy)\n",
    "\n",
    "precisions, recalls, thresholds = precision_recall_curve(gt_seq_level, pred_seq_level)\n",
    "\n",
    "p = plot_precision_recall_curve(precisions, recalls, title='CCT training set')\n",
    "\n",
    "prec_at_recall, th = model_eval_utils.find_precision_at_recall(precisions, recalls, thresholds, recall_level=0.9)\n",
    "print('Precision at 0.9 recall is {}, at threshold {}'.format(prec_at_recall, th))"
   ]
  },
  {
   "cell_type": "markdown",
   "metadata": {},
   "source": [
    "For the Caltech Camera Traps dataset, the training set has many more empty images than the validation set."
   ]
  },
  {
   "cell_type": "code",
   "execution_count": null,
   "metadata": {},
   "outputs": [],
   "source": []
  }
 ],
 "metadata": {
  "kernelspec": {
   "display_name": "Python [default]",
   "language": "python",
   "name": "python3"
  },
  "language_info": {
   "codemirror_mode": {
    "name": "ipython",
    "version": 3
   },
   "file_extension": ".py",
   "mimetype": "text/x-python",
   "name": "python",
   "nbconvert_exporter": "python",
   "pygments_lexer": "ipython3",
   "version": "3.5.5"
  }
 },
 "nbformat": 4,
 "nbformat_minor": 2
}
