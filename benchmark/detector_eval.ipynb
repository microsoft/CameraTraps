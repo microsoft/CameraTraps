{
 "cells": [
  {
   "cell_type": "code",
   "execution_count": 1,
   "metadata": {},
   "outputs": [],
   "source": [
    "from IPython.core.interactiveshell import InteractiveShell\n",
    "InteractiveShell.ast_node_interactivity = 'all'  # default is ‘last_expr’\n",
    "\n",
    "%load_ext autoreload\n",
    "%autoreload 2"
   ]
  },
  {
   "cell_type": "code",
   "execution_count": 2,
   "metadata": {},
   "outputs": [],
   "source": [
    "import sys\n",
    "sys.path.append('/data/home/marmot/camtrap/PyCharm/CameraTraps-benchmark')\n",
    "sys.path.append('/data/home/marmot/camtrap/PyCharm/CameraTraps-benchmark/detection/detector_eval')"
   ]
  },
  {
   "cell_type": "code",
   "execution_count": 3,
   "metadata": {},
   "outputs": [],
   "source": [
    "import json\n",
    "import os\n",
    "from collections import defaultdict\n",
    "\n",
    "import numpy as np\n",
    "from detection.detector_eval import detector_eval\n",
    "from data_management import cct_json_utils\n",
    "from visualization.visualization_utils import plot_precision_recall_curve"
   ]
  },
  {
   "cell_type": "code",
   "execution_count": 4,
   "metadata": {},
   "outputs": [],
   "source": [
    "detection_results_dir = '/home/marmot/mnt/ai4edevshare/api_outputs/Benchmark/190904'\n",
    "results_path = [os.path.join(detection_results_dir, f) for f in os.listdir(detection_results_dir)]"
   ]
  },
  {
   "cell_type": "code",
   "execution_count": 5,
   "metadata": {},
   "outputs": [
    {
     "data": {
      "text/plain": [
       "['/home/marmot/mnt/ai4edevshare/api_outputs/Benchmark/190904/5618_detections_train_cct_20_val_ss1_20190908093215.json',\n",
       " '/home/marmot/mnt/ai4edevshare/api_outputs/Benchmark/190904/5618_detections_train_cct_20_val_ss1_20190908093215_noprefix.json',\n",
       " '/home/marmot/mnt/ai4edevshare/api_outputs/Benchmark/190904/6704_detections_train_ss1_val_cct20_20190908092921.json',\n",
       " '/home/marmot/mnt/ai4edevshare/api_outputs/Benchmark/190904/8506_detections_train_cct_20_val_cct20_20190908093026.json',\n",
       " '/home/marmot/mnt/ai4edevshare/api_outputs/Benchmark/190904/948_detections_train_ss1_val_ss1_20190908092426.json']"
      ]
     },
     "execution_count": 5,
     "metadata": {},
     "output_type": "execute_result"
    }
   ],
   "source": [
    "results_path"
   ]
  },
  {
   "cell_type": "code",
   "execution_count": 6,
   "metadata": {},
   "outputs": [],
   "source": [
    "num_gt_classes = 2"
   ]
  },
  {
   "cell_type": "markdown",
   "metadata": {},
   "source": [
    "Ground truth: `[x, y, width, height]`\n",
    "    \n",
    "API output: `[x_min, y_min, width_of_box, height_of_box]`\n",
    "\n",
    "TF format: `[y_min, x_min, y_max, x_max]`"
   ]
  },
  {
   "cell_type": "code",
   "execution_count": 9,
   "metadata": {},
   "outputs": [],
   "source": [
    "def show_metrics(per_cat_metrics):\n",
    "    for cat, metrics in per_cat_metrics.items():\n",
    "        print('\\n' + str(cat))\n",
    "        print('Number of gt:', metrics['num_gt'])\n",
    "        print('Average precision', metrics['average_precision'])\n",
    "\n",
    "    mAP_from_cats = detector_eval.find_mAP(per_cat_metrics)\n",
    "    print('\\nmAP as the average of AP across the {} categories is {:.4f}'.format(num_gt_classes, mAP_from_cats))\n",
    "\n",
    "    precision_at_08_recall = detector_eval.find_precision_at_recall(per_cat_metrics[1]['precision'], per_cat_metrics[1]['recall'], \n",
    "                                                                    per_cat_metrics[1]['scores'],\n",
    "                                                                    recall_level=0.8)\n",
    "    print('Precision at 0.8 recall:', precision_at_08_recall)\n",
    "    \n",
    "    plot_precision_recall_curve(per_cat_metrics[1]['precision'], per_cat_metrics[1]['recall'], title='bbox level')"
   ]
  },
  {
   "cell_type": "code",
   "execution_count": 11,
   "metadata": {},
   "outputs": [],
   "source": [
    "empty_threshold = 0.5"
   ]
  },
  {
   "cell_type": "markdown",
   "metadata": {},
   "source": [
    "# Train on SS S1, val on SS S1"
   ]
  },
  {
   "cell_type": "markdown",
   "metadata": {},
   "source": [
    "## bbox"
   ]
  },
  {
   "cell_type": "code",
   "execution_count": 10,
   "metadata": {},
   "outputs": [
    {
     "name": "stderr",
     "output_type": "stream",
     "text": [
      "  5%|▌         | 151/2843 [00:00<00:01, 1508.80it/s]"
     ]
    },
    {
     "name": "stdout",
     "output_type": "stream",
     "text": [
      "Running per-object analysis...\n"
     ]
    },
    {
     "name": "stderr",
     "output_type": "stream",
     "text": [
      "100%|██████████| 2843/2843 [00:01<00:00, 1528.92it/s]\n"
     ]
    },
    {
     "name": "stdout",
     "output_type": "stream",
     "text": [
      "Computing precision recall for each category...\n",
      "Number of ground truth in category 1 is 4371\n",
      "Number of ground truth in category 2 is 7\n",
      "\n",
      "one_class\n",
      "Number of gt: 4378\n",
      "Average precision 0.814277886637954\n",
      "\n",
      "1\n",
      "Number of gt: 4371\n",
      "Average precision 0.8155819235188658\n",
      "\n",
      "2\n",
      "Number of gt: 7\n",
      "Average precision 0.0\n",
      "\n",
      "mAP as the average of AP across the 2 categories is 0.4078\n",
      "Precision at 0.8 recall: (0.8925472179683512, 0.9179999828338623)\n"
     ]
    },
    {
     "data": {
      "image/png": "[encoded data removed]",
      "text/plain": [
       "<Figure size 432x288 with 1 Axes>"
      ]
     },
     "metadata": {},
     "output_type": "display_data"
    }
   ],
   "source": [
    "file_prefix = 'SER/'\n",
    "\n",
    "results_path = '/home/marmot/mnt/ai4edevshare/api_outputs/Benchmark/190904/948_detections_train_ss1_val_ss1_20190908092426.json'\n",
    "\n",
    "gt_db_path = '/beaver_disk/camtrap/ss_season1/benchmark/SnapshotSerengetiBboxesS01_20190903_val.json'\n",
    "\n",
    "detection_res = make_detection_res(results_path, file_prefix=file_prefix)\n",
    "\n",
    "gt_indexed = get_gt_db(gt_db_path)\n",
    "\n",
    "per_image_gts, per_image_detections = detector_eval.get_per_image_gts_and_detections(gt_indexed, detection_res)\n",
    "\n",
    "per_cat_metrics = detector_eval.compute_precision_recall_bbox(per_image_detections, per_image_gts, num_gt_classes, \n",
    "                                                         matching_iou_threshold=0.5)\n",
    "\n",
    "show_metrics(per_cat_metrics)"
   ]
  },
  {
   "cell_type": "markdown",
   "metadata": {},
   "source": [
    "## empty vs non-empty"
   ]
  },
  {
   "cell_type": "code",
   "execution_count": 12,
   "metadata": {},
   "outputs": [
    {
     "name": "stdout",
     "output_type": "stream",
     "text": [
      "Accuracy: 0.9785689595575527\n"
     ]
    }
   ],
   "source": [
    "accuracy = detector_eval.compute_emptiness_accuracy(gt_indexed, detection_res, threshold=empty_threshold)\n",
    "\n",
    "print('Accuracy:', accuracy)"
   ]
  },
  {
   "cell_type": "markdown",
   "metadata": {},
   "source": [
    "# Train on SS S1, val on CCT-20"
   ]
  },
  {
   "cell_type": "markdown",
   "metadata": {},
   "source": [
    "## bbox"
   ]
  },
  {
   "cell_type": "code",
   "execution_count": 13,
   "metadata": {},
   "outputs": [
    {
     "name": "stderr",
     "output_type": "stream",
     "text": [
      "  1%|          | 159/18202 [00:00<00:11, 1588.30it/s]"
     ]
    },
    {
     "name": "stdout",
     "output_type": "stream",
     "text": [
      "Running per-object analysis...\n"
     ]
    },
    {
     "name": "stderr",
     "output_type": "stream",
     "text": [
      "100%|██████████| 18202/18202 [00:11<00:00, 1596.97it/s]\n"
     ]
    },
    {
     "name": "stdout",
     "output_type": "stream",
     "text": [
      "Computing precision recall for each category...\n",
      "Number of ground truth in category 1 is 18113\n",
      "Number of ground truth in category 2 is 0\n",
      "\n",
      "one_class\n",
      "Number of gt: 18113\n",
      "Average precision 0.713500230159196\n",
      "\n",
      "1\n",
      "Number of gt: 18113\n",
      "Average precision 0.7130783511904878\n",
      "\n",
      "2\n",
      "Number of gt: 0\n",
      "Average precision nan\n",
      "\n",
      "mAP as the average of AP across the 2 categories is 0.3565\n",
      "Precision at 0.8 recall: (0.47243504058944347, 1.0)\n"
     ]
    },
    {
     "data": {
      "image/png": "[encoded data removed]",
      "text/plain": [
       "<Figure size 432x288 with 1 Axes>"
      ]
     },
     "metadata": {},
     "output_type": "display_data"
    }
   ],
   "source": [
    "file_prefix = 'cct_images/'\n",
    "\n",
    "results_path = '/home/marmot/mnt/ai4edevshare/api_outputs/Benchmark/190904/6704_detections_train_ss1_val_cct20_20190908092921.json'\n",
    "\n",
    "gt_db_path = '/beaver_disk/camtrap/caltech/benchmark/cct-20/caltech-20_bboxes_20190904_val.json'\n",
    "\n",
    "detection_res = make_detection_res(results_path, file_prefix=file_prefix)\n",
    "\n",
    "gt_indexed = get_gt_db(gt_db_path)\n",
    "\n",
    "per_image_gts, per_image_detections = detector_eval.get_per_image_gts_and_detections(gt_indexed, detection_res)\n",
    "\n",
    "per_cat_metrics = detector_eval.compute_precision_recall_bbox(per_image_detections, per_image_gts, num_gt_classes, \n",
    "                                                         matching_iou_threshold=0.5)\n",
    "\n",
    "show_metrics(per_cat_metrics)"
   ]
  },
  {
   "cell_type": "markdown",
   "metadata": {},
   "source": [
    "## empty vs non-empty"
   ]
  },
  {
   "cell_type": "code",
   "execution_count": 14,
   "metadata": {},
   "outputs": [
    {
     "name": "stdout",
     "output_type": "stream",
     "text": [
      "Accuracy: 0.9071859347848308\n"
     ]
    }
   ],
   "source": [
    "accuracy = detector_eval.compute_emptiness_accuracy(gt_indexed, detection_res, threshold=empty_threshold)\n",
    "\n",
    "print('Accuracy:', accuracy)"
   ]
  },
  {
   "cell_type": "markdown",
   "metadata": {},
   "source": [
    "# Train on CCT-20, val on CCT-20"
   ]
  },
  {
   "cell_type": "markdown",
   "metadata": {},
   "source": [
    "## bbox"
   ]
  },
  {
   "cell_type": "code",
   "execution_count": 17,
   "metadata": {},
   "outputs": [
    {
     "name": "stderr",
     "output_type": "stream",
     "text": [
      "  1%|          | 162/17918 [00:00<00:10, 1615.02it/s]"
     ]
    },
    {
     "name": "stdout",
     "output_type": "stream",
     "text": [
      "Running per-object analysis...\n"
     ]
    },
    {
     "name": "stderr",
     "output_type": "stream",
     "text": [
      "100%|██████████| 17918/17918 [00:11<00:00, 1617.58it/s]\n"
     ]
    },
    {
     "name": "stdout",
     "output_type": "stream",
     "text": [
      "Computing precision recall for each category...\n",
      "Number of ground truth in category 1 is 18539\n",
      "Number of ground truth in category 2 is 0\n",
      "\n",
      "one_class\n",
      "Number of gt: 18539\n",
      "Average precision 0.9346375483403553\n",
      "\n",
      "1\n",
      "Number of gt: 18539\n",
      "Average precision 0.9348238623588044\n",
      "\n",
      "2\n",
      "Number of gt: 0\n",
      "Average precision nan\n",
      "\n",
      "mAP as the average of AP across the 2 categories is 0.4674\n",
      "Precision at 0.8 recall: (0.9758536745838542, 0.9990000128746033)\n"
     ]
    },
    {
     "data": {
      "image/png": "[encoded data removed]",
      "text/plain": [
       "<Figure size 432x288 with 1 Axes>"
      ]
     },
     "metadata": {},
     "output_type": "display_data"
    }
   ],
   "source": [
    "file_prefix = 'cct_images/'\n",
    "\n",
    "results_path = '/home/marmot/mnt/ai4edevshare/api_outputs/Benchmark/190904/8506_detections_train_cct_20_val_cct20_20190908093026.json'\n",
    "\n",
    "gt_db_path = '/beaver_disk/camtrap/caltech/benchmark/cct-20/caltech-20_bboxes_20190904_val.json'\n",
    "\n",
    "detection_res = make_detection_res(results_path, file_prefix=file_prefix)\n",
    "\n",
    "gt_indexed = get_gt_db(gt_db_path)\n",
    "\n",
    "per_image_gts, per_image_detections = detector_eval.get_per_image_gts_and_detections(gt_indexed, detection_res)\n",
    "\n",
    "per_cat_metrics = detector_eval.compute_precision_recall_bbox(per_image_detections, per_image_gts, num_gt_classes, \n",
    "                                                         matching_iou_threshold=0.5)\n",
    "\n",
    "show_metrics(per_cat_metrics)"
   ]
  },
  {
   "cell_type": "markdown",
   "metadata": {},
   "source": [
    "## empty vs non-empty"
   ]
  },
  {
   "cell_type": "code",
   "execution_count": 18,
   "metadata": {},
   "outputs": [
    {
     "name": "stdout",
     "output_type": "stream",
     "text": [
      "Accuracy: 0.9010528467750178\n"
     ]
    }
   ],
   "source": [
    "accuracy = detector_eval.compute_emptiness_accuracy(gt_indexed, detection_res, threshold=empty_threshold)\n",
    "\n",
    "print('Accuracy:', accuracy)"
   ]
  },
  {
   "cell_type": "markdown",
   "metadata": {},
   "source": [
    "# Train on CCT-20, val on SS S1"
   ]
  },
  {
   "cell_type": "markdown",
   "metadata": {},
   "source": [
    "## bbox"
   ]
  },
  {
   "cell_type": "code",
   "execution_count": 19,
   "metadata": {},
   "outputs": [
    {
     "name": "stderr",
     "output_type": "stream",
     "text": [
      "  6%|▌         | 157/2725 [00:00<00:01, 1562.08it/s]"
     ]
    },
    {
     "name": "stdout",
     "output_type": "stream",
     "text": [
      "Running per-object analysis...\n"
     ]
    },
    {
     "name": "stderr",
     "output_type": "stream",
     "text": [
      "100%|██████████| 2725/2725 [00:01<00:00, 1574.81it/s]\n"
     ]
    },
    {
     "name": "stdout",
     "output_type": "stream",
     "text": [
      "Computing precision recall for each category...\n",
      "Number of ground truth in category 1 is 4208\n",
      "Number of ground truth in category 2 is 7\n",
      "\n",
      "one_class\n",
      "Number of gt: 4215\n",
      "Average precision 0.7444823251535193\n",
      "\n",
      "1\n",
      "Number of gt: 4208\n",
      "Average precision 0.7457207700860465\n",
      "\n",
      "2\n",
      "Number of gt: 7\n",
      "Average precision 0.0\n",
      "\n",
      "mAP as the average of AP across the 2 categories is 0.3729\n",
      "Precision at 0.8 recall: (0.0, 0.9990000128746033)\n"
     ]
    },
    {
     "data": {
      "image/png": "[encoded data removed]",
      "text/plain": [
       "<Figure size 432x288 with 1 Axes>"
      ]
     },
     "metadata": {},
     "output_type": "display_data"
    }
   ],
   "source": [
    "file_prefix = 'SER/'\n",
    "\n",
    "results_path = '/home/marmot/mnt/ai4edevshare/api_outputs/Benchmark/190904/5618_detections_train_cct_20_val_ss1_20190908093215.json'\n",
    "\n",
    "gt_db_path = '/beaver_disk/camtrap/ss_season1/benchmark/SnapshotSerengetiBboxesS01_20190903_val.json'\n",
    "\n",
    "detection_res = make_detection_res(results_path, file_prefix=file_prefix)\n",
    "\n",
    "gt_indexed = get_gt_db(gt_db_path)\n",
    "\n",
    "per_image_gts, per_image_detections = detector_eval.get_per_image_gts_and_detections(gt_indexed, detection_res)\n",
    "\n",
    "per_cat_metrics = detector_eval.compute_precision_recall_bbox(per_image_detections, per_image_gts, num_gt_classes, \n",
    "                                                         matching_iou_threshold=0.5)\n",
    "\n",
    "show_metrics(per_cat_metrics)"
   ]
  },
  {
   "cell_type": "markdown",
   "metadata": {},
   "source": [
    "## empty vs non-empty"
   ]
  },
  {
   "cell_type": "code",
   "execution_count": 20,
   "metadata": {},
   "outputs": [
    {
     "name": "stdout",
     "output_type": "stream",
     "text": [
      "Accuracy: 0.9232630487383339\n"
     ]
    }
   ],
   "source": [
    "accuracy = detector_eval.compute_emptiness_accuracy(gt_indexed, detection_res, threshold=empty_threshold)\n",
    "\n",
    "print('Accuracy:', accuracy)"
   ]
  },
  {
   "cell_type": "code",
   "execution_count": null,
   "metadata": {},
   "outputs": [],
   "source": []
  }
 ],
 "metadata": {
  "kernelspec": {
   "display_name": "Python [default]",
   "language": "python",
   "name": "python3"
  },
  "language_info": {
   "codemirror_mode": {
    "name": "ipython",
    "version": 3
   },
   "file_extension": ".py",
   "mimetype": "text/x-python",
   "name": "python",
   "nbconvert_exporter": "python",
   "pygments_lexer": "ipython3",
   "version": "3.5.5"
  }
 },
 "nbformat": 4,
 "nbformat_minor": 2
}
