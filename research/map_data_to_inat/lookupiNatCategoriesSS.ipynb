{
 "cells": [
  {
   "cell_type": "code",
   "execution_count": 1,
   "metadata": {},
   "outputs": [],
   "source": [
    "import pickle\n",
    "catLookup = {'aardvark':'Orycteropus afer',\n",
    "             'aardwolf':'Proteles cristata',\n",
    "             'baboon':'Papio anubis',\n",
    "             'batEaredFox':'Otocyon megalotis',\n",
    "             'buffalo':'Syncerus caffer',\n",
    "             'bushbuck':'Tragelaphus scriptus',\n",
    "             'caracal':'Caracal caracal',\n",
    "             'cheetah':'Acinonyx jubatus',\n",
    "             'civet':'Civettictis civetta',\n",
    "             'dikDik':'Madoqua kirkii',\n",
    "             'eland':'Tragelaphus oryx',\n",
    "             'elephant':'Loxodonta africana',\n",
    "             'gazelleGrants':'Nanger granti',\n",
    "             'gazelleThomsons':'Eudorcas thomsonii',\n",
    "             'genet':'Genetta genetta',\n",
    "             'giraffe':'Giraffa camelopardus',\n",
    "             'guineaFowl':'Numidia meleagris',\n",
    "             'hare':'Lepus capensis',\n",
    "             'hartebeest':'Alcelaphus buselaphus',\n",
    "             'hippopotamus':'Hippopotamus amphibius',\n",
    "             'honeyBadger':'Mellivora capensis',\n",
    "             'hyenaSpotted':'Crocuta crocuta',\n",
    "             'hyenaStriped':'Hyaena hyaena',\n",
    "             'impala':'Aepyceros melampus',\n",
    "             'jackal':'Canis',\n",
    "             'koriBustard':'Ardeotis kori',\n",
    "             'leopard':'Panthera pardus',\n",
    "             'lionFemale':'Panthera leo',\n",
    "             'lionMale':'Panthera leo',\n",
    "             'mongoose':'Herpestes',\n",
    "             'ostrich':'Struthio camelus',\n",
    "             'otherBird':'Aves',\n",
    "             'porcupine':'Hystrix cristata',\n",
    "             'reedbuck':'Redunca',\n",
    "             'reptiles':'Reptilia',\n",
    "             'rhinoceros':'Diceros bicornis',\n",
    "             'rodents':'Rodentia',\n",
    "             'secretaryBird':'Sagittarius serpentarius',\n",
    "             'serval':'Felis serval',\n",
    "             'topi':'Damaliscus korrigum',\n",
    "             'vervetMonkey':'Chlorocebus pygerythrus',\n",
    "             'warthog':'Phacochoerus africanus',\n",
    "             'waterbuck':'Kobus ellipsiprymnus',\n",
    "             'wildcat':'Felis lybica',\n",
    "             'wildebeest':'Connochaetes taurinus',\n",
    "             'zebra':'Equus quagga',\n",
    "             'zorilla': 'Ictonyx striatus'\n",
    "             \n",
    "             }\n",
    "pickle.dump(catLookup, open('inat_category_lookup_SS.p','wb'))"
   ]
  },
  {
   "cell_type": "code",
   "execution_count": null,
   "metadata": {},
   "outputs": [],
   "source": []
  }
 ],
 "metadata": {
  "kernelspec": {
   "display_name": "Python 3",
   "language": "python",
   "name": "python3"
  },
  "language_info": {
   "codemirror_mode": {
    "name": "ipython",
    "version": 3
   },
   "file_extension": ".py",
   "mimetype": "text/x-python",
   "name": "python",
   "nbconvert_exporter": "python",
   "pygments_lexer": "ipython3",
   "version": "3.6.5"
  }
 },
 "nbformat": 4,
 "nbformat_minor": 2
}
