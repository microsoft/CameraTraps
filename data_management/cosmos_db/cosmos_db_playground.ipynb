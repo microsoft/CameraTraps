{
 "cells": [
  {
   "cell_type": "code",
   "execution_count": 2,
   "metadata": {
    "collapsed": true,
    "deletable": true,
    "editable": true
   },
   "outputs": [],
   "source": [
    "import sys\n",
    "sys.path.append('/Users/siyuyang/source/repos/GitHub_MSFT/CameraTraps')"
   ]
  },
  {
   "cell_type": "code",
   "execution_count": 3,
   "metadata": {
    "collapsed": false,
    "deletable": true,
    "editable": true
   },
   "outputs": [],
   "source": [
    "import json\n",
    "import os\n",
    "\n",
    "from tqdm import tqdm\n",
    "import azure.cosmos.cosmos_client as cosmos_client\n",
    "\n",
    "from data_management.cct_json_utils import IndexedJsonDb"
   ]
  },
  {
   "cell_type": "markdown",
   "metadata": {},
   "source": [
    "# Cosmos database playground\n",
    "\n",
    "We would like to centralize all COCO Camera Trap (CCT) format json databases containing image metadata and species/bounding box annotations into an instance of a Cosmos DB for management and querying. \n",
    "\n",
    "This notebook demonstrates how one CCT database can be inserted into our instance of the Cosmos DB and how image metadata can be listed by queries based on annotation presence and species.\n",
    "\n",
    "`dataset` is the attribute of each item used for partitioning; `image_id` (not `id`, which is a reserved word) is the attribute that needs to be unique within a partition.\n",
    "\n",
    "### TODO\n",
    "- Investigate batch insert https://blog.siliconvalve.com/2018/11/19/bulk-insert-entities-into-cosmos-db-using-python/\n",
    "- Migrate all CCT databases there\n",
    "- Create an additional table for dataset metadata\n",
    "\n",
    "Documentation: https://docs.microsoft.com/en-us/azure/cosmos-db/create-sql-api-python"
   ]
  },
  {
   "cell_type": "markdown",
   "metadata": {},
   "source": [
    "## Prepare an embedded version of a CCT database\n",
    "Embed all annotation entries in image entries"
   ]
  },
  {
   "cell_type": "code",
   "execution_count": null,
   "metadata": {
    "collapsed": false,
    "deletable": true,
    "editable": true
   },
   "outputs": [],
   "source": [
    "# Cosmos DB config\n",
    "config = {\n",
    "    'ENDPOINT': os.environ.get('COSMOS_ENDPOINT'),\n",
    "    'PRIMARYKEY': os.environ.get('COSMOS_KEY'),\n",
    "    'DATABASE': 'camera-trap',\n",
    "    'CONTAINER': 'images'\n",
    "}\n",
    "\n",
    "# Initialize the Cosmos client\n",
    "client = cosmos_client.CosmosClient(url_connection=config['ENDPOINT'], auth={\n",
    "                                    'masterKey': config['PRIMARYKEY']})"
   ]
  },
  {
   "cell_type": "code",
   "execution_count": 7,
   "metadata": {
    "collapsed": true,
    "deletable": true,
    "editable": true
   },
   "outputs": [],
   "source": [
    "dataset_name = 'idfg'"
   ]
  },
  {
   "cell_type": "markdown",
   "metadata": {
    "deletable": true,
    "editable": true
   },
   "source": [
    "### image DB"
   ]
  },
  {
   "cell_type": "code",
   "execution_count": 24,
   "metadata": {
    "collapsed": true,
    "deletable": true,
    "editable": true
   },
   "outputs": [],
   "source": [
    "cct_json_path = '/Users/siyuyang/OneDrive - Microsoft/AI4Earth/Camera_trap/Databases/databases_201904/idfg/idfg_20190409.json'\n",
    "cct_json_db = IndexedJsonDb(cct_json_path)\n",
    "items = cct_json_db.image_id_to_image"
   ]
  },
  {
   "cell_type": "code",
   "execution_count": 25,
   "metadata": {
    "collapsed": false,
    "deletable": true,
    "editable": true
   },
   "outputs": [
    {
     "name": "stdout",
     "output_type": "stream",
     "text": [
      "Number of images with more than 1 species:  737\n"
     ]
    }
   ],
   "source": [
    "# species annotation\n",
    "num_images_with_more_than_1_species = 0\n",
    "for image_id, annotations in cct_json_db.image_id_to_annotations.items():\n",
    "    items[image_id]['annotations'] = {\n",
    "        'species': []\n",
    "    }\n",
    "    if len(annotations) > 1:\n",
    "        num_images_with_more_than_1_species += 1\n",
    "    for anno in annotations:\n",
    "        cat_name = cct_json_db.cat_id_to_name[anno['category_id']]\n",
    "        items[image_id]['annotations']['species'].append(cat_name)\n",
    "print('Number of images with more than 1 species: ', num_images_with_more_than_1_species)"
   ]
  },
  {
   "cell_type": "code",
   "execution_count": 26,
   "metadata": {
    "collapsed": false,
    "deletable": true,
    "editable": true
   },
   "outputs": [
    {
     "data": {
      "text/plain": [
       "678870"
      ]
     },
     "execution_count": 26,
     "metadata": {},
     "output_type": "execute_result"
    }
   ],
   "source": [
    "len(items)"
   ]
  },
  {
   "cell_type": "code",
   "execution_count": 27,
   "metadata": {
    "collapsed": false,
    "deletable": true,
    "editable": true
   },
   "outputs": [
    {
     "name": "stdout",
     "output_type": "stream",
     "text": [
      "{'file_name': 'Beaverhead_elk/AM34/Trip 1/100RECNX/2016-01-12 08-00-00 T.JPG', 'id': 'Beaverhead_elk/AM34/Trip 1/100RECNX/2016-01-12 08-00-00 T.JPG', 'annotations': {'species': ['empty']}, 'datetime': '12-Jan-2016 08:00:00', 'location': 'Beaverhead_elk+AM34'}\n"
     ]
    }
   ],
   "source": [
    "for i, item in items.items():\n",
    "    print(item)\n",
    "    break"
   ]
  },
  {
   "cell_type": "markdown",
   "metadata": {
    "deletable": true,
    "editable": true
   },
   "source": [
    "### bbox DB"
   ]
  },
  {
   "cell_type": "code",
   "execution_count": 28,
   "metadata": {
    "collapsed": false,
    "deletable": true,
    "editable": true
   },
   "outputs": [],
   "source": [
    "cct_bbox_json_path = '/Users/siyuyang/OneDrive - Microsoft/AI4Earth/Camera_trap/Databases/databases_201904/idfg/idfg_bboxes_20190409.json'\n",
    "cct_bbox_json_db = IndexedJsonDb(cct_bbox_json_path)"
   ]
  },
  {
   "cell_type": "code",
   "execution_count": 30,
   "metadata": {
    "collapsed": false,
    "deletable": true,
    "editable": true
   },
   "outputs": [
    {
     "name": "stdout",
     "output_type": "stream",
     "text": [
      "Number of images added:  15000\n",
      "Number of images amended:  83242\n"
     ]
    }
   ],
   "source": [
    "# add any images that are not in the image DB\n",
    "# also add any fields in the image object that are not present already\n",
    "num_added = 0\n",
    "num_amended = 0\n",
    "for image_id, image_obj in cct_bbox_json_db.image_id_to_image.items():\n",
    "    if image_id not in items:\n",
    "        items[image_id] = image_obj\n",
    "        num_added += 1\n",
    "        \n",
    "    for field_name, val in image_obj.items():\n",
    "        if field_name not in items[image_id]:\n",
    "            items[image_id][field_name] = val\n",
    "            num_amended += 1\n",
    "            \n",
    "print('Number of images added: ', num_added)\n",
    "print('Number of images amended: ', num_amended)"
   ]
  },
  {
   "cell_type": "code",
   "execution_count": 31,
   "metadata": {
    "collapsed": false,
    "deletable": true,
    "editable": true
   },
   "outputs": [
    {
     "data": {
      "text/plain": [
       "693870"
      ]
     },
     "execution_count": 31,
     "metadata": {},
     "output_type": "execute_result"
    }
   ],
   "source": [
    "len(items)"
   ]
  },
  {
   "cell_type": "code",
   "execution_count": 36,
   "metadata": {
    "collapsed": false,
    "deletable": true,
    "editable": true
   },
   "outputs": [
    {
     "name": "stdout",
     "output_type": "stream",
     "text": [
      "Number of images with more than one bounding box:  21255\n"
     ]
    }
   ],
   "source": [
    "def round_coord(coord):\n",
    "    return round(coord, 4)\n",
    "\n",
    "# add bbox to the annotations field\n",
    "num_more_than_1_bbox = 0\n",
    "\n",
    "for image_id, bbox_annotations in cct_bbox_json_db.image_id_to_annotations.items():\n",
    "    \n",
    "    # for any newly added images\n",
    "    if 'annotations' not in items[image_id]:\n",
    "        items[image_id]['annotations'] = {}\n",
    "    \n",
    "    items[image_id]['annotations']['bbox'] = []\n",
    "    \n",
    "    if len(bbox_annotations) > 1:\n",
    "        num_more_than_1_bbox += 1\n",
    "    \n",
    "    for bbox_anno in bbox_annotations:  \n",
    "        item_bbox = {\n",
    "            'category': cct_bbox_json_db.cat_id_to_name[bbox_anno['category_id']],\n",
    "            'bbox_abs': bbox_anno['bbox'],\n",
    "        }\n",
    "        \n",
    "        if 'width' in items[image_id]:\n",
    "            image_w = items[image_id]['width']\n",
    "            image_h = items[image_id]['height']\n",
    "            x, y, w, h = bbox_anno['bbox']\n",
    "            item_bbox['bbox_rel'] = [\n",
    "                round_coord(x / image_w),\n",
    "                round_coord(y / image_h),\n",
    "                round_coord(w / image_w),\n",
    "                round_coord(h / image_h)\n",
    "            ]\n",
    "            \n",
    "        items[image_id]['annotations']['bbox'].append(item_bbox)\n",
    "    \n",
    "print('Number of images with more than one bounding box: ', num_more_than_1_bbox)"
   ]
  },
  {
   "cell_type": "code",
   "execution_count": 39,
   "metadata": {
    "collapsed": false,
    "deletable": true,
    "editable": true
   },
   "outputs": [],
   "source": [
    "items_list = list(items.values())"
   ]
  },
  {
   "cell_type": "code",
   "execution_count": 84,
   "metadata": {
    "collapsed": false,
    "deletable": true,
    "editable": true
   },
   "outputs": [],
   "source": [
    "# get rid of any trailing '.JPG'\n",
    "# insert the 'dataset' attribute used as the partition key\n",
    "# replace illegal chars (for Cosmos DB) in the id field of the image\n",
    "# rename the id field (reserved) to image_id\n",
    "illegal_char_map = {\n",
    "    '/': '~',\n",
    "    '\\\\': '~',\n",
    "    '?': '__qm__',\n",
    "    '#': '__pound__'\n",
    "}\n",
    "\n",
    "\n",
    "for i in items_list:\n",
    "    i['id'] = i['id'].split('.JPG')[0].split('.jpg')[0]\n",
    "    \n",
    "    for illegal, replacement in illegal_char_map.items():\n",
    "        i['id'] = i['id'].replace(illegal, replacement)\n",
    "        \n",
    "    i['dataset'] = dataset_name\n",
    "    \n",
    "    i['image_id'] = i['id']\n",
    "    del i['id']"
   ]
  },
  {
   "cell_type": "code",
   "execution_count": 85,
   "metadata": {
    "collapsed": false,
    "deletable": true,
    "editable": true
   },
   "outputs": [
    {
     "name": "stdout",
     "output_type": "stream",
     "text": [
      "Number of images with both species and bbox annotations:  39312\n"
     ]
    }
   ],
   "source": [
    "num_both_species_bbox = 0\n",
    "\n",
    "for item in items_list:\n",
    "    if 'annotations' in item:\n",
    "        if 'species' in item['annotations'] and 'bbox' in item['annotations']:\n",
    "            num_both_species_bbox += 1\n",
    "print('Number of images with both species and bbox annotations: ', num_both_species_bbox)"
   ]
  },
  {
   "cell_type": "code",
   "execution_count": 86,
   "metadata": {
    "collapsed": false,
    "deletable": true,
    "editable": true
   },
   "outputs": [],
   "source": [
    "items_to_insert = items_list[:100]"
   ]
  },
  {
   "cell_type": "code",
   "execution_count": 87,
   "metadata": {
    "collapsed": false,
    "deletable": true,
    "editable": true
   },
   "outputs": [
    {
     "data": {
      "text/plain": [
       "100"
      ]
     },
     "execution_count": 87,
     "metadata": {},
     "output_type": "execute_result"
    }
   ],
   "source": [
    "len(items_to_insert)"
   ]
  },
  {
   "cell_type": "markdown",
   "metadata": {
    "deletable": true,
    "editable": true
   },
   "source": [
    "## Insert to Cosmos DB"
   ]
  },
  {
   "cell_type": "code",
   "execution_count": 88,
   "metadata": {
    "collapsed": false,
    "deletable": true,
    "editable": true
   },
   "outputs": [
    {
     "data": {
      "text/plain": [
       "{'annotations': {'species': ['empty']},\n",
       " 'dataset': 'idfg',\n",
       " 'datetime': '12-Jan-2016 08:00:00',\n",
       " 'file_name': 'Beaverhead_elk/AM34/Trip 1/100RECNX/2016-01-12 08-00-00 T.JPG',\n",
       " 'image_id': 'Beaverhead_elk~AM34~Trip 1~100RECNX~2016-01-12 08-00-00 T',\n",
       " 'location': 'Beaverhead_elk+AM34'}"
      ]
     },
     "execution_count": 88,
     "metadata": {},
     "output_type": "execute_result"
    }
   ],
   "source": [
    "items_to_insert[0]"
   ]
  },
  {
   "cell_type": "code",
   "execution_count": 93,
   "metadata": {
    "collapsed": true,
    "deletable": true,
    "editable": true
   },
   "outputs": [],
   "source": [
    "container = 'dbs/camera-trap/colls/images'"
   ]
  },
  {
   "cell_type": "code",
   "execution_count": 89,
   "metadata": {
    "collapsed": false,
    "deletable": true,
    "editable": true
   },
   "outputs": [],
   "source": [
    "item1 = client.CreateItem('dbs/camera-trap/colls/images', items_to_insert[0])"
   ]
  },
  {
   "cell_type": "code",
   "execution_count": 90,
   "metadata": {
    "collapsed": false,
    "deletable": true,
    "editable": true
   },
   "outputs": [],
   "source": [
    "item1 = client.CreateItem('dbs/camera-trap/colls/images', items_to_insert[1])"
   ]
  },
  {
   "cell_type": "code",
   "execution_count": 91,
   "metadata": {
    "collapsed": false,
    "deletable": true,
    "editable": true
   },
   "outputs": [],
   "source": [
    "with open('/Users/siyuyang/Source/temp_data/CameraTrap/cosmos_db/trial_100.json', 'w') as f:\n",
    "    json.dump(items_to_insert, f, indent=1)"
   ]
  },
  {
   "cell_type": "code",
   "execution_count": 110,
   "metadata": {
    "collapsed": true,
    "deletable": true,
    "editable": true
   },
   "outputs": [],
   "source": [
    "with open('/Users/siyuyang/Source/temp_data/CameraTrap/cosmos_db/idfg_20190409.json', 'w') as f:\n",
    "    json.dump(items_list, f, indent=1)"
   ]
  },
  {
   "cell_type": "markdown",
   "metadata": {
    "deletable": true,
    "editable": true
   },
   "source": [
    "You can upload a json of 2MB at a time to the database via Azure Portal."
   ]
  },
  {
   "cell_type": "markdown",
   "metadata": {
    "deletable": true,
    "editable": true
   },
   "source": [
    "## Queries"
   ]
  },
  {
   "cell_type": "markdown",
   "metadata": {
    "deletable": true,
    "editable": true
   },
   "source": [
    "### All images with bounding box annotation"
   ]
  },
  {
   "cell_type": "code",
   "execution_count": 111,
   "metadata": {
    "collapsed": false,
    "deletable": true,
    "editable": true
   },
   "outputs": [],
   "source": [
    "query = {'query': '''\n",
    "SELECT im\n",
    "FROM images im\n",
    "WHERE ARRAY_LENGTH(im.annotations.bbox) > 0\n",
    "'''}\n",
    "\n",
    "options = {}\n",
    "options['enableCrossPartitionQuery'] = True\n",
    "options['maxItemCount'] = 100\n",
    "\n",
    "result_iterable = client.QueryItems(container, query, options)\n",
    "results = []\n",
    "for item in iter(result_iterable):\n",
    "    res = item['im']\n",
    "    results.append(res)"
   ]
  },
  {
   "cell_type": "markdown",
   "metadata": {
    "deletable": true,
    "editable": true
   },
   "source": [
    "### All images with the specified species"
   ]
  },
  {
   "cell_type": "code",
   "execution_count": 108,
   "metadata": {
    "collapsed": false,
    "deletable": true,
    "editable": true
   },
   "outputs": [],
   "source": [
    "species_requested = 'elk'\n",
    "\n",
    "query = {'query': '''\n",
    "SELECT im\n",
    "FROM images im\n",
    "WHERE ARRAY_LENGTH(im.annotations.species) > 0 AND ARRAY_CONTAINS(im.annotations.species, \"{}\")\n",
    "'''.format(species_requested)}\n",
    "\n",
    "options = {}\n",
    "options['enableCrossPartitionQuery'] = True\n",
    "options['maxItemCount'] = 100\n",
    "\n",
    "result_iterable = client.QueryItems(container, query, options)\n",
    "results = []\n",
    "for item in iter(result_iterable):\n",
    "    res = item['im']\n",
    "    results.append(res)"
   ]
  },
  {
   "cell_type": "code",
   "execution_count": null,
   "metadata": {
    "collapsed": true,
    "deletable": true,
    "editable": true
   },
   "outputs": [],
   "source": []
  }
 ],
 "metadata": {
  "anaconda-cloud": {},
  "kernelspec": {
   "display_name": "Python [conda env:tensorflow]",
   "language": "python",
   "name": "conda-env-tensorflow-py"
  },
  "language_info": {
   "codemirror_mode": {
    "name": "ipython",
    "version": 3
   },
   "file_extension": ".py",
   "mimetype": "text/x-python",
   "name": "python",
   "nbconvert_exporter": "python",
   "pygments_lexer": "ipython3",
   "version": "3.5.4"
  }
 },
 "nbformat": 4,
 "nbformat_minor": 0
}
