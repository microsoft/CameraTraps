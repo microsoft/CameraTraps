{
 "cells": [
  {
   "cell_type": "code",
   "execution_count": 2,
   "metadata": {},
   "outputs": [],
   "source": [
    "from IPython.core.interactiveshell import InteractiveShell\n",
    "InteractiveShell.ast_node_interactivity = 'all'  # default is ‘last_expr'\n",
    "\n",
    "%load_ext autoreload\n",
    "%autoreload 2"
   ]
  },
  {
   "cell_type": "code",
   "execution_count": 3,
   "metadata": {},
   "outputs": [],
   "source": [
    "import json\n",
    "import os\n",
    "from collections import Counter\n",
    "\n",
    "from tqdm import tqdm\n",
    "import azure.cosmos.cosmos_client as cosmos_client"
   ]
  },
  {
   "cell_type": "markdown",
   "metadata": {},
   "source": [
    "# Useful queries\n",
    "\n",
    "Example queries against the document DB instance.\n",
    "\n",
    "Cosmos DB Python SDK documentation: https://docs.microsoft.com/en-us/python/api/azure-cosmos/azure.cosmos.cosmos_client.cosmosclient?view=azure-python\n",
    "\n",
    "Cosmos DB Resource URI Syntax for REST: https://docs.microsoft.com/en-us/rest/api/cosmos-db/cosmosdb-resource-uri-syntax-for-rest"
   ]
  },
  {
   "cell_type": "markdown",
   "metadata": {},
   "source": [
    "## Connect to the Cosmos DB instance\n",
    "\n",
    "`COSMOS_ENDPOINT` and `COSMOS_KEY` need to be environment variables. "
   ]
  },
  {
   "cell_type": "code",
   "execution_count": 6,
   "metadata": {},
   "outputs": [],
   "source": [
    "# Cosmos DB config\n",
    "config = {\n",
    "    'ENDPOINT': os.environ.get('COSMOS_ENDPOINT'),\n",
    "    'PRIMARYKEY': os.environ.get('COSMOS_KEY')\n",
    "}\n",
    "\n",
    "# Initialize the Cosmos client\n",
    "client = cosmos_client.CosmosClient(url_connection=config['ENDPOINT'], auth={\n",
    "                                    'masterKey': config['PRIMARYKEY']})\n",
    "\n",
    "container_link = 'dbs/camera-trap/colls/images'  # database link + container link"
   ]
  },
  {
   "cell_type": "markdown",
   "metadata": {},
   "source": [
    "## Examples\n",
    "\n",
    "In the examples, we limit the selection to a few entries using the `TOP` keyword. When using the DB to create datasets, delete the TOP keyword and arg.\n",
    "\n",
    "Specifying the `partition_key` doesn't seem to work for restricting the query to one dataset..."
   ]
  },
  {
   "cell_type": "markdown",
   "metadata": {},
   "source": [
    "### What datasets are there?"
   ]
  },
  {
   "cell_type": "code",
   "execution_count": 8,
   "metadata": {},
   "outputs": [
    {
     "name": "stdout",
     "output_type": "stream",
     "text": [
      "Length of results: 5\n",
      "CPU times: user 24.7 ms, sys: 3.11 ms, total: 27.8 ms\n",
      "Wall time: 10.9 s\n"
     ]
    }
   ],
   "source": [
    "%%time\n",
    "\n",
    "query = {'query': '''\n",
    "SELECT DISTINCT im.dataset\n",
    "FROM images im\n",
    "'''}\n",
    "\n",
    "options = {\n",
    "    'enableCrossPartitionQuery': True\n",
    "}\n",
    "\n",
    "result_iterable = client.QueryItems(container_link, query, options)\n",
    "\n",
    "results = []\n",
    "for item in iter(result_iterable):\n",
    "    res = item['dataset']\n",
    "    results.append(res)\n",
    "\n",
    "print('Length of results:', len(results))"
   ]
  },
  {
   "cell_type": "code",
   "execution_count": 9,
   "metadata": {},
   "outputs": [
    {
     "data": {
      "text/plain": [
       "['rspb_gola', 'peaceparks_201908_humans', 'idfg', 'idfg', 'bellevue_190602']"
      ]
     },
     "execution_count": 9,
     "metadata": {},
     "output_type": "execute_result"
    }
   ],
   "source": [
    "results"
   ]
  },
  {
   "cell_type": "code",
   "execution_count": 11,
   "metadata": {},
   "outputs": [
    {
     "data": {
      "text/plain": [
       "{'bellevue_190602', 'idfg', 'peaceparks_201908_humans', 'rspb_gola'}"
      ]
     },
     "execution_count": 11,
     "metadata": {},
     "output_type": "execute_result"
    }
   ],
   "source": [
    "set(results)"
   ]
  },
  {
   "cell_type": "markdown",
   "metadata": {},
   "source": [
    "### Image entries in a specified dataset\n",
    "\n",
    "Avoid doing this on more than a couple thousands items (use TOP) - should probably get the entry id and go from there."
   ]
  },
  {
   "cell_type": "code",
   "execution_count": 27,
   "metadata": {},
   "outputs": [],
   "source": [
    "dataset = 'snapshotserengeti'"
   ]
  },
  {
   "cell_type": "code",
   "execution_count": 28,
   "metadata": {},
   "outputs": [
    {
     "name": "stdout",
     "output_type": "stream",
     "text": [
      "Length of results: 0\n",
      "CPU times: user 25.3 ms, sys: 30.7 ms, total: 56 ms\n",
      "Wall time: 978 ms\n"
     ]
    }
   ],
   "source": [
    "%%time\n",
    "\n",
    "query = {'query': '''\n",
    "SELECT TOP 10 im\n",
    "FROM images im\n",
    "WHERE im.dataset = \"{}\"\n",
    "'''.format(dataset)}\n",
    "\n",
    "options = {\n",
    "    'enableCrossPartitionQuery': True\n",
    "}\n",
    "\n",
    "result_iterable = client.QueryItems(container_link, query, options)\n",
    "# passing in partition_key=dataset doesn't seem to work??\n",
    "\n",
    "results = []\n",
    "for item in iter(result_iterable):\n",
    "    res = item['im']\n",
    "    results.append(res)\n",
    "\n",
    "print('Length of results:', len(results))"
   ]
  },
  {
   "cell_type": "markdown",
   "metadata": {},
   "source": [
    "### All images with bounding box annotation"
   ]
  },
  {
   "cell_type": "code",
   "execution_count": 26,
   "metadata": {},
   "outputs": [
    {
     "name": "stdout",
     "output_type": "stream",
     "text": [
      "Length of results: 1020\n",
      "CPU times: user 115 ms, sys: 9.8 ms, total: 125 ms\n",
      "Wall time: 1.44 s\n"
     ]
    }
   ],
   "source": [
    "%%time\n",
    "\n",
    "query = {'query': '''\n",
    "SELECT TOP 1020 im\n",
    "FROM images im\n",
    "WHERE ARRAY_LENGTH(im.annotations.bbox) > 0\n",
    "'''}\n",
    "\n",
    "options = {\n",
    "    'enableCrossPartitionQuery': True\n",
    "}\n",
    "\n",
    "result_iterable = client.QueryItems(container_link, query, options)\n",
    "# if you want to restrict to one dataset, pass in partition_key=dataset\n",
    "\n",
    "results = []\n",
    "for item in iter(result_iterable):\n",
    "    res = item['im']\n",
    "    results.append(res)\n",
    "\n",
    "print('Length of results:', len(results))"
   ]
  },
  {
   "cell_type": "markdown",
   "metadata": {},
   "source": [
    "### All images with the specified species\n",
    "\n",
    "Top 1,000 docs return in about 3s. \n",
    "\n",
    "Top 6,000 docs return in about 10s."
   ]
  },
  {
   "cell_type": "code",
   "execution_count": 33,
   "metadata": {},
   "outputs": [
    {
     "name": "stdout",
     "output_type": "stream",
     "text": [
      "Length of results: 6444\n",
      "CPU times: user 515 ms, sys: 41.9 ms, total: 557 ms\n",
      "Wall time: 9.25 s\n"
     ]
    }
   ],
   "source": [
    "%%time\n",
    "\n",
    "species_requested = 'human'\n",
    "\n",
    "query = {'query': '''\n",
    "SELECT TOP 100000 im\n",
    "FROM images im\n",
    "WHERE ARRAY_LENGTH(im.annotations.species) > 0 AND ARRAY_CONTAINS(im.annotations.species, \"{}\")\n",
    "'''.format(species_requested)}\n",
    "\n",
    "options = {\n",
    "    'enableCrossPartitionQuery': True\n",
    "}\n",
    "\n",
    "result_iterable = client.QueryItems(container_link, query, options)\n",
    "\n",
    "results = []\n",
    "for item in iter(result_iterable):\n",
    "    res = item['im']\n",
    "    results.append(res)\n",
    "    \n",
    "print('Length of results:', len(results))"
   ]
  },
  {
   "cell_type": "markdown",
   "metadata": {},
   "source": [
    "### Species count"
   ]
  },
  {
   "cell_type": "code",
   "execution_count": 23,
   "metadata": {},
   "outputs": [
    {
     "name": "stdout",
     "output_type": "stream",
     "text": [
      "CPU times: user 74.1 ms, sys: 8.04 ms, total: 82.1 ms\n",
      "Wall time: 2.65 s\n"
     ]
    }
   ],
   "source": [
    "%%time\n",
    "\n",
    "query = {'query': '''\n",
    "SELECT TOP 1020 im.annotations.species\n",
    "FROM images im\n",
    "WHERE ARRAY_LENGTH(im.annotations.species) > 0\n",
    "'''}\n",
    "\n",
    "options = {\n",
    "    'enableCrossPartitionQuery': True\n",
    "}\n",
    "\n",
    "result_iterable = client.QueryItems(container_link, query, options)\n",
    "\n",
    "species = Counter()\n",
    "for item in iter(result_iterable):\n",
    "    res = item['species']\n",
    "    species.update(res)"
   ]
  },
  {
   "cell_type": "markdown",
   "metadata": {},
   "source": [
    "### Total number of image entries in database"
   ]
  },
  {
   "cell_type": "code",
   "execution_count": 25,
   "metadata": {},
   "outputs": [],
   "source": [
    "query = {'query': '''\n",
    "SELECT VALUE COUNT(1)\n",
    "FROM images\n",
    "'''}\n",
    "\n",
    "options = {\n",
    "    'enableCrossPartitionQuery': True\n",
    "}\n",
    "\n",
    "result_iterable = client.QueryItems(container_link, query, options)"
   ]
  },
  {
   "cell_type": "code",
   "execution_count": 26,
   "metadata": {},
   "outputs": [
    {
     "name": "stdout",
     "output_type": "stream",
     "text": [
      "762844\n"
     ]
    }
   ],
   "source": [
    "for count in iter(result_iterable):\n",
    "    print(count)"
   ]
  },
  {
   "cell_type": "markdown",
   "metadata": {},
   "source": [
    "### List last inserted items based on insertion timestap"
   ]
  },
  {
   "cell_type": "code",
   "execution_count": 73,
   "metadata": {},
   "outputs": [
    {
     "name": "stdout",
     "output_type": "stream",
     "text": [
      "CPU times: user 1.54 s, sys: 110 ms, total: 1.65 s\n",
      "Wall time: 19.8 s\n"
     ]
    }
   ],
   "source": [
    "%%time\n",
    "\n",
    "query = {'query': '''\n",
    "SELECT TOP 16164 im\n",
    "FROM images im\n",
    "ORDER BY im._ts DESC\n",
    "'''}\n",
    "\n",
    "options = {\n",
    "    'enableCrossPartitionQuery': True\n",
    "}\n",
    "\n",
    "result_iterable = client.QueryItems(container_link, query, options)\n",
    "\n",
    "results = []\n",
    "for item in iter(result_iterable):\n",
    "    res = item['im']\n",
    "    results.append(res)"
   ]
  },
  {
   "cell_type": "code",
   "execution_count": 74,
   "metadata": {},
   "outputs": [
    {
     "data": {
      "text/plain": [
       "16164"
      ]
     },
     "execution_count": 74,
     "metadata": {},
     "output_type": "execute_result"
    }
   ],
   "source": [
    "len(results)"
   ]
  },
  {
   "cell_type": "code",
   "execution_count": null,
   "metadata": {},
   "outputs": [],
   "source": []
  }
 ],
 "metadata": {
  "kernelspec": {
   "display_name": "Python [conda env:tensorflow]",
   "language": "python",
   "name": "conda-env-tensorflow-py"
  },
  "language_info": {
   "codemirror_mode": {
    "name": "ipython",
    "version": 3
   },
   "file_extension": ".py",
   "mimetype": "text/x-python",
   "name": "python",
   "nbconvert_exporter": "python",
   "pygments_lexer": "ipython3",
   "version": "3.5.4"
  }
 },
 "nbformat": 4,
 "nbformat_minor": 2
}
