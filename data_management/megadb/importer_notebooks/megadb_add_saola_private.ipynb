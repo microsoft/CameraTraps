{
 "cells": [
  {
   "cell_type": "code",
   "execution_count": 1,
   "metadata": {},
   "outputs": [],
   "source": [
    "from IPython.core.interactiveshell import InteractiveShell\n",
    "InteractiveShell.ast_node_interactivity = 'all'  # default is ‘last_expr'\n",
    "\n",
    "%load_ext autoreload\n",
    "%autoreload 2"
   ]
  },
  {
   "cell_type": "code",
   "execution_count": 2,
   "metadata": {},
   "outputs": [],
   "source": [
    "import sys\n",
    "sys.path.append('/home/mink/notebooks/CameraTraps')  # append this repo to PYTHONPATH"
   ]
  },
  {
   "cell_type": "code",
   "execution_count": 3,
   "metadata": {},
   "outputs": [],
   "source": [
    "import json\n",
    "import os\n",
    "from collections import Counter, defaultdict\n",
    "from random import sample\n",
    "import math\n",
    "from copy import deepcopy\n",
    "from shutil import copyfile\n",
    "from multiprocessing.pool import ThreadPool\n",
    "\n",
    "from tqdm import tqdm\n",
    "from unidecode import unidecode \n",
    "\n",
    "from data_management.megadb.schema import sequences_schema_check\n",
    "from data_management.megadb.converters.cct_to_megadb import make_cct_embedded, process_sequences, write_json"
   ]
  },
  {
   "cell_type": "markdown",
   "metadata": {},
   "source": [
    "# saola_private"
   ]
  },
  {
   "cell_type": "code",
   "execution_count": 23,
   "metadata": {},
   "outputs": [],
   "source": [
    "dataset_name = 'saola_private'\n",
    "\n",
    "container_root = '/mink_disk_0/camtraps/swg-camera-traps-private/'\n",
    "path_prefix = 'private'\n",
    "\n",
    "path_to_output = f'/home/mink/camtraps/data/megadb_jsons/{dataset_name}.json' \n",
    "path_to_output_temp = f'/home/mink/camtraps/data/megadb_jsons/{dataset_name}_temp.json'"
   ]
  },
  {
   "cell_type": "markdown",
   "metadata": {},
   "source": [
    "## Step 0 - Add an entry to the `datasets` table\n",
    "\n",
    "Done"
   ]
  },
  {
   "cell_type": "markdown",
   "metadata": {},
   "source": [
    "## Step 1 - Prepare the `sequence` objects to insert into the database"
   ]
  },
  {
   "cell_type": "markdown",
   "metadata": {},
   "source": [
    "### Step 1a - If you have metadata in COCO Camera Traps (CCT) format already...\n"
   ]
  },
  {
   "cell_type": "code",
   "execution_count": 5,
   "metadata": {},
   "outputs": [],
   "source": [
    "# path to the CCT json, or a loaded json object\n",
    "path_to_image_cct = '/mink_disk_0/camtraps/megadetectorv5_annotation_prep/swg_camera_traps.json'  # set to None if not available\n",
    "path_to_bbox_cct = None\n",
    "assert not (path_to_image_cct is None and path_to_bbox_cct is None)"
   ]
  },
  {
   "cell_type": "code",
   "execution_count": 6,
   "metadata": {},
   "outputs": [
    {
     "name": "stdout",
     "output_type": "stream",
     "text": [
      "Loading image DB...\n",
      "Number of items from the image DB: 2039657\n",
      "Number of images with more than 1 species: 0 (0.0% of image DB)\n",
      "No bbox DB provided.\n",
      "CPU times: user 23 s, sys: 4.86 s, total: 27.9 s\n",
      "Wall time: 34 s\n"
     ]
    }
   ],
   "source": [
    "%%time\n",
    "\n",
    "embedded = make_cct_embedded(image_db=path_to_image_cct, bbox_db=path_to_bbox_cct)"
   ]
  },
  {
   "cell_type": "markdown",
   "metadata": {},
   "source": [
    "In the following step, properties will be moved to the highest level that is still correct, i.e. if a property at the image-level always has the smae value for all images in a sequence, it will be moved to be a sequence-level property.\n",
    "\n",
    "If a sequence-level property has the same value throughout this dataset (often 'rights holder'), it will be removed from the `sequence` objects. A message about this will be printed, and you should add that property and its (constant) value to this dataset's entry in the `datasets` table."
   ]
  },
  {
   "cell_type": "code",
   "execution_count": 7,
   "metadata": {},
   "outputs": [
    {
     "name": "stdout",
     "output_type": "stream",
     "text": [
      "The dataset_name is set to saola_private. Please make sure this is correct!\n",
      "Making a deep copy of docs...\n"
     ]
    },
    {
     "name": "stderr",
     "output_type": "stream",
     "text": [
      "  3%|▎         | 51510/2039657 [00:00<00:03, 514978.94it/s]"
     ]
    },
    {
     "name": "stdout",
     "output_type": "stream",
     "text": [
      "Putting 2039657 images into sequences...\n"
     ]
    },
    {
     "name": "stderr",
     "output_type": "stream",
     "text": [
      "100%|██████████| 2039657/2039657 [00:04<00:00, 416486.65it/s]\n"
     ]
    },
    {
     "name": "stdout",
     "output_type": "stream",
     "text": [
      "Number of sequences: 436617\n",
      "Checking the location field...\n",
      "Checking which fields in a CCT image entry are sequence-level...\n",
      "\n",
      "all_img_properties\n",
      "{'file', 'location', 'class', 'frame_num', 'id', 'datetime'}\n",
      "\n",
      "img_level_properties\n",
      "{'file', 'class', 'frame_num', 'id', 'datetime'}\n",
      "\n",
      "image-level properties that really should be sequence-level\n",
      "{'location'}\n",
      "\n",
      "Finished processing sequences.\n",
      "Example sequence items:\n",
      "\n",
      "{\"dataset\": \"saola_private\", \"seq_id\": \"0a9bb757-8c2a-11eb-9411-000d3a74c7de\", \"location\": \"loc_0000\", \"images\": [{\"id\": \"c7a2830c-8c29-11eb-860b-000d3a74c7de\", \"datetime\": \"2017-08-15 11:48:11+00:00\", \"frame_num\": 0, \"file\": \"private/lao/loc_0000/2017/08/image_00000.jpg\", \"class\": [\"ignore\"]}, {\"id\": \"c7a2830d-8c29-11eb-854d-000d3a74c7de\", \"datetime\": \"2017-08-15 11:48:19+00:00\", \"frame_num\": 1, \"file\": \"private/lao/loc_0000/2017/08/image_00001.jpg\", \"class\": [\"ignore\"]}]}\n",
      "\n",
      "{\"dataset\": \"saola_private\", \"seq_id\": \"ebd24e24-8c29-11eb-a71a-000d3a74c7de\", \"location\": \"loc_0065\", \"images\": [{\"id\": \"c89a6b91-8c29-11eb-9efb-000d3a74c7de\", \"datetime\": \"2017-09-19 10:20:21+00:00\", \"frame_num\": 0, \"file\": \"public/lao/loc_0065/2017/09/image_00009.jpg\", \"class\": [\"stump_tailed_macaque\"]}, {\"id\": \"c89a6b92-8c29-11eb-a2a7-000d3a74c7de\", \"datetime\": \"2017-09-19 10:20:27+00:00\", \"frame_num\": 1, \"file\": \"public/lao/loc_0065/2017/09/image_00010.jpg\", \"class\": [\"stump_tailed_macaque\"]}]}\n",
      "\n",
      "CPU times: user 1min 7s, sys: 2.01 s, total: 1min 9s\n",
      "Wall time: 1min 9s\n"
     ]
    }
   ],
   "source": [
    "%%time\n",
    "\n",
    "sequences = process_sequences(embedded, dataset_name)"
   ]
  },
  {
   "cell_type": "code",
   "execution_count": 9,
   "metadata": {},
   "outputs": [],
   "source": [
    "private_sequences = []  # actually public/private was decided at the image level\n",
    "\n",
    "for seq in sequences:\n",
    "    private_images = [im for im in seq['images'] if im['file'].startswith('private/')]\n",
    "    if len(private_images) > 0:\n",
    "        for im in private_images:\n",
    "            im['file'] = im['file'].split('private/')[1]\n",
    "        seq['images'] = private_images\n",
    "        private_sequences.append(seq)"
   ]
  },
  {
   "cell_type": "code",
   "execution_count": 10,
   "metadata": {},
   "outputs": [
    {
     "data": {
      "text/plain": [
       "26842"
      ]
     },
     "execution_count": 10,
     "metadata": {},
     "output_type": "execute_result"
    }
   ],
   "source": [
    "len(private_sequences)"
   ]
  },
  {
   "cell_type": "code",
   "execution_count": 11,
   "metadata": {},
   "outputs": [
    {
     "data": {
      "text/plain": [
       "974"
      ]
     },
     "execution_count": 11,
     "metadata": {},
     "output_type": "execute_result"
    }
   ],
   "source": [
    "locations = set()\n",
    "for seq in private_sequences:\n",
    "    locations.add(seq['location'])\n",
    "len(locations)"
   ]
  },
  {
   "cell_type": "code",
   "execution_count": 16,
   "metadata": {},
   "outputs": [
    {
     "data": {
      "text/plain": [
       "[OrderedDict([('dataset', 'saola_private'),\n",
       "              ('seq_id', '23f70cae-8c2a-11eb-bc34-000d3a74c7de'),\n",
       "              ('location', 'loc_0554'),\n",
       "              ('images',\n",
       "               [{'id': 'ccfd6070-8c29-11eb-ac3d-000d3a74c7de',\n",
       "                 'datetime': '2020-08-21 10:47:18+00:00',\n",
       "                 'frame_num': 0,\n",
       "                 'file': 'lao/loc_0554/2020/08/image_00000.jpg',\n",
       "                 'class': ['ignore']},\n",
       "                {'id': 'ccfd6071-8c29-11eb-ac0d-000d3a74c7de',\n",
       "                 'datetime': '2020-08-21 10:47:24+00:00',\n",
       "                 'frame_num': 1,\n",
       "                 'file': 'lao/loc_0554/2020/08/image_00001.jpg',\n",
       "                 'class': ['ignore']},\n",
       "                {'id': 'ccfd6072-8c29-11eb-a39f-000d3a74c7de',\n",
       "                 'datetime': '2020-08-21 10:47:27+00:00',\n",
       "                 'frame_num': 2,\n",
       "                 'file': 'lao/loc_0554/2020/08/image_00002.jpg',\n",
       "                 'class': ['ignore']}])]),\n",
       " OrderedDict([('dataset', 'saola_private'),\n",
       "              ('seq_id', '3ef96783-8c2a-11eb-ae00-000d3a74c7de'),\n",
       "              ('location', 'loc_0550'),\n",
       "              ('images',\n",
       "               [{'id': 'ccf1779a-8c29-11eb-b02a-000d3a74c7de',\n",
       "                 'datetime': '2020-08-21 10:51:03+00:00',\n",
       "                 'frame_num': 0,\n",
       "                 'file': 'lao/loc_0550/2020/08/image_00005.jpg',\n",
       "                 'class': ['ignore']},\n",
       "                {'id': 'ccf1779b-8c29-11eb-9c4e-000d3a74c7de',\n",
       "                 'datetime': '2020-08-21 10:51:07+00:00',\n",
       "                 'frame_num': 1,\n",
       "                 'file': 'lao/loc_0550/2020/08/image_00006.jpg',\n",
       "                 'class': ['ignore']}])])]"
      ]
     },
     "execution_count": 16,
     "metadata": {},
     "output_type": "execute_result"
    }
   ],
   "source": [
    "sample(private_sequences, 2)"
   ]
  },
  {
   "cell_type": "markdown",
   "metadata": {},
   "source": [
    "## Step 2 - Pass the schema check"
   ]
  },
  {
   "cell_type": "code",
   "execution_count": 12,
   "metadata": {},
   "outputs": [
    {
     "name": "stdout",
     "output_type": "stream",
     "text": [
      "Verified that the sequence items meet requirements not captured by the schema.\n",
      "Verified that the sequence items conform to the schema.\n",
      "CPU times: user 14.4 s, sys: 14.5 ms, total: 14.4 s\n",
      "Wall time: 14.4 s\n"
     ]
    }
   ],
   "source": [
    "%%time\n",
    "\n",
    "sequences_schema_check.sequences_schema_check(private_sequences)"
   ]
  },
  {
   "cell_type": "code",
   "execution_count": 13,
   "metadata": {},
   "outputs": [],
   "source": [
    "with open(path_to_output_temp, 'w', encoding='utf-8') as f:\n",
    "    json.dump(private_sequences, f, ensure_ascii=False)"
   ]
  },
  {
   "cell_type": "markdown",
   "metadata": {},
   "source": [
    "### Step 2b - Sample"
   ]
  },
  {
   "cell_type": "code",
   "execution_count": 14,
   "metadata": {},
   "outputs": [
    {
     "data": {
      "text/plain": [
       "391"
      ]
     },
     "execution_count": 14,
     "metadata": {},
     "output_type": "execute_result"
    },
    {
     "data": {
      "text/plain": [
       "119"
      ]
     },
     "execution_count": 14,
     "metadata": {},
     "output_type": "execute_result"
    }
   ],
   "source": [
    "private_sequences_good = []\n",
    "locations_good = set()\n",
    "\n",
    "for seq in private_sequences:\n",
    "    include = True\n",
    "    for im in seq['images']:\n",
    "        if im['class'][0] in ['ignore', 'empty', 'problem', 'blurred']:\n",
    "            include = False\n",
    "    if include:\n",
    "        private_sequences_good.append(seq)\n",
    "        locations_good.add(seq['location'])\n",
    "len(private_sequences_good)\n",
    "len(locations_good)"
   ]
  },
  {
   "cell_type": "code",
   "execution_count": 17,
   "metadata": {},
   "outputs": [
    {
     "data": {
      "text/plain": [
       "[OrderedDict([('dataset', 'saola_private'),\n",
       "              ('seq_id', 'f1fb7173-8c29-11eb-96e8-000d3a74c7de'),\n",
       "              ('location', 'loc_0410'),\n",
       "              ('images',\n",
       "               [{'id': 'cac5f4b6-8c29-11eb-ac59-000d3a74c7de',\n",
       "                 'datetime': '2020-07-08 15:41:36+00:00',\n",
       "                 'frame_num': 0,\n",
       "                 'file': 'lao/loc_0410/2020/07/image_00012.jpg',\n",
       "                 'class': ['human']},\n",
       "                {'id': 'cac5f4b7-8c29-11eb-8a64-000d3a74c7de',\n",
       "                 'datetime': '2020-07-08 15:41:36+00:00',\n",
       "                 'frame_num': 1,\n",
       "                 'file': 'lao/loc_0410/2020/07/image_00013.jpg',\n",
       "                 'class': ['human']},\n",
       "                {'id': 'cac5f4b8-8c29-11eb-aec3-000d3a74c7de',\n",
       "                 'datetime': '2020-07-08 15:41:36+00:00',\n",
       "                 'frame_num': 2,\n",
       "                 'file': 'lao/loc_0410/2020/07/image_00014.jpg',\n",
       "                 'class': ['human']},\n",
       "                {'id': 'cac5f4b9-8c29-11eb-8aeb-000d3a74c7de',\n",
       "                 'datetime': '2020-07-08 15:41:42+00:00',\n",
       "                 'frame_num': 3,\n",
       "                 'file': 'lao/loc_0410/2020/07/image_00015.jpg',\n",
       "                 'class': ['human']},\n",
       "                {'id': 'cac5f4ba-8c29-11eb-aeba-000d3a74c7de',\n",
       "                 'datetime': '2020-07-08 15:41:42+00:00',\n",
       "                 'frame_num': 4,\n",
       "                 'file': 'lao/loc_0410/2020/07/image_00016.jpg',\n",
       "                 'class': ['human']},\n",
       "                {'id': 'cac5f4bb-8c29-11eb-ac50-000d3a74c7de',\n",
       "                 'datetime': '2020-07-08 15:41:43+00:00',\n",
       "                 'frame_num': 5,\n",
       "                 'file': 'lao/loc_0410/2020/07/image_00017.jpg',\n",
       "                 'class': ['human']},\n",
       "                {'id': 'cac5f4bc-8c29-11eb-876c-000d3a74c7de',\n",
       "                 'datetime': '2020-07-08 15:41:48+00:00',\n",
       "                 'frame_num': 6,\n",
       "                 'file': 'lao/loc_0410/2020/07/image_00018.jpg',\n",
       "                 'class': ['human']},\n",
       "                {'id': 'cac5f4bd-8c29-11eb-904a-000d3a74c7de',\n",
       "                 'datetime': '2020-07-08 15:41:49+00:00',\n",
       "                 'frame_num': 7,\n",
       "                 'file': 'lao/loc_0410/2020/07/image_00019.jpg',\n",
       "                 'class': ['human']},\n",
       "                {'id': 'cac5f4be-8c29-11eb-a9e9-000d3a74c7de',\n",
       "                 'datetime': '2020-07-08 15:41:49+00:00',\n",
       "                 'frame_num': 8,\n",
       "                 'file': 'lao/loc_0410/2020/07/image_00020.jpg',\n",
       "                 'class': ['human']}])])]"
      ]
     },
     "execution_count": 17,
     "metadata": {},
     "output_type": "execute_result"
    }
   ],
   "source": [
    "sample(private_sequences_good, 1)"
   ]
  },
  {
   "cell_type": "code",
   "execution_count": 18,
   "metadata": {},
   "outputs": [
    {
     "data": {
      "text/plain": [
       "1039"
      ]
     },
     "execution_count": 18,
     "metadata": {},
     "output_type": "execute_result"
    },
    {
     "data": {
      "text/plain": [
       "119"
      ]
     },
     "execution_count": 18,
     "metadata": {},
     "output_type": "execute_result"
    }
   ],
   "source": [
    "sequences_short = []\n",
    "locations_sampled = set()\n",
    "\n",
    "for seq in private_sequences_good:\n",
    "    seq['images'] = seq['images'][:3]\n",
    "    sequences_short.append(seq)\n",
    "    locations_sampled.add(seq['location'])\n",
    "\n",
    "num_images = sum([len(seq['images']) for seq in sequences_short])\n",
    "num_images\n",
    "\n",
    "len(locations_sampled)"
   ]
  },
  {
   "cell_type": "markdown",
   "metadata": {},
   "source": [
    "### Step 2c - Download the sampled images"
   ]
  },
  {
   "cell_type": "code",
   "execution_count": 19,
   "metadata": {},
   "outputs": [
    {
     "data": {
      "text/plain": [
       "1039"
      ]
     },
     "execution_count": 19,
     "metadata": {},
     "output_type": "execute_result"
    }
   ],
   "source": [
    "list_to_download = []\n",
    "\n",
    "for seq in sequences_short:\n",
    "    for im in seq['images']:\n",
    "        list_to_download.append('private/' + im['file'] + '\\n')\n",
    "len(list_to_download)"
   ]
  },
  {
   "cell_type": "code",
   "execution_count": 21,
   "metadata": {},
   "outputs": [
    {
     "data": {
      "text/plain": [
       "'private/vietnam/loc_0952/2018/08/image_00105.jpg\\n'"
      ]
     },
     "execution_count": 21,
     "metadata": {},
     "output_type": "execute_result"
    }
   ],
   "source": [
    "list_to_download[-10]"
   ]
  },
  {
   "cell_type": "code",
   "execution_count": 22,
   "metadata": {},
   "outputs": [],
   "source": [
    "with open('/mink_disk_0/camtraps/megadetectorv5_annotation_prep/batch_12_lists/saola_private_files.txt', 'w') as f:\n",
    "    f.writelines(list_to_download)"
   ]
  },
  {
   "cell_type": "markdown",
   "metadata": {},
   "source": [
    "### Step 2d - Copy to flat folder"
   ]
  },
  {
   "cell_type": "code",
   "execution_count": 24,
   "metadata": {},
   "outputs": [
    {
     "name": "stderr",
     "output_type": "stream",
     "text": [
      "100%|██████████| 391/391 [00:00<00:00, 49078.94it/s]\n"
     ]
    }
   ],
   "source": [
    "path_pairs = []\n",
    "\n",
    "for seq in tqdm(sequences_short):\n",
    "    seq_id = seq['seq_id']\n",
    "    \n",
    "    for im in seq['images']:\n",
    "        frame = im['frame_num']\n",
    "    \n",
    "        src_path = os.path.join(container_root, path_prefix, im['file'])\n",
    "        dst_path = os.path.join('/mink_disk_0/camtraps/imerit12g', \n",
    "                                f'{dataset_name}.seq{seq_id}.frame{frame}.jpg')\n",
    "        path_pairs.append((src_path, dst_path))"
   ]
  },
  {
   "cell_type": "code",
   "execution_count": 25,
   "metadata": {},
   "outputs": [
    {
     "data": {
      "text/plain": [
       "1039"
      ]
     },
     "execution_count": 25,
     "metadata": {},
     "output_type": "execute_result"
    },
    {
     "data": {
      "text/plain": [
       "[('/mink_disk_0/camtraps/swg-camera-traps-private/private/lao/loc_0453/2020/08/image_00070.jpg',\n",
       "  '/mink_disk_0/camtraps/imerit12g/saola_private.seqfdb2b632-8c29-11eb-9b98-000d3a74c7de.frame0.jpg'),\n",
       " ('/mink_disk_0/camtraps/swg-camera-traps-private/private/lao/loc_0287/2019/07/image_00000.jpg',\n",
       "  '/mink_disk_0/camtraps/imerit12g/saola_private.seq206607c2-8c2a-11eb-bdec-000d3a74c7de.frame0.jpg')]"
      ]
     },
     "execution_count": 25,
     "metadata": {},
     "output_type": "execute_result"
    }
   ],
   "source": [
    "len(path_pairs)\n",
    "sample(path_pairs, 2)"
   ]
  },
  {
   "cell_type": "code",
   "execution_count": 27,
   "metadata": {},
   "outputs": [
    {
     "name": "stdout",
     "output_type": "stream",
     "text": [
      "CPU times: user 6.03 s, sys: 6.82 s, total: 12.9 s\n",
      "Wall time: 5.33 s\n"
     ]
    }
   ],
   "source": [
    "%%time\n",
    "\n",
    "def copy_file(src_path, dst_path):\n",
    "    if not os.path.exists(dst_path):\n",
    "        return copyfile(src_path, dst_path)\n",
    "    else:\n",
    "        return None\n",
    "\n",
    "with ThreadPool(12) as pool:\n",
    "    dst_paths = pool.starmap(copy_file, path_pairs)"
   ]
  }
 ],
 "metadata": {
  "kernelspec": {
   "display_name": "Python [conda env:cameratraps] *",
   "language": "python",
   "name": "conda-env-cameratraps-py"
  },
  "language_info": {
   "codemirror_mode": {
    "name": "ipython",
    "version": 3
   },
   "file_extension": ".py",
   "mimetype": "text/x-python",
   "name": "python",
   "nbconvert_exporter": "python",
   "pygments_lexer": "ipython3",
   "version": "3.6.10"
  }
 },
 "nbformat": 4,
 "nbformat_minor": 4
}
