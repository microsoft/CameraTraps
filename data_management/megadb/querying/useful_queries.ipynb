{
 "cells": [
  {
   "cell_type": "code",
   "execution_count": 1,
   "metadata": {},
   "outputs": [],
   "source": [
    "from IPython.core.interactiveshell import InteractiveShell\n",
    "InteractiveShell.ast_node_interactivity = 'all'  # default is ‘last_expr'\n",
    "\n",
    "%load_ext autoreload\n",
    "%autoreload 2"
   ]
  },
  {
   "cell_type": "code",
   "execution_count": 2,
   "metadata": {},
   "outputs": [],
   "source": [
    "import json\n",
    "import os\n",
    "from collections import Counter\n",
    "\n",
    "from tqdm import tqdm\n",
    "import azure.cosmos.cosmos_client as cosmos_client"
   ]
  },
  {
   "cell_type": "markdown",
   "metadata": {},
   "source": [
    "# Useful queries\n",
    "\n",
    "Example queries for the MegaDB's `sequences` table. MegaDB is a NoSQL database on Azure Cosmos DB.\n",
    "\n",
    "Cosmos DB Python SDK documentation: https://docs.microsoft.com/en-us/python/api/azure-cosmos/azure.cosmos.cosmos_client.cosmosclient?view=azure-python\n",
    "\n",
    "Resource URI Syntax for REST: https://docs.microsoft.com/en-us/rest/api/cosmos-db/cosmosdb-resource-uri-syntax-for-rest\n",
    "\n",
    "Subquery for nested objects: https://docs.microsoft.com/en-us/azure/cosmos-db/sql-query-subquery"
   ]
  },
  {
   "cell_type": "markdown",
   "metadata": {},
   "source": [
    "## Connect to the Cosmos DB instance\n",
    "\n",
    "`COSMOS_ENDPOINT` and `COSMOS_KEY` need to be environment variables. "
   ]
  },
  {
   "cell_type": "code",
   "execution_count": 5,
   "metadata": {},
   "outputs": [],
   "source": [
    "# Cosmos DB config\n",
    "config = {\n",
    "    'ENDPOINT': os.environ.get('COSMOS_ENDPOINT'),\n",
    "    'PRIMARYKEY': os.environ.get('COSMOS_KEY')\n",
    "}\n",
    "\n",
    "# Initialize the Cosmos client\n",
    "client = cosmos_client.CosmosClient(url_connection=config['ENDPOINT'], auth={\n",
    "                                    'masterKey': config['PRIMARYKEY']})\n",
    "\n",
    "sequences_table = 'dbs/camera-trap/colls/sequences'  # database link + container link\n",
    "datasets_table = 'dbs/camera-trap/colls/datasets'\n",
    "\n",
    "options = {\n",
    "    'enableCrossPartitionQuery': True\n",
    "}"
   ]
  },
  {
   "cell_type": "markdown",
   "metadata": {},
   "source": [
    "### Get the `datasets` table\n",
    "\n",
    "which records the location and access levels of each dataset."
   ]
  },
  {
   "cell_type": "code",
   "execution_count": 21,
   "metadata": {},
   "outputs": [
    {
     "name": "stdout",
     "output_type": "stream",
     "text": [
      "Length of results: 18\n",
      "CPU times: user 6.37 ms, sys: 2.21 ms, total: 8.59 ms\n",
      "Wall time: 149 ms\n"
     ]
    }
   ],
   "source": [
    "%%time\n",
    "\n",
    "query = {'query': '''SELECT * FROM datasets d'''}\n",
    "\n",
    "result_iterable = client.QueryItems(datasets_table, query, options)\n",
    "\n",
    "datasets = {i['dataset_name']:{k: v for k, v in i.items() if not k.startswith('_')} for i in iter(result_iterable)}\n",
    "\n",
    "print('Length of results:', len(datasets))"
   ]
  },
  {
   "cell_type": "markdown",
   "metadata": {},
   "source": [
    "#### List the public datasets"
   ]
  },
  {
   "cell_type": "code",
   "execution_count": 24,
   "metadata": {},
   "outputs": [
    {
     "data": {
      "text/plain": [
       "['wcs', 'bellevue_190602', 'caltech', 'nacti']"
      ]
     },
     "execution_count": 24,
     "metadata": {},
     "output_type": "execute_result"
    }
   ],
   "source": [
    "public_datasets = [d['dataset_name'] for d in datasets.values() if 'public' in d['access']]\n",
    "public_datasets"
   ]
  },
  {
   "cell_type": "markdown",
   "metadata": {},
   "source": [
    "## Examples\n",
    "\n",
    "In the examples, we limit the selection to a few entries using the `TOP` keyword. When using the DB to create datasets, delete the TOP keyword and arg.\n",
    "\n",
    "Specifying the `partition_key` doesn't seem to work for restricting the query to one dataset..."
   ]
  },
  {
   "cell_type": "code",
   "execution_count": 52,
   "metadata": {},
   "outputs": [],
   "source": [
    "options = {\n",
    "    'enableCrossPartitionQuery': True\n",
    "}"
   ]
  },
  {
   "cell_type": "markdown",
   "metadata": {},
   "source": [
    "### What datasets are there that have sequences data?"
   ]
  },
  {
   "cell_type": "code",
   "execution_count": 10,
   "metadata": {},
   "outputs": [
    {
     "name": "stdout",
     "output_type": "stream",
     "text": [
      "Length of results: 6\n",
      "CPU times: user 25.3 ms, sys: 3.18 ms, total: 28.5 ms\n",
      "Wall time: 11.5 s\n"
     ]
    }
   ],
   "source": [
    "%%time\n",
    "\n",
    "query = {'query': '''\n",
    "SELECT DISTINCT seq.dataset\n",
    "FROM sequences seq\n",
    "'''}\n",
    "\n",
    "result_iterable = client.QueryItems(sequences_table, query, options)\n",
    "\n",
    "results = []\n",
    "for item in iter(result_iterable):\n",
    "    res = item['dataset']\n",
    "    results.append(res)\n",
    "\n",
    "print('Length of results:', len(results))"
   ]
  },
  {
   "cell_type": "code",
   "execution_count": 11,
   "metadata": {},
   "outputs": [
    {
     "data": {
      "text/plain": [
       "['peaceparks_201908_humans',\n",
       " 'wps_190624',\n",
       " 'wps_190624',\n",
       " 'zsl_borneo',\n",
       " 'zsl_borneo',\n",
       " 'zsl_borneo']"
      ]
     },
     "execution_count": 11,
     "metadata": {},
     "output_type": "execute_result"
    }
   ],
   "source": [
    "results"
   ]
  },
  {
   "cell_type": "code",
   "execution_count": 12,
   "metadata": {},
   "outputs": [
    {
     "data": {
      "text/plain": [
       "{'peaceparks_201908_humans', 'wps_190624', 'zsl_borneo'}"
      ]
     },
     "execution_count": 12,
     "metadata": {},
     "output_type": "execute_result"
    }
   ],
   "source": [
    "set(results)"
   ]
  },
  {
   "cell_type": "markdown",
   "metadata": {},
   "source": [
    "### Image entries in a dataset with class \"empty\" - demonstrating JOIN\n",
    "Can use `partition_key` for this query without needing joins\n",
    "\n",
    "Refer to https://docs.microsoft.com/en-us/azure/cosmos-db/sql-query-join - query is constructed as follows (thanks to Chris Ritchie):\n",
    "1. Iterate through each document (seq) (query scoped to a single partition otherwise you could add an additional WHERE clause for seq.dataset = 'zsl_borneo'): `FROM sequences seq`\n",
    "2. For each document (seq) expand each child element in the images array (im): `im IN seq.images`\n",
    "3. Apply a cross product with the root of the item (seq) with each child element (im) the second step flattened\n",
    "4. Project each child element (im): `JOIN`"
   ]
  },
  {
   "cell_type": "code",
   "execution_count": 97,
   "metadata": {},
   "outputs": [
    {
     "name": "stdout",
     "output_type": "stream",
     "text": [
      "Length of results: 10\n",
      "CPU times: user 4.58 ms, sys: 1.48 ms, total: 6.07 ms\n",
      "Wall time: 82.8 ms\n"
     ]
    }
   ],
   "source": [
    "%%time\n",
    "\n",
    "dataset_name = 'zsl_borneo'\n",
    "\n",
    "query = {'query': '''\n",
    "SELECT TOP 10 im.file, im.class, seq.seq_id\n",
    "FROM sequences seq JOIN im IN seq.images \n",
    "WHERE seq.dataset = \"{}\" \n",
    "    AND ARRAY_LENGTH(im.class) > 0 \n",
    "    AND ARRAY_CONTAINS(im.class, \"empty\")\n",
    "'''.format(dataset_name)}\n",
    "\n",
    "# WHERE ARRAY_LENGTH(im.class) > 0 AND ARRAY_CONTAINS(im.class, \"empty\")\n",
    "\n",
    "result_iterable = client.QueryItems(sequences_table, query, options)\n",
    "\n",
    "results = [item for item in iter(result_iterable)]\n",
    "\n",
    "print('Length of results:', len(results))"
   ]
  },
  {
   "cell_type": "markdown",
   "metadata": {},
   "source": [
    "### All images with bounding box annotation"
   ]
  },
  {
   "cell_type": "code",
   "execution_count": 50,
   "metadata": {},
   "outputs": [
    {
     "name": "stdout",
     "output_type": "stream",
     "text": [
      "Length of results: 10\n",
      "CPU times: user 9.41 ms, sys: 2.11 ms, total: 11.5 ms\n",
      "Wall time: 157 ms\n"
     ]
    }
   ],
   "source": [
    "%%time\n",
    "\n",
    "query = {'query': '''\n",
    "SELECT TOP 10 im.bbox, im.file\n",
    "FROM im IN sequences.images \n",
    "WHERE ARRAY_LENGTH(im.bbox) > 0\n",
    "'''}\n",
    "\n",
    "result_iterable = client.QueryItems(sequences_table, query, options, partition_key='zsl_borneo')\n",
    "# if you want to restrict to one dataset, pass in partition_key=dataset - doesn't work here?\n",
    "\n",
    "results = [item for item in iter(result_iterable)]\n",
    "\n",
    "print('Length of results:', len(results))"
   ]
  },
  {
   "cell_type": "markdown",
   "metadata": {},
   "source": [
    "### All images with the specified species at the image level"
   ]
  },
  {
   "cell_type": "code",
   "execution_count": 55,
   "metadata": {},
   "outputs": [
    {
     "name": "stdout",
     "output_type": "stream",
     "text": [
      "Length of results: 10\n",
      "CPU times: user 7.48 ms, sys: 1.88 ms, total: 9.37 ms\n",
      "Wall time: 423 ms\n"
     ]
    }
   ],
   "source": [
    "%%time\n",
    "\n",
    "species_requested = 'horse-tailed squirrel'\n",
    "\n",
    "query = {'query': '''\n",
    "SELECT TOP 10 im.class, im.file\n",
    "FROM im IN sequences.images \n",
    "WHERE ARRAY_LENGTH(im.class) > 0 AND ARRAY_CONTAINS(im.class, \"{}\")\n",
    "'''.format(species_requested)}\n",
    "\n",
    "result_iterable = client.QueryItems(sequences_table, query, options)\n",
    "\n",
    "results = [item for item in iter(result_iterable)]\n",
    "\n",
    "print('Length of results:', len(results))"
   ]
  },
  {
   "cell_type": "markdown",
   "metadata": {},
   "source": [
    "### Species count where the label is at the sequence level"
   ]
  },
  {
   "cell_type": "code",
   "execution_count": 80,
   "metadata": {},
   "outputs": [
    {
     "name": "stdout",
     "output_type": "stream",
     "text": [
      "CPU times: user 26.3 ms, sys: 3.77 ms, total: 30 ms\n",
      "Wall time: 838 ms\n"
     ]
    }
   ],
   "source": [
    "%%time\n",
    "\n",
    "query = {'query': '''\n",
    "SELECT TOP 100 seq.class\n",
    "FROM sequences seq\n",
    "WHERE ARRAY_LENGTH(seq.class) > 0\n",
    "'''}\n",
    "\n",
    "result_iterable = client.QueryItems(sequences_table, query, options)\n",
    "\n",
    "species = Counter()\n",
    "for item in iter(result_iterable):\n",
    "    res = item['class']\n",
    "    species.update(res)"
   ]
  },
  {
   "cell_type": "code",
   "execution_count": 81,
   "metadata": {},
   "outputs": [
    {
     "data": {
      "text/plain": [
       "Counter({'human': 100})"
      ]
     },
     "execution_count": 81,
     "metadata": {},
     "output_type": "execute_result"
    }
   ],
   "source": [
    "species"
   ]
  },
  {
   "cell_type": "markdown",
   "metadata": {},
   "source": [
    "### Species count where the label is at the image level"
   ]
  },
  {
   "cell_type": "code",
   "execution_count": 66,
   "metadata": {},
   "outputs": [
    {
     "name": "stdout",
     "output_type": "stream",
     "text": [
      "CPU times: user 6.01 s, sys: 378 ms, total: 6.38 s\n",
      "Wall time: 2min 52s\n"
     ]
    }
   ],
   "source": [
    "%%time\n",
    "\n",
    "query = {'query': '''\n",
    "SELECT TOP 100000 im.class\n",
    "FROM im IN sequences.images \n",
    "WHERE ARRAY_LENGTH(im.class) > 0\n",
    "'''}\n",
    "\n",
    "result_iterable = client.QueryItems(sequences_table, query, options)\n",
    "\n",
    "species = Counter()\n",
    "for item in iter(result_iterable):\n",
    "    res = item['class']\n",
    "    species.update(res)"
   ]
  },
  {
   "cell_type": "markdown",
   "metadata": {},
   "source": [
    "We can increase the throughput of the database when doing large queries to get response faster."
   ]
  },
  {
   "cell_type": "code",
   "execution_count": 67,
   "metadata": {},
   "outputs": [
    {
     "data": {
      "text/plain": [
       "Counter({'__label_unavailable': 88489,\n",
       "         'banded civet': 307,\n",
       "         'banded linsang': 2,\n",
       "         'bearded pig': 271,\n",
       "         'binturong': 7,\n",
       "         'black-capped babbler': 5,\n",
       "         'blue-headed pitta': 10,\n",
       "         'bornean banded pitta': 9,\n",
       "         'bornean ground-babbler': 10,\n",
       "         \"bulwer's pheasant\": 50,\n",
       "         'emerald dove': 10,\n",
       "         'empty': 3473,\n",
       "         'great argus': 286,\n",
       "         'greater mouse-deer': 2711,\n",
       "         'horse-tailed squirrel': 32,\n",
       "         'human': 810,\n",
       "         'lesser mouse-deer': 135,\n",
       "         'long-tailed macaque': 23,\n",
       "         'long-tailed porcupine': 74,\n",
       "         \"low's squirrel\": 22,\n",
       "         'malay civet': 94,\n",
       "         'malay porcupine': 116,\n",
       "         'plain treeshrew': 3,\n",
       "         'red muntjac': 1528,\n",
       "         'sambar deer': 33,\n",
       "         'short-tailed mongoose': 40,\n",
       "         'southern pig-tailed macaque': 667,\n",
       "         'spiny rat': 264,\n",
       "         'thick-spined porcupine': 39,\n",
       "         'yellow muntjac': 478,\n",
       "         'yellow-throated marten': 2})"
      ]
     },
     "execution_count": 67,
     "metadata": {},
     "output_type": "execute_result"
    }
   ],
   "source": [
    "species"
   ]
  },
  {
   "cell_type": "markdown",
   "metadata": {},
   "source": [
    "### Total number of sequence entries in database"
   ]
  },
  {
   "cell_type": "code",
   "execution_count": 72,
   "metadata": {},
   "outputs": [
    {
     "name": "stdout",
     "output_type": "stream",
     "text": [
      "146526\n",
      "CPU times: user 23.2 ms, sys: 3.62 ms, total: 26.9 ms\n",
      "Wall time: 895 ms\n"
     ]
    }
   ],
   "source": [
    "%%time\n",
    "\n",
    "query = {'query': '''\n",
    "SELECT VALUE COUNT(1)\n",
    "FROM seq\n",
    "'''}\n",
    "\n",
    "result_iterable = client.QueryItems(sequences_table, query, options)\n",
    "\n",
    "for seq_count in iter(result_iterable):\n",
    "    print(seq_count)"
   ]
  },
  {
   "cell_type": "markdown",
   "metadata": {},
   "source": [
    "### Total number of images in all sequences"
   ]
  },
  {
   "cell_type": "code",
   "execution_count": 73,
   "metadata": {},
   "outputs": [
    {
     "name": "stdout",
     "output_type": "stream",
     "text": [
      "596773\n",
      "CPU times: user 26.7 ms, sys: 4.01 ms, total: 30.7 ms\n",
      "Wall time: 12 s\n"
     ]
    }
   ],
   "source": [
    "%%time\n",
    "\n",
    "query = {'query': '''\n",
    "SELECT VALUE COUNT(1)\n",
    "FROM im IN sequences.images \n",
    "'''}\n",
    "\n",
    "result_iterable = client.QueryItems(sequences_table, query, options)\n",
    "\n",
    "for im_count in iter(result_iterable):\n",
    "    print(im_count)"
   ]
  },
  {
   "cell_type": "markdown",
   "metadata": {},
   "source": [
    "### List last inserted sequences based on insertion timestap"
   ]
  },
  {
   "cell_type": "code",
   "execution_count": 77,
   "metadata": {},
   "outputs": [
    {
     "name": "stdout",
     "output_type": "stream",
     "text": [
      "CPU times: user 8.21 ms, sys: 1.88 ms, total: 10.1 ms\n",
      "Wall time: 163 ms\n"
     ]
    }
   ],
   "source": [
    "%%time\n",
    "\n",
    "query = {'query': '''\n",
    "SELECT TOP 10 seq.dataset, seq._ts, seq.seq_id\n",
    "FROM sequences seq\n",
    "ORDER BY seq._ts DESC\n",
    "'''}\n",
    "\n",
    "result_iterable = client.QueryItems(sequences_table, query, options)\n",
    "\n",
    "results = [item for item in iter(result_iterable)]"
   ]
  },
  {
   "cell_type": "code",
   "execution_count": 78,
   "metadata": {},
   "outputs": [
    {
     "data": {
      "text/plain": [
       "[{'_ts': 1573253030, 'dataset': 'zsl_borneo', 'seq_id': '50869'},\n",
       " {'_ts': 1573253030, 'dataset': 'zsl_borneo', 'seq_id': '50870'},\n",
       " {'_ts': 1573253030, 'dataset': 'zsl_borneo', 'seq_id': '50871'},\n",
       " {'_ts': 1573253030, 'dataset': 'zsl_borneo', 'seq_id': '50872'},\n",
       " {'_ts': 1573253030, 'dataset': 'zsl_borneo', 'seq_id': '50873'},\n",
       " {'_ts': 1573253030, 'dataset': 'zsl_borneo', 'seq_id': '50874'},\n",
       " {'_ts': 1573253030, 'dataset': 'zsl_borneo', 'seq_id': '50875'},\n",
       " {'_ts': 1573253030, 'dataset': 'zsl_borneo', 'seq_id': '50876'},\n",
       " {'_ts': 1573253030, 'dataset': 'zsl_borneo', 'seq_id': '50877'},\n",
       " {'_ts': 1573253030, 'dataset': 'zsl_borneo', 'seq_id': '50878'}]"
      ]
     },
     "execution_count": 78,
     "metadata": {},
     "output_type": "execute_result"
    }
   ],
   "source": [
    "results"
   ]
  },
  {
   "cell_type": "code",
   "execution_count": null,
   "metadata": {},
   "outputs": [],
   "source": []
  }
 ],
 "metadata": {
  "kernelspec": {
   "display_name": "Python [conda env:tensorflow]",
   "language": "python",
   "name": "conda-env-tensorflow-py"
  },
  "language_info": {
   "codemirror_mode": {
    "name": "ipython",
    "version": 3
   },
   "file_extension": ".py",
   "mimetype": "text/x-python",
   "name": "python",
   "nbconvert_exporter": "python",
   "pygments_lexer": "ipython3",
   "version": "3.5.4"
  }
 },
 "nbformat": 4,
 "nbformat_minor": 2
}
