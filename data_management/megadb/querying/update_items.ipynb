{
 "cells": [
  {
   "cell_type": "code",
   "execution_count": 1,
   "metadata": {},
   "outputs": [],
   "source": [
    "from IPython.core.interactiveshell import InteractiveShell\n",
    "InteractiveShell.ast_node_interactivity = 'all'  # default is ‘last_expr'\n",
    "\n",
    "%load_ext autoreload\n",
    "%autoreload 2"
   ]
  },
  {
   "cell_type": "code",
   "execution_count": 2,
   "metadata": {},
   "outputs": [],
   "source": [
    "import os\n",
    "\n",
    "from azure.cosmos.cosmos_client import CosmosClient"
   ]
  },
  {
   "cell_type": "markdown",
   "metadata": {},
   "source": [
    "# Update items"
   ]
  },
  {
   "cell_type": "markdown",
   "metadata": {},
   "source": [
    "## Connect to the Cosmos DB instance\n",
    "\n",
    "`COSMOS_ENDPOINT` and `COSMOS_WRITE_KEY` need to be environment variables. "
   ]
  },
  {
   "cell_type": "code",
   "execution_count": 4,
   "metadata": {},
   "outputs": [],
   "source": [
    "# Initialize Cosmos DB client\n",
    "url = os.environ['COSMOS_ENDPOINT']\n",
    "key = os.environ['COSMOS_WRITE_KEY']\n",
    "client = CosmosClient(url, credential=key)\n",
    "\n",
    "database = client.get_database_client('camera-trap')\n",
    "container_datasets = database.get_container_client('datasets')\n",
    "container_sequences = database.get_container_client('sequences')"
   ]
  },
  {
   "cell_type": "markdown",
   "metadata": {},
   "source": [
    "## Upsert an item\n",
    "in the `datasets` container.\n",
    "\n",
    "The view in the Data Explorer on Azure Portal will remain outdated for a while it seems...\n",
    "\n",
    "When you're *updating* an existing item instead of *inserting* a new item, you need to find its `id` and include it in the `item_to_update`."
   ]
  },
  {
   "cell_type": "code",
   "execution_count": 9,
   "metadata": {},
   "outputs": [],
   "source": [
    "# dict-like object representing the item to update or insert\n",
    "item_to_update = {\n",
    "    \"access\": [\n",
    "      \"public\"\n",
    "    ],\n",
    "    \"comment\": \"Images from Bellevue, WA. All from the same location so far.\",\n",
    "    \"location\": \"dansyard\",\n",
    "    \"container\": \"bellevue-camera-traps\",\n",
    "    \"container_sas_key\": \"?se=2021-01-01T07%3A59%3A00Z&sp=rl&sv=2018-03-28&sr=c&sig=h%2BzEOq%2BLId9cFvKM%2BjDImK%2BulJbNy2W5VVE7tJyFHNY%3D\",\n",
    "    \"dataset_name\": \"bellevue_190602\",\n",
    "    \"path_prefix\": \"bellevue_camera_traps.19.06.02.1320\",\n",
    "    \"storage_account\": \"wildlifeblobssc\",\n",
    "    'id': '883725a0-2a73-38db-7a5d-6a4ac3875bef'\n",
    "  }"
   ]
  },
  {
   "cell_type": "code",
   "execution_count": 10,
   "metadata": {},
   "outputs": [
    {
     "name": "stdout",
     "output_type": "stream",
     "text": [
      "CPU times: user 19.7 ms, sys: 3.94 ms, total: 23.6 ms\n",
      "Wall time: 314 ms\n"
     ]
    },
    {
     "data": {
      "text/plain": [
       "{'access': ['public'],\n",
       " 'comment': 'Images from Bellevue, WA. All from the same location so far.',\n",
       " 'location': 'dansyard',\n",
       " 'container': 'bellevue-camera-traps',\n",
       " 'container_sas_key': '?se=2021-01-01T07%3A59%3A00Z&sp=rl&sv=2018-03-28&sr=c&sig=h%2BzEOq%2BLId9cFvKM%2BjDImK%2BulJbNy2W5VVE7tJyFHNY%3D',\n",
       " 'dataset_name': 'bellevue_190602',\n",
       " 'path_prefix': 'bellevue_camera_traps.19.06.02.1320',\n",
       " 'storage_account': 'wildlifeblobssc',\n",
       " 'id': '883725a0-2a73-38db-7a5d-6a4ac3875bef',\n",
       " '_rid': 'WjB+AMAUh0USAAAAAAAAAA==',\n",
       " '_self': 'dbs/WjB+AA==/colls/WjB+AMAUh0U=/docs/WjB+AMAUh0USAAAAAAAAAA==/',\n",
       " '_etag': '\"06000c2e-0000-0500-0000-5e0548b00000\"',\n",
       " '_attachments': 'attachments/',\n",
       " '_ts': 1577404592}"
      ]
     },
     "execution_count": 10,
     "metadata": {},
     "output_type": "execute_result"
    }
   ],
   "source": [
    "%%time\n",
    "\n",
    "container_datasets.upsert_item(item_to_update)"
   ]
  },
  {
   "cell_type": "code",
   "execution_count": null,
   "metadata": {},
   "outputs": [],
   "source": []
  },
  {
   "cell_type": "code",
   "execution_count": 11,
   "metadata": {},
   "outputs": [
    {
     "name": "stdout",
     "output_type": "stream",
     "text": [
      "Length of results: 19\n",
      "CPU times: user 5.32 ms, sys: 1.82 ms, total: 7.14 ms\n",
      "Wall time: 113 ms\n"
     ]
    }
   ],
   "source": [
    "%%time\n",
    "\n",
    "query = '''SELECT * FROM datasets d'''\n",
    "\n",
    "result_iterable = container_datasets.query_items(query=query, enable_cross_partition_query=True)\n",
    "\n",
    "datasets = {i['dataset_name']:{k: v for k, v in i.items() if not k.startswith('_')} for i in iter(result_iterable)}\n",
    "\n",
    "print('Length of results:', len(datasets))"
   ]
  },
  {
   "cell_type": "code",
   "execution_count": 22,
   "metadata": {},
   "outputs": [
    {
     "data": {
      "text/plain": [
       "19"
      ]
     },
     "execution_count": 22,
     "metadata": {},
     "output_type": "execute_result"
    }
   ],
   "source": [
    "len(datasets)"
   ]
  },
  {
   "cell_type": "code",
   "execution_count": null,
   "metadata": {},
   "outputs": [],
   "source": []
  }
 ],
 "metadata": {
  "kernelspec": {
   "display_name": "Python [conda env:cameratraps] *",
   "language": "python",
   "name": "conda-env-cameratraps-py"
  },
  "language_info": {
   "codemirror_mode": {
    "name": "ipython",
    "version": 3
   },
   "file_extension": ".py",
   "mimetype": "text/x-python",
   "name": "python",
   "nbconvert_exporter": "python",
   "pygments_lexer": "ipython3",
   "version": "3.6.9"
  }
 },
 "nbformat": 4,
 "nbformat_minor": 2
}
