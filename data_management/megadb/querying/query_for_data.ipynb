{
 "cells": [
  {
   "cell_type": "code",
   "execution_count": 1,
   "metadata": {},
   "outputs": [],
   "source": [
    "from IPython.core.interactiveshell import InteractiveShell\n",
    "InteractiveShell.ast_node_interactivity = 'all'  # default is ‘last_expr'\n",
    "\n",
    "%load_ext autoreload\n",
    "%autoreload 2"
   ]
  },
  {
   "cell_type": "code",
   "execution_count": 2,
   "metadata": {},
   "outputs": [],
   "source": [
    "import sys\n",
    "sys.path.append('/Users/siyuyang/Source/repos/GitHub_MSFT/CameraTraps')"
   ]
  },
  {
   "cell_type": "code",
   "execution_count": 3,
   "metadata": {},
   "outputs": [],
   "source": [
    "import json\n",
    "import os\n",
    "from collections import Counter\n",
    "import io\n",
    "from random import sample\n",
    "\n",
    "from tqdm import tqdm\n",
    "from azure.cosmos.cosmos_client import CosmosClient\n",
    "from azure.storage.blob import BlockBlobService\n",
    "from PIL import Image\n",
    "\n",
    "from visualization import visualization_utils, visualize_megadb\n",
    "from data_management.annotations import annotation_constants"
   ]
  },
  {
   "cell_type": "markdown",
   "metadata": {},
   "source": [
    "# Query for data\n",
    "\n",
    "This notebook demonstrates the workflow to compile desired sequences of images by querying metadata and downloading the images stored in blob storage.\n",
    "\n",
    "See the programs that Chris prepared here (internal): https://celads.visualstudio.com/CELA%20Data%20Science%20And%20Analytics/_git/DSnA.CameraTrap?path=%2FPython%2Fclientpr.py\n",
    "\n",
    "`COSMOS_ENDPOINT` and `COSMOS_KEY` need to be environment variables."
   ]
  },
  {
   "cell_type": "code",
   "execution_count": 5,
   "metadata": {},
   "outputs": [],
   "source": [
    "# Initialize Cosmos DB client\n",
    "url = os.environ['COSMOS_ENDPOINT']\n",
    "key = os.environ['COSMOS_KEY']\n",
    "client = CosmosClient(url, credential=key)"
   ]
  },
  {
   "cell_type": "code",
   "execution_count": 12,
   "metadata": {},
   "outputs": [],
   "source": [
    "database = client.get_database_client('camera-trap')\n",
    "container_datasets = database.get_container_client('datasets')\n",
    "container_sequences = database.get_container_client('sequences')"
   ]
  },
  {
   "cell_type": "markdown",
   "metadata": {},
   "source": [
    "## Store the `datasets` table\n",
    "which records the location and access levels of each dataset."
   ]
  },
  {
   "cell_type": "code",
   "execution_count": 9,
   "metadata": {},
   "outputs": [
    {
     "name": "stdout",
     "output_type": "stream",
     "text": [
      "Length of results: 18\n",
      "CPU times: user 6.03 ms, sys: 1.92 ms, total: 7.95 ms\n",
      "Wall time: 218 ms\n"
     ]
    }
   ],
   "source": [
    "%%time\n",
    "\n",
    "query = '''SELECT * FROM datasets d'''\n",
    "\n",
    "result_iterable = container_datasets.query_items(query=query, enable_cross_partition_query=True)\n",
    "\n",
    "datasets = {i['dataset_name']:{k: v for k, v in i.items() if not k.startswith('_')} for i in iter(result_iterable)}\n",
    "\n",
    "print('Length of results:', len(datasets))"
   ]
  },
  {
   "cell_type": "markdown",
   "metadata": {},
   "source": [
    "## Select image entries\n",
    "\n",
    "Example: top 1000 images from a given dataset with bounding boxes, selecting the file name and the dataset so we can plot the labels."
   ]
  },
  {
   "cell_type": "code",
   "execution_count": 13,
   "metadata": {},
   "outputs": [
    {
     "name": "stdout",
     "output_type": "stream",
     "text": [
      "Length of results: 1000\n",
      "CPU times: user 98.3 ms, sys: 11.2 ms, total: 109 ms\n",
      "Wall time: 1.7 s\n"
     ]
    }
   ],
   "source": [
    "%%time\n",
    "\n",
    "result_iterable = container_sequences.query_items(\n",
    "    query='''\n",
    "SELECT TOP @top_n seq\n",
    "FROM sequences seq JOIN im IN seq.images \n",
    "WHERE ARRAY_LENGTH(im.bbox) > 0\n",
    "''',\n",
    "    parameters=[\n",
    "        dict(name='@top_n', value=1000)\n",
    "    ],\n",
    "    partition_key='peaceparks_201908_humans'\n",
    ")\n",
    "\n",
    "results = [item['seq'] for item in iter(result_iterable)]\n",
    "\n",
    "print('Length of results:', len(results))"
   ]
  },
  {
   "cell_type": "code",
   "execution_count": 14,
   "metadata": {},
   "outputs": [
    {
     "data": {
      "text/plain": [
       "{'images': [{'file': 'Day/1/IMAG0640.JPG',\n",
       "   'bbox': [{'category': 'person', 'bbox': [0.2349, 0.3966, 0.07641, 0.2099]}],\n",
       "   'image_id': 'Day~1~IMAG0640'}],\n",
       " 'location': '1',\n",
       " 'class': ['human'],\n",
       " 'dataset': 'peaceparks_201908_humans',\n",
       " 'seq_id': 'dummy_5c85f601b81d40c08ad592b4aa8ebdc4',\n",
       " 'datetime': '2019:06:27 14:16:54',\n",
       " 'id': '229a68a8-746c-4221-bc21-71f529f587c4',\n",
       " '_rid': 'WjB+AJ4IhTjqAwAAAAAAAA==',\n",
       " '_self': 'dbs/WjB+AA==/colls/WjB+AJ4IhTg=/docs/WjB+AJ4IhTjqAwAAAAAAAA==/',\n",
       " '_etag': '\"1a0040a4-0000-0500-0000-5dc5ede80000\"',\n",
       " '_attachments': 'attachments/',\n",
       " '_ts': 1573252584}"
      ]
     },
     "execution_count": 14,
     "metadata": {},
     "output_type": "execute_result"
    }
   ],
   "source": [
    "results[-1]"
   ]
  },
  {
   "cell_type": "markdown",
   "metadata": {},
   "source": [
    "## Download images and visualize labels\n",
    "\n",
    "For large batches, download using `multiprocessing.ThreadPool`."
   ]
  },
  {
   "cell_type": "code",
   "execution_count": null,
   "metadata": {},
   "outputs": [],
   "source": [
    "sample_size = 2\n",
    "sample_res = sample(results, sample_size)\n",
    "\n",
    "for seq in sample_res:\n",
    "    for im in seq['images']:\n",
    "        if 'bbox' not in im or len(im['bbox']) == 0:\n",
    "            continue\n",
    "    \n",
    "        dataset = seq['dataset']\n",
    "        storage_account = datasets[dataset]['storage_account']\n",
    "        storage_container = datasets[dataset]['container']\n",
    "        storage_sas_key = datasets[dataset]['container_sas_key']\n",
    "        path_prefix = datasets[dataset]['path_prefix']\n",
    "\n",
    "        blob_service = visualize_megadb.get_blob_service(datasets, dataset)\n",
    "        stream = io.BytesIO()\n",
    "        _ = blob_service.get_blob_to_stream(storage_container, os.path.join(path_prefix, im['file']), stream)\n",
    "        image = Image.open(stream)\n",
    "\n",
    "        visualization_utils.render_megadb_bounding_boxes(im['bbox'], image)\n",
    "        print('from dataset {}'.format(dataset))\n",
    "        image"
   ]
  },
  {
   "cell_type": "code",
   "execution_count": null,
   "metadata": {},
   "outputs": [],
   "source": []
  }
 ],
 "metadata": {
  "kernelspec": {
   "display_name": "Python [conda env:cameratraps] *",
   "language": "python",
   "name": "conda-env-cameratraps-py"
  },
  "language_info": {
   "codemirror_mode": {
    "name": "ipython",
    "version": 3
   },
   "file_extension": ".py",
   "mimetype": "text/x-python",
   "name": "python",
   "nbconvert_exporter": "python",
   "pygments_lexer": "ipython3",
   "version": "3.6.9"
  }
 },
 "nbformat": 4,
 "nbformat_minor": 2
}
