{
 "cells": [
  {
   "cell_type": "code",
   "execution_count": 1,
   "metadata": {},
   "outputs": [],
   "source": [
    "from IPython.core.interactiveshell import InteractiveShell\n",
    "InteractiveShell.ast_node_interactivity = 'all'  # default is ‘last_expr'\n",
    "\n",
    "%load_ext autoreload\n",
    "%autoreload 2"
   ]
  },
  {
   "cell_type": "code",
   "execution_count": 2,
   "metadata": {},
   "outputs": [],
   "source": [
    "import sys\n",
    "sys.path.append('/Users/siyuyang/Source/repos/GitHub_MSFT/CameraTraps')"
   ]
  },
  {
   "cell_type": "code",
   "execution_count": 32,
   "metadata": {},
   "outputs": [],
   "source": [
    "import json\n",
    "import os\n",
    "from collections import Counter, defaultdict\n",
    "from random import sample\n",
    "import math\n",
    "\n",
    "from data_management.megadb.schema import sequences_schema_check\n",
    "from data_management.annotations.add_bounding_boxes_to_megadb import *\n",
    "from data_management.megadb.converters.cct_to_megadb import make_cct_embedded, process_sequences, write_json"
   ]
  },
  {
   "cell_type": "code",
   "execution_count": 4,
   "metadata": {},
   "outputs": [],
   "source": [
    "# annotations\n",
    "\n",
    "anno_batch_10 = '/Users/siyuyang/Source/temp_data/CameraTrap/annotations/201910/batch10'\n",
    "anno_batch_11 = '/Users/siyuyang/Source/temp_data/CameraTrap/annotations/201910/MsWLB_imerit_batch_11_18sep2019'"
   ]
  },
  {
   "cell_type": "markdown",
   "metadata": {},
   "source": [
    "For some (especially the first few) datasets, the sections \"Make into MegaDB format\" and \"Add bounding boxes\" are run after loading the database and spot checking."
   ]
  },
  {
   "cell_type": "markdown",
   "metadata": {},
   "source": [
    "## awc_190430"
   ]
  },
  {
   "cell_type": "code",
   "execution_count": 4,
   "metadata": {},
   "outputs": [],
   "source": [
    "with open('/Users/siyuyang/OneDrive - Microsoft/AI4Earth/CameraTrap/Databases/cosmos/awc_190430_20190816_embedded.json') as f:\n",
    "    awc_embedded = json.load(f)"
   ]
  },
  {
   "cell_type": "code",
   "execution_count": 5,
   "metadata": {},
   "outputs": [
    {
     "data": {
      "text/plain": [
       "159273"
      ]
     },
     "execution_count": 5,
     "metadata": {},
     "output_type": "execute_result"
    }
   ],
   "source": [
    "len(awc_embedded)"
   ]
  },
  {
   "cell_type": "code",
   "execution_count": 6,
   "metadata": {},
   "outputs": [
    {
     "data": {
      "text/plain": [
       "{'width': 2048,\n",
       " 'file_name': 'WetTropics/2018/Spurgeon Bettong/QWT-S-TSCAM087 (WF269-269)/IMG_0805.JPG',\n",
       " 'image_id': '102328',\n",
       " 'dataset': 'awc_190430',\n",
       " 'height': 1536,\n",
       " 'location': 'QWT-S-TSCAM087 (WF269-269)',\n",
       " 'annotations': {'species': ['empty']}}"
      ]
     },
     "execution_count": 6,
     "metadata": {},
     "output_type": "execute_result"
    }
   ],
   "source": [
    "awc_embedded[100]"
   ]
  },
  {
   "cell_type": "code",
   "execution_count": 8,
   "metadata": {},
   "outputs": [
    {
     "data": {
      "text/plain": [
       "193"
      ]
     },
     "execution_count": 8,
     "metadata": {},
     "output_type": "execute_result"
    }
   ],
   "source": [
    "awc_locs = Counter()\n",
    "\n",
    "for i in awc_embedded:\n",
    "    awc_locs.update([i['location']])\n",
    "    \n",
    "len(awc_locs)"
   ]
  },
  {
   "cell_type": "code",
   "execution_count": null,
   "metadata": {},
   "outputs": [],
   "source": [
    "# some species arrays had two \"empty\" labels"
   ]
  },
  {
   "cell_type": "code",
   "execution_count": 9,
   "metadata": {},
   "outputs": [],
   "source": [
    "for e in awc_embedded:\n",
    "    if 'annotations' in e:\n",
    "        e['annotations']['species'] = list(set(e['annotations']['species']))"
   ]
  },
  {
   "cell_type": "markdown",
   "metadata": {},
   "source": [
    "## bellevue_190602"
   ]
  },
  {
   "cell_type": "code",
   "execution_count": 26,
   "metadata": {},
   "outputs": [],
   "source": [
    "with open('/Users/siyuyang/OneDrive - Microsoft/AI4Earth/CameraTrap/Databases/cosmos/bellevue_190602_20190812_embedded.json') as f:\n",
    "    bellevue_embedded = json.load(f)"
   ]
  },
  {
   "cell_type": "code",
   "execution_count": 27,
   "metadata": {},
   "outputs": [
    {
     "data": {
      "text/plain": [
       "1848"
      ]
     },
     "execution_count": 27,
     "metadata": {},
     "output_type": "execute_result"
    }
   ],
   "source": [
    "len(bellevue_embedded)"
   ]
  },
  {
   "cell_type": "code",
   "execution_count": 28,
   "metadata": {},
   "outputs": [
    {
     "data": {
      "text/plain": [
       "{'image_id': 'd3695634-a9a9-11e9-a392-5cf370671a19',\n",
       " 'file_name': '2019.01.20/newcam/empty/DSCF0057.JPG',\n",
       " 'annotations': {'species': ['empty']},\n",
       " 'dataset': 'bellevue_190602'}"
      ]
     },
     "execution_count": 28,
     "metadata": {},
     "output_type": "execute_result"
    }
   ],
   "source": [
    "bellevue_embedded[100]"
   ]
  },
  {
   "cell_type": "markdown",
   "metadata": {},
   "source": [
    "## idfg"
   ]
  },
  {
   "cell_type": "code",
   "execution_count": 5,
   "metadata": {},
   "outputs": [],
   "source": [
    "with open('/Users/siyuyang/OneDrive - Microsoft/AI4Earth/CameraTrap/Databases/cosmos/idfg_20190807_embedded.json') as f:\n",
    "    idfg_embedded = json.load(f)"
   ]
  },
  {
   "cell_type": "code",
   "execution_count": 6,
   "metadata": {},
   "outputs": [
    {
     "data": {
      "text/plain": [
       "693870"
      ]
     },
     "execution_count": 6,
     "metadata": {},
     "output_type": "execute_result"
    }
   ],
   "source": [
    "len(idfg_embedded)"
   ]
  },
  {
   "cell_type": "code",
   "execution_count": 7,
   "metadata": {},
   "outputs": [
    {
     "data": {
      "text/plain": [
       "[{'image_id': 'St.Joe_elk~AM129~Trip 1~100RECNX~RCNX0302',\n",
       "  'file_name': 'St.Joe_elk/AM129/Trip 1/100RECNX/RCNX0302.JPG',\n",
       "  'dataset': 'idfg',\n",
       "  'annotations': {'species': ['deer']},\n",
       "  'datetime': '07-Jan-2016 08:38:34',\n",
       "  'location': 'St_Joe_elk+AM129'}]"
      ]
     },
     "execution_count": 7,
     "metadata": {},
     "output_type": "execute_result"
    }
   ],
   "source": [
    "sample(idfg_embedded, 1)"
   ]
  },
  {
   "cell_type": "markdown",
   "metadata": {},
   "source": [
    "There are bboxes"
   ]
  },
  {
   "cell_type": "code",
   "execution_count": 16,
   "metadata": {},
   "outputs": [],
   "source": [
    "# some images (dummy sequences) do not have the class label...\n",
    "\n",
    "for e in idfg_embedded:\n",
    "    if 'annotations' not in e or 'species' not in e['annotations']:\n",
    "        e['annotations'] = {\n",
    "            'species': ['__label_unavailable']\n",
    "        }"
   ]
  },
  {
   "cell_type": "code",
   "execution_count": 36,
   "metadata": {},
   "outputs": [
    {
     "data": {
      "text/plain": [
       "['Beaverhead_elk~AM25~Trip 2~100RECNX~2016-03-12 15-01-50 M 5_5.JPG',\n",
       " 'Beaverhead_elk~AM25~Trip 2~100RECNX~2016-02-19 09-31-54 M 3_5.JPG',\n",
       " 'Beaverhead_elk~AM25~Trip 2~100RECNX~2016-02-19 09-31-55 M 4_5.JPG',\n",
       " 'Beaverhead_elk~AM25~Trip 2~100RECNX~2016-03-14 12-40-00 T.JPG',\n",
       " 'Beaverhead_elk~AM25~Trip 2~100RECNX~2016-03-12 15-01-47 M 2_5.JPG',\n",
       " 'Beaverhead_elk~AM25~Trip 2~100RECNX~2016-02-19 09-31-53 M 1_5.JPG',\n",
       " 'Beaverhead_elk~AM25~Trip 2~100RECNX~2016-02-19 09-31-56 M 5_5.JPG',\n",
       " 'Beaverhead_elk~AM25~Trip 2~100RECNX~2016-03-12 15-01-52 M 2_5.JPG',\n",
       " 'Beaverhead_elk~AM25~Trip 2~100RECNX~2016-03-12 15-01-48 M 3_5.JPG',\n",
       " 'Beaverhead_elk~AM25~Trip 2~100RECNX~2016-03-12 15-01-51 M 1_5.JPG',\n",
       " 'Beaverhead_elk~AM25~Trip 2~100RECNX~2016-03-14 12-40-00 M 3_5.JPG',\n",
       " 'Beaverhead_elk~AM25~Trip 2~100RECNX~2016-03-12 15-01-46 M 1_5.JPG',\n",
       " 'Beaverhead_elk~AM25~Trip 2~100RECNX~2016-03-12 15-01-49 M 4_5.JPG',\n",
       " 'Beaverhead_elk~AM25~Trip 2~100RECNX~2016-03-14 12-39-59 M 2_5.JPG',\n",
       " 'Beaverhead_elk~AM25~Trip 2~100RECNX~2016-02-19 09-31-53 M 2_5.JPG',\n",
       " 'Beaverhead_elk~AM25~Trip 2~100RECNX~2016-03-14 12-39-58 M 1_5.JPG']"
      ]
     },
     "execution_count": 36,
     "metadata": {},
     "output_type": "execute_result"
    }
   ],
   "source": [
    "# some images from Trip 2 of a location which we got vehicle annotations for were not in the CCT\n",
    "# it seems, so adding them here manually:\n",
    "\n",
    "idfg_missing"
   ]
  },
  {
   "cell_type": "code",
   "execution_count": 38,
   "metadata": {},
   "outputs": [],
   "source": [
    "idfg_missing_items = []\n",
    "for i in idfg_missing:\n",
    "    item = {\n",
    "        'image_id': i.split('.JPG')[0],\n",
    "      'file_name': i.replace('~', '/'),\n",
    "      'dataset': 'idfg',\n",
    "      'annotations': {'species': ['__label_unavailable']},\n",
    "      'location': 'Beaverhead_elk+AM25'\n",
    "    }\n",
    "    idfg_missing_items.append(item)"
   ]
  },
  {
   "cell_type": "code",
   "execution_count": 40,
   "metadata": {},
   "outputs": [
    {
     "data": {
      "text/plain": [
       "693870"
      ]
     },
     "execution_count": 40,
     "metadata": {},
     "output_type": "execute_result"
    },
    {
     "data": {
      "text/plain": [
       "693886"
      ]
     },
     "execution_count": 40,
     "metadata": {},
     "output_type": "execute_result"
    }
   ],
   "source": [
    "len(idfg_embedded)\n",
    "idfg_embedded.extend(idfg_missing_items)\n",
    "len(idfg_embedded)"
   ]
  },
  {
   "cell_type": "markdown",
   "metadata": {},
   "source": [
    "## nacti"
   ]
  },
  {
   "cell_type": "code",
   "execution_count": 5,
   "metadata": {},
   "outputs": [],
   "source": [
    "with open('/Users/siyuyang/OneDrive - Microsoft/AI4Earth/CameraTrap/Databases/cosmos/nacti_20190819_embedded.json') as f:\n",
    "    nacti_embedded = json.load(f)"
   ]
  },
  {
   "cell_type": "code",
   "execution_count": 6,
   "metadata": {},
   "outputs": [
    {
     "data": {
      "text/plain": [
       "3382215"
      ]
     },
     "execution_count": 6,
     "metadata": {},
     "output_type": "execute_result"
    }
   ],
   "source": [
    "len(nacti_embedded)"
   ]
  },
  {
   "cell_type": "code",
   "execution_count": 7,
   "metadata": {},
   "outputs": [
    {
     "data": {
      "text/plain": [
       "[{'height': 1536,\n",
       "  'width': 2048,\n",
       "  'annotations': {'species': ['domestic cow']},\n",
       "  'image_id': 'FL-07_06_29_2015_FL-07_0042512',\n",
       "  'location': 'Archbold, FL',\n",
       "  'study': 'FL',\n",
       "  'dataset': 'nacti',\n",
       "  'file_name': 'part1/sub147/FL-07_06_29_2015_FL-07_0042512.jpg'},\n",
       " {'height': 1536,\n",
       "  'width': 2048,\n",
       "  'annotations': {'species': ['red deer']},\n",
       "  'image_id': '2014_Unit70_Ivan053_img0337',\n",
       "  'location': 'San Juan Mntns, Colorado',\n",
       "  'study': 'CPW',\n",
       "  'dataset': 'nacti',\n",
       "  'file_name': 'part0/sub015/2014_Unit70_Ivan053_img0337.jpg'}]"
      ]
     },
     "execution_count": 7,
     "metadata": {},
     "output_type": "execute_result"
    }
   ],
   "source": [
    "sample(nacti_embedded, 2)"
   ]
  },
  {
   "cell_type": "code",
   "execution_count": 25,
   "metadata": {},
   "outputs": [],
   "source": [
    "species_counter = Counter()\n",
    "for i in nacti_embedded:\n",
    "    species_counter.update(i['annotations']['species'])"
   ]
  },
  {
   "cell_type": "code",
   "execution_count": 8,
   "metadata": {},
   "outputs": [
    {
     "data": {
      "text/plain": [
       "4"
      ]
     },
     "execution_count": 8,
     "metadata": {},
     "output_type": "execute_result"
    }
   ],
   "source": [
    "nacti_locs = Counter()\n",
    "\n",
    "for i in nacti_embedded:\n",
    "    nacti_locs.update([i['location']])\n",
    "    \n",
    "len(nacti_locs)"
   ]
  },
  {
   "cell_type": "code",
   "execution_count": 9,
   "metadata": {},
   "outputs": [
    {
     "data": {
      "text/plain": [
       "Counter({'Archbold, FL': 1802622,\n",
       "         'Lebec, California': 780549,\n",
       "         '': 469356,\n",
       "         'San Juan Mntns, Colorado': 329688})"
      ]
     },
     "execution_count": 9,
     "metadata": {},
     "output_type": "execute_result"
    }
   ],
   "source": [
    "nacti_locs"
   ]
  },
  {
   "cell_type": "code",
   "execution_count": 30,
   "metadata": {},
   "outputs": [],
   "source": [
    "# Counter({'CA': 261600, 'FL': 207756})\n",
    "\n",
    "for i in nacti_embedded:\n",
    "    if i['location'] == '':\n",
    "        i['location'] = i['image_id'].split('-')[0]"
   ]
  },
  {
   "cell_type": "markdown",
   "metadata": {},
   "source": [
    "## rspb_gola_20190409"
   ]
  },
  {
   "cell_type": "code",
   "execution_count": 25,
   "metadata": {},
   "outputs": [],
   "source": [
    "with open('/Users/siyuyang/OneDrive - Microsoft/AI4Earth/CameraTrap/Databases/cosmos/rspb_gola_20190409_embedded.json') as f:\n",
    "    gola_embedded = json.load(f)"
   ]
  },
  {
   "cell_type": "code",
   "execution_count": 26,
   "metadata": {},
   "outputs": [
    {
     "data": {
      "text/plain": [
       "62835"
      ]
     },
     "execution_count": 26,
     "metadata": {},
     "output_type": "execute_result"
    }
   ],
   "source": [
    "len(gola_embedded)"
   ]
  },
  {
   "cell_type": "code",
   "execution_count": 27,
   "metadata": {},
   "outputs": [
    {
     "data": {
      "text/plain": [
       "[{'location': 'P0440__C11',\n",
       "  'file_name': 'P0440/C11/P0440__C11__2012-05-26__10-16-28(6).JPG',\n",
       "  'datetime': '26/05/2012 10:16',\n",
       "  'image_id': 'P0440__C11__2012-05-26__10-16-28(6)',\n",
       "  'dataset': 'rspb_gola',\n",
       "  'annotations': {'species': ['empty']},\n",
       "  'height': 1536,\n",
       "  'width': 2048}]"
      ]
     },
     "execution_count": 27,
     "metadata": {},
     "output_type": "execute_result"
    }
   ],
   "source": [
    "sample(gola_embedded, 1)"
   ]
  },
  {
   "cell_type": "markdown",
   "metadata": {},
   "source": [
    "Add sequence info to the RSPB database using info in the file names. "
   ]
  },
  {
   "cell_type": "code",
   "execution_count": 28,
   "metadata": {},
   "outputs": [],
   "source": [
    "for e in gola_embedded:\n",
    "    frame_num = int(e['image_id'].split('(')[1].split(')')[0])\n",
    "    seq_id = e['image_id'].split('(')[0]\n",
    "    e['seq_id'] = seq_id\n",
    "    e['frame_num'] = frame_num"
   ]
  },
  {
   "cell_type": "code",
   "execution_count": 29,
   "metadata": {},
   "outputs": [],
   "source": [
    "for e in gola_embedded:\n",
    "    if 'species' not in e['annotations']:\n",
    "        e['annotations']['species'] = ['__label_unavailable']"
   ]
  },
  {
   "cell_type": "markdown",
   "metadata": {},
   "source": [
    "## wcs_20190817"
   ]
  },
  {
   "cell_type": "code",
   "execution_count": 5,
   "metadata": {},
   "outputs": [],
   "source": [
    "with open('/Users/siyuyang/OneDrive - Microsoft/AI4Earth/CameraTrap/Databases/cosmos/wcs_20190817_embedded.json') as f:\n",
    "    wcs_embedded = json.load(f)"
   ]
  },
  {
   "cell_type": "code",
   "execution_count": 6,
   "metadata": {},
   "outputs": [
    {
     "data": {
      "text/plain": [
       "1207490"
      ]
     },
     "execution_count": 6,
     "metadata": {},
     "output_type": "execute_result"
    }
   ],
   "source": [
    "len(wcs_embedded)"
   ]
  },
  {
   "cell_type": "code",
   "execution_count": 7,
   "metadata": {},
   "outputs": [
    {
     "data": {
      "text/plain": [
       "[{'datetime': '2008-02-19 13:09:05.000',\n",
       "  'seq_id': 'ken-007-d0037-1040',\n",
       "  'seq_num_frames': 33,\n",
       "  'frame_num': 2,\n",
       "  'match_level': 1,\n",
       "  'file_name': 'animals/0200/0530.jpg',\n",
       "  'width': 1920,\n",
       "  'image_id': '0fb7c9ee-92d5-11e9-a2bf-000d3a74c7de',\n",
       "  'location': '1256',\n",
       "  'corrupt': False,\n",
       "  'dataset': 'wcs',\n",
       "  'annotations': {'sex': 'unknown',\n",
       "   'species': ['empty'],\n",
       "   'count': -1,\n",
       "   'age': 'unknown'},\n",
       "  'wcs_id': 'ken-007-d0037-i012594',\n",
       "  'country_code': 'ken',\n",
       "  'height': 1080}]"
      ]
     },
     "execution_count": 7,
     "metadata": {},
     "output_type": "execute_result"
    }
   ],
   "source": [
    "sample(wcs_embedded, 1)"
   ]
  },
  {
   "cell_type": "code",
   "execution_count": 12,
   "metadata": {},
   "outputs": [],
   "source": [
    "wcs_locations = Counter()\n",
    "\n",
    "for e in wcs_embedded:\n",
    "    wcs_locations.update([e['location']])"
   ]
  },
  {
   "cell_type": "code",
   "execution_count": 15,
   "metadata": {},
   "outputs": [
    {
     "data": {
      "text/plain": [
       "2191"
      ]
     },
     "execution_count": 15,
     "metadata": {},
     "output_type": "execute_result"
    }
   ],
   "source": [
    "wcs_locations['unknown']"
   ]
  },
  {
   "cell_type": "code",
   "execution_count": 16,
   "metadata": {},
   "outputs": [],
   "source": [
    "seqs_unknown = []\n",
    "\n",
    "for e in wcs_embedded:\n",
    "    if e['seq_id'] == 'unknown':\n",
    "        seqs_unknown.append(e)"
   ]
  },
  {
   "cell_type": "code",
   "execution_count": 17,
   "metadata": {},
   "outputs": [
    {
     "data": {
      "text/plain": [
       "242053"
      ]
     },
     "execution_count": 17,
     "metadata": {},
     "output_type": "execute_result"
    }
   ],
   "source": [
    "len(seqs_unknown)"
   ]
  },
  {
   "cell_type": "code",
   "execution_count": 20,
   "metadata": {},
   "outputs": [
    {
     "data": {
      "text/plain": [
       "{'datetime': '2013-07-12 04:07:43.000',\n",
       " 'seq_id': 'unknown',\n",
       " 'seq_num_frames': -1,\n",
       " 'frame_num': -1,\n",
       " 'match_level': 4,\n",
       " 'file_name': 'animals/0560/0614.jpg',\n",
       " 'width': 1920,\n",
       " 'image_id': '9475a0e7-92d5-11e9-9bd6-000d3a74c7de',\n",
       " 'location': '4342',\n",
       " 'corrupt': False,\n",
       " 'dataset': 'wcs',\n",
       " 'annotations': {'sex': 'male',\n",
       "  'species': ['leopardus pardalis'],\n",
       "  'count': 1,\n",
       "  'age': 'unknown'},\n",
       " 'wcs_id': 'gtm-003-d0045-i069662',\n",
       " 'country_code': 'gtm',\n",
       " 'height': 1080}"
      ]
     },
     "execution_count": 20,
     "metadata": {},
     "output_type": "execute_result"
    }
   ],
   "source": [
    "seqs_unknown[-1]"
   ]
  },
  {
   "cell_type": "markdown",
   "metadata": {},
   "source": [
    "Delete the sequence properties for these sequences so that dummy seq ID can be created for them "
   ]
  },
  {
   "cell_type": "code",
   "execution_count": 21,
   "metadata": {},
   "outputs": [],
   "source": [
    "for e in wcs_embedded:\n",
    "    if e['seq_id'] == 'unknown':\n",
    "        del e['seq_id']\n",
    "        del e['seq_num_frames']\n",
    "        del e['frame_num']"
   ]
  },
  {
   "cell_type": "code",
   "execution_count": 38,
   "metadata": {},
   "outputs": [
    {
     "data": {
      "text/plain": [
       "78"
      ]
     },
     "execution_count": 38,
     "metadata": {},
     "output_type": "execute_result"
    }
   ],
   "source": [
    "corrupt_ims = []\n",
    "for e in wcs_embedded:\n",
    "    if e['corrupt']:\n",
    "        corrupt_ims.append(e)\n",
    "        \n",
    "len(corrupt_ims)"
   ]
  },
  {
   "cell_type": "code",
   "execution_count": 42,
   "metadata": {},
   "outputs": [
    {
     "data": {
      "text/plain": [
       "141"
      ]
     },
     "execution_count": 42,
     "metadata": {},
     "output_type": "execute_result"
    }
   ],
   "source": [
    "non_jpg = []\n",
    "for e in wcs_embedded:\n",
    "    if not e['file_name'].endswith('.jpg'):\n",
    "        non_jpg.append(e)\n",
    "len(non_jpg)"
   ]
  },
  {
   "cell_type": "markdown",
   "metadata": {},
   "source": [
    "Added `.bmp`, `.avi`, `.tif` as allowed endings for `file` in the schema"
   ]
  },
  {
   "cell_type": "markdown",
   "metadata": {},
   "source": [
    "Some datetime are nan - make these into string so the schema check can pass"
   ]
  },
  {
   "cell_type": "code",
   "execution_count": 35,
   "metadata": {},
   "outputs": [],
   "source": [
    "for e in wcs_embedded:\n",
    "    if type(e['datetime']) is not str:\n",
    "        e['datetime'] = str(e['datetime'])"
   ]
  },
  {
   "cell_type": "code",
   "execution_count": 51,
   "metadata": {},
   "outputs": [
    {
     "data": {
      "text/plain": [
       "38"
      ]
     },
     "execution_count": 51,
     "metadata": {},
     "output_type": "execute_result"
    }
   ],
   "source": [
    "weird_class_label = []\n",
    "for e in wcs_embedded:\n",
    "    if '#ref!' in e['annotations']['species']:\n",
    "        weird_class_label.append(e)\n",
    "len(weird_class_label)"
   ]
  },
  {
   "cell_type": "markdown",
   "metadata": {},
   "source": [
    "These appear to be cars"
   ]
  },
  {
   "cell_type": "code",
   "execution_count": 52,
   "metadata": {},
   "outputs": [],
   "source": [
    "for e in wcs_embedded:\n",
    "    if '#ref!' in e['annotations']['species']:\n",
    "        e['annotations']['species'] = ['vehicle']"
   ]
  },
  {
   "cell_type": "markdown",
   "metadata": {},
   "source": [
    "## wcs_private"
   ]
  },
  {
   "cell_type": "code",
   "execution_count": 60,
   "metadata": {},
   "outputs": [],
   "source": [
    "with open('/Users/siyuyang/OneDrive - Microsoft/AI4Earth/CameraTrap/Databases/cosmos/wcs_private_20190819_embedded.json') as f:\n",
    "    wcs_private_embedded = json.load(f)"
   ]
  },
  {
   "cell_type": "code",
   "execution_count": 61,
   "metadata": {},
   "outputs": [
    {
     "data": {
      "text/plain": [
       "162501"
      ]
     },
     "execution_count": 61,
     "metadata": {},
     "output_type": "execute_result"
    }
   ],
   "source": [
    "len(wcs_private_embedded)"
   ]
  },
  {
   "cell_type": "code",
   "execution_count": 63,
   "metadata": {},
   "outputs": [],
   "source": [
    "for e in wcs_private_embedded:\n",
    "    if e['seq_id'] == 'unknown':\n",
    "        del e['seq_id']\n",
    "        del e['seq_num_frames']\n",
    "        del e['frame_num']"
   ]
  },
  {
   "cell_type": "code",
   "execution_count": 66,
   "metadata": {},
   "outputs": [],
   "source": [
    "for e in wcs_private_embedded:\n",
    "    if type(e['datetime']) is not str:\n",
    "        e['datetime'] = str(e['datetime'])"
   ]
  },
  {
   "cell_type": "markdown",
   "metadata": {},
   "source": [
    "## wiitigers"
   ]
  },
  {
   "cell_type": "code",
   "execution_count": 5,
   "metadata": {},
   "outputs": [],
   "source": [
    "with open('/Users/siyuyang/OneDrive - Microsoft/AI4Earth/CameraTrap/Databases/cosmos/wiitigers_20190815_embedded.json') as f:\n",
    "    wii_embedded = json.load(f)"
   ]
  },
  {
   "cell_type": "code",
   "execution_count": 6,
   "metadata": {},
   "outputs": [
    {
     "data": {
      "text/plain": [
       "1125938"
      ]
     },
     "execution_count": 6,
     "metadata": {},
     "output_type": "execute_result"
    },
    {
     "data": {
      "text/plain": [
       "[{'annotations': {'species': ['human']},\n",
       "  'file_name': 'raw_camtrap/TATR DATA_2014,15,16,17/2018/block_1/73/A/tourist/I__01068.JPG',\n",
       "  'width': 2576,\n",
       "  'dataset': 'wiitigers',\n",
       "  'height': 1984,\n",
       "  'image_id': 'raw_camtrap~TATR DATA_2014,15,16,17~2018~block_1~73~A~tourist~I__01068'}]"
      ]
     },
     "execution_count": 6,
     "metadata": {},
     "output_type": "execute_result"
    }
   ],
   "source": [
    "len(wii_embedded)\n",
    "sample(wii_embedded, 1)"
   ]
  },
  {
   "cell_type": "code",
   "execution_count": 15,
   "metadata": {},
   "outputs": [],
   "source": [
    "# manually fixed this oen image\n",
    "for i in wii_embedded:\n",
    "    if not i['file_name'].endswith(('.JPG', '.jpg')):\n",
    "        i['file_name'] = i['file_name'].split('.JFG')[0] + '.JPG'"
   ]
  },
  {
   "cell_type": "markdown",
   "metadata": {},
   "source": [
    "**The following datasets that were annotated in batch 10 did not have their embedded CCT compiled... Some do not yet have a database json.**\n",
    "\n",
    "## trailguard_night_mara_190515"
   ]
  },
  {
   "cell_type": "code",
   "execution_count": 7,
   "metadata": {},
   "outputs": [],
   "source": [
    "dataset_name = 'trailguard_night_mara_190515'\n",
    "annotation_path = anno_batch_10"
   ]
  },
  {
   "cell_type": "code",
   "execution_count": 8,
   "metadata": {},
   "outputs": [
    {
     "name": "stderr",
     "output_type": "stream",
     "text": [
      "  4%|▎         | 6560/177122 [00:00<00:05, 32792.29it/s]"
     ]
    },
    {
     "name": "stdout",
     "output_type": "stream",
     "text": [
      "19 files found in directory at annotation_path\n",
      "Number of annotation entries found: 177122\n"
     ]
    },
    {
     "name": "stderr",
     "output_type": "stream",
     "text": [
      "100%|██████████| 177122/177122 [00:05<00:00, 31801.70it/s]\n"
     ]
    },
    {
     "name": "stdout",
     "output_type": "stream",
     "text": [
      "54 boxes on 63 images were in the annotation file(s). 215715 boxes skipped because they are not for the requested dataset\n",
      "\n",
      "Category counts for the bboxes:\n",
      "animal: 1\n",
      "person: 53\n"
     ]
    }
   ],
   "source": [
    "image_filename_to_bboxes = extract_annotations(annotation_path, dataset_name)"
   ]
  },
  {
   "cell_type": "code",
   "execution_count": 13,
   "metadata": {},
   "outputs": [],
   "source": [
    "# checked that this label should be person, not animal\n",
    "\n",
    "image_filename_to_bboxes['tgv3_01003.jpg'][0]['category'] = 'person'"
   ]
  },
  {
   "cell_type": "code",
   "execution_count": 18,
   "metadata": {},
   "outputs": [],
   "source": [
    "sequences = []\n",
    "\n",
    "for image_filename, bbox in image_filename_to_bboxes.items():\n",
    "    im_cat = 'person' if len(bbox) > 0 else 'empty'\n",
    "    sequences.append({\n",
    "        'dataset': 'trailguard_night_mara_190515',\n",
    "        'seq_id': 'dummy_' + image_filename.split('.jpg')[0],\n",
    "        'images': [\n",
    "            {\n",
    "                'file': image_filename,  # all flat, no separator /\n",
    "                'class': [im_cat]\n",
    "            }\n",
    "        ]\n",
    "    })"
   ]
  },
  {
   "cell_type": "code",
   "execution_count": 20,
   "metadata": {},
   "outputs": [
    {
     "name": "stdout",
     "output_type": "stream",
     "text": [
      "Dataset to which the sequences belong to: trailguard_night_mara_190515. The bboxes should also be for this set.\n",
      "63 images updated; 0 images had their bbox overwritten; 0 images not updated\n"
     ]
    }
   ],
   "source": [
    "sequences, images_updated = add_annotations_to_sequences(sequences, image_filename_to_bboxes)"
   ]
  },
  {
   "cell_type": "code",
   "execution_count": 22,
   "metadata": {},
   "outputs": [
    {
     "name": "stdout",
     "output_type": "stream",
     "text": [
      "Verified that the sequence items meet requirements not captured by the schema.\n",
      "Verified that the sequence items conform to the schema.\n"
     ]
    }
   ],
   "source": [
    "sequences_schema_check.sequences_schema_check(sequences)"
   ]
  },
  {
   "cell_type": "code",
   "execution_count": 23,
   "metadata": {},
   "outputs": [],
   "source": [
    "write_json('/Users/siyuyang/OneDrive - Microsoft/AI4Earth/CameraTrap/Databases/megadb_batches_9_10_11/trailguard_night_mara_190515_w_batch_10_boxes.json', sequences)"
   ]
  },
  {
   "cell_type": "markdown",
   "metadata": {},
   "source": [
    "## islandconservation_190705"
   ]
  },
  {
   "cell_type": "code",
   "execution_count": 5,
   "metadata": {},
   "outputs": [],
   "source": [
    "dataset_name = 'islandconservation_190705'\n",
    "annotation_path = anno_batch_10"
   ]
  },
  {
   "cell_type": "code",
   "execution_count": 6,
   "metadata": {},
   "outputs": [
    {
     "name": "stderr",
     "output_type": "stream",
     "text": [
      "  2%|▏         | 2901/177122 [00:00<00:12, 14410.80it/s]"
     ]
    },
    {
     "name": "stdout",
     "output_type": "stream",
     "text": [
      "19 files found in directory at annotation_path\n",
      "Number of annotation entries found: 177122\n"
     ]
    },
    {
     "name": "stderr",
     "output_type": "stream",
     "text": [
      "100%|██████████| 177122/177122 [00:08<00:00, 21980.72it/s]"
     ]
    },
    {
     "name": "stdout",
     "output_type": "stream",
     "text": [
      "10806 boxes on 30000 images were in the annotation file(s). 204963 boxes skipped because they are not for the requested dataset\n",
      "\n",
      "Category counts for the bboxes:\n",
      "animal: 8695\n",
      "person: 2102\n",
      "vehicle: 9\n"
     ]
    },
    {
     "name": "stderr",
     "output_type": "stream",
     "text": [
      "\n"
     ]
    }
   ],
   "source": [
    "image_filename_to_bboxes = extract_annotations(annotation_path, dataset_name)"
   ]
  },
  {
   "cell_type": "code",
   "execution_count": 8,
   "metadata": {},
   "outputs": [
    {
     "data": {
      "text/plain": [
       "10806"
      ]
     },
     "execution_count": 8,
     "metadata": {},
     "output_type": "execute_result"
    }
   ],
   "source": [
    "9 + 2102 + 8695  # about two-thirds were empty"
   ]
  },
  {
   "cell_type": "code",
   "execution_count": 37,
   "metadata": {},
   "outputs": [],
   "source": [
    "sequences = []\n",
    "count = 0\n",
    "for image_filename, bbox in image_filename_to_bboxes.items():\n",
    "    im_cat = 'empty' if len(bbox) == 0 else bbox[0]['category']\n",
    "    if im_cat == 'animal':\n",
    "        im_cat = 'unidentified'\n",
    "    sequences.append({\n",
    "        'dataset': 'islandconservation_190705',\n",
    "        'seq_id': 'dummy_' + dataset_name + '_' + str(count),\n",
    "        'images': [\n",
    "            {\n",
    "                'file': image_filename.replace('~', '/'),\n",
    "                'class': [im_cat]\n",
    "            }\n",
    "        ]\n",
    "    })\n",
    "    \n",
    "    count += 1"
   ]
  },
  {
   "cell_type": "code",
   "execution_count": 38,
   "metadata": {},
   "outputs": [
    {
     "name": "stdout",
     "output_type": "stream",
     "text": [
      "Dataset to which the sequences belong to: islandconservation_190705. The bboxes should also be for this set.\n",
      "30000 images updated; 0 images had their bbox overwritten; 0 images not updated\n"
     ]
    }
   ],
   "source": [
    "sequences, images_updated = add_annotations_to_sequences(sequences, image_filename_to_bboxes)"
   ]
  },
  {
   "cell_type": "code",
   "execution_count": 39,
   "metadata": {},
   "outputs": [
    {
     "data": {
      "text/plain": [
       "[{'dataset': 'islandconservation_190705',\n",
       "  'seq_id': 'dummy_islandconservation_190705_1268',\n",
       "  'images': [{'file': 'Ngeruktabel Camera Study/Cam07a/CAM07A083118/Folder 1/RCNX0022.JPG',\n",
       "    'class': ['person'],\n",
       "    'bbox': [{'category': 'person',\n",
       "      'bbox': [0.08307, 0.02226, 0.915, 0.791]}]}]}]"
      ]
     },
     "execution_count": 39,
     "metadata": {},
     "output_type": "execute_result"
    }
   ],
   "source": [
    "sample(sequences, 1)"
   ]
  },
  {
   "cell_type": "code",
   "execution_count": 40,
   "metadata": {},
   "outputs": [
    {
     "name": "stdout",
     "output_type": "stream",
     "text": [
      "Verified that the sequence items meet requirements not captured by the schema.\n",
      "Verified that the sequence items conform to the schema.\n"
     ]
    }
   ],
   "source": [
    "sequences_schema_check.sequences_schema_check(sequences)"
   ]
  },
  {
   "cell_type": "code",
   "execution_count": 41,
   "metadata": {},
   "outputs": [],
   "source": [
    "write_json('/Users/siyuyang/OneDrive - Microsoft/AI4Earth/CameraTrap/Databases/megadb_batches_9_10_11/islandconservation_190705_w_batch_10_boxes.json', sequences)"
   ]
  },
  {
   "cell_type": "markdown",
   "metadata": {},
   "source": [
    "## parkscanada_20190715"
   ]
  },
  {
   "cell_type": "code",
   "execution_count": 5,
   "metadata": {},
   "outputs": [],
   "source": [
    "dataset_name = 'parkscanada_20190715'\n",
    "annotation_path = anno_batch_10"
   ]
  },
  {
   "cell_type": "code",
   "execution_count": 6,
   "metadata": {},
   "outputs": [
    {
     "name": "stderr",
     "output_type": "stream",
     "text": [
      "  4%|▍         | 6775/177122 [00:00<00:05, 33866.19it/s]"
     ]
    },
    {
     "name": "stdout",
     "output_type": "stream",
     "text": [
      "19 files found in directory at annotation_path\n",
      "Number of annotation entries found: 177122\n"
     ]
    },
    {
     "name": "stderr",
     "output_type": "stream",
     "text": [
      "100%|██████████| 177122/177122 [00:05<00:00, 30678.99it/s]\n"
     ]
    },
    {
     "name": "stdout",
     "output_type": "stream",
     "text": [
      "22 boxes on 22 images were in the annotation file(s). 215747 boxes skipped because they are not for the requested dataset\n",
      "\n",
      "Category counts for the bboxes:\n",
      "person: 5\n",
      "vehicle: 17\n"
     ]
    }
   ],
   "source": [
    "image_filename_to_bboxes = extract_annotations(annotation_path, dataset_name)"
   ]
  },
  {
   "cell_type": "code",
   "execution_count": 8,
   "metadata": {},
   "outputs": [],
   "source": [
    "sequences = []\n",
    "count = 0\n",
    "for image_filename, bbox in image_filename_to_bboxes.items():\n",
    "    im_cat = 'empty' if len(bbox) == 0 else bbox[0]['category']\n",
    "    if im_cat == 'animal':\n",
    "        im_cat = 'unidentified'\n",
    "    sequences.append({\n",
    "        'dataset': 'parkscanada_20190715',\n",
    "        'seq_id': 'dummy_' + 'parkscanada_20190715_cars' + '_' + str(count),\n",
    "        'images': [\n",
    "            {\n",
    "                'file': image_filename.replace('~', '/'),\n",
    "                'class': [im_cat]\n",
    "            }\n",
    "        ]\n",
    "    })\n",
    "    \n",
    "    count += 1"
   ]
  },
  {
   "cell_type": "code",
   "execution_count": 10,
   "metadata": {},
   "outputs": [
    {
     "name": "stdout",
     "output_type": "stream",
     "text": [
      "Dataset to which the sequences belong to: parkscanada_20190715. The bboxes should also be for this set.\n",
      "22 images updated; 0 images had their bbox overwritten; 0 images not updated\n"
     ]
    }
   ],
   "source": [
    "sequences, images_updated = add_annotations_to_sequences(sequences, image_filename_to_bboxes)"
   ]
  },
  {
   "cell_type": "code",
   "execution_count": 11,
   "metadata": {},
   "outputs": [
    {
     "name": "stdout",
     "output_type": "stream",
     "text": [
      "Verified that the sequence items meet requirements not captured by the schema.\n",
      "Verified that the sequence items conform to the schema.\n"
     ]
    }
   ],
   "source": [
    "sequences_schema_check.sequences_schema_check(sequences)"
   ]
  },
  {
   "cell_type": "code",
   "execution_count": 12,
   "metadata": {},
   "outputs": [],
   "source": [
    "write_json('/Users/siyuyang/OneDrive - Microsoft/AI4Earth/CameraTrap/Databases/megadb_batches_9_10_11/parkscanada_20190715_w_batch_10_boxes.json', sequences)"
   ]
  },
  {
   "cell_type": "markdown",
   "metadata": {},
   "source": [
    "## bnf_20190624and0815"
   ]
  },
  {
   "cell_type": "code",
   "execution_count": 5,
   "metadata": {},
   "outputs": [],
   "source": [
    "with open('/Users/siyuyang/Source/temp_data/CameraTrap/batch_9_10_11/BNF/BNF_20190624and0815_20190826.json') as f:\n",
    "    bnf_cct = json.load(f)"
   ]
  },
  {
   "cell_type": "code",
   "execution_count": 7,
   "metadata": {},
   "outputs": [
    {
     "name": "stdout",
     "output_type": "stream",
     "text": [
      "Loading image DB...\n",
      "Number of items from the image DB: 25000\n",
      "Number of images with more than 1 species: 0 (0.0% of image DB)\n",
      "No bbox DB provided.\n"
     ]
    }
   ],
   "source": [
    "bnf_embedded = make_cct_embedded(bnf_cct)"
   ]
  },
  {
   "cell_type": "markdown",
   "metadata": {},
   "source": [
    "The BNF data is too messy to put into sequences or locations."
   ]
  },
  {
   "cell_type": "code",
   "execution_count": 18,
   "metadata": {},
   "outputs": [
    {
     "data": {
      "text/plain": [
       "25000"
      ]
     },
     "execution_count": 18,
     "metadata": {},
     "output_type": "execute_result"
    }
   ],
   "source": [
    "len(bnf_embedded)  # only the ones sampled to get bboxes were labeled"
   ]
  },
  {
   "cell_type": "code",
   "execution_count": 19,
   "metadata": {},
   "outputs": [],
   "source": [
    "for e in bnf_embedded:\n",
    "    e['image_id'] = e['id']\n",
    "    del e['id']\n",
    "    \n",
    "    if 'annotations' not in e or 'species' not in e['annotations']:\n",
    "        e['annotations'] = {'species': ['__label_unavailable']}"
   ]
  },
  {
   "cell_type": "code",
   "execution_count": 21,
   "metadata": {},
   "outputs": [
    {
     "data": {
      "text/plain": [
       "[{'file_name': '20190624cameratraps/images/OUTROP CAMERA TRAPS ALL/Camera traps ALL historical data/CAMERA TRAPS 2011/Camera trap locations 2011/KM 4 x Railway/Km4 Railway 19-11-11/Cam 2011-5/CDY_0071.JPG',\n",
       "  'image_id': 15551,\n",
       "  'annotations': {'species': ['__label_unavailable']}},\n",
       " {'file_name': '20190624cameratraps/images/OUTROP CAMERA TRAPS ALL/Camera traps ALL historical data/CAMERA TRAPS 2010/Best of 2010/Best of Agustus/Km 3 Macaque 12-07-2010 (3).JPG',\n",
       "  'annotations': {'species': ['macaque']},\n",
       "  'image_id': 14204}]"
      ]
     },
     "execution_count": 21,
     "metadata": {},
     "output_type": "execute_result"
    }
   ],
   "source": [
    "sample(bnf_embedded, 2)"
   ]
  },
  {
   "cell_type": "markdown",
   "metadata": {},
   "source": [
    "# Make into MegaDB format"
   ]
  },
  {
   "cell_type": "code",
   "execution_count": 22,
   "metadata": {},
   "outputs": [],
   "source": [
    "docs = bnf_embedded"
   ]
  },
  {
   "cell_type": "code",
   "execution_count": 27,
   "metadata": {},
   "outputs": [],
   "source": [
    "dataset_name = 'bnf_20190624and0815'\n",
    "partial_mega_db_path = '/Users/siyuyang/OneDrive - Microsoft/AI4Earth/CameraTrap/Databases/megadb/bnf_20190624and0815.json'\n",
    "annotation_path = anno_batch_11\n",
    "mega_db_with_bbox = '/Users/siyuyang/OneDrive - Microsoft/AI4Earth/CameraTrap/Databases/megadb_batches_9_10_11/bnf_20190624and0815_w_batch_10_boxes.json'"
   ]
  },
  {
   "cell_type": "code",
   "execution_count": 28,
   "metadata": {},
   "outputs": [
    {
     "name": "stdout",
     "output_type": "stream",
     "text": [
      "The dataset_name is set to bnf_20190624and0815. Please make sure this is correct!\n",
      "Making a deep copy of docs...\n",
      "Putting 25000 images into sequences...\n",
      "Number of sequences: 25000\n",
      "Checking the location field...\n",
      "\n",
      "all_img_properties\n",
      "{'image_id', 'file', 'class'}\n",
      "\n",
      "img_level_properties\n",
      "{'image_id', 'file'}\n",
      "\n",
      "image-level properties that really should be sequence-level\n",
      "{'class'}\n",
      "\n",
      "Finished processing sequences.\n",
      "Example sequence items:\n",
      "\n",
      "{'seq_id': 'dummy_8422080bbe14412ebfdb078f149bd5c4', 'dataset': 'bnf_20190624and0815', 'images': [{'image_id': 1907, 'file': '20190624cameratraps/images/OUTROP CAMERA TRAPS ALL/CAMERA TRAPS SABANGAU/CAMERA TRAPS 2008 up to date/KM4 X RAILWAY/Km4 x Railway 2008_11_07/squirrelly, Nov 2008 Km 4 x Railway b.JPG'}], 'class': ['squirrel']}\n",
      "\n",
      "[{'seq_id': 'dummy_501f4568342943d684d46cf46c016d21', 'dataset': 'bnf_20190624and0815', 'images': [{'image_id': 1035, 'file': '20190624cameratraps/images/Kutai 1/Sambar Deer/Cdy00019.JPG'}], 'class': ['sambar deer']}]\n",
      "\n"
     ]
    }
   ],
   "source": [
    "sequences = process_sequences(docs, dataset_name)"
   ]
  },
  {
   "cell_type": "code",
   "execution_count": 29,
   "metadata": {},
   "outputs": [
    {
     "name": "stdout",
     "output_type": "stream",
     "text": [
      "Verified that the sequence items meet requirements not captured by the schema.\n",
      "Verified that the sequence items conform to the schema.\n"
     ]
    }
   ],
   "source": [
    "sequences_schema_check.sequences_schema_check(sequences)"
   ]
  },
  {
   "cell_type": "code",
   "execution_count": 35,
   "metadata": {},
   "outputs": [],
   "source": [
    "# write_json(partial_mega_db_path, sequences)"
   ]
  },
  {
   "cell_type": "code",
   "execution_count": null,
   "metadata": {},
   "outputs": [],
   "source": []
  },
  {
   "cell_type": "markdown",
   "metadata": {},
   "source": [
    "# Add bounding boxes"
   ]
  },
  {
   "cell_type": "code",
   "execution_count": 30,
   "metadata": {},
   "outputs": [
    {
     "name": "stderr",
     "output_type": "stream",
     "text": [
      "  4%|▍         | 963/25000 [00:00<00:04, 4808.24it/s]"
     ]
    },
    {
     "name": "stdout",
     "output_type": "stream",
     "text": [
      "3 files found in directory at annotation_path\n",
      "Number of annotation entries found: 25000\n"
     ]
    },
    {
     "name": "stderr",
     "output_type": "stream",
     "text": [
      "100%|██████████| 25000/25000 [00:04<00:00, 5046.70it/s]"
     ]
    },
    {
     "name": "stdout",
     "output_type": "stream",
     "text": [
      "21796 boxes on 25000 images were in the annotation file(s). 0 boxes skipped because they are not for the requested dataset\n",
      "\n",
      "Category counts for the bboxes:\n",
      "animal: 18513\n",
      "person: 3281\n",
      "vehicle: 2\n"
     ]
    },
    {
     "name": "stderr",
     "output_type": "stream",
     "text": [
      "\n"
     ]
    }
   ],
   "source": [
    "image_filename_to_bboxes = extract_annotations(annotation_path, dataset_name)"
   ]
  },
  {
   "cell_type": "code",
   "execution_count": 34,
   "metadata": {},
   "outputs": [
    {
     "name": "stdout",
     "output_type": "stream",
     "text": [
      "Dataset to which the sequences belong to: bnf_20190624and0815. The bboxes should also be for this set.\n",
      "25000 images updated; 0 images had their bbox overwritten; 0 images not updated\n"
     ]
    }
   ],
   "source": [
    "sequences, images_updated = add_annotations_to_sequences(sequences, image_filename_to_bboxes, im_id_map_func=bnf_image_filename_map_func)"
   ]
  },
  {
   "cell_type": "code",
   "execution_count": 35,
   "metadata": {
    "scrolled": false
   },
   "outputs": [
    {
     "data": {
      "text/plain": [
       "[OrderedDict([('dataset', 'bnf_20190624and0815'),\n",
       "              ('seq_id', 'dummy_a6f837ef549046de98ea53248b47f852'),\n",
       "              ('images',\n",
       "               [{'image_id': 7346,\n",
       "                 'file': '20190624cameratraps/images/OUTROP CAMERA TRAPS ALL/CAMERA TRAPS SABANGAU/CAMERA TRAPS 2012/Camera Trap Locations 2012/T0 x TC/T0 x TC 09-05-12/Cam N1/T0 x TC Pig-t-Macaqus (13).JPG',\n",
       "                 'bbox': [{'category': 'animal',\n",
       "                   'bbox': [0.5659, 0.2849, 0.1826, 0.2559]}]}]),\n",
       "              ('class', ['pig'])]),\n",
       " OrderedDict([('dataset', 'bnf_20190624and0815'),\n",
       "              ('seq_id', 'dummy_085bbb92f167441ea390bfde8d902896'),\n",
       "              ('images',\n",
       "               [{'image_id': 7146,\n",
       "                 'file': '20190624cameratraps/images/OUTROP CAMERA TRAPS ALL/CAMERA TRAPS SABANGAU/CAMERA TRAPS 2012/Camera Trap Locations 2012/T 1A x TD/T 1A x TD 17-07-2012/CAm 2011-14/T 1A x TD Sun Bear.JPG',\n",
       "                 'bbox': [{'category': 'animal',\n",
       "                   'bbox': [0.1217, 0.4541, 0.8766, 0.5117]}]}]),\n",
       "              ('class', ['sun bear'])])]"
      ]
     },
     "execution_count": 35,
     "metadata": {},
     "output_type": "execute_result"
    }
   ],
   "source": [
    "sample(sequences, 2)"
   ]
  },
  {
   "cell_type": "code",
   "execution_count": 36,
   "metadata": {},
   "outputs": [],
   "source": [
    "write_json(mega_db_with_bbox, sequences)"
   ]
  },
  {
   "cell_type": "code",
   "execution_count": null,
   "metadata": {},
   "outputs": [],
   "source": []
  }
 ],
 "metadata": {
  "kernelspec": {
   "display_name": "Python [conda env:cameratraps] *",
   "language": "python",
   "name": "conda-env-cameratraps-py"
  },
  "language_info": {
   "codemirror_mode": {
    "name": "ipython",
    "version": 3
   },
   "file_extension": ".py",
   "mimetype": "text/x-python",
   "name": "python",
   "nbconvert_exporter": "python",
   "pygments_lexer": "ipython3",
   "version": "3.6.9"
  }
 },
 "nbformat": 4,
 "nbformat_minor": 2
}
