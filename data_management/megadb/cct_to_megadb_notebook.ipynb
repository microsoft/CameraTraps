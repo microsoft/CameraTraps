{
 "cells": [
  {
   "cell_type": "code",
   "execution_count": 1,
   "metadata": {},
   "outputs": [],
   "source": [
    "from IPython.core.interactiveshell import InteractiveShell\n",
    "InteractiveShell.ast_node_interactivity = 'all'  # default is ‘last_expr’\n",
    "\n",
    "%load_ext autoreload\n",
    "%autoreload 2"
   ]
  },
  {
   "cell_type": "code",
   "execution_count": 2,
   "metadata": {},
   "outputs": [],
   "source": [
    "import sys\n",
    "sys.path.append('/Users/siyuyang/Source/repos/GitHub_MSFT/CameraTraps')"
   ]
  },
  {
   "cell_type": "code",
   "execution_count": 3,
   "metadata": {},
   "outputs": [],
   "source": [
    "import os\n",
    "import json\n",
    "from random import sample\n",
    "\n",
    "import cct_to_megadb\n",
    "from data_management.megadb import sequences_schema_check"
   ]
  },
  {
   "cell_type": "code",
   "execution_count": null,
   "metadata": {},
   "outputs": [],
   "source": []
  },
  {
   "cell_type": "code",
   "execution_count": 4,
   "metadata": {},
   "outputs": [],
   "source": [
    "out_dir = '/Users/siyuyang/OneDrive - Microsoft/AI4Earth/CameraTrap/Databases/megadb'"
   ]
  },
  {
   "cell_type": "markdown",
   "metadata": {},
   "source": [
    "## Peace Parks"
   ]
  },
  {
   "cell_type": "code",
   "execution_count": 100,
   "metadata": {},
   "outputs": [
    {
     "data": {
      "text/plain": [
       "4291"
      ]
     },
     "execution_count": 100,
     "metadata": {},
     "output_type": "execute_result"
    },
    {
     "data": {
      "text/plain": [
       "[{'annotations': {'species': ['human']},\n",
       "  'dataset': 'peaceparks_201908_humans',\n",
       "  'datetime': '2019:06:26 17:35:38',\n",
       "  'file_name': 'Night/1/IMAG0091.JPG',\n",
       "  'height': 2448,\n",
       "  'image_id': 'Night~1~IMAG0091',\n",
       "  'location': '1',\n",
       "  'width': 3264}]"
      ]
     },
     "execution_count": 100,
     "metadata": {},
     "output_type": "execute_result"
    },
    {
     "name": "stdout",
     "output_type": "stream",
     "text": [
      "Putting into sequences... The docs object passed in will be altered.\n",
      "4291\n",
      "{'seq_id': 'dummy_e4d9e2156a004906a4c0bd88a3a415f9', 'images': [{'location': '10', 'class': ['human'], 'dataset': 'peaceparks_201908_humans', 'file': 'Day/1/IMAG0184 (10).JPG', 'datetime': '2019:06:27 14:14:08', 'image_id': 'Day~1~IMAG0184 (10)'}], 'dataset': 'peaceparks_201908_humans'}\n",
      "Checking the location field...\n",
      "all_img_properties\n",
      "{'location', 'class', 'file', 'datetime', 'dataset', 'image_id'}\n",
      "img_level_properties\n",
      "{'image_id', 'file'}\n",
      "image-level properties that really should be sequence-level\n",
      "{'location', 'class', 'dataset', 'datetime'}\n",
      "Finished processing sequences.\n"
     ]
    }
   ],
   "source": [
    "with open('/Users/siyuyang/OneDrive - Microsoft/AI4Earth/CameraTrap/Databases/cosmos/peaceparks_201908_humans_20190812_embedded.json') as f:\n",
    "    peace_parks = json.load(f)\n",
    "len(peace_parks)\n",
    "sample(peace_parks, 1)\n",
    "\n",
    "peace_parks_sequences = cct_to_megadb.process_sequences(peace_parks, 'peaceparks_201908_humans')"
   ]
  },
  {
   "cell_type": "code",
   "execution_count": 94,
   "metadata": {},
   "outputs": [
    {
     "data": {
      "text/plain": [
       "4291"
      ]
     },
     "execution_count": 94,
     "metadata": {},
     "output_type": "execute_result"
    },
    {
     "data": {
      "text/plain": [
       "[{'class': ['human'],\n",
       "  'dataset': 'peaceparks_201908_humans',\n",
       "  'datetime': '2019:06:26 10:19:28',\n",
       "  'images': [{'file': 'Day/2/IMAG0004 (14).JPG',\n",
       "    'image_id': 'Day~2~IMAG0004 (14)'}],\n",
       "  'location': '14',\n",
       "  'seq_id': 'dummy_bf9fc23b6e664093ab98a1d76e304a3f'},\n",
       " {'class': ['human'],\n",
       "  'dataset': 'peaceparks_201908_humans',\n",
       "  'datetime': '2019:06:27 14:40:38',\n",
       "  'images': [{'file': 'Day/1/IMAG0152 (12).JPG',\n",
       "    'image_id': 'Day~1~IMAG0152 (12)'}],\n",
       "  'location': '12',\n",
       "  'seq_id': 'dummy_652df72e43e84a00a567da00f4a4e340'}]"
      ]
     },
     "execution_count": 94,
     "metadata": {},
     "output_type": "execute_result"
    }
   ],
   "source": [
    "len(peace_parks_sequences)\n",
    "json.loads(json.dumps(sample(peace_parks_sequences, 2)))"
   ]
  },
  {
   "cell_type": "code",
   "execution_count": 101,
   "metadata": {},
   "outputs": [
    {
     "name": "stdout",
     "output_type": "stream",
     "text": [
      "Verified that the sequence items conform to the schema.\n",
      "Verified that the sequence items meet the additional requirements.\n"
     ]
    }
   ],
   "source": [
    "sequences_schema_check.sequences_schema_check(peace_parks_sequences)"
   ]
  },
  {
   "cell_type": "code",
   "execution_count": 96,
   "metadata": {},
   "outputs": [],
   "source": [
    "with open(os.path.join(out_dir, 'peaceparks_201908_humans.json'), 'w') as f:\n",
    "    json.dump(peace_parks_sequences, f)"
   ]
  },
  {
   "cell_type": "code",
   "execution_count": null,
   "metadata": {},
   "outputs": [],
   "source": []
  },
  {
   "cell_type": "markdown",
   "metadata": {},
   "source": [
    "## WPS"
   ]
  },
  {
   "cell_type": "code",
   "execution_count": 49,
   "metadata": {},
   "outputs": [],
   "source": [
    "with open('/Users/siyuyang/OneDrive - Microsoft/AI4Earth/CameraTrap/Databases/cosmos/wps_190624_20190813_embedded.json') as f:\n",
    "    wps = json.load(f)"
   ]
  },
  {
   "cell_type": "code",
   "execution_count": 50,
   "metadata": {},
   "outputs": [
    {
     "data": {
      "text/plain": [
       "88489"
      ]
     },
     "execution_count": 50,
     "metadata": {},
     "output_type": "execute_result"
    },
    {
     "data": {
      "text/plain": [
       "[{'annotations': {'species': ['human']},\n",
       "  'dataset': 'wps_190624',\n",
       "  'file_name': '6ffe01ff-68ea-4302-9e53-7c5e26a809af.jpg',\n",
       "  'image_id': '6ffe01ff-68ea-4302-9e53-7c5e26a809af'}]"
      ]
     },
     "execution_count": 50,
     "metadata": {},
     "output_type": "execute_result"
    }
   ],
   "source": [
    "len(wps)\n",
    "sample(wps, 1)"
   ]
  },
  {
   "cell_type": "code",
   "execution_count": 52,
   "metadata": {},
   "outputs": [
    {
     "name": "stdout",
     "output_type": "stream",
     "text": [
      "Putting into sequences...\n",
      "88489\n",
      "{'seq_id': 'dummy_983f423d7b534cca96dd33b13e54495c', 'images': [{'image_id': '3d088ed6-ec63-4e63-ab6d-0c11c03980b1', 'class': ['human'], 'dataset': 'wps_190624', 'file': '3d088ed6-ec63-4e63-ab6d-0c11c03980b1.jpg'}], 'dataset': 'wps_190624'}\n",
      "Checking the location field...\n",
      "all_img_properties\n",
      "{'image_id', 'class', 'dataset', 'file'}\n",
      "img_level_properties\n",
      "{'image_id', 'file'}\n",
      "image-level properties that really should be sequence-level\n",
      "{'class', 'dataset'}\n",
      "Finished processing sequences.\n"
     ]
    }
   ],
   "source": [
    "wps_sequences = cct_to_megadb.process_sequences(wps, 'wps_190624')"
   ]
  },
  {
   "cell_type": "code",
   "execution_count": 53,
   "metadata": {},
   "outputs": [
    {
     "data": {
      "text/plain": [
       "88489"
      ]
     },
     "execution_count": 53,
     "metadata": {},
     "output_type": "execute_result"
    }
   ],
   "source": [
    "len(wps_sequences)"
   ]
  },
  {
   "cell_type": "code",
   "execution_count": 54,
   "metadata": {},
   "outputs": [
    {
     "data": {
      "text/plain": [
       "[{'class': ['human'],\n",
       "  'dataset': 'wps_190624',\n",
       "  'images': [{'file': 'e617fcd1-0319-4f59-81c1-a64a618ad9f2.jpg',\n",
       "    'image_id': 'e617fcd1-0319-4f59-81c1-a64a618ad9f2'}],\n",
       "  'seq_id': 'dummy_7127347f80324527a16a185fc3fb3668'},\n",
       " {'class': ['human'],\n",
       "  'dataset': 'wps_190624',\n",
       "  'images': [{'file': '1ee92c3b-444b-47fd-9704-c4fa6142754d.jpg',\n",
       "    'image_id': '1ee92c3b-444b-47fd-9704-c4fa6142754d'}],\n",
       "  'seq_id': 'dummy_3816b417f6ac4fe2a049f84907755e7d'},\n",
       " {'class': ['human'],\n",
       "  'dataset': 'wps_190624',\n",
       "  'images': [{'file': '4b515940-2abc-4ba2-9559-3394d4b0bbc8.jpg',\n",
       "    'image_id': '4b515940-2abc-4ba2-9559-3394d4b0bbc8'}],\n",
       "  'seq_id': 'dummy_c05a8a92f72f47de9d381fe4352d22cb'},\n",
       " {'class': ['human'],\n",
       "  'dataset': 'wps_190624',\n",
       "  'images': [{'file': '7dcf1871-b8a4-4317-8144-a760162bb7f7.jpg',\n",
       "    'image_id': '7dcf1871-b8a4-4317-8144-a760162bb7f7'}],\n",
       "  'seq_id': 'dummy_64d38c34d6224eada9ca9229d7d23b6e'}]"
      ]
     },
     "execution_count": 54,
     "metadata": {},
     "output_type": "execute_result"
    }
   ],
   "source": [
    "json.loads(json.dumps(sample(wps_sequences, 4)))"
   ]
  },
  {
   "cell_type": "code",
   "execution_count": 55,
   "metadata": {},
   "outputs": [
    {
     "name": "stdout",
     "output_type": "stream",
     "text": [
      "Verified that the sequence items conform to the schema.\n",
      "Verified that the sequence items meet the additional requirements.\n"
     ]
    }
   ],
   "source": [
    "sequences_schema_check.sequences_schema_check(wps_sequences)"
   ]
  },
  {
   "cell_type": "code",
   "execution_count": 92,
   "metadata": {},
   "outputs": [],
   "source": [
    "with open(os.path.join(out_dir, 'wps_190624.json'), 'w') as f:\n",
    "    json.dump(wps_sequences, f)"
   ]
  },
  {
   "cell_type": "code",
   "execution_count": null,
   "metadata": {},
   "outputs": [],
   "source": []
  },
  {
   "cell_type": "markdown",
   "metadata": {},
   "source": [
    "## Caltech - I don't think this version incorporates the unlabeled_animal fix from Sara"
   ]
  },
  {
   "cell_type": "code",
   "execution_count": 84,
   "metadata": {},
   "outputs": [],
   "source": [
    "with open('/Users/siyuyang/OneDrive - Microsoft/AI4Earth/CameraTrap/Databases/cosmos/caltech_20190409_embedded.json') as f:\n",
    "    caltech = json.load(f)"
   ]
  },
  {
   "cell_type": "code",
   "execution_count": 85,
   "metadata": {},
   "outputs": [
    {
     "data": {
      "text/plain": [
       "244494"
      ]
     },
     "execution_count": 85,
     "metadata": {},
     "output_type": "execute_result"
    },
    {
     "data": {
      "text/plain": [
       "[{'annotations': {'species': ['empty']},\n",
       "  'dataset': 'caltech',\n",
       "  'datetime': '2013-10-01 09:24:54',\n",
       "  'file_name': '5a02f92c-23d2-11e8-a6a3-ec086b02610b.jpg',\n",
       "  'frame_num': 1,\n",
       "  'height': 1494,\n",
       "  'image_id': '5a02f92c-23d2-11e8-a6a3-ec086b02610b',\n",
       "  'location': 23,\n",
       "  'rights_holder': 'Erin Boydston',\n",
       "  'seq_id': '6fde31e8-5567-11e8-9b53-dca9047ef277',\n",
       "  'seq_num_frames': 1,\n",
       "  'width': 2048}]"
      ]
     },
     "execution_count": 85,
     "metadata": {},
     "output_type": "execute_result"
    }
   ],
   "source": [
    "len(caltech)\n",
    "sample(caltech, 1)"
   ]
  },
  {
   "cell_type": "code",
   "execution_count": 86,
   "metadata": {},
   "outputs": [
    {
     "name": "stdout",
     "output_type": "stream",
     "text": [
      "Putting into sequences... The docs object passed in will be altered.\n",
      "181122\n",
      "{'seq_id': '6f5d8191-5567-11e8-98bb-dca9047ef277', 'images': [{'frame_num': 1, 'rights_holder': 'Erin Boydston', 'location': 76, 'class': ['unlabeled_animal'], 'file': '58fd7dbe-23d2-11e8-a6a3-ec086b02610b.jpg', 'datetime': '2014-05-01 07:47:04', 'image_id': '58fd7dbe-23d2-11e8-a6a3-ec086b02610b', 'dataset': 'caltech'}], 'dataset': 'caltech'}\n",
      "Checking the location field...\n",
      "all_img_properties\n",
      "{'frame_num', 'rights_holder', 'location', 'class', 'file', 'datetime', 'dataset', 'image_id', 'bbox'}\n",
      "img_level_properties\n",
      "{'frame_num', 'class', 'file', 'datetime', 'image_id', 'bbox'}\n",
      "image-level properties that really should be sequence-level\n",
      "{'rights_holder', 'location', 'dataset'}\n",
      "Finished processing sequences.\n"
     ]
    }
   ],
   "source": [
    "caltech_sequences = cct_to_megadb.process_sequences(caltech, 'caltech')"
   ]
  },
  {
   "cell_type": "code",
   "execution_count": 87,
   "metadata": {},
   "outputs": [],
   "source": [
    "# find sequences where the frame_num are not unique\n",
    "non_uniques = []\n",
    "for seq in caltech_sequences:\n",
    "    frame_numbers = set()\n",
    "    for im in seq['images']:\n",
    "        frame_numbers.add(im['frame_num'])\n",
    "    if len(frame_numbers) < len(seq['images']):\n",
    "        non_uniques.append(seq['seq_id'])"
   ]
  },
  {
   "cell_type": "code",
   "execution_count": null,
   "metadata": {},
   "outputs": [],
   "source": [
    "# need to find the one where I deleted an entry"
   ]
  },
  {
   "cell_type": "code",
   "execution_count": 83,
   "metadata": {},
   "outputs": [
    {
     "data": {
      "text/plain": [
       "['70149030-5567-11e8-ac70-dca9047ef277',\n",
       " '70156802-5567-11e8-83ad-dca9047ef277',\n",
       " '701203b8-5567-11e8-b0c7-dca9047ef277',\n",
       " '7014ec9c-5567-11e8-86ca-dca9047ef277',\n",
       " '70146eab-5567-11e8-854f-dca9047ef277',\n",
       " '70120e59-5567-11e8-a4b1-dca9047ef277',\n",
       " '70154097-5567-11e8-ae6c-dca9047ef277',\n",
       " '7015d8d1-5567-11e8-8072-dca9047ef277',\n",
       " '7010e4ee-5567-11e8-a061-dca9047ef277',\n",
       " '7014e075-5567-11e8-88eb-dca9047ef277',\n",
       " '7014adfd-5567-11e8-9227-dca9047ef277',\n",
       " '7016385e-5567-11e8-b5e4-dca9047ef277',\n",
       " '70122033-5567-11e8-8b79-dca9047ef277',\n",
       " '701379c0-5567-11e8-b4bc-dca9047ef277',\n",
       " '7011f919-5567-11e8-8c1e-dca9047ef277',\n",
       " '7014a4cf-5567-11e8-82f2-dca9047ef277',\n",
       " '7011498c-5567-11e8-8a0a-dca9047ef277',\n",
       " '701cab8a-5567-11e8-90b7-dca9047ef277',\n",
       " '70163b19-5567-11e8-8230-dca9047ef277',\n",
       " '70166de1-5567-11e8-9efd-dca9047ef277',\n",
       " '70124f1e-5567-11e8-a223-dca9047ef277',\n",
       " '701e161c-5567-11e8-90db-dca9047ef277',\n",
       " '701b0707-5567-11e8-8bd5-dca9047ef277',\n",
       " '701079d1-5567-11e8-a9c4-dca9047ef277',\n",
       " '7014dd9c-5567-11e8-bb72-dca9047ef277',\n",
       " '701d67f8-5567-11e8-955c-dca9047ef277',\n",
       " '70149421-5567-11e8-892e-dca9047ef277',\n",
       " '70120dcc-5567-11e8-9939-dca9047ef277',\n",
       " '70147b35-5567-11e8-b929-dca9047ef277',\n",
       " '701a9d7a-5567-11e8-b044-dca9047ef277',\n",
       " '70120717-5567-11e8-815a-dca9047ef277',\n",
       " '7010eed9-5567-11e8-b71e-dca9047ef277',\n",
       " '70121a07-5567-11e8-8150-dca9047ef277',\n",
       " '701e24f5-5567-11e8-b610-dca9047ef277',\n",
       " '7014eaf8-5567-11e8-a8ba-dca9047ef277',\n",
       " '701e427d-5567-11e8-9481-dca9047ef277',\n",
       " '70121685-5567-11e8-a903-dca9047ef277',\n",
       " '70152cab-5567-11e8-a23d-dca9047ef277',\n",
       " '701a9f82-5567-11e8-813f-dca9047ef277',\n",
       " '701a9e94-5567-11e8-89de-dca9047ef277',\n",
       " '701e378f-5567-11e8-b1fb-dca9047ef277']"
      ]
     },
     "execution_count": 83,
     "metadata": {},
     "output_type": "execute_result"
    }
   ],
   "source": [
    "non_uniques"
   ]
  },
  {
   "cell_type": "code",
   "execution_count": 88,
   "metadata": {},
   "outputs": [
    {
     "name": "stdout",
     "output_type": "stream",
     "text": [
      "Verified that the sequence items conform to the schema.\n",
      "Verified that the sequence items meet the additional requirements.\n"
     ]
    }
   ],
   "source": [
    "sequences_schema_check.sequences_schema_check(caltech_sequences)"
   ]
  },
  {
   "cell_type": "code",
   "execution_count": 89,
   "metadata": {
    "scrolled": false
   },
   "outputs": [
    {
     "data": {
      "text/plain": [
       "[{'dataset': 'caltech',\n",
       "  'images': [{'class': ['empty'],\n",
       "    'datetime': '2014-05-11 11:17:16',\n",
       "    'file': '591fd351-23d2-11e8-a6a3-ec086b02610b.jpg',\n",
       "    'frame_num': 1,\n",
       "    'image_id': '591fd351-23d2-11e8-a6a3-ec086b02610b'}],\n",
       "  'location': 96,\n",
       "  'rights_holder': 'Erin Boydston',\n",
       "  'seq_id': '6fa84c35-5567-11e8-aff1-dca9047ef277'},\n",
       " {'dataset': 'caltech',\n",
       "  'images': [{'class': ['empty'],\n",
       "    'datetime': '2013-09-27 02:04:33',\n",
       "    'file': '59d5b798-23d2-11e8-a6a3-ec086b02610b.jpg',\n",
       "    'frame_num': 1,\n",
       "    'image_id': '59d5b798-23d2-11e8-a6a3-ec086b02610b'}],\n",
       "  'location': 57,\n",
       "  'rights_holder': 'Erin Boydston',\n",
       "  'seq_id': '6f7c6d28-5567-11e8-b167-dca9047ef277'}]"
      ]
     },
     "execution_count": 89,
     "metadata": {},
     "output_type": "execute_result"
    }
   ],
   "source": [
    "json.loads(json.dumps(sample(caltech_sequences, 2)))"
   ]
  },
  {
   "cell_type": "code",
   "execution_count": 91,
   "metadata": {},
   "outputs": [],
   "source": [
    "with open(os.path.join(out_dir, 'caltech.json'), 'w') as f:\n",
    "    json.dump(caltech_sequences, f)"
   ]
  },
  {
   "cell_type": "code",
   "execution_count": null,
   "metadata": {},
   "outputs": [],
   "source": []
  },
  {
   "cell_type": "markdown",
   "metadata": {},
   "source": [
    "## ZSL\n",
    "\n",
    "Not yet in embedded version, in CCT version still"
   ]
  },
  {
   "cell_type": "code",
   "execution_count": 57,
   "metadata": {},
   "outputs": [],
   "source": [
    "with open('/Users/siyuyang/Source/temp_data/CameraTrap/batch_9_10_11/zsl_camera_traps_201906.json') as f:\n",
    "    zsl_cct = json.load(f)"
   ]
  },
  {
   "cell_type": "code",
   "execution_count": 58,
   "metadata": {},
   "outputs": [
    {
     "name": "stdout",
     "output_type": "stream",
     "text": [
      "Loading image DB...\n",
      "Number of items from the image DB: 504310\n",
      "Number of images with more than 1 species: 829 (0.16% of image DB)\n",
      "No bbox DB provided.\n"
     ]
    }
   ],
   "source": [
    "zsl_cct_embedded = cct_to_megadb.make_cct_embedded(image_db=zsl_cct)"
   ]
  },
  {
   "cell_type": "code",
   "execution_count": 59,
   "metadata": {},
   "outputs": [
    {
     "data": {
      "text/plain": [
       "504310"
      ]
     },
     "execution_count": 59,
     "metadata": {},
     "output_type": "execute_result"
    }
   ],
   "source": [
    "len(zsl_cct_embedded)"
   ]
  },
  {
   "cell_type": "markdown",
   "metadata": {},
   "source": [
    "There are four files that are .swp or .tmp files - don't include these."
   ]
  },
  {
   "cell_type": "code",
   "execution_count": 60,
   "metadata": {},
   "outputs": [
    {
     "data": {
      "text/plain": [
       "504306"
      ]
     },
     "execution_count": 60,
     "metadata": {},
     "output_type": "execute_result"
    }
   ],
   "source": [
    "filtered_embedded = []\n",
    "\n",
    "for im in zsl_cct_embedded:\n",
    "    if im['file_path'].lower().endswith('.jpg'):\n",
    "        filtered_embedded.append(im)\n",
    "len(filtered_embedded)\n",
    "zsl_cct_embedded = filtered_embedded"
   ]
  },
  {
   "cell_type": "code",
   "execution_count": null,
   "metadata": {},
   "outputs": [],
   "source": [
    "import uuid\n",
    "from collections import defaultdict\n",
    "\n",
    "seq_with_diff_loc = []\n",
    "\n",
    "\n",
    "dataset_name = 'zsl_borneo'\n",
    "\n",
    "# some property names have changed in the new schema\n",
    "old_to_new_prop_name_mapping = {\n",
    "    'file_name': 'file'\n",
    "}\n",
    "\n",
    "print('Putting into sequences... The docs object passed in will be altered.')\n",
    "img_level_properties = set()\n",
    "sequences = defaultdict(list)\n",
    "\n",
    "for im in zsl_cct_embedded:\n",
    "    if 'seq_id' in im:\n",
    "        seq_id = im['seq_id']\n",
    "        del im['seq_id']\n",
    "    else:\n",
    "        seq_id = 'dummy_' + uuid.uuid4().hex  # if this will be sent for annotation, may need a sequence ID based on file name to group potential sequences together\n",
    "        img_level_properties.add('file')\n",
    "        img_level_properties.add('image_id')\n",
    "\n",
    "    for old_name, new_name in old_to_new_prop_name_mapping.items():\n",
    "        if old_name in im:\n",
    "            im[new_name] = im[old_name]\n",
    "            del im[old_name]\n",
    "\n",
    "    for obsolete_prop in ['seq_num_frames', 'width', 'height']:\n",
    "        if obsolete_prop in im:\n",
    "            del im[obsolete_prop]\n",
    "\n",
    "    if 'annotations' in im:\n",
    "        for prop, prop_val in im['annotations'].items():\n",
    "            im[prop] = prop_val\n",
    "            if prop == 'bbox':\n",
    "                for bbox_item in im['bbox']:\n",
    "                    if 'bbox_rel' not in bbox_item:\n",
    "                        print('Missing relative coordinates for bbox! Exiting...')\n",
    "                        print(im)\n",
    "                        sys.exit(1)\n",
    "                    else:\n",
    "                        bbox_item['bbox'] = bbox_item['bbox_rel']\n",
    "                        del bbox_item['bbox_rel']\n",
    "\n",
    "                        if 'bbox_abs' in bbox_item:\n",
    "                            del bbox_item['bbox_abs']\n",
    "\n",
    "            if prop == 'species':\n",
    "                im['class'] = im['species']\n",
    "                del im['species']\n",
    "\n",
    "        del im['annotations']\n",
    "\n",
    "    sequences[seq_id].append(im)\n",
    "\n",
    "new_sequences = []\n",
    "for seq_id, images in sequences.items():\n",
    "    new_sequences.append({\n",
    "        'seq_id': seq_id,\n",
    "        'dataset': dataset_name,\n",
    "        'images': images\n",
    "    })\n",
    "\n",
    "sequences = new_sequences\n",
    "print(len(sequences))\n",
    "print(sequences[100])\n",
    "\n",
    "# check that the location field is the same for all images in a sequence\n",
    "print('Checking the location field...')\n",
    "for seq in sequences:\n",
    "    locations = []\n",
    "    for im in seq['images']:\n",
    "        locations.append(im.get('location', ''))  # empty string if no location provided\n",
    "    #assert len(set(locations)) == 1, 'Location fields in images of the sequence {} are different.'.format(seq['seq_id'])\n",
    "    if len(set(locations)) != 1:\n",
    "        seq_with_diff_loc.append(seq)"
   ]
  },
  {
   "cell_type": "code",
   "execution_count": 18,
   "metadata": {},
   "outputs": [
    {
     "data": {
      "text/plain": [
       "798"
      ]
     },
     "execution_count": 18,
     "metadata": {},
     "output_type": "execute_result"
    }
   ],
   "source": [
    "len(seq_with_diff_loc)"
   ]
  },
  {
   "cell_type": "code",
   "execution_count": 10,
   "metadata": {
    "scrolled": false
   },
   "outputs": [],
   "source": [
    "correct_loc = {}\n",
    "for seq in seq_with_diff_loc:\n",
    "    correct_loc[seq['seq_id']] = seq['images'][0]['file_path'].split('/')[2].split(' ')[0]"
   ]
  },
  {
   "cell_type": "markdown",
   "metadata": {},
   "source": [
    "Now run the first two cells in the ZSL section again to reload original CCT file"
   ]
  },
  {
   "cell_type": "code",
   "execution_count": 61,
   "metadata": {},
   "outputs": [],
   "source": [
    "# Some images in the same sequence had different locations because:\n",
    "# 'VJRS-1-1' vs 'VJRS-1-1 (1)'\n",
    "# OP3-N-39 Calibration vs OP3-N-39\n",
    "\n",
    "for im in zsl_cct_embedded:\n",
    "    if ' ' in im['location']:\n",
    "        new_loc = im['location'].split(' ')[0]\n",
    "        #print('1 - replacing {} with {}'.format(im['location'], new_loc))\n",
    "        im['location'] = new_loc\n",
    "    if im['seq_id'] in correct_loc:\n",
    "        #print('2 - replacing {} with {}'.format(im['location'], correct_loc[im['seq_id']]))\n",
    "        im['location'] = correct_loc[im['seq_id']]"
   ]
  },
  {
   "cell_type": "code",
   "execution_count": 62,
   "metadata": {
    "scrolled": false
   },
   "outputs": [
    {
     "name": "stdout",
     "output_type": "stream",
     "text": [
      "Putting 504306 images into sequences... The docs object (first argument) passed in will be altered!\n",
      "Number of sequences: 53784\n",
      "Checking the location field...\n",
      "\n",
      "all_img_properties\n",
      "{'primary_number_of_individuals', 'excluded_from_analysis', 'primary_group_primary_image', 'secondary_group_primary image', 'class', 'tertiary_new contact', 'movement_moving_stationary', 'time_period_night_day', 'behaviour', 'secondary_new contact', 'non_target', 'secondary_sex', 'aware_of_camera', 'secondary_primary image', 'id', 'file', 'observer', 'secondary_distinguishing_characteristics', 'tertiary_group', 'file_path', 'rights_holder', 'primary_sex', 'location', 'secondary_group_new contact', 'off_ground', 'primary_spooked', 'datetime', 'secondary_group', 'tertiary_group_new contact', 'frame_num', 'lighting', 'primary_group', 'primary_new_contact', 'primary_group_new_contact', 'original_set_id', 'multiple_species', 'prominence', 'primary_primary_image', 'primary_age', 'secondary_uncertainties', 'tertiary_group_primary image', 'primary_species', 'original_set_total', 'primary_uncertainties', 'distinguishing_characteristics', 'image_problem', 'tertiary_species', 'secondary_species', 'tertiary_primary image', 'original_set_index'}\n",
      "\n",
      "img_level_properties\n",
      "{'primary_number_of_individuals', 'excluded_from_analysis', 'primary_group_primary_image', 'secondary_group_primary image', 'class', 'movement_moving_stationary', 'tertiary_new contact', 'time_period_night_day', 'behaviour', 'secondary_new contact', 'non_target', 'secondary_sex', 'aware_of_camera', 'secondary_primary image', 'id', 'file', 'observer', 'secondary_distinguishing_characteristics', 'tertiary_group', 'file_path', 'primary_sex', 'secondary_group_new contact', 'off_ground', 'primary_spooked', 'datetime', 'secondary_group', 'tertiary_group_new contact', 'frame_num', 'lighting', 'primary_group', 'primary_new_contact', 'primary_group_new_contact', 'multiple_species', 'primary_primary_image', 'prominence', 'primary_age', 'secondary_uncertainties', 'tertiary_group_primary image', 'primary_species', 'original_set_total', 'primary_uncertainties', 'distinguishing_characteristics', 'image_problem', 'tertiary_species', 'secondary_species', 'tertiary_primary image', 'original_set_index'}\n",
      "\n",
      "image-level properties that really should be sequence-level\n",
      "{'original_set_id', 'rights_holder', 'location'}\n",
      "\n",
      "! Sequence-level property rights_holder with value Oliver Wearne should be a dataset-level property. Removed from sequences.\n",
      "Finished processing sequences.\n",
      "Example sequence items:\n",
      "\n",
      "{'seq_id': '0', 'dataset': 'zsl_borneo', 'images': [{'file': 'Maliau/Maliau_3/OG1-W-8/20120421-190058(14)10 of 10.jpg', 'file_path': 'Maliau/Maliau_3/OG1-W-8/20120421-190058(14)10 of 10.jpg', 'class': ['banded civet'], 'original_set_total': 10, 'prominence': 1, 'datetime': '2012-04-21T19:00:58', 'frame_num': 10, 'id': '3b6a063b-9910-11e9-98e8-1c872c5fa89b', 'original_set_index': 10, 'primary_species': 'Banded civet'}, {'file': 'Maliau/Maliau_3/OG1-W-8/20120421-190052(14)1 of 10.jpg', 'file_path': 'Maliau/Maliau_3/OG1-W-8/20120421-190052(14)1 of 10.jpg', 'primary_species': 'Banded civet', 'primary_new_contact': 'New Contact', 'class': ['banded civet'], 'original_set_total': 10, 'prominence': 1, 'datetime': '2012-04-21T19:00:52', 'frame_num': 1, 'id': '3b6a06ba-9910-11e9-98e8-1c872c5fa89b', 'original_set_index': 1}, {'file': 'Maliau/Maliau_3/OG1-W-8/20120421-190054(14)4 of 10.jpg', 'file_path': 'Maliau/Maliau_3/OG1-W-8/20120421-190054(14)4 of 10.jpg', 'class': ['banded civet'], 'original_set_total': 10, 'prominence': 1, 'datetime': '2012-04-21T19:00:54', 'frame_num': 4, 'id': '3b6a05de-9910-11e9-98e8-1c872c5fa89b', 'original_set_index': 4, 'primary_species': 'Banded civet'}, {'file': 'Maliau/Maliau_3/OG1-W-8/20120421-190055(14)6 of 10.jpg', 'file_path': 'Maliau/Maliau_3/OG1-W-8/20120421-190055(14)6 of 10.jpg', 'class': ['banded civet'], 'original_set_total': 10, 'prominence': 1, 'datetime': '2012-04-21T19:00:55', 'frame_num': 6, 'id': '3b6a06ee-9910-11e9-98e8-1c872c5fa89b', 'original_set_index': 6, 'primary_species': 'Banded civet'}, {'file': 'Maliau/Maliau_3/OG1-W-8/20120421-190057(14)9 of 10.jpg', 'file_path': 'Maliau/Maliau_3/OG1-W-8/20120421-190057(14)9 of 10.jpg', 'class': ['banded civet'], 'original_set_total': 10, 'prominence': 1, 'datetime': '2012-04-21T19:00:57', 'frame_num': 9, 'id': '3b6a06ca-9910-11e9-98e8-1c872c5fa89b', 'original_set_index': 9, 'primary_species': 'Banded civet'}, {'file': 'Maliau/Maliau_3/OG1-W-8/20120421-190055(14)5 of 10.jpg', 'file_path': 'Maliau/Maliau_3/OG1-W-8/20120421-190055(14)5 of 10.jpg', 'class': ['banded civet'], 'original_set_total': 10, 'prominence': 1, 'datetime': '2012-04-21T19:00:55', 'frame_num': 5, 'id': '3b6a06ce-9910-11e9-98e8-1c872c5fa89b', 'original_set_index': 5, 'primary_species': 'Banded civet'}, {'file': 'Maliau/Maliau_3/OG1-W-8/20120421-190053(14)2 of 10.jpg', 'file_path': 'Maliau/Maliau_3/OG1-W-8/20120421-190053(14)2 of 10.jpg', 'class': ['banded civet'], 'original_set_total': 10, 'prominence': 1, 'datetime': '2012-04-21T19:00:53', 'frame_num': 2, 'id': '3b6a0659-9910-11e9-98e8-1c872c5fa89b', 'original_set_index': 2, 'primary_species': 'Banded civet'}, {'file': 'Maliau/Maliau_3/OG1-W-8/20120503-100000(14)0 of 0.jpg', 'file_path': 'Maliau/Maliau_3/OG1-W-8/20120503-100000(14)0 of 0.jpg', 'primary_species': 'Empty', 'class': ['empty'], 'original_set_total': 0, 'prominence': 1, 'non_target': 'Time-lapse', 'datetime': '2012-05-03T10:00:00', 'frame_num': 0, 'id': '3b6a06ef-9910-11e9-98e8-1c872c5fa89b', 'original_set_index': 0}, {'file': 'Maliau/Maliau_3/OG1-W-8/20120421-190054(14)3 of 10.jpg', 'file_path': 'Maliau/Maliau_3/OG1-W-8/20120421-190054(14)3 of 10.jpg', 'class': ['banded civet'], 'original_set_total': 10, 'prominence': 1, 'datetime': '2012-04-21T19:00:54', 'frame_num': 3, 'id': '3b6a071e-9910-11e9-98e8-1c872c5fa89b', 'original_set_index': 3, 'primary_species': 'Banded civet'}, {'file': 'Maliau/Maliau_3/OG1-W-8/20120421-190056(14)7 of 10.jpg', 'file_path': 'Maliau/Maliau_3/OG1-W-8/20120421-190056(14)7 of 10.jpg', 'class': ['banded civet'], 'original_set_total': 10, 'prominence': 1, 'datetime': '2012-04-21T19:00:56', 'frame_num': 7, 'id': '3b6a06ec-9910-11e9-98e8-1c872c5fa89b', 'original_set_index': 7, 'primary_species': 'Banded civet'}, {'file': 'Maliau/Maliau_3/OG1-W-8/20120421-190057(14)8 of 10.jpg', 'file_path': 'Maliau/Maliau_3/OG1-W-8/20120421-190057(14)8 of 10.jpg', 'class': ['banded civet'], 'original_set_total': 10, 'prominence': 1, 'datetime': '2012-04-21T19:00:57', 'frame_num': 8, 'id': '3b6a062c-9910-11e9-98e8-1c872c5fa89b', 'original_set_index': 8, 'primary_species': 'Banded civet'}], 'original_set_id': 14, 'location': 'OG1-W-8'}\n",
      "\n",
      "[{'seq_id': '7014', 'dataset': 'zsl_borneo', 'images': [{'file': 'Maliau/Maliau_4/OG3-W-17/20131008-002447(15)10 of 10.jpg', 'file_path': 'Maliau/Maliau_4/OG3-W-17/20131008-002447(15)10 of 10.jpg', 'class': ['empty'], 'original_set_total': 10, 'prominence': 1, 'datetime': '2013-10-08T00:24:47', 'frame_num': 10, 'id': '3e183d96-9910-11e9-98e8-1c872c5fa89b', 'original_set_index': 10, 'primary_species': 'Empty'}, {'file': 'Maliau/Maliau_4/OG3-W-17/20131008-002445(15)8 of 10.jpg', 'file_path': 'Maliau/Maliau_4/OG3-W-17/20131008-002445(15)8 of 10.jpg', 'class': ['empty'], 'original_set_total': 10, 'prominence': 1, 'datetime': '2013-10-08T00:24:45', 'frame_num': 8, 'id': '3e183ca6-9910-11e9-98e8-1c872c5fa89b', 'original_set_index': 8, 'primary_species': 'Empty'}, {'file': 'Maliau/Maliau_4/OG3-W-17/20130920-100000(15)0 of 0.jpg', 'file_path': 'Maliau/Maliau_4/OG3-W-17/20130920-100000(15)0 of 0.jpg', 'primary_species': 'Empty', 'class': ['empty'], 'original_set_total': 0, 'prominence': 1, 'non_target': 'Time-lapse', 'datetime': '2013-09-20T10:00:00', 'frame_num': 0, 'id': '3e0ecb90-9910-11e9-98e8-1c872c5fa89b', 'original_set_index': 0}, {'file': 'Maliau/Maliau_4/OG3-W-17/20131008-002444(15)6 of 10.jpg', 'file_path': 'Maliau/Maliau_4/OG3-W-17/20131008-002444(15)6 of 10.jpg', 'class': ['masked palm civet'], 'original_set_total': 10, 'prominence': 1, 'datetime': '2013-10-08T00:24:44', 'frame_num': 6, 'id': '3e0ecbf5-9910-11e9-98e8-1c872c5fa89b', 'original_set_index': 6, 'primary_species': 'Masked palm civet'}, {'file': 'Maliau/Maliau_4/OG3-W-17/20131008-002442(15)2 of 10.jpg', 'file_path': 'Maliau/Maliau_4/OG3-W-17/20131008-002442(15)2 of 10.jpg', 'class': ['masked palm civet'], 'original_set_total': 10, 'prominence': 1, 'datetime': '2013-10-08T00:24:42', 'frame_num': 2, 'id': '3e183e17-9910-11e9-98e8-1c872c5fa89b', 'original_set_index': 2, 'primary_species': 'Masked palm civet'}, {'file': 'Maliau/Maliau_4/OG3-W-17/20131008-002442(15)3 of 10.jpg', 'file_path': 'Maliau/Maliau_4/OG3-W-17/20131008-002442(15)3 of 10.jpg', 'class': ['masked palm civet'], 'original_set_total': 10, 'prominence': 1, 'datetime': '2013-10-08T00:24:42', 'frame_num': 3, 'id': '3e183d0f-9910-11e9-98e8-1c872c5fa89b', 'original_set_index': 3, 'primary_species': 'Masked palm civet'}, {'file': 'Maliau/Maliau_4/OG3-W-17/20131008-002443(15)4 of 10.jpg', 'file_path': 'Maliau/Maliau_4/OG3-W-17/20131008-002443(15)4 of 10.jpg', 'class': ['masked palm civet'], 'original_set_total': 10, 'prominence': 1, 'datetime': '2013-10-08T00:24:43', 'frame_num': 4, 'id': '3e183be7-9910-11e9-98e8-1c872c5fa89b', 'original_set_index': 4, 'primary_species': 'Masked palm civet'}, {'file': 'Maliau/Maliau_4/OG3-W-17/20131008-002446(15)9 of 10.jpg', 'file_path': 'Maliau/Maliau_4/OG3-W-17/20131008-002446(15)9 of 10.jpg', 'class': ['empty'], 'original_set_total': 10, 'prominence': 1, 'datetime': '2013-10-08T00:24:46', 'frame_num': 9, 'id': '3e0ecbc8-9910-11e9-98e8-1c872c5fa89b', 'original_set_index': 9, 'primary_species': 'Empty'}, {'file': 'Maliau/Maliau_4/OG3-W-17/20131008-002441(15)1 of 10.jpg', 'file_path': 'Maliau/Maliau_4/OG3-W-17/20131008-002441(15)1 of 10.jpg', 'primary_species': 'Masked palm civet', 'primary_new_contact': 'New Contact', 'class': ['masked palm civet'], 'original_set_total': 10, 'prominence': 1, 'datetime': '2013-10-08T00:24:41', 'frame_num': 1, 'id': '3e183bf0-9910-11e9-98e8-1c872c5fa89b', 'original_set_index': 1}, {'file': 'Maliau/Maliau_4/OG3-W-17/20131008-002445(15)7 of 10.jpg', 'file_path': 'Maliau/Maliau_4/OG3-W-17/20131008-002445(15)7 of 10.jpg', 'class': ['masked palm civet'], 'original_set_total': 10, 'prominence': 1, 'datetime': '2013-10-08T00:24:45', 'frame_num': 7, 'id': '3e183e06-9910-11e9-98e8-1c872c5fa89b', 'original_set_index': 7, 'primary_species': 'Masked palm civet'}, {'file': 'Maliau/Maliau_4/OG3-W-17/20131008-002444(15)5 of 10.jpg', 'file_path': 'Maliau/Maliau_4/OG3-W-17/20131008-002444(15)5 of 10.jpg', 'class': ['masked palm civet'], 'original_set_total': 10, 'prominence': 1, 'datetime': '2013-10-08T00:24:44', 'frame_num': 5, 'id': '3e183c0d-9910-11e9-98e8-1c872c5fa89b', 'original_set_index': 5, 'primary_species': 'Masked palm civet'}], 'original_set_id': 15, 'location': 'OG3-W-17'}]\n",
      "\n"
     ]
    }
   ],
   "source": [
    "zsl_sequences = cct_to_megadb.process_sequences(zsl_cct_embedded, 'zsl_borneo')"
   ]
  },
  {
   "cell_type": "code",
   "execution_count": 63,
   "metadata": {},
   "outputs": [
    {
     "data": {
      "text/plain": [
       "53746"
      ]
     },
     "execution_count": 63,
     "metadata": {},
     "output_type": "execute_result"
    }
   ],
   "source": [
    "zsl_sequences_good = []\n",
    "\n",
    "for seq in zsl_sequences:\n",
    "    if seq['seq_id'] not in bad_seq_ids:\n",
    "        zsl_sequences_good.append(seq)\n",
    "        \n",
    "len(zsl_sequences_good)"
   ]
  },
  {
   "cell_type": "code",
   "execution_count": 64,
   "metadata": {},
   "outputs": [
    {
     "name": "stdout",
     "output_type": "stream",
     "text": [
      "Verified that the sequence items conform to the schema.\n",
      "Verified that the sequence items meet the additional requirements.\n"
     ]
    }
   ],
   "source": [
    "sequences_schema_check.sequences_schema_check(zsl_sequences_good)"
   ]
  },
  {
   "cell_type": "code",
   "execution_count": 66,
   "metadata": {},
   "outputs": [],
   "source": [
    "with open(os.path.join(out_dir, 'zsl_borneo.json'), 'w') as f:\n",
    "    json.dump(zsl_sequences_good, f)"
   ]
  },
  {
   "cell_type": "code",
   "execution_count": null,
   "metadata": {},
   "outputs": [],
   "source": []
  },
  {
   "cell_type": "code",
   "execution_count": 47,
   "metadata": {},
   "outputs": [],
   "source": [
    "bad_seqs = []\n",
    "\n",
    "for seq in zsl_sequences:\n",
    "    frame_numbers = []\n",
    "    if 'images' in seq:\n",
    "        for im in seq['images']:\n",
    "            frame_numbers.append(im['frame_num'])\n",
    "        if len(set(frame_numbers)) != len(seq['images']):\n",
    "            bad_seqs.append(seq)"
   ]
  },
  {
   "cell_type": "code",
   "execution_count": 52,
   "metadata": {},
   "outputs": [],
   "source": [
    "bad_seq_ids = [s['seq_id'] for s in bad_seqs]"
   ]
  },
  {
   "cell_type": "code",
   "execution_count": 53,
   "metadata": {},
   "outputs": [
    {
     "data": {
      "text/plain": [
       "38"
      ]
     },
     "execution_count": 53,
     "metadata": {},
     "output_type": "execute_result"
    }
   ],
   "source": [
    "len(bad_seq_ids)"
   ]
  },
  {
   "cell_type": "code",
   "execution_count": 50,
   "metadata": {},
   "outputs": [],
   "source": [
    "num_images = 0\n",
    "for seq in bad_seqs:\n",
    "    num_images += len(seq['images'])"
   ]
  },
  {
   "cell_type": "code",
   "execution_count": 51,
   "metadata": {},
   "outputs": [
    {
     "data": {
      "text/plain": [
       "313"
      ]
     },
     "execution_count": 51,
     "metadata": {},
     "output_type": "execute_result"
    }
   ],
   "source": [
    "num_images"
   ]
  },
  {
   "cell_type": "code",
   "execution_count": null,
   "metadata": {},
   "outputs": [],
   "source": []
  }
 ],
 "metadata": {
  "kernelspec": {
   "display_name": "Python [conda env:tensorflow]",
   "language": "python",
   "name": "conda-env-tensorflow-py"
  },
  "language_info": {
   "codemirror_mode": {
    "name": "ipython",
    "version": 3
   },
   "file_extension": ".py",
   "mimetype": "text/x-python",
   "name": "python",
   "nbconvert_exporter": "python",
   "pygments_lexer": "ipython3",
   "version": "3.5.4"
  }
 },
 "nbformat": 4,
 "nbformat_minor": 2
}
