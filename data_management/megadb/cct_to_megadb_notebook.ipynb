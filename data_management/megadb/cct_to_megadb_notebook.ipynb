{
 "cells": [
  {
   "cell_type": "code",
   "execution_count": 1,
   "metadata": {},
   "outputs": [],
   "source": [
    "from IPython.core.interactiveshell import InteractiveShell\n",
    "InteractiveShell.ast_node_interactivity = 'all'  # default is ‘last_expr’\n",
    "\n",
    "%load_ext autoreload\n",
    "%autoreload 2"
   ]
  },
  {
   "cell_type": "code",
   "execution_count": 2,
   "metadata": {},
   "outputs": [],
   "source": [
    "import sys\n",
    "sys.path.append('/Users/siyuyang/Source/repos/GitHub_MSFT/CameraTraps')"
   ]
  },
  {
   "cell_type": "code",
   "execution_count": 9,
   "metadata": {},
   "outputs": [],
   "source": [
    "import os\n",
    "import json\n",
    "from random import sample\n",
    "from copy import deepcopy\n",
    "\n",
    "import cct_to_megadb\n",
    "from data_management.megadb import sequences_schema_check"
   ]
  },
  {
   "cell_type": "code",
   "execution_count": null,
   "metadata": {},
   "outputs": [],
   "source": []
  },
  {
   "cell_type": "code",
   "execution_count": 4,
   "metadata": {},
   "outputs": [],
   "source": [
    "out_dir = '/Users/siyuyang/OneDrive - Microsoft/AI4Earth/CameraTrap/Databases/megadb'"
   ]
  },
  {
   "cell_type": "markdown",
   "metadata": {},
   "source": [
    "## Peace Parks"
   ]
  },
  {
   "cell_type": "code",
   "execution_count": 100,
   "metadata": {},
   "outputs": [
    {
     "data": {
      "text/plain": [
       "4291"
      ]
     },
     "execution_count": 100,
     "metadata": {},
     "output_type": "execute_result"
    },
    {
     "data": {
      "text/plain": [
       "[{'annotations': {'species': ['human']},\n",
       "  'dataset': 'peaceparks_201908_humans',\n",
       "  'datetime': '2019:06:26 17:35:38',\n",
       "  'file_name': 'Night/1/IMAG0091.JPG',\n",
       "  'height': 2448,\n",
       "  'image_id': 'Night~1~IMAG0091',\n",
       "  'location': '1',\n",
       "  'width': 3264}]"
      ]
     },
     "execution_count": 100,
     "metadata": {},
     "output_type": "execute_result"
    },
    {
     "name": "stdout",
     "output_type": "stream",
     "text": [
      "Putting into sequences... The docs object passed in will be altered.\n",
      "4291\n",
      "{'seq_id': 'dummy_e4d9e2156a004906a4c0bd88a3a415f9', 'images': [{'location': '10', 'class': ['human'], 'dataset': 'peaceparks_201908_humans', 'file': 'Day/1/IMAG0184 (10).JPG', 'datetime': '2019:06:27 14:14:08', 'image_id': 'Day~1~IMAG0184 (10)'}], 'dataset': 'peaceparks_201908_humans'}\n",
      "Checking the location field...\n",
      "all_img_properties\n",
      "{'location', 'class', 'file', 'datetime', 'dataset', 'image_id'}\n",
      "img_level_properties\n",
      "{'image_id', 'file'}\n",
      "image-level properties that really should be sequence-level\n",
      "{'location', 'class', 'dataset', 'datetime'}\n",
      "Finished processing sequences.\n"
     ]
    }
   ],
   "source": [
    "with open('/Users/siyuyang/OneDrive - Microsoft/AI4Earth/CameraTrap/Databases/cosmos/peaceparks_201908_humans_20190812_embedded.json') as f:\n",
    "    peace_parks = json.load(f)\n",
    "len(peace_parks)\n",
    "sample(peace_parks, 1)\n",
    "\n",
    "peace_parks_sequences = cct_to_megadb.process_sequences(peace_parks, 'peaceparks_201908_humans')"
   ]
  },
  {
   "cell_type": "code",
   "execution_count": 94,
   "metadata": {},
   "outputs": [
    {
     "data": {
      "text/plain": [
       "4291"
      ]
     },
     "execution_count": 94,
     "metadata": {},
     "output_type": "execute_result"
    },
    {
     "data": {
      "text/plain": [
       "[{'class': ['human'],\n",
       "  'dataset': 'peaceparks_201908_humans',\n",
       "  'datetime': '2019:06:26 10:19:28',\n",
       "  'images': [{'file': 'Day/2/IMAG0004 (14).JPG',\n",
       "    'image_id': 'Day~2~IMAG0004 (14)'}],\n",
       "  'location': '14',\n",
       "  'seq_id': 'dummy_bf9fc23b6e664093ab98a1d76e304a3f'},\n",
       " {'class': ['human'],\n",
       "  'dataset': 'peaceparks_201908_humans',\n",
       "  'datetime': '2019:06:27 14:40:38',\n",
       "  'images': [{'file': 'Day/1/IMAG0152 (12).JPG',\n",
       "    'image_id': 'Day~1~IMAG0152 (12)'}],\n",
       "  'location': '12',\n",
       "  'seq_id': 'dummy_652df72e43e84a00a567da00f4a4e340'}]"
      ]
     },
     "execution_count": 94,
     "metadata": {},
     "output_type": "execute_result"
    }
   ],
   "source": [
    "len(peace_parks_sequences)\n",
    "json.loads(json.dumps(sample(peace_parks_sequences, 2)))"
   ]
  },
  {
   "cell_type": "code",
   "execution_count": 101,
   "metadata": {},
   "outputs": [
    {
     "name": "stdout",
     "output_type": "stream",
     "text": [
      "Verified that the sequence items conform to the schema.\n",
      "Verified that the sequence items meet the additional requirements.\n"
     ]
    }
   ],
   "source": [
    "sequences_schema_check.sequences_schema_check(peace_parks_sequences)"
   ]
  },
  {
   "cell_type": "code",
   "execution_count": 96,
   "metadata": {},
   "outputs": [],
   "source": [
    "with open(os.path.join(out_dir, 'peaceparks_201908_humans.json'), 'w') as f:\n",
    "    json.dump(peace_parks_sequences, f)"
   ]
  },
  {
   "cell_type": "code",
   "execution_count": null,
   "metadata": {},
   "outputs": [],
   "source": []
  },
  {
   "cell_type": "markdown",
   "metadata": {},
   "source": [
    "## WPS"
   ]
  },
  {
   "cell_type": "code",
   "execution_count": 49,
   "metadata": {},
   "outputs": [],
   "source": [
    "with open('/Users/siyuyang/OneDrive - Microsoft/AI4Earth/CameraTrap/Databases/cosmos/wps_190624_20190813_embedded.json') as f:\n",
    "    wps = json.load(f)"
   ]
  },
  {
   "cell_type": "code",
   "execution_count": 50,
   "metadata": {},
   "outputs": [
    {
     "data": {
      "text/plain": [
       "88489"
      ]
     },
     "execution_count": 50,
     "metadata": {},
     "output_type": "execute_result"
    },
    {
     "data": {
      "text/plain": [
       "[{'annotations': {'species': ['human']},\n",
       "  'dataset': 'wps_190624',\n",
       "  'file_name': '6ffe01ff-68ea-4302-9e53-7c5e26a809af.jpg',\n",
       "  'image_id': '6ffe01ff-68ea-4302-9e53-7c5e26a809af'}]"
      ]
     },
     "execution_count": 50,
     "metadata": {},
     "output_type": "execute_result"
    }
   ],
   "source": [
    "len(wps)\n",
    "sample(wps, 1)"
   ]
  },
  {
   "cell_type": "code",
   "execution_count": 52,
   "metadata": {},
   "outputs": [
    {
     "name": "stdout",
     "output_type": "stream",
     "text": [
      "Putting into sequences...\n",
      "88489\n",
      "{'seq_id': 'dummy_983f423d7b534cca96dd33b13e54495c', 'images': [{'image_id': '3d088ed6-ec63-4e63-ab6d-0c11c03980b1', 'class': ['human'], 'dataset': 'wps_190624', 'file': '3d088ed6-ec63-4e63-ab6d-0c11c03980b1.jpg'}], 'dataset': 'wps_190624'}\n",
      "Checking the location field...\n",
      "all_img_properties\n",
      "{'image_id', 'class', 'dataset', 'file'}\n",
      "img_level_properties\n",
      "{'image_id', 'file'}\n",
      "image-level properties that really should be sequence-level\n",
      "{'class', 'dataset'}\n",
      "Finished processing sequences.\n"
     ]
    }
   ],
   "source": [
    "wps_sequences = cct_to_megadb.process_sequences(wps, 'wps_190624')"
   ]
  },
  {
   "cell_type": "code",
   "execution_count": 53,
   "metadata": {},
   "outputs": [
    {
     "data": {
      "text/plain": [
       "88489"
      ]
     },
     "execution_count": 53,
     "metadata": {},
     "output_type": "execute_result"
    }
   ],
   "source": [
    "len(wps_sequences)"
   ]
  },
  {
   "cell_type": "code",
   "execution_count": 54,
   "metadata": {},
   "outputs": [
    {
     "data": {
      "text/plain": [
       "[{'class': ['human'],\n",
       "  'dataset': 'wps_190624',\n",
       "  'images': [{'file': 'e617fcd1-0319-4f59-81c1-a64a618ad9f2.jpg',\n",
       "    'image_id': 'e617fcd1-0319-4f59-81c1-a64a618ad9f2'}],\n",
       "  'seq_id': 'dummy_7127347f80324527a16a185fc3fb3668'},\n",
       " {'class': ['human'],\n",
       "  'dataset': 'wps_190624',\n",
       "  'images': [{'file': '1ee92c3b-444b-47fd-9704-c4fa6142754d.jpg',\n",
       "    'image_id': '1ee92c3b-444b-47fd-9704-c4fa6142754d'}],\n",
       "  'seq_id': 'dummy_3816b417f6ac4fe2a049f84907755e7d'},\n",
       " {'class': ['human'],\n",
       "  'dataset': 'wps_190624',\n",
       "  'images': [{'file': '4b515940-2abc-4ba2-9559-3394d4b0bbc8.jpg',\n",
       "    'image_id': '4b515940-2abc-4ba2-9559-3394d4b0bbc8'}],\n",
       "  'seq_id': 'dummy_c05a8a92f72f47de9d381fe4352d22cb'},\n",
       " {'class': ['human'],\n",
       "  'dataset': 'wps_190624',\n",
       "  'images': [{'file': '7dcf1871-b8a4-4317-8144-a760162bb7f7.jpg',\n",
       "    'image_id': '7dcf1871-b8a4-4317-8144-a760162bb7f7'}],\n",
       "  'seq_id': 'dummy_64d38c34d6224eada9ca9229d7d23b6e'}]"
      ]
     },
     "execution_count": 54,
     "metadata": {},
     "output_type": "execute_result"
    }
   ],
   "source": [
    "json.loads(json.dumps(sample(wps_sequences, 4)))"
   ]
  },
  {
   "cell_type": "code",
   "execution_count": 55,
   "metadata": {},
   "outputs": [
    {
     "name": "stdout",
     "output_type": "stream",
     "text": [
      "Verified that the sequence items conform to the schema.\n",
      "Verified that the sequence items meet the additional requirements.\n"
     ]
    }
   ],
   "source": [
    "sequences_schema_check.sequences_schema_check(wps_sequences)"
   ]
  },
  {
   "cell_type": "code",
   "execution_count": 92,
   "metadata": {},
   "outputs": [],
   "source": [
    "with open(os.path.join(out_dir, 'wps_190624.json'), 'w') as f:\n",
    "    json.dump(wps_sequences, f)"
   ]
  },
  {
   "cell_type": "code",
   "execution_count": null,
   "metadata": {},
   "outputs": [],
   "source": []
  },
  {
   "cell_type": "markdown",
   "metadata": {},
   "source": [
    "## Caltech - I don't think this version incorporates the unlabeled_animal fix from Sara"
   ]
  },
  {
   "cell_type": "code",
   "execution_count": 84,
   "metadata": {},
   "outputs": [],
   "source": [
    "with open('/Users/siyuyang/OneDrive - Microsoft/AI4Earth/CameraTrap/Databases/cosmos/caltech_20190409_embedded.json') as f:\n",
    "    caltech = json.load(f)"
   ]
  },
  {
   "cell_type": "code",
   "execution_count": 85,
   "metadata": {},
   "outputs": [
    {
     "data": {
      "text/plain": [
       "244494"
      ]
     },
     "execution_count": 85,
     "metadata": {},
     "output_type": "execute_result"
    },
    {
     "data": {
      "text/plain": [
       "[{'annotations': {'species': ['empty']},\n",
       "  'dataset': 'caltech',\n",
       "  'datetime': '2013-10-01 09:24:54',\n",
       "  'file_name': '5a02f92c-23d2-11e8-a6a3-ec086b02610b.jpg',\n",
       "  'frame_num': 1,\n",
       "  'height': 1494,\n",
       "  'image_id': '5a02f92c-23d2-11e8-a6a3-ec086b02610b',\n",
       "  'location': 23,\n",
       "  'rights_holder': 'Erin Boydston',\n",
       "  'seq_id': '6fde31e8-5567-11e8-9b53-dca9047ef277',\n",
       "  'seq_num_frames': 1,\n",
       "  'width': 2048}]"
      ]
     },
     "execution_count": 85,
     "metadata": {},
     "output_type": "execute_result"
    }
   ],
   "source": [
    "len(caltech)\n",
    "sample(caltech, 1)"
   ]
  },
  {
   "cell_type": "code",
   "execution_count": 86,
   "metadata": {},
   "outputs": [
    {
     "name": "stdout",
     "output_type": "stream",
     "text": [
      "Putting into sequences... The docs object passed in will be altered.\n",
      "181122\n",
      "{'seq_id': '6f5d8191-5567-11e8-98bb-dca9047ef277', 'images': [{'frame_num': 1, 'rights_holder': 'Erin Boydston', 'location': 76, 'class': ['unlabeled_animal'], 'file': '58fd7dbe-23d2-11e8-a6a3-ec086b02610b.jpg', 'datetime': '2014-05-01 07:47:04', 'image_id': '58fd7dbe-23d2-11e8-a6a3-ec086b02610b', 'dataset': 'caltech'}], 'dataset': 'caltech'}\n",
      "Checking the location field...\n",
      "all_img_properties\n",
      "{'frame_num', 'rights_holder', 'location', 'class', 'file', 'datetime', 'dataset', 'image_id', 'bbox'}\n",
      "img_level_properties\n",
      "{'frame_num', 'class', 'file', 'datetime', 'image_id', 'bbox'}\n",
      "image-level properties that really should be sequence-level\n",
      "{'rights_holder', 'location', 'dataset'}\n",
      "Finished processing sequences.\n"
     ]
    }
   ],
   "source": [
    "caltech_sequences = cct_to_megadb.process_sequences(caltech, 'caltech')"
   ]
  },
  {
   "cell_type": "code",
   "execution_count": 87,
   "metadata": {},
   "outputs": [],
   "source": [
    "# find sequences where the frame_num are not unique\n",
    "non_uniques = []\n",
    "for seq in caltech_sequences:\n",
    "    frame_numbers = set()\n",
    "    for im in seq['images']:\n",
    "        frame_numbers.add(im['frame_num'])\n",
    "    if len(frame_numbers) < len(seq['images']):\n",
    "        non_uniques.append(seq['seq_id'])"
   ]
  },
  {
   "cell_type": "code",
   "execution_count": null,
   "metadata": {},
   "outputs": [],
   "source": [
    "# need to find the one where I deleted an entry"
   ]
  },
  {
   "cell_type": "code",
   "execution_count": 83,
   "metadata": {},
   "outputs": [
    {
     "data": {
      "text/plain": [
       "['70149030-5567-11e8-ac70-dca9047ef277',\n",
       " '70156802-5567-11e8-83ad-dca9047ef277',\n",
       " '701203b8-5567-11e8-b0c7-dca9047ef277',\n",
       " '7014ec9c-5567-11e8-86ca-dca9047ef277',\n",
       " '70146eab-5567-11e8-854f-dca9047ef277',\n",
       " '70120e59-5567-11e8-a4b1-dca9047ef277',\n",
       " '70154097-5567-11e8-ae6c-dca9047ef277',\n",
       " '7015d8d1-5567-11e8-8072-dca9047ef277',\n",
       " '7010e4ee-5567-11e8-a061-dca9047ef277',\n",
       " '7014e075-5567-11e8-88eb-dca9047ef277',\n",
       " '7014adfd-5567-11e8-9227-dca9047ef277',\n",
       " '7016385e-5567-11e8-b5e4-dca9047ef277',\n",
       " '70122033-5567-11e8-8b79-dca9047ef277',\n",
       " '701379c0-5567-11e8-b4bc-dca9047ef277',\n",
       " '7011f919-5567-11e8-8c1e-dca9047ef277',\n",
       " '7014a4cf-5567-11e8-82f2-dca9047ef277',\n",
       " '7011498c-5567-11e8-8a0a-dca9047ef277',\n",
       " '701cab8a-5567-11e8-90b7-dca9047ef277',\n",
       " '70163b19-5567-11e8-8230-dca9047ef277',\n",
       " '70166de1-5567-11e8-9efd-dca9047ef277',\n",
       " '70124f1e-5567-11e8-a223-dca9047ef277',\n",
       " '701e161c-5567-11e8-90db-dca9047ef277',\n",
       " '701b0707-5567-11e8-8bd5-dca9047ef277',\n",
       " '701079d1-5567-11e8-a9c4-dca9047ef277',\n",
       " '7014dd9c-5567-11e8-bb72-dca9047ef277',\n",
       " '701d67f8-5567-11e8-955c-dca9047ef277',\n",
       " '70149421-5567-11e8-892e-dca9047ef277',\n",
       " '70120dcc-5567-11e8-9939-dca9047ef277',\n",
       " '70147b35-5567-11e8-b929-dca9047ef277',\n",
       " '701a9d7a-5567-11e8-b044-dca9047ef277',\n",
       " '70120717-5567-11e8-815a-dca9047ef277',\n",
       " '7010eed9-5567-11e8-b71e-dca9047ef277',\n",
       " '70121a07-5567-11e8-8150-dca9047ef277',\n",
       " '701e24f5-5567-11e8-b610-dca9047ef277',\n",
       " '7014eaf8-5567-11e8-a8ba-dca9047ef277',\n",
       " '701e427d-5567-11e8-9481-dca9047ef277',\n",
       " '70121685-5567-11e8-a903-dca9047ef277',\n",
       " '70152cab-5567-11e8-a23d-dca9047ef277',\n",
       " '701a9f82-5567-11e8-813f-dca9047ef277',\n",
       " '701a9e94-5567-11e8-89de-dca9047ef277',\n",
       " '701e378f-5567-11e8-b1fb-dca9047ef277']"
      ]
     },
     "execution_count": 83,
     "metadata": {},
     "output_type": "execute_result"
    }
   ],
   "source": [
    "non_uniques"
   ]
  },
  {
   "cell_type": "code",
   "execution_count": 88,
   "metadata": {},
   "outputs": [
    {
     "name": "stdout",
     "output_type": "stream",
     "text": [
      "Verified that the sequence items conform to the schema.\n",
      "Verified that the sequence items meet the additional requirements.\n"
     ]
    }
   ],
   "source": [
    "sequences_schema_check.sequences_schema_check(caltech_sequences)"
   ]
  },
  {
   "cell_type": "code",
   "execution_count": 89,
   "metadata": {
    "scrolled": false
   },
   "outputs": [
    {
     "data": {
      "text/plain": [
       "[{'dataset': 'caltech',\n",
       "  'images': [{'class': ['empty'],\n",
       "    'datetime': '2014-05-11 11:17:16',\n",
       "    'file': '591fd351-23d2-11e8-a6a3-ec086b02610b.jpg',\n",
       "    'frame_num': 1,\n",
       "    'image_id': '591fd351-23d2-11e8-a6a3-ec086b02610b'}],\n",
       "  'location': 96,\n",
       "  'rights_holder': 'Erin Boydston',\n",
       "  'seq_id': '6fa84c35-5567-11e8-aff1-dca9047ef277'},\n",
       " {'dataset': 'caltech',\n",
       "  'images': [{'class': ['empty'],\n",
       "    'datetime': '2013-09-27 02:04:33',\n",
       "    'file': '59d5b798-23d2-11e8-a6a3-ec086b02610b.jpg',\n",
       "    'frame_num': 1,\n",
       "    'image_id': '59d5b798-23d2-11e8-a6a3-ec086b02610b'}],\n",
       "  'location': 57,\n",
       "  'rights_holder': 'Erin Boydston',\n",
       "  'seq_id': '6f7c6d28-5567-11e8-b167-dca9047ef277'}]"
      ]
     },
     "execution_count": 89,
     "metadata": {},
     "output_type": "execute_result"
    }
   ],
   "source": [
    "json.loads(json.dumps(sample(caltech_sequences, 2)))"
   ]
  },
  {
   "cell_type": "code",
   "execution_count": 91,
   "metadata": {},
   "outputs": [],
   "source": [
    "with open(os.path.join(out_dir, 'caltech.json'), 'w') as f:\n",
    "    json.dump(caltech_sequences, f)"
   ]
  },
  {
   "cell_type": "code",
   "execution_count": null,
   "metadata": {},
   "outputs": [],
   "source": []
  },
  {
   "cell_type": "markdown",
   "metadata": {},
   "source": [
    "## ZSL\n",
    "\n",
    "Not yet in embedded version, in CCT version still"
   ]
  },
  {
   "cell_type": "code",
   "execution_count": 5,
   "metadata": {},
   "outputs": [],
   "source": [
    "with open('/Users/siyuyang/Source/temp_data/CameraTrap/batch_9_10_11/zsl_camera_traps_201906.json') as f:\n",
    "    zsl_cct = json.load(f)"
   ]
  },
  {
   "cell_type": "code",
   "execution_count": 6,
   "metadata": {},
   "outputs": [
    {
     "name": "stdout",
     "output_type": "stream",
     "text": [
      "Loading image DB...\n",
      "Number of items from the image DB: 504310\n",
      "Number of images with more than 1 species: 829 (0.16% of image DB)\n",
      "No bbox DB provided.\n"
     ]
    }
   ],
   "source": [
    "zsl_cct_embedded = cct_to_megadb.make_cct_embedded(image_db=zsl_cct)"
   ]
  },
  {
   "cell_type": "code",
   "execution_count": 7,
   "metadata": {},
   "outputs": [
    {
     "data": {
      "text/plain": [
       "504310"
      ]
     },
     "execution_count": 7,
     "metadata": {},
     "output_type": "execute_result"
    }
   ],
   "source": [
    "len(zsl_cct_embedded)"
   ]
  },
  {
   "cell_type": "markdown",
   "metadata": {},
   "source": [
    "There are four files that are .swp or .tmp files - don't include these."
   ]
  },
  {
   "cell_type": "code",
   "execution_count": 8,
   "metadata": {},
   "outputs": [
    {
     "data": {
      "text/plain": [
       "504306"
      ]
     },
     "execution_count": 8,
     "metadata": {},
     "output_type": "execute_result"
    }
   ],
   "source": [
    "filtered_embedded = []\n",
    "\n",
    "for im in zsl_cct_embedded:\n",
    "    if im['file_path'].lower().endswith('.jpg'):\n",
    "        filtered_embedded.append(im)\n",
    "len(filtered_embedded)\n",
    "zsl_cct_embedded = filtered_embedded"
   ]
  },
  {
   "cell_type": "code",
   "execution_count": 10,
   "metadata": {},
   "outputs": [],
   "source": [
    "zsl_cct_embedded_copy = deepcopy(zsl_cct_embedded)"
   ]
  },
  {
   "cell_type": "code",
   "execution_count": 11,
   "metadata": {},
   "outputs": [
    {
     "name": "stdout",
     "output_type": "stream",
     "text": [
      "Putting into sequences... The docs object passed in will be altered.\n",
      "53784\n",
      "{'images': [{'prominence': 1, 'original_set_total': 10, 'location': 'OG1-W-34', 'file': 'Maliau/Maliau_3/OG1-W-34/20120601-105812(139)2 of 10.jpg', 'file_path': 'Maliau/Maliau_3/OG1-W-34/20120601-105812(139)2 of 10.jpg', 'class': ['Bearded pig'], 'original_set_index': 2, 'id': '3b74d603-9910-11e9-98e8-1c872c5fa89b', 'rights_holder': 'Oliver Wearne', 'frame_num': 2, 'primary_species': 'Bearded pig', 'original_set_id': 139, 'datetime': '2012-06-01T10:58:12'}, {'prominence': 1, 'original_set_total': 10, 'location': 'OG1-W-34', 'file': 'Maliau/Maliau_3/OG1-W-34/20120601-105813(139)3 of 10.jpg', 'file_path': 'Maliau/Maliau_3/OG1-W-34/20120601-105813(139)3 of 10.jpg', 'class': ['Bearded pig'], 'original_set_index': 3, 'id': '3b74d4fb-9910-11e9-98e8-1c872c5fa89b', 'rights_holder': 'Oliver Wearne', 'frame_num': 3, 'primary_species': 'Bearded pig', 'original_set_id': 139, 'datetime': '2012-06-01T10:58:13'}, {'prominence': 1, 'original_set_total': 10, 'location': 'OG1-W-34', 'file': 'Maliau/Maliau_3/OG1-W-34/20120601-105815(139)6 of 10.jpg', 'file_path': 'Maliau/Maliau_3/OG1-W-34/20120601-105815(139)6 of 10.jpg', 'class': ['Bearded pig'], 'original_set_index': 6, 'id': '3b6a07e0-9910-11e9-98e8-1c872c5fa89b', 'rights_holder': 'Oliver Wearne', 'frame_num': 6, 'primary_species': 'Bearded pig', 'original_set_id': 139, 'datetime': '2012-06-01T10:58:15'}, {'prominence': 1, 'original_set_total': 10, 'location': 'OG1-W-34', 'file': 'Maliau/Maliau_3/OG1-W-34/20120601-105814(139)4 of 10.jpg', 'file_path': 'Maliau/Maliau_3/OG1-W-34/20120601-105814(139)4 of 10.jpg', 'class': ['Bearded pig'], 'original_set_index': 4, 'id': '3b74d6b4-9910-11e9-98e8-1c872c5fa89b', 'rights_holder': 'Oliver Wearne', 'frame_num': 4, 'primary_species': 'Bearded pig', 'original_set_id': 139, 'datetime': '2012-06-01T10:58:14'}, {'prominence': 1, 'original_set_total': 10, 'location': 'OG1-W-34', 'file': 'Maliau/Maliau_3/OG1-W-34/20120601-105814(139)5 of 10.jpg', 'file_path': 'Maliau/Maliau_3/OG1-W-34/20120601-105814(139)5 of 10.jpg', 'class': ['Bearded pig'], 'original_set_index': 5, 'id': '3b6a08a5-9910-11e9-98e8-1c872c5fa89b', 'rights_holder': 'Oliver Wearne', 'frame_num': 5, 'primary_species': 'Bearded pig', 'original_set_id': 139, 'datetime': '2012-06-01T10:58:14'}, {'prominence': 1, 'original_set_total': 10, 'location': 'OG1-W-34', 'file': 'Maliau/Maliau_3/OG1-W-34/20120601-105816(139)7 of 10.jpg', 'file_path': 'Maliau/Maliau_3/OG1-W-34/20120601-105816(139)7 of 10.jpg', 'class': ['Empty'], 'original_set_index': 7, 'id': '3b74d3b0-9910-11e9-98e8-1c872c5fa89b', 'rights_holder': 'Oliver Wearne', 'frame_num': 7, 'primary_species': 'Empty', 'original_set_id': 139, 'datetime': '2012-06-01T10:58:16'}, {'prominence': 1, 'original_set_total': 10, 'primary_new_contact': 'New Contact', 'location': 'OG1-W-34', 'file': 'Maliau/Maliau_3/OG1-W-34/20120601-105810(139)1 of 10.jpg', 'file_path': 'Maliau/Maliau_3/OG1-W-34/20120601-105810(139)1 of 10.jpg', 'class': ['Bearded pig'], 'original_set_index': 1, 'id': '3b74d690-9910-11e9-98e8-1c872c5fa89b', 'rights_holder': 'Oliver Wearne', 'frame_num': 1, 'primary_species': 'Bearded pig', 'original_set_id': 139, 'datetime': '2012-06-01T10:58:10'}, {'prominence': 1, 'original_set_total': 10, 'location': 'OG1-W-34', 'file': 'Maliau/Maliau_3/OG1-W-34/20120601-105817(139)8 of 10.jpg', 'file_path': 'Maliau/Maliau_3/OG1-W-34/20120601-105817(139)8 of 10.jpg', 'class': ['Empty'], 'original_set_index': 8, 'id': '3b74d74d-9910-11e9-98e8-1c872c5fa89b', 'rights_holder': 'Oliver Wearne', 'frame_num': 8, 'primary_species': 'Empty', 'original_set_id': 139, 'datetime': '2012-06-01T10:58:17'}, {'prominence': 1, 'original_set_total': 10, 'location': 'OG1-W-34', 'file': 'Maliau/Maliau_3/OG1-W-34/20120601-105818(139)10 of 10.jpg', 'file_path': 'Maliau/Maliau_3/OG1-W-34/20120601-105818(139)10 of 10.jpg', 'class': ['Empty'], 'original_set_index': 10, 'id': '3b6a09b4-9910-11e9-98e8-1c872c5fa89b', 'rights_holder': 'Oliver Wearne', 'frame_num': 10, 'primary_species': 'Empty', 'original_set_id': 139, 'datetime': '2012-06-01T10:58:18'}, {'prominence': 1, 'original_set_total': 10, 'location': 'OG1-W-34', 'file': 'Maliau/Maliau_3/OG1-W-34/20120601-105818(139)9 of 10.jpg', 'file_path': 'Maliau/Maliau_3/OG1-W-34/20120601-105818(139)9 of 10.jpg', 'class': ['Empty'], 'original_set_index': 9, 'id': '3b74d5b5-9910-11e9-98e8-1c872c5fa89b', 'rights_holder': 'Oliver Wearne', 'frame_num': 9, 'primary_species': 'Empty', 'original_set_id': 139, 'datetime': '2012-06-01T10:58:18'}], 'seq_id': 100, 'dataset': 'zsl_borneo'}\n",
      "Checking the location field...\n"
     ]
    }
   ],
   "source": [
    "import uuid\n",
    "from collections import defaultdict\n",
    "\n",
    "seq_with_diff_loc = []\n",
    "\n",
    "\n",
    "dataset_name = 'zsl_borneo'\n",
    "\n",
    "# some property names have changed in the new schema\n",
    "old_to_new_prop_name_mapping = {\n",
    "    'file_name': 'file'\n",
    "}\n",
    "\n",
    "print('Putting into sequences... The docs object passed in will be altered.')\n",
    "img_level_properties = set()\n",
    "sequences = defaultdict(list)\n",
    "\n",
    "for im in zsl_cct_embedded_copy:\n",
    "    if 'seq_id' in im:\n",
    "        seq_id = im['seq_id']\n",
    "        del im['seq_id']\n",
    "    else:\n",
    "        seq_id = 'dummy_' + uuid.uuid4().hex  # if this will be sent for annotation, may need a sequence ID based on file name to group potential sequences together\n",
    "        img_level_properties.add('file')\n",
    "        img_level_properties.add('image_id')\n",
    "\n",
    "    for old_name, new_name in old_to_new_prop_name_mapping.items():\n",
    "        if old_name in im:\n",
    "            im[new_name] = im[old_name]\n",
    "            del im[old_name]\n",
    "\n",
    "    for obsolete_prop in ['seq_num_frames', 'width', 'height']:\n",
    "        if obsolete_prop in im:\n",
    "            del im[obsolete_prop]\n",
    "\n",
    "    if 'annotations' in im:\n",
    "        for prop, prop_val in im['annotations'].items():\n",
    "            im[prop] = prop_val\n",
    "            if prop == 'bbox':\n",
    "                for bbox_item in im['bbox']:\n",
    "                    if 'bbox_rel' not in bbox_item:\n",
    "                        print('Missing relative coordinates for bbox! Exiting...')\n",
    "                        print(im)\n",
    "                        sys.exit(1)\n",
    "                    else:\n",
    "                        bbox_item['bbox'] = bbox_item['bbox_rel']\n",
    "                        del bbox_item['bbox_rel']\n",
    "\n",
    "                        if 'bbox_abs' in bbox_item:\n",
    "                            del bbox_item['bbox_abs']\n",
    "\n",
    "            if prop == 'species':\n",
    "                im['class'] = im['species']\n",
    "                del im['species']\n",
    "\n",
    "        del im['annotations']\n",
    "\n",
    "    sequences[seq_id].append(im)\n",
    "\n",
    "new_sequences = []\n",
    "for seq_id, images in sequences.items():\n",
    "    new_sequences.append({\n",
    "        'seq_id': seq_id,\n",
    "        'dataset': dataset_name,\n",
    "        'images': images\n",
    "    })\n",
    "\n",
    "sequences = new_sequences\n",
    "print(len(sequences))\n",
    "print(sequences[100])\n",
    "\n",
    "# check that the location field is the same for all images in a sequence\n",
    "print('Checking the location field...')\n",
    "for seq in sequences:\n",
    "    locations = []\n",
    "    for im in seq['images']:\n",
    "        locations.append(im.get('location', ''))  # empty string if no location provided\n",
    "    #assert len(set(locations)) == 1, 'Location fields in images of the sequence {} are different.'.format(seq['seq_id'])\n",
    "    if len(set(locations)) != 1:\n",
    "        seq_with_diff_loc.append(seq)\n",
    "print('Done.')"
   ]
  },
  {
   "cell_type": "code",
   "execution_count": 12,
   "metadata": {},
   "outputs": [
    {
     "data": {
      "text/plain": [
       "797"
      ]
     },
     "execution_count": 12,
     "metadata": {},
     "output_type": "execute_result"
    }
   ],
   "source": [
    "len(seq_with_diff_loc)"
   ]
  },
  {
   "cell_type": "code",
   "execution_count": 13,
   "metadata": {
    "scrolled": false
   },
   "outputs": [],
   "source": [
    "correct_loc = {}\n",
    "for seq in seq_with_diff_loc:\n",
    "    correct_loc[seq['seq_id']] = seq['images'][0]['file_path'].split('/')[2].split(' ')[0]"
   ]
  },
  {
   "cell_type": "code",
   "execution_count": 14,
   "metadata": {},
   "outputs": [
    {
     "data": {
      "text/plain": [
       "{981: 'OG2-W-24',\n",
       " 988: 'OG2-W-24',\n",
       " 995: 'OG2-W-24',\n",
       " 1002: 'OG2-W-24',\n",
       " 1003: 'OG2-W-24',\n",
       " 1007: 'OG2-W-24',\n",
       " 1151: 'OG2-N-17',\n",
       " 1154: 'OG2-N-17',\n",
       " 1364: 'OG1-E-40',\n",
       " 2441: 'OG1-W-38',\n",
       " 3447: 'OG1-N-8',\n",
       " 3949: 'OG2-N-17',\n",
       " 3950: 'OG2-N-17',\n",
       " 3952: 'OG2-N-17',\n",
       " 3955: 'OG2-N-17',\n",
       " 3958: 'OG2-N-17',\n",
       " 3963: 'OG2-N-17',\n",
       " 4860: 'OG1-W-38',\n",
       " 4862: 'OG1-W-38',\n",
       " 4978: 'OG2-W-24',\n",
       " 4983: 'OG2-W-24',\n",
       " 4987: 'OG2-W-24',\n",
       " 4995: 'OG2-W-24',\n",
       " 4996: 'OG2-W-24',\n",
       " 4999: 'OG2-W-24',\n",
       " 5006: 'OG2-W-24',\n",
       " 5010: 'OG2-W-24',\n",
       " 5030: 'OG2-W-24',\n",
       " 5031: 'OG2-W-24',\n",
       " 5033: 'OG2-W-24',\n",
       " 5038: 'OG2-W-24',\n",
       " 5050: 'OG2-W-24',\n",
       " 5536: 'OG2-W-24',\n",
       " 5597: 'OG1-E-40',\n",
       " 5599: 'OG1-E-40',\n",
       " 5626: 'OG1-E-40',\n",
       " 5627: 'OG1-E-40',\n",
       " 5631: 'OG1-E-40',\n",
       " 5637: 'OG1-E-40',\n",
       " 5639: 'OG1-E-40',\n",
       " 5640: 'OG1-E-40',\n",
       " 5645: 'OG1-E-40',\n",
       " 5646: 'OG1-E-40',\n",
       " 5651: 'OG1-E-40',\n",
       " 5660: 'OG1-E-40',\n",
       " 5669: 'OG1-E-40',\n",
       " 5682: 'OG1-E-40',\n",
       " 5683: 'OG1-E-40',\n",
       " 5727: 'OG2-E-8',\n",
       " 5770: 'OG2-N-38(B)',\n",
       " 5774: 'OG2-N-38(B)',\n",
       " 5778: 'OG2-N-38(B)',\n",
       " 5831: 'OG2-W-47',\n",
       " 5835: 'OG2-W-31',\n",
       " 5836: 'OG2-W-31',\n",
       " 5840: 'OG2-W-31',\n",
       " 5842: 'OG2-W-31',\n",
       " 5844: 'OG2-W-31',\n",
       " 5850: 'OG2-W-31',\n",
       " 5853: 'OG2-W-31',\n",
       " 5856: 'OG2-W-31',\n",
       " 5871: 'OG2-W-4',\n",
       " 5873: 'OG2-W-4',\n",
       " 5874: 'OG2-W-4',\n",
       " 5876: 'OG2-W-4',\n",
       " 5881: 'OG2-W-4',\n",
       " 5882: 'OG2-W-4',\n",
       " 5889: 'OG2-W-4',\n",
       " 5890: 'OG2-W-4',\n",
       " 5895: 'OG2-W-4',\n",
       " 5900: 'OG2-W-4',\n",
       " 5901: 'OG2-W-4',\n",
       " 5923: 'OG2-W-38',\n",
       " 5927: 'OG2-W-38',\n",
       " 5928: 'OG2-W-38',\n",
       " 5929: 'OG2-W-38',\n",
       " 5930: 'OG2-W-38',\n",
       " 5931: 'OG2-W-38',\n",
       " 5933: 'OG2-W-38',\n",
       " 5936: 'OG2-W-38',\n",
       " 5949: 'OG2-W-12',\n",
       " 5950: 'OG2-W-12',\n",
       " 5953: 'OG2-W-12',\n",
       " 5954: 'OG2-W-12',\n",
       " 5955: 'OG2-W-12',\n",
       " 5960: 'OG2-W-12',\n",
       " 5962: 'OG2-W-12',\n",
       " 5965: 'OG2-W-23',\n",
       " 5966: 'OG2-W-23',\n",
       " 5968: 'OG2-W-23',\n",
       " 5969: 'OG2-W-23',\n",
       " 5973: 'OG2-W-23',\n",
       " 5979: 'OG2-W-23',\n",
       " 5980: 'OG2-W-23',\n",
       " 5981: 'OG2-W-23',\n",
       " 5982: 'OG2-W-23',\n",
       " 5986: 'OG2-W-23',\n",
       " 6615: 'OG3-W-38',\n",
       " 6620: 'OG3-W-38',\n",
       " 6625: 'OG3-W-38',\n",
       " 6626: 'OG3-W-38',\n",
       " 6629: 'OG3-W-38',\n",
       " 6634: 'OG3-W-38',\n",
       " 6648: 'OG3-W-38',\n",
       " 6654: 'OG3-W-38',\n",
       " 6655: 'OG3-W-38',\n",
       " 6656: 'OG3-W-38',\n",
       " 6779: 'OG3-E-32',\n",
       " 6780: 'OG3-E-32',\n",
       " 6782: 'OG3-E-32',\n",
       " 6783: 'OG3-E-32',\n",
       " 6784: 'OG3-E-32',\n",
       " 6785: 'OG3-E-32',\n",
       " 6789: 'OG3-E-32',\n",
       " 7598: 'OG3-E-32',\n",
       " 7602: 'OG3-E-32',\n",
       " 7603: 'OG3-E-32',\n",
       " 7604: 'OG3-E-32',\n",
       " 7605: 'OG3-E-32',\n",
       " 7607: 'OG3-E-32',\n",
       " 7608: 'OG3-E-32',\n",
       " 7610: 'OG3-E-32',\n",
       " 7611: 'OG3-E-32',\n",
       " 7616: 'OG3-E-32',\n",
       " 7765: 'OG3-W-21',\n",
       " 7800: 'OG3-E-32',\n",
       " 7801: 'OG3-E-32',\n",
       " 7802: 'OG3-E-32',\n",
       " 7803: 'OG3-E-32',\n",
       " 7984: 'OG3-E-36',\n",
       " 7987: 'OG3-E-36',\n",
       " 7989: 'OG3-E-36',\n",
       " 7993: 'OG3-E-36',\n",
       " 7998: 'OG3-E-36',\n",
       " 8001: 'OG3-E-36',\n",
       " 8003: 'OG3-E-36',\n",
       " 8008: 'OG3-E-36',\n",
       " 8010: 'OG3-E-32',\n",
       " 8387: 'OG3-E-25',\n",
       " 8399: 'OG3-E-25',\n",
       " 8419: 'OG3-E-25',\n",
       " 8429: 'OG3-E-25',\n",
       " 8430: 'OG3-E-25',\n",
       " 8435: 'OG3-E-25',\n",
       " 8439: 'OG3-E-25',\n",
       " 8447: 'OG3-E-25',\n",
       " 8449: 'OG3-E-25',\n",
       " 8450: 'OG3-E-25',\n",
       " 8455: 'OG3-E-25',\n",
       " 8457: 'OG3-E-25',\n",
       " 8462: 'OG3-E-25',\n",
       " 8463: 'OG3-E-25',\n",
       " 8472: 'OG3-E-25',\n",
       " 8476: 'OG3-E-25',\n",
       " 8480: 'OG3-E-25',\n",
       " 8484: 'OG3-E-25',\n",
       " 8489: 'OG3-E-25',\n",
       " 8503: 'OG3-E-25',\n",
       " 8509: 'OG3-E-25',\n",
       " 8510: 'OG3-E-25',\n",
       " 8533: 'OG3-E-25',\n",
       " 8545: 'OG3-E-25',\n",
       " 8552: 'OG3-W-38',\n",
       " 8556: 'OG3-W-38',\n",
       " 8557: 'OG3-W-38',\n",
       " 8559: 'OG3-W-38',\n",
       " 8565: 'OG3-W-38',\n",
       " 8566: 'OG3-W-38',\n",
       " 8709: 'OG3-E-32',\n",
       " 8710: 'OG3-E-32',\n",
       " 8711: 'OG3-E-32',\n",
       " 8712: 'OG3-E-32',\n",
       " 8729: 'OG3-E-32',\n",
       " 8732: 'OG3-E-32',\n",
       " 9233: 'OG3-E-36',\n",
       " 9241: 'OG3-E-36',\n",
       " 9243: 'OG3-E-36',\n",
       " 9251: 'OG3-E-36',\n",
       " 9252: 'OG3-E-36',\n",
       " 9255: 'OG3-E-36',\n",
       " 9258: 'OG3-E-36',\n",
       " 9262: 'OG3-E-36',\n",
       " 9263: 'OG3-W-5',\n",
       " 9366: 'OG3-W-38',\n",
       " 10305: 'OG3-W-5',\n",
       " 10306: 'OG3-W-5',\n",
       " 10312: 'OG3-W-5',\n",
       " 10314: 'OG3-W-5',\n",
       " 10316: 'OG3-W-5',\n",
       " 10317: 'OG3-W-5',\n",
       " 10321: 'OG3-W-5',\n",
       " 10327: 'OG3-W-5',\n",
       " 10330: 'OG3-W-2',\n",
       " 10333: 'OG3-W-2',\n",
       " 10339: 'OG3-W-2',\n",
       " 10340: 'OG3-W-2',\n",
       " 10344: 'OG3-W-2',\n",
       " 10345: 'OG3-W-2',\n",
       " 10348: 'OG3-W-2',\n",
       " 10351: 'OG3-W-2',\n",
       " 10354: 'OG3-W-2',\n",
       " 10361: 'OG3-W-2',\n",
       " 10362: 'OG3-W-2',\n",
       " 10366: 'OG3-W-2',\n",
       " 10369: 'OG3-W-2',\n",
       " 10372: 'OG3-W-2',\n",
       " 10376: 'OG3-W-2',\n",
       " 10485: 'OG3-N-41',\n",
       " 10486: 'OG3-N-41',\n",
       " 10489: 'OG3-N-41',\n",
       " 10494: 'OG3-N-41',\n",
       " 10495: 'OG3-N-41',\n",
       " 10500: 'OG3-N-41',\n",
       " 10501: 'OG3-N-41',\n",
       " 10504: 'OG3-N-41',\n",
       " 10506: 'OG3-N-41',\n",
       " 10507: 'OG3-N-41',\n",
       " 10512: 'OG3-N-41',\n",
       " 10517: 'OG3-N-41',\n",
       " 10520: 'OG3-N-41',\n",
       " 10522: 'OG3-N-41',\n",
       " 10532: 'OG3-N-41',\n",
       " 10538: 'OG3-N-41',\n",
       " 10539: 'OG3-N-41',\n",
       " 10541: 'OG3-N-41',\n",
       " 10543: 'OG3-N-41',\n",
       " 10544: 'OG3-N-41',\n",
       " 10546: 'OG3-N-41',\n",
       " 10548: 'OG3-N-41',\n",
       " 10551: 'OG3-N-41',\n",
       " 10555: 'OG3-N-41',\n",
       " 10556: 'OG3-N-41',\n",
       " 10559: 'OG3-N-41',\n",
       " 10562: 'OG3-N-41',\n",
       " 10563: 'OG3-N-41',\n",
       " 10564: 'OG3-N-41',\n",
       " 10565: 'OG3-N-41',\n",
       " 10567: 'OG3-N-41',\n",
       " 10572: 'OG3-N-41',\n",
       " 10575: 'OG3-N-41',\n",
       " 10577: 'OG3-N-41',\n",
       " 10581: 'OG3-N-41',\n",
       " 10583: 'OG3-N-41',\n",
       " 10585: 'OG3-N-41',\n",
       " 10586: 'OG3-N-41',\n",
       " 10594: 'OG3-N-41',\n",
       " 10598: 'OG3-N-41',\n",
       " 10600: 'OG3-N-41',\n",
       " 10603: 'OG3-N-41',\n",
       " 10605: 'OG3-N-41',\n",
       " 10609: 'OG3-N-41',\n",
       " 10612: 'OG3-N-41',\n",
       " 10614: 'OG3-N-41',\n",
       " 10621: 'OG3-W-5',\n",
       " 10756: 'OG3-E-32',\n",
       " 10757: 'OG3-E-32',\n",
       " 10763: 'OG3-E-32',\n",
       " 10771: 'OG3-E-32',\n",
       " 10772: 'OG3-E-32',\n",
       " 10773: 'OG3-E-32',\n",
       " 10774: 'OG3-E-32',\n",
       " 10777: 'OG3-E-32',\n",
       " 10778: 'OG3-E-32',\n",
       " 10779: 'OG3-E-32',\n",
       " 10780: 'OG3-E-32',\n",
       " 10781: 'OG3-E-32',\n",
       " 10782: 'OG3-E-32',\n",
       " 10784: 'OG3-E-32',\n",
       " 10785: 'OG3-E-32',\n",
       " 10796: 'OG3-E-32',\n",
       " 10800: 'OG3-E-32',\n",
       " 10801: 'OG3-E-32',\n",
       " 10808: 'OG3-E-32',\n",
       " 10809: 'OG3-E-32',\n",
       " 10811: 'OG3-E-32',\n",
       " 10813: 'OG3-E-32',\n",
       " 10814: 'OG3-E-32',\n",
       " 10815: 'OG3-E-32',\n",
       " 10818: 'OG3-E-32',\n",
       " 10821: 'OG3-E-32',\n",
       " 10823: 'OG3-E-32',\n",
       " 10824: 'OG3-E-32',\n",
       " 10827: 'OG3-E-32',\n",
       " 10831: 'OG3-E-32',\n",
       " 10833: 'OG3-E-32',\n",
       " 10835: 'OG3-E-32',\n",
       " 10838: 'OG3-E-32',\n",
       " 10841: 'OG3-E-32',\n",
       " 10843: 'OG3-E-32',\n",
       " 10849: 'OG3-E-32',\n",
       " 10851: 'OG3-E-32',\n",
       " 10854: 'OG3-E-32',\n",
       " 10855: 'OG3-E-32',\n",
       " 10857: 'OG3-E-32',\n",
       " 10858: 'OG3-E-32',\n",
       " 10860: 'OG3-E-32',\n",
       " 10867: 'OG3-E-32',\n",
       " 10877: 'OG3-E-32',\n",
       " 10880: 'OG3-E-32',\n",
       " 10881: 'OG3-E-32',\n",
       " 10888: 'OG3-E-32',\n",
       " 10890: 'OG3-E-32',\n",
       " 10891: 'OG3-E-32',\n",
       " 10892: 'OG3-E-32',\n",
       " 10893: 'OG3-E-32',\n",
       " 10904: 'OG3-E-32',\n",
       " 10905: 'OG3-E-32',\n",
       " 10912: 'OG3-E-32',\n",
       " 10914: 'OG3-E-32',\n",
       " 10928: 'OG3-E-32',\n",
       " 10933: 'OG3-E-32',\n",
       " 10935: 'OG3-E-32',\n",
       " 10937: 'OG3-E-32',\n",
       " 10938: 'OG3-E-32',\n",
       " 10943: 'OG3-E-32',\n",
       " 10944: 'OG3-E-32',\n",
       " 10946: 'OG3-E-32',\n",
       " 10950: 'OG3-E-32',\n",
       " 10951: 'OG3-E-32',\n",
       " 10952: 'OG3-E-32',\n",
       " 10957: 'OG3-E-32',\n",
       " 10967: 'OG3-E-32',\n",
       " 10968: 'OG3-E-32',\n",
       " 10971: 'OG3-E-32',\n",
       " 10973: 'OG3-E-32',\n",
       " 11388: 'OG3-E-36',\n",
       " 20457: 'D1-2-16',\n",
       " 20492: 'D1-2-16',\n",
       " 20506: 'D1-2-16',\n",
       " 20518: 'D1-2-16',\n",
       " 20538: 'D1-2-16',\n",
       " 21037: 'B1-2-41',\n",
       " 21047: 'B1-2-41',\n",
       " 21055: 'B1-2-41',\n",
       " 21064: 'B1-2-41',\n",
       " 21081: 'B1-2-41',\n",
       " 21098: 'B1-2-41',\n",
       " 21112: 'B1-2-41',\n",
       " 21128: 'B1-2-41',\n",
       " 21144: 'B1-2-41',\n",
       " 21156: 'B1-2-41',\n",
       " 21162: 'B1-2-41',\n",
       " 21179: 'B1-2-41',\n",
       " 21195: 'B1-2-41',\n",
       " 21231: 'B1-2-41',\n",
       " 21235: 'B1-2-41',\n",
       " 21849: 'B100-2-32',\n",
       " 21853: 'B100-2-32',\n",
       " 21855: 'B100-2-32',\n",
       " 21857: 'B100-2-32',\n",
       " 21860: 'B100-2-32',\n",
       " 21861: 'B100-2-32',\n",
       " 21862: 'B100-2-32',\n",
       " 21869: 'B100-2-32',\n",
       " 21871: 'B100-2-32',\n",
       " 21875: 'B100-2-32',\n",
       " 21885: 'B100-2-32',\n",
       " 21887: 'B100-2-32',\n",
       " 21888: 'B100-2-32',\n",
       " 21891: 'B100-2-32',\n",
       " 21892: 'B100-2-32',\n",
       " 21893: 'B100-2-32',\n",
       " 21894: 'B100-2-32',\n",
       " 21896: 'B100-2-32',\n",
       " 21897: 'B100-2-32',\n",
       " 21899: 'B100-2-32',\n",
       " 21900: 'B100-2-32',\n",
       " 21901: 'B100-2-32',\n",
       " 21907: 'B100-2-32',\n",
       " 21911: 'B100-2-32',\n",
       " 21918: 'B100-2-32',\n",
       " 23273: 'D1-2-16',\n",
       " 23277: 'D1-2-16',\n",
       " 23291: 'D1-2-16',\n",
       " 23292: 'D1-2-16',\n",
       " 23302: 'D1-2-16',\n",
       " 23311: 'D1-2-16',\n",
       " 24856: 'D100-1-38',\n",
       " 24862: 'D100-1-38',\n",
       " 24863: 'D100-1-38',\n",
       " 24878: 'D100-1-38',\n",
       " 24890: 'D100-1-38',\n",
       " 24892: 'D100-1-38',\n",
       " 24906: 'D100-1-38',\n",
       " 24909: 'D100-1-38',\n",
       " 24925: 'D100-1-38',\n",
       " 29363: 'F1-1-6',\n",
       " 29368: 'F1-1-6',\n",
       " 32073: 'E10-2-33',\n",
       " 32074: 'E10-2-33',\n",
       " 32081: 'E10-2-33',\n",
       " 32082: 'E10-2-33',\n",
       " 32090: 'E10-2-33',\n",
       " 32094: 'E10-2-33',\n",
       " 32103: 'E10-2-33',\n",
       " 32105: 'E10-2-33',\n",
       " 32106: 'E10-2-33',\n",
       " 32107: 'E10-2-33',\n",
       " 32125: 'E10-2-33',\n",
       " 32134: 'E10-2-33',\n",
       " 32143: 'E10-2-33',\n",
       " 32149: 'E10-2-33',\n",
       " 32162: 'E10-2-33',\n",
       " 32164: 'E10-2-33',\n",
       " 32845: 'B1-1-43',\n",
       " 32847: 'B1-1-43',\n",
       " 32849: 'B1-1-43',\n",
       " 33596: 'E1-1-10',\n",
       " 33597: 'E1-1-10',\n",
       " 33627: 'E1-1-10',\n",
       " 33633: 'E1-1-10',\n",
       " 33646: 'E1-1-10',\n",
       " 33665: 'E1-1-10',\n",
       " 33683: 'E1-1-10',\n",
       " 33732: 'E1-1-10',\n",
       " 33739: 'E1-1-10',\n",
       " 33750: 'E1-1-10',\n",
       " 33756: 'E1-1-10',\n",
       " 33773: 'E1-1-10',\n",
       " 33778: 'E1-1-10',\n",
       " 33790: 'E1-1-10',\n",
       " 33793: 'E1-1-10',\n",
       " 33797: 'E1-1-10',\n",
       " 33817: 'E1-1-10',\n",
       " 33837: 'E1-1-10',\n",
       " 33840: 'E1-1-10',\n",
       " 33846: 'E1-1-10',\n",
       " 33875: 'E1-1-10',\n",
       " 33985: 'E1-1-34',\n",
       " 33986: 'E1-1-34',\n",
       " 33993: 'E1-1-34',\n",
       " 33998: 'E1-1-34',\n",
       " 34004: 'E1-1-34',\n",
       " 34009: 'E1-1-34',\n",
       " 34036: 'E1-1-34',\n",
       " 34042: 'E1-1-34',\n",
       " 34044: 'E1-1-34',\n",
       " 34052: 'E1-1-34',\n",
       " 34056: 'E1-1-34',\n",
       " 34060: 'E1-1-34',\n",
       " 34061: 'E1-1-34',\n",
       " 34063: 'E1-1-34',\n",
       " 34067: 'E1-1-34',\n",
       " 34075: 'E1-1-34',\n",
       " 34078: 'E1-1-34',\n",
       " 34079: 'E1-1-34',\n",
       " 34085: 'E1-1-34',\n",
       " 34088: 'E1-1-34',\n",
       " 34093: 'E1-1-34',\n",
       " 34094: 'E1-1-34',\n",
       " 34103: 'E1-1-34',\n",
       " 34107: 'E1-1-34',\n",
       " 34114: 'E1-1-34',\n",
       " 34119: 'E1-1-34',\n",
       " 34132: 'E1-1-34',\n",
       " 34133: 'E1-1-34',\n",
       " 34143: 'E1-1-34',\n",
       " 34148: 'E1-1-34',\n",
       " 34162: 'E1-1-34',\n",
       " 34169: 'E1-1-34',\n",
       " 34174: 'E1-1-34',\n",
       " 34179: 'E1-1-34',\n",
       " 34199: 'E1-1-34',\n",
       " 34209: 'E1-1-34',\n",
       " 34212: 'E1-1-34',\n",
       " 34215: 'E1-1-34',\n",
       " 34220: 'E1-1-34',\n",
       " 34226: 'E1-1-34',\n",
       " 34233: 'E1-1-34',\n",
       " 34241: 'E1-1-34',\n",
       " 34242: 'E1-1-34',\n",
       " 34244: 'E1-1-34',\n",
       " 34249: 'E1-1-34',\n",
       " 34250: 'E1-1-34',\n",
       " 34251: 'E1-1-34',\n",
       " 34261: 'E1-1-34',\n",
       " 34263: 'E1-1-34',\n",
       " 34265: 'E1-1-34',\n",
       " 34266: 'E1-1-34',\n",
       " 34269: 'E1-1-34',\n",
       " 34273: 'E1-1-34',\n",
       " 34275: 'E1-1-34',\n",
       " 34279: 'E1-1-34',\n",
       " 34285: 'E1-1-34',\n",
       " 34290: 'E1-1-34',\n",
       " 34296: 'E1-1-34',\n",
       " 34306: 'E1-1-34',\n",
       " 34318: 'E1-1-34',\n",
       " 34333: 'E1-1-34',\n",
       " 34337: 'E1-1-34',\n",
       " 34338: 'E1-1-34',\n",
       " 34341: 'E1-1-34',\n",
       " 34345: 'E1-1-34',\n",
       " 34346: 'E1-1-34',\n",
       " 34350: 'E1-1-34',\n",
       " 34356: 'E1-1-34',\n",
       " 34357: 'E1-1-34',\n",
       " 34361: 'E1-1-34',\n",
       " 34363: 'E1-1-34',\n",
       " 34369: 'E1-1-34',\n",
       " 34380: 'E1-1-34',\n",
       " 34386: 'E1-1-34',\n",
       " 34395: 'E1-1-34',\n",
       " 34396: 'E1-1-34',\n",
       " 34407: 'E1-1-34',\n",
       " 34427: 'E1-1-34',\n",
       " 34429: 'E1-1-34',\n",
       " 34441: 'E1-1-34',\n",
       " 34450: 'E1-1-34',\n",
       " 34763: 'E1-2-10',\n",
       " 34770: 'E1-2-10',\n",
       " 34771: 'E1-2-10',\n",
       " 34775: 'E1-2-10',\n",
       " 34777: 'E1-2-10',\n",
       " 34780: 'E1-2-10',\n",
       " 34784: 'E1-2-10',\n",
       " 34788: 'E1-2-10',\n",
       " 34793: 'E1-2-10',\n",
       " 34806: 'E1-2-10',\n",
       " 34807: 'E1-2-10',\n",
       " 34810: 'E1-2-10',\n",
       " 34812: 'E1-2-10',\n",
       " 34830: 'E1-2-10',\n",
       " 34831: 'E1-2-10',\n",
       " 34845: 'E1-2-10',\n",
       " 34851: 'E1-2-10',\n",
       " 35155: 'E10-1-19',\n",
       " 35158: 'E10-1-19',\n",
       " 35163: 'E10-1-19',\n",
       " 35172: 'E10-1-19',\n",
       " 35174: 'E10-1-19',\n",
       " 35175: 'E10-1-19',\n",
       " 35178: 'E10-1-19',\n",
       " 35180: 'E10-1-19',\n",
       " 35183: 'E10-1-19',\n",
       " 35185: 'E10-1-19',\n",
       " 35186: 'E10-1-19',\n",
       " 35192: 'E10-1-19',\n",
       " 35198: 'E10-1-19',\n",
       " 35199: 'E10-1-19',\n",
       " 35200: 'E10-1-19',\n",
       " 35202: 'E10-1-19',\n",
       " 35215: 'E1-1-10',\n",
       " 35216: 'E1-1-10',\n",
       " 35218: 'E1-1-10',\n",
       " 35219: 'E1-1-10',\n",
       " 35547: 'E1-1-34',\n",
       " 35550: 'E1-1-34',\n",
       " 35565: 'E1-1-34',\n",
       " 35577: 'E1-1-34',\n",
       " 35578: 'E1-1-34',\n",
       " 35581: 'E1-1-34',\n",
       " 35584: 'E1-1-34',\n",
       " 35586: 'E1-1-34',\n",
       " 35588: 'E1-1-34',\n",
       " 35597: 'E1-1-34',\n",
       " 35600: 'E1-1-34',\n",
       " 35601: 'E1-1-34',\n",
       " 35602: 'E1-1-34',\n",
       " 35612: 'E1-1-34',\n",
       " 35617: 'E1-1-34',\n",
       " 35639: 'E1-1-34',\n",
       " 35640: 'E1-1-34',\n",
       " 35644: 'E1-1-34',\n",
       " 35651: 'E1-1-34',\n",
       " 35658: 'E1-1-34',\n",
       " 35664: 'E1-1-34',\n",
       " 35668: 'E1-1-34',\n",
       " 35672: 'E1-1-34',\n",
       " 35674: 'E1-1-34',\n",
       " 35684: 'E1-1-34',\n",
       " 35690: 'E1-1-34',\n",
       " 35707: 'E1-1-34',\n",
       " 35708: 'E1-1-34',\n",
       " 35711: 'E1-1-34',\n",
       " 35713: 'E1-1-34',\n",
       " 35721: 'E1-1-34',\n",
       " 35728: 'E1-1-34',\n",
       " 35732: 'E1-1-34',\n",
       " 35740: 'E1-1-34',\n",
       " 35754: 'E1-1-34',\n",
       " 35766: 'E1-1-34',\n",
       " 35774: 'E1-1-34',\n",
       " 35775: 'E1-1-34',\n",
       " 35780: 'E1-1-34',\n",
       " 35782: 'E1-1-34',\n",
       " 35784: 'E1-1-34',\n",
       " 35785: 'E1-1-34',\n",
       " 35804: 'E1-1-34',\n",
       " 35805: 'E1-1-34',\n",
       " 35810: 'E1-1-34',\n",
       " 35811: 'E1-1-34',\n",
       " 35819: 'E1-1-34',\n",
       " 35820: 'E1-1-34',\n",
       " 35828: 'E1-1-34',\n",
       " 35831: 'E1-1-34',\n",
       " 35845: 'E1-1-34',\n",
       " 35849: 'E1-1-34',\n",
       " 35852: 'E1-1-34',\n",
       " 35856: 'E1-1-34',\n",
       " 35859: 'E1-1-34',\n",
       " 35860: 'E1-1-34',\n",
       " 35877: 'E1-1-34',\n",
       " 35888: 'E1-1-34',\n",
       " 35894: 'E1-1-34',\n",
       " 35897: 'E1-1-34',\n",
       " 35899: 'E1-1-34',\n",
       " 35900: 'E1-1-34',\n",
       " 35901: 'E1-1-34',\n",
       " 35902: 'E1-1-34',\n",
       " 35906: 'E1-1-34',\n",
       " 35907: 'E1-1-34',\n",
       " 35918: 'E1-1-34',\n",
       " 35955: 'E1-1-34',\n",
       " 35965: 'E1-1-34',\n",
       " 35972: 'E1-1-34',\n",
       " 35973: 'E1-1-34',\n",
       " 35976: 'E1-1-34',\n",
       " 35978: 'E1-1-34',\n",
       " 35982: 'E1-1-34',\n",
       " 35986: 'E1-1-34',\n",
       " 35987: 'E1-1-34',\n",
       " 35989: 'E1-1-34',\n",
       " 35990: 'E1-1-34',\n",
       " 35991: 'E1-1-34',\n",
       " 35996: 'E1-1-34',\n",
       " 36005: 'E1-1-34',\n",
       " 36019: 'E1-1-34',\n",
       " 36023: 'E1-1-34',\n",
       " 36033: 'E1-1-34',\n",
       " 36044: 'E1-1-34',\n",
       " 36051: 'E1-1-34',\n",
       " 36052: 'E1-1-34',\n",
       " 36054: 'E1-1-34',\n",
       " 36058: 'E1-1-34',\n",
       " 36065: 'E1-1-34',\n",
       " 36388: 'B100-1-13',\n",
       " 36390: 'B100-1-13',\n",
       " 36393: 'B100-1-13',\n",
       " 36630: 'F1-2-11',\n",
       " 36633: 'F1-2-11',\n",
       " 36638: 'F1-2-11',\n",
       " 36642: 'F1-2-11',\n",
       " 36643: 'F1-2-11',\n",
       " 36645: 'F1-2-11',\n",
       " 36647: 'F1-2-11',\n",
       " 36649: 'F1-2-11',\n",
       " 36652: 'F1-2-11',\n",
       " 36653: 'F1-2-11',\n",
       " 36654: 'F1-2-11',\n",
       " 36656: 'F1-2-11',\n",
       " 36662: 'F1-2-11',\n",
       " 36664: 'F1-2-11',\n",
       " 36667: 'F1-2-11',\n",
       " 36679: 'F1-2-11',\n",
       " 36911: 'B10-1-31',\n",
       " 37708: 'B10-1-31',\n",
       " 37709: 'B10-1-31',\n",
       " 37710: 'B10-1-31',\n",
       " 37713: 'B10-1-31',\n",
       " 37722: 'B10-1-31',\n",
       " 37723: 'B10-1-31',\n",
       " 37724: 'B10-1-31',\n",
       " 37725: 'B10-1-31',\n",
       " 37726: 'B10-1-31',\n",
       " 37729: 'B10-1-31',\n",
       " 37730: 'B10-1-31',\n",
       " 37733: 'B10-1-31',\n",
       " 37738: 'B10-1-31',\n",
       " 37744: 'B10-1-31',\n",
       " 37748: 'B10-1-31',\n",
       " 37749: 'B10-1-31',\n",
       " 38246: 'B100-2-37',\n",
       " 39730: 'B10-1-31',\n",
       " 39731: 'B10-1-31',\n",
       " 39732: 'B10-1-31',\n",
       " 39733: 'B10-1-31',\n",
       " 39734: 'B10-1-31',\n",
       " 40641: 'B100-2-37',\n",
       " 40643: 'B100-2-37',\n",
       " 46616: 'D10-1-4_new',\n",
       " 46623: 'D10-1-4_new',\n",
       " 46633: 'D10-1-4_new',\n",
       " 46644: 'D10-1-4_new',\n",
       " 46649: 'D10-1-4_new',\n",
       " 46650: 'D10-1-4_new',\n",
       " 46674: 'D10-1-4_new',\n",
       " 49300: '20130226-084009(13)1',\n",
       " 49302: '20130226-134305(16)2',\n",
       " 49312: '20130302-072703(24)2',\n",
       " 49314: '20130226-134809(21)2',\n",
       " 49315: '20130228-162503(22)1',\n",
       " 49331: '20130226-100802(15)2',\n",
       " 49334: '20130225-141050(9)2',\n",
       " 49437: '20130111-161108(20)9',\n",
       " 49446: '20121229-154833(15)4',\n",
       " 49450: '20130207-111550(42)9',\n",
       " 49451: '20121221-081047(6)1',\n",
       " 49457: '20130221-090438(62)7',\n",
       " 49458: '20121229-140531(11)1',\n",
       " 49460: '20130117-112909(32)5',\n",
       " 49461: '20130213-082116(43)9',\n",
       " 49463: '20130213-113457(44)6',\n",
       " 49465: '20130220-072047(59)4',\n",
       " 49466: '20130216-074302(49)2',\n",
       " 49468: '20130219-122813(57)6',\n",
       " 49471: '20121225-035939(7)6',\n",
       " 49473: '20130220-072055(60)7',\n",
       " 49479: '20130110-071446(18)9',\n",
       " 49480: '20130226-095308(67)5',\n",
       " 49482: '20130122-103046(33)1',\n",
       " 49484: '20130115-112310(30)9',\n",
       " 49493: '20121216-101904(1)8',\n",
       " 49497: '20121228-214952(10)5',\n",
       " 49498: '20130220-072742(61)10',\n",
       " 49504: '20130216-100000(63)0',\n",
       " 49619: '20130122-180640(31)10',\n",
       " 49620: '20130122-082907(27)10',\n",
       " 49622: '20130121-090324(14)6',\n",
       " 49625: '20121223-100000(3)0',\n",
       " 49644: '20130109-100000(20)0',\n",
       " 49648: '20130121-090522(24)8',\n",
       " 49649: '20130121-062637(8)10',\n",
       " 49657: '20130121-090449(21)2',\n",
       " 49660: '20130206-130802(1)4',\n",
       " 49889: '20121216-090000(1)0',\n",
       " 49897: '20121226-071641(51)6',\n",
       " 49912: '20121222-102152(23)3',\n",
       " 49915: '20121222-102332(33)1',\n",
       " 49923: '20121225-071408(50)5',\n",
       " 49938: '20121220-010942(16)4',\n",
       " 50128: '20130202-100000(3)0',\n",
       " 50164: '20130307-090000(1)0',\n",
       " 50514: '20130116-124944(155)5',\n",
       " 50523: '20130107-233340(126)10',\n",
       " 50524: '20121231-205300(89)10',\n",
       " 50532: '20130122-120933(176)8',\n",
       " 50534: '20121227-150624(61)4',\n",
       " 50535: '20130104-194648(102)5',\n",
       " 50543: '20130119-003408(160)1',\n",
       " 50574: '20130121-062900(168)2',\n",
       " 50577: '20130110-151040(143)3',\n",
       " 50587: '20130107-235815(127)7',\n",
       " 50623: '20130109-161049(141)9',\n",
       " 50645: '20121229-150741(72)6',\n",
       " 50812: '20130111-101548(1)1',\n",
       " 51896: '20130127-161954(2)2',\n",
       " 51897: '20130127-100000(1)0',\n",
       " 52028: '20130226-182731(256)3',\n",
       " 52036: '20130129-110935(188)9',\n",
       " 52037: '20130310-130713(284)5',\n",
       " 52047: '20130315-151942(307)6',\n",
       " 52048: '20130203-150811(209)9',\n",
       " 52052: '20130124-132357(179)7',\n",
       " 52056: '20130319-014043(312)6',\n",
       " 52057: '20130317-170050(309)4',\n",
       " 52061: '20130312-124043(300)1',\n",
       " 52062: '20130312-090235(291)10',\n",
       " 52063: '20130208-235630(236)8',\n",
       " 52074: '20130204-073300(212)6',\n",
       " 52087: '20130213-110749(243)1',\n",
       " 52090: '20130213-001424(239)10',\n",
       " 52100: '20130207-111235(221)1',\n",
       " 52101: '20130131-171719(193)8',\n",
       " 52109: '20130225-121643(252)3',\n",
       " 52113: '20130317-170107(310)4',\n",
       " 52122: '20130124-132418(180)10',\n",
       " 52123: '20130202-111755(202)6',\n",
       " 52137: '20130303-063645(263)7',\n",
       " 52138: '20130308-203943(280)10',\n",
       " 52146: '20130208-112741(233)1',\n",
       " 52147: '20130124-132520(181)8',\n",
       " 52150: '20130308-213550(281)3',\n",
       " 52153: '20130130-005610(190)9',\n",
       " 52154: '20130312-090244(292)2',\n",
       " 52155: '20130205-104713(216)1',\n",
       " 52159: '20130306-155530(277)5',\n",
       " 52168: '20130130-122523(192)9',\n",
       " 52169: '20130221-181007(249)10',\n",
       " 52173: '20130207-111840(224)5',\n",
       " 52175: '20130306-082343(270)8',\n",
       " 52441: '20121217-023536(2)7',\n",
       " 52442: '20121217-023549(3)6',\n",
       " 53396: '20130315-101925(2)3',\n",
       " 53458: '20130115-105001(22)10',\n",
       " 53461: '20130116-093012(23)8',\n",
       " 53462: '20130122-143603(30)6',\n",
       " 53465: '20130113-160548(16)2',\n",
       " 53469: '20121231-084308(7)6',\n",
       " 53471: '20121221-065308(5)2',\n",
       " 53472: '20130114-104305(21)7',\n",
       " 53473: '20130131-065501(32)5',\n",
       " 53474: '20130121-100728(28)8',\n",
       " 53481: '20130113-160603(17)9',\n",
       " 53482: '20121229-090000(14)0',\n",
       " 53490: '20130119-083114(26)4',\n",
       " 53493: '20130105-105105(8)9'}"
      ]
     },
     "execution_count": 14,
     "metadata": {},
     "output_type": "execute_result"
    }
   ],
   "source": [
    "correct_loc"
   ]
  },
  {
   "cell_type": "code",
   "execution_count": 15,
   "metadata": {},
   "outputs": [],
   "source": [
    "# Some images in the same sequence had different locations because:\n",
    "# 'VJRS-1-1' vs 'VJRS-1-1 (1)'\n",
    "# OP3-N-39 Calibration vs OP3-N-39\n",
    "\n",
    "for im in zsl_cct_embedded:\n",
    "    if ' ' in im['location']:\n",
    "        new_loc = im['location'].split(' ')[0]\n",
    "        #print('1 - replacing {} with {}'.format(im['location'], new_loc))\n",
    "        im['location'] = new_loc\n",
    "    if im['seq_id'] in correct_loc:\n",
    "        #print('2 - replacing {} with {}'.format(im['location'], correct_loc[im['seq_id']]))\n",
    "        im['location'] = correct_loc[im['seq_id']]"
   ]
  },
  {
   "cell_type": "code",
   "execution_count": 16,
   "metadata": {
    "scrolled": false
   },
   "outputs": [
    {
     "name": "stdout",
     "output_type": "stream",
     "text": [
      "The dataset_name is set to zsl_borneo. Please make sure this is correct!\n",
      "Putting 504306 images into sequences... The docs object (first argument) passed in will be altered!\n",
      "Number of sequences: 53784\n",
      "Checking the location field...\n",
      "\n",
      "all_img_properties\n",
      "{'distinguishing_characteristics', 'primary_sex', 'secondary_group', 'behaviour', 'secondary_group_primary image', 'secondary_primary image', 'datetime', 'secondary_sex', 'file', 'frame_num', 'tertiary_group_primary image', 'prominence', 'off_ground', 'time_period_night_day', 'primary_group', 'secondary_distinguishing_characteristics', 'primary_uncertainties', 'original_set_total', 'tertiary_group_new contact', 'location', 'aware_of_camera', 'image_problem', 'primary_age', 'original_set_id', 'multiple_species', 'secondary_group_new contact', 'lighting', 'primary_group_new_contact', 'tertiary_group', 'primary_number_of_individuals', 'primary_group_primary_image', 'tertiary_primary image', 'primary_spooked', 'original_set_index', 'secondary_uncertainties', 'secondary_species', 'observer', 'id', 'excluded_from_analysis', 'file_path', 'secondary_new contact', 'movement_moving_stationary', 'primary_new_contact', 'non_target', 'tertiary_new contact', 'class', 'rights_holder', 'primary_species', 'primary_primary_image', 'tertiary_species'}\n",
      "\n",
      "img_level_properties\n",
      "{'distinguishing_characteristics', 'primary_sex', 'secondary_group', 'behaviour', 'secondary_group_primary image', 'secondary_primary image', 'datetime', 'secondary_sex', 'file', 'frame_num', 'tertiary_group_primary image', 'prominence', 'off_ground', 'time_period_night_day', 'primary_group', 'secondary_distinguishing_characteristics', 'primary_uncertainties', 'original_set_total', 'tertiary_group_new contact', 'aware_of_camera', 'image_problem', 'primary_age', 'multiple_species', 'secondary_group_new contact', 'lighting', 'primary_group_new_contact', 'tertiary_group', 'primary_number_of_individuals', 'primary_group_primary_image', 'tertiary_primary image', 'primary_spooked', 'original_set_index', 'secondary_uncertainties', 'observer', 'secondary_species', 'id', 'excluded_from_analysis', 'file_path', 'secondary_new contact', 'movement_moving_stationary', 'primary_new_contact', 'non_target', 'tertiary_new contact', 'class', 'primary_species', 'primary_primary_image', 'tertiary_species'}\n",
      "\n",
      "image-level properties that really should be sequence-level\n",
      "{'rights_holder', 'original_set_id', 'location'}\n",
      "\n",
      "! Sequence-level property rights_holder with value Oliver Wearne should be a dataset-level property. Removed from sequences.\n",
      "Finished processing sequences.\n",
      "Example sequence items:\n",
      "\n",
      "{'dataset': 'zsl_borneo', 'images': [{'original_set_total': 10, 'file': 'Maliau/Maliau_3/OG1-W-8/20120421-190056(14)7 of 10.jpg', 'frame_num': 7, 'prominence': 1, 'class': ['banded civet'], 'original_set_index': 7, 'id': '3b6a06ec-9910-11e9-98e8-1c872c5fa89b', 'datetime': '2012-04-21T19:00:56', 'primary_species': 'Banded civet', 'file_path': 'Maliau/Maliau_3/OG1-W-8/20120421-190056(14)7 of 10.jpg'}, {'original_set_total': 10, 'file': 'Maliau/Maliau_3/OG1-W-8/20120421-190053(14)2 of 10.jpg', 'frame_num': 2, 'prominence': 1, 'class': ['banded civet'], 'original_set_index': 2, 'id': '3b6a0659-9910-11e9-98e8-1c872c5fa89b', 'datetime': '2012-04-21T19:00:53', 'primary_species': 'Banded civet', 'file_path': 'Maliau/Maliau_3/OG1-W-8/20120421-190053(14)2 of 10.jpg'}, {'original_set_total': 10, 'file': 'Maliau/Maliau_3/OG1-W-8/20120421-190057(14)8 of 10.jpg', 'frame_num': 8, 'prominence': 1, 'class': ['banded civet'], 'original_set_index': 8, 'id': '3b6a062c-9910-11e9-98e8-1c872c5fa89b', 'datetime': '2012-04-21T19:00:57', 'primary_species': 'Banded civet', 'file_path': 'Maliau/Maliau_3/OG1-W-8/20120421-190057(14)8 of 10.jpg'}, {'original_set_total': 10, 'file': 'Maliau/Maliau_3/OG1-W-8/20120421-190054(14)3 of 10.jpg', 'frame_num': 3, 'prominence': 1, 'class': ['banded civet'], 'original_set_index': 3, 'id': '3b6a071e-9910-11e9-98e8-1c872c5fa89b', 'datetime': '2012-04-21T19:00:54', 'primary_species': 'Banded civet', 'file_path': 'Maliau/Maliau_3/OG1-W-8/20120421-190054(14)3 of 10.jpg'}, {'original_set_total': 10, 'file': 'Maliau/Maliau_3/OG1-W-8/20120421-190055(14)6 of 10.jpg', 'frame_num': 6, 'prominence': 1, 'class': ['banded civet'], 'original_set_index': 6, 'id': '3b6a06ee-9910-11e9-98e8-1c872c5fa89b', 'datetime': '2012-04-21T19:00:55', 'primary_species': 'Banded civet', 'file_path': 'Maliau/Maliau_3/OG1-W-8/20120421-190055(14)6 of 10.jpg'}, {'original_set_total': 10, 'primary_new_contact': 'New Contact', 'file': 'Maliau/Maliau_3/OG1-W-8/20120421-190052(14)1 of 10.jpg', 'frame_num': 1, 'prominence': 1, 'class': ['banded civet'], 'original_set_index': 1, 'id': '3b6a06ba-9910-11e9-98e8-1c872c5fa89b', 'datetime': '2012-04-21T19:00:52', 'primary_species': 'Banded civet', 'file_path': 'Maliau/Maliau_3/OG1-W-8/20120421-190052(14)1 of 10.jpg'}, {'original_set_total': 10, 'file': 'Maliau/Maliau_3/OG1-W-8/20120421-190057(14)9 of 10.jpg', 'frame_num': 9, 'prominence': 1, 'class': ['banded civet'], 'original_set_index': 9, 'id': '3b6a06ca-9910-11e9-98e8-1c872c5fa89b', 'datetime': '2012-04-21T19:00:57', 'primary_species': 'Banded civet', 'file_path': 'Maliau/Maliau_3/OG1-W-8/20120421-190057(14)9 of 10.jpg'}, {'file': 'Maliau/Maliau_3/OG1-W-8/20120503-100000(14)0 of 0.jpg', 'original_set_total': 0, 'frame_num': 0, 'non_target': 'Time-lapse', 'prominence': 1, 'class': ['empty'], 'original_set_index': 0, 'id': '3b6a06ef-9910-11e9-98e8-1c872c5fa89b', 'datetime': '2012-05-03T10:00:00', 'primary_species': 'Empty', 'file_path': 'Maliau/Maliau_3/OG1-W-8/20120503-100000(14)0 of 0.jpg'}, {'original_set_total': 10, 'file': 'Maliau/Maliau_3/OG1-W-8/20120421-190054(14)4 of 10.jpg', 'frame_num': 4, 'prominence': 1, 'class': ['banded civet'], 'original_set_index': 4, 'id': '3b6a05de-9910-11e9-98e8-1c872c5fa89b', 'datetime': '2012-04-21T19:00:54', 'primary_species': 'Banded civet', 'file_path': 'Maliau/Maliau_3/OG1-W-8/20120421-190054(14)4 of 10.jpg'}, {'original_set_total': 10, 'file': 'Maliau/Maliau_3/OG1-W-8/20120421-190055(14)5 of 10.jpg', 'frame_num': 5, 'prominence': 1, 'class': ['banded civet'], 'original_set_index': 5, 'id': '3b6a06ce-9910-11e9-98e8-1c872c5fa89b', 'datetime': '2012-04-21T19:00:55', 'primary_species': 'Banded civet', 'file_path': 'Maliau/Maliau_3/OG1-W-8/20120421-190055(14)5 of 10.jpg'}, {'original_set_total': 10, 'file': 'Maliau/Maliau_3/OG1-W-8/20120421-190058(14)10 of 10.jpg', 'frame_num': 10, 'prominence': 1, 'class': ['banded civet'], 'original_set_index': 10, 'id': '3b6a063b-9910-11e9-98e8-1c872c5fa89b', 'datetime': '2012-04-21T19:00:58', 'primary_species': 'Banded civet', 'file_path': 'Maliau/Maliau_3/OG1-W-8/20120421-190058(14)10 of 10.jpg'}], 'seq_id': '0', 'original_set_id': 14, 'location': 'OG1-W-8'}\n",
      "\n",
      "[{'dataset': 'zsl_borneo', 'images': [{'original_set_total': 10, 'file': 'SAFE/SAFE_3/F1-1-27/20111122-123813(10)1 of 10.jpg', 'frame_num': 1, 'prominence': 1, 'class': ['red muntjac'], 'original_set_index': 1, 'primary_age': 'Sub-adult', 'id': '48529788-9910-11e9-98e8-1c872c5fa89b', 'datetime': '2011-11-22T12:38:13', 'primary_species': 'Red muntjac', 'file_path': 'SAFE/SAFE_3/F1-1-27/20111122-123813(10)1 of 10.jpg'}, {'original_set_total': 10, 'file': 'SAFE/SAFE_3/F1-1-27/20111122-123814(10)3 of 10.jpg', 'frame_num': 3, 'prominence': 1, 'class': ['red muntjac'], 'original_set_index': 3, 'primary_age': 'Sub-adult', 'id': '485b80e6-9910-11e9-98e8-1c872c5fa89b', 'datetime': '2011-11-22T12:38:14', 'primary_species': 'Red muntjac', 'file_path': 'SAFE/SAFE_3/F1-1-27/20111122-123814(10)3 of 10.jpg'}, {'original_set_total': 10, 'file': 'SAFE/SAFE_3/F1-1-27/20111122-123816(10)5 of 10.jpg', 'frame_num': 5, 'prominence': 1, 'class': ['red muntjac'], 'original_set_index': 5, 'primary_age': 'Sub-adult', 'id': '485b8080-9910-11e9-98e8-1c872c5fa89b', 'datetime': '2011-11-22T12:38:16', 'primary_species': 'Red muntjac', 'file_path': 'SAFE/SAFE_3/F1-1-27/20111122-123816(10)5 of 10.jpg'}, {'original_set_total': 10, 'file': 'SAFE/SAFE_3/F1-1-27/20111122-123818(10)9 of 10.jpg', 'frame_num': 9, 'prominence': 1, 'class': ['red muntjac'], 'original_set_index': 9, 'primary_age': 'Sub-adult', 'id': '485297ba-9910-11e9-98e8-1c872c5fa89b', 'datetime': '2011-11-22T12:38:18', 'primary_species': 'Red muntjac', 'file_path': 'SAFE/SAFE_3/F1-1-27/20111122-123818(10)9 of 10.jpg'}, {'original_set_total': 10, 'file': 'SAFE/SAFE_3/F1-1-27/20111122-123819(10)10 of 10.jpg', 'frame_num': 10, 'prominence': 1, 'class': ['red muntjac'], 'original_set_index': 10, 'primary_age': 'Sub-adult', 'id': '485297c8-9910-11e9-98e8-1c872c5fa89b', 'datetime': '2011-11-22T12:38:19', 'primary_species': 'Red muntjac', 'file_path': 'SAFE/SAFE_3/F1-1-27/20111122-123819(10)10 of 10.jpg'}, {'original_set_total': 10, 'file': 'SAFE/SAFE_3/F1-1-27/20111122-123814(10)2 of 10.jpg', 'frame_num': 2, 'prominence': 1, 'class': ['red muntjac'], 'original_set_index': 2, 'primary_age': 'Sub-adult', 'id': '485297b4-9910-11e9-98e8-1c872c5fa89b', 'datetime': '2011-11-22T12:38:14', 'primary_species': 'Red muntjac', 'file_path': 'SAFE/SAFE_3/F1-1-27/20111122-123814(10)2 of 10.jpg'}, {'original_set_total': 10, 'file': 'SAFE/SAFE_3/F1-1-27/20111122-123818(10)8 of 10.jpg', 'frame_num': 8, 'prominence': 1, 'class': ['red muntjac'], 'original_set_index': 8, 'primary_age': 'Sub-adult', 'id': '485297c0-9910-11e9-98e8-1c872c5fa89b', 'datetime': '2011-11-22T12:38:18', 'primary_species': 'Red muntjac', 'file_path': 'SAFE/SAFE_3/F1-1-27/20111122-123818(10)8 of 10.jpg'}, {'original_set_total': 10, 'file': 'SAFE/SAFE_3/F1-1-27/20111122-123815(10)4 of 10.jpg', 'frame_num': 4, 'prominence': 1, 'class': ['red muntjac'], 'original_set_index': 4, 'primary_age': 'Sub-adult', 'id': '4852978e-9910-11e9-98e8-1c872c5fa89b', 'datetime': '2011-11-22T12:38:15', 'primary_species': 'Red muntjac', 'file_path': 'SAFE/SAFE_3/F1-1-27/20111122-123815(10)4 of 10.jpg'}, {'original_set_total': 10, 'file': 'SAFE/SAFE_3/F1-1-27/20111122-123816(10)6 of 10.jpg', 'frame_num': 6, 'prominence': 1, 'class': ['red muntjac'], 'original_set_index': 6, 'primary_age': 'Sub-adult', 'id': '485b80a8-9910-11e9-98e8-1c872c5fa89b', 'datetime': '2011-11-22T12:38:16', 'primary_species': 'Red muntjac', 'file_path': 'SAFE/SAFE_3/F1-1-27/20111122-123816(10)6 of 10.jpg'}, {'original_set_total': 10, 'file': 'SAFE/SAFE_3/F1-1-27/20111122-123817(10)7 of 10.jpg', 'frame_num': 7, 'prominence': 1, 'class': ['red muntjac'], 'original_set_index': 7, 'primary_age': 'Sub-adult', 'id': '4852977b-9910-11e9-98e8-1c872c5fa89b', 'datetime': '2011-11-22T12:38:17', 'primary_species': 'Red muntjac', 'file_path': 'SAFE/SAFE_3/F1-1-27/20111122-123817(10)7 of 10.jpg'}], 'seq_id': '31015', 'original_set_id': 10, 'location': 'F1-1-27'}]\n",
      "\n"
     ]
    }
   ],
   "source": [
    "zsl_sequences = cct_to_megadb.process_sequences(zsl_cct_embedded, 'zsl_borneo')"
   ]
  },
  {
   "cell_type": "code",
   "execution_count": 25,
   "metadata": {},
   "outputs": [
    {
     "data": {
      "text/plain": [
       "53746"
      ]
     },
     "execution_count": 25,
     "metadata": {},
     "output_type": "execute_result"
    }
   ],
   "source": [
    "zsl_sequences_good = []\n",
    "\n",
    "for seq in zsl_sequences:\n",
    "    if seq['seq_id'] not in bad_seq_ids:\n",
    "        zsl_sequences_good.append(seq)\n",
    "        \n",
    "len(zsl_sequences_good)"
   ]
  },
  {
   "cell_type": "code",
   "execution_count": 64,
   "metadata": {},
   "outputs": [
    {
     "name": "stdout",
     "output_type": "stream",
     "text": [
      "Verified that the sequence items conform to the schema.\n",
      "Verified that the sequence items meet the additional requirements.\n"
     ]
    }
   ],
   "source": [
    "sequences_schema_check.sequences_schema_check(zsl_sequences_good)"
   ]
  },
  {
   "cell_type": "code",
   "execution_count": 66,
   "metadata": {},
   "outputs": [],
   "source": [
    "with open(os.path.join(out_dir, 'zsl_borneo.json'), 'w') as f:\n",
    "    json.dump(zsl_sequences_good, f)"
   ]
  },
  {
   "cell_type": "code",
   "execution_count": null,
   "metadata": {},
   "outputs": [],
   "source": []
  },
  {
   "cell_type": "code",
   "execution_count": 18,
   "metadata": {},
   "outputs": [],
   "source": [
    "bad_seqs = []\n",
    "\n",
    "for seq in zsl_sequences:\n",
    "    frame_numbers = []\n",
    "    if 'images' in seq:\n",
    "        for im in seq['images']:\n",
    "            frame_numbers.append(im['frame_num'])\n",
    "        if len(set(frame_numbers)) != len(seq['images']):\n",
    "            bad_seqs.append(seq)"
   ]
  },
  {
   "cell_type": "code",
   "execution_count": 21,
   "metadata": {},
   "outputs": [],
   "source": [
    "bad_seq_ids = [s['seq_id'] for s in bad_seqs]"
   ]
  },
  {
   "cell_type": "code",
   "execution_count": 22,
   "metadata": {},
   "outputs": [
    {
     "data": {
      "text/plain": [
       "38"
      ]
     },
     "execution_count": 22,
     "metadata": {},
     "output_type": "execute_result"
    }
   ],
   "source": [
    "len(bad_seq_ids)"
   ]
  },
  {
   "cell_type": "code",
   "execution_count": 23,
   "metadata": {},
   "outputs": [],
   "source": [
    "num_images = 0\n",
    "for seq in bad_seqs:\n",
    "    num_images += len(seq['images'])"
   ]
  },
  {
   "cell_type": "code",
   "execution_count": 24,
   "metadata": {},
   "outputs": [
    {
     "data": {
      "text/plain": [
       "313"
      ]
     },
     "execution_count": 24,
     "metadata": {},
     "output_type": "execute_result"
    }
   ],
   "source": [
    "num_images"
   ]
  },
  {
   "cell_type": "code",
   "execution_count": 26,
   "metadata": {},
   "outputs": [
    {
     "data": {
      "text/plain": [
       "'{\"dataset\": \"zsl_borneo\", \"seq_id\": \"18837\", \"location\": \"OP2-N-38\", \"images\": [{\"file\": \"Oil Palm/OilPalm_3/OP2-N-38/20140227-211123(27)4 of 10.jpg\", \"original_set_total\": 10, \"observer\": \"Jack\", \"frame_num\": 4, \"prominence\": 1, \"class\": [\"malay civet\"], \"original_set_index\": 4, \"id\": \"42f8e776-9910-11e9-98e8-1c872c5fa89b\", \"datetime\": \"2014-02-27T21:11:23\", \"primary_species\": \"Malay civet\", \"file_path\": \"Oil Palm/OilPalm_3/OP2-N-38/20140227-211123(27)4 of 10.jpg\"}, {\"primary_group\": \"Group\", \"non_target\": \"People\", \"file\": \"Oil Palm/OilPalm_3/OP2-N-38/20180312-103201(27)2 of 3.jpg\", \"frame_num\": 2, \"prominence\": 1, \"class\": [\"human\"], \"original_set_index\": 2, \"id\": \"42f8e70f-9910-11e9-98e8-1c872c5fa89b\", \"original_set_total\": 3, \"datetime\": \"2014-03-12T10:32:01\", \"primary_species\": \"Human\", \"file_path\": \"Oil Palm/OilPalm_3/OP2-N-38/20180312-103201(27)2 of 3.jpg\"}, {\"file\": \"Oil Palm/OilPalm_3/OP2-N-38/20140227-211121(27)1 of 10.jpg\", \"original_set_total\": 10, \"primary_new_contact\": \"New Contact\", \"observer\": \"Jack\", \"frame_num\": 1, \"prominence\": 1, \"class\": [\"malay civet\"], \"original_set_index\": 1, \"id\": \"42f8e821-9910-11e9-98e8-1c872c5fa89b\", \"datetime\": \"2014-02-27T21:11:21\", \"primary_species\": \"Malay civet\", \"file_path\": \"Oil Palm/OilPalm_3/OP2-N-38/20140227-211121(27)1 of 10.jpg\"}, {\"file\": \"Oil Palm/OilPalm_3/OP2-N-38/20140227-211127(27)9 of 10.jpg\", \"original_set_total\": 10, \"observer\": \"Jack\", \"frame_num\": 9, \"prominence\": 1, \"class\": [\"malay civet\"], \"original_set_index\": 9, \"id\": \"42f8e698-9910-11e9-98e8-1c872c5fa89b\", \"datetime\": \"2014-02-27T21:11:27\", \"primary_species\": \"Malay civet\", \"file_path\": \"Oil Palm/OilPalm_3/OP2-N-38/20140227-211127(27)9 of 10.jpg\"}, {\"file\": \"Oil Palm/OilPalm_3/OP2-N-38/20140227-211126(27)8 of 10.jpg\", \"original_set_total\": 10, \"observer\": \"Jack\", \"frame_num\": 8, \"prominence\": 1, \"class\": [\"malay civet\"], \"original_set_index\": 8, \"id\": \"42f8e8a6-9910-11e9-98e8-1c872c5fa89b\", \"datetime\": \"2014-02-27T21:11:26\", \"primary_species\": \"Malay civet\", \"file_path\": \"Oil Palm/OilPalm_3/OP2-N-38/20140227-211126(27)8 of 10.jpg\"}, {\"file\": \"Oil Palm/OilPalm_3/OP2-N-38/20140227-211121(27)2 of 10.jpg\", \"original_set_total\": 10, \"observer\": \"Jack\", \"frame_num\": 2, \"prominence\": 1, \"class\": [\"malay civet\"], \"original_set_index\": 2, \"id\": \"42f8e6d0-9910-11e9-98e8-1c872c5fa89b\", \"datetime\": \"2014-02-27T21:11:21\", \"primary_species\": \"Malay civet\", \"file_path\": \"Oil Palm/OilPalm_3/OP2-N-38/20140227-211121(27)2 of 10.jpg\"}, {\"primary_group\": \"Group\", \"non_target\": \"People\", \"file\": \"Oil Palm/OilPalm_3/OP2-N-38/20180312-103200(27)1 of 3.jpg\", \"frame_num\": 1, \"prominence\": 1, \"class\": [\"human\"], \"original_set_index\": 1, \"id\": \"42f8e81a-9910-11e9-98e8-1c872c5fa89b\", \"original_set_total\": 3, \"datetime\": \"2014-03-12T10:32:00\", \"primary_species\": \"Human\", \"file_path\": \"Oil Palm/OilPalm_3/OP2-N-38/20180312-103200(27)1 of 3.jpg\"}, {\"file\": \"Oil Palm/OilPalm_3/OP2-N-38/20140227-211123(27)5 of 10.jpg\", \"original_set_total\": 10, \"observer\": \"Jack\", \"frame_num\": 5, \"prominence\": 1, \"class\": [\"malay civet\"], \"original_set_index\": 5, \"id\": \"42f8e820-9910-11e9-98e8-1c872c5fa89b\", \"datetime\": \"2014-02-27T21:11:23\", \"primary_species\": \"Malay civet\", \"file_path\": \"Oil Palm/OilPalm_3/OP2-N-38/20140227-211123(27)5 of 10.jpg\"}, {\"primary_group\": \"Group\", \"non_target\": \"People\", \"file\": \"Oil Palm/OilPalm_3/OP2-N-38/20180312-103202(27)3 of 3.jpg\", \"frame_num\": 3, \"prominence\": 1, \"class\": [\"human\"], \"original_set_index\": 3, \"id\": \"42f8e721-9910-11e9-98e8-1c872c5fa89b\", \"original_set_total\": 3, \"datetime\": \"2014-03-12T10:32:02\", \"primary_species\": \"Human\", \"file_path\": \"Oil Palm/OilPalm_3/OP2-N-38/20180312-103202(27)3 of 3.jpg\"}, {\"file\": \"Oil Palm/OilPalm_3/OP2-N-38/20140227-211128(27)10 of 10.jpg\", \"original_set_total\": 10, \"observer\": \"Jack\", \"frame_num\": 10, \"prominence\": 1, \"class\": [\"malay civet\"], \"original_set_index\": 10, \"id\": \"42f8e7d4-9910-11e9-98e8-1c872c5fa89b\", \"datetime\": \"2014-02-27T21:11:28\", \"primary_species\": \"Malay civet\", \"file_path\": \"Oil Palm/OilPalm_3/OP2-N-38/20140227-211128(27)10 of 10.jpg\"}, {\"file\": \"Oil Palm/OilPalm_3/OP2-N-38/20140227-211122(27)3 of 10.jpg\", \"original_set_total\": 10, \"observer\": \"Jack\", \"frame_num\": 3, \"prominence\": 1, \"class\": [\"malay civet\"], \"original_set_index\": 3, \"id\": \"42f8e751-9910-11e9-98e8-1c872c5fa89b\", \"datetime\": \"2014-02-27T21:11:22\", \"primary_species\": \"Malay civet\", \"file_path\": \"Oil Palm/OilPalm_3/OP2-N-38/20140227-211122(27)3 of 10.jpg\"}, {\"file\": \"Oil Palm/OilPalm_3/OP2-N-38/20140227-211126(27)7 of 10.jpg\", \"original_set_total\": 10, \"observer\": \"Jack\", \"frame_num\": 7, \"prominence\": 1, \"class\": [\"malay civet\"], \"original_set_index\": 7, \"id\": \"42f8e806-9910-11e9-98e8-1c872c5fa89b\", \"datetime\": \"2014-02-27T21:11:26\", \"primary_species\": \"Malay civet\", \"file_path\": \"Oil Palm/OilPalm_3/OP2-N-38/20140227-211126(27)7 of 10.jpg\"}, {\"file\": \"Oil Palm/OilPalm_3/OP2-N-38/20140227-211125(27)6 of 10.jpg\", \"original_set_total\": 10, \"observer\": \"Jack\", \"frame_num\": 6, \"prominence\": 1, \"class\": [\"malay civet\"], \"original_set_index\": 6, \"id\": \"42f8e858-9910-11e9-98e8-1c872c5fa89b\", \"datetime\": \"2014-02-27T21:11:25\", \"primary_species\": \"Malay civet\", \"file_path\": \"Oil Palm/OilPalm_3/OP2-N-38/20140227-211125(27)6 of 10.jpg\"}], \"original_set_id\": 27}'"
      ]
     },
     "execution_count": 26,
     "metadata": {},
     "output_type": "execute_result"
    }
   ],
   "source": [
    "json.dumps(bad_seqs[0])"
   ]
  },
  {
   "cell_type": "code",
   "execution_count": null,
   "metadata": {},
   "outputs": [],
   "source": []
  }
 ],
 "metadata": {
  "kernelspec": {
   "display_name": "Python [conda env:tensorflow]",
   "language": "python",
   "name": "conda-env-tensorflow-py"
  },
  "language_info": {
   "codemirror_mode": {
    "name": "ipython",
    "version": 3
   },
   "file_extension": ".py",
   "mimetype": "text/x-python",
   "name": "python",
   "nbconvert_exporter": "python",
   "pygments_lexer": "ipython3",
   "version": "3.5.4"
  }
 },
 "nbformat": 4,
 "nbformat_minor": 2
}
