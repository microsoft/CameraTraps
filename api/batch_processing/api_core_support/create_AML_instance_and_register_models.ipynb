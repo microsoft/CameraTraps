{
 "cells": [
  {
   "cell_type": "code",
   "execution_count": 1,
   "metadata": {},
   "outputs": [],
   "source": [
    "from IPython.core.interactiveshell import InteractiveShell\n",
    "InteractiveShell.ast_node_interactivity = 'all'"
   ]
  },
  {
   "cell_type": "code",
   "execution_count": 2,
   "metadata": {},
   "outputs": [
    {
     "data": {
      "text/plain": [
       "'1.0.33'"
      ]
     },
     "execution_count": 2,
     "metadata": {},
     "output_type": "execute_result"
    }
   ],
   "source": [
    "import azureml.core\n",
    "azureml.core.__version__\n",
    "\n",
    "# to upgrade:\n",
    "# pip install --upgrade azureml-sdk"
   ]
  },
  {
   "cell_type": "code",
   "execution_count": 3,
   "metadata": {},
   "outputs": [],
   "source": [
    "from azureml.core import Workspace, ComputeTarget\n",
    "from azureml.core.compute import AmlCompute\n",
    "from azureml.core.model import Model"
   ]
  },
  {
   "cell_type": "markdown",
   "metadata": {},
   "source": [
    "# Create a new AML instance and register models\n",
    "\n",
    "Run this notebook to create a new instance of Azure Machine Learning Workspace to support a new instance of the batch processing API. Or upload models to a existing Workspace.\n",
    "\n",
    "Azure Machine Learning SDK for Python documentation: https://docs.microsoft.com/en-us/python/api/overview/azure/ml/intro?view=azure-ml-py"
   ]
  },
  {
   "cell_type": "markdown",
   "metadata": {},
   "source": [
    "## Create a new AML instance"
   ]
  },
  {
   "cell_type": "markdown",
   "metadata": {},
   "source": [
    "AML Workspace parameters:"
   ]
  },
  {
   "cell_type": "code",
   "execution_count": 12,
   "metadata": {},
   "outputs": [],
   "source": [
    "# Workspace name has to be between 2 and 32 characters of letters and numbers.\n",
    "workspace_name = 'camera_trap_aml_wc_cm'\n",
    "\n",
    "compute_name = 'camera-trap-com'  # 2 to 16 chars\n",
    "max_nodes = 8\n",
    "min_nodes = 0  # set to 0 to allow the cluster to completely deallocate\n",
    "idle_seconds_before_scaledown = 120\n",
    "\n",
    "# set these credentials so you can ssh into the nodes to debug if needed. There's no way to set this after this step!\n",
    "admin_username = ''\n",
    "admin_user_password = ''\n",
    "\n",
    "assert len(workspace_name) < 33\n",
    "assert len(compute_name) < 17"
   ]
  },
  {
   "cell_type": "markdown",
   "metadata": {},
   "source": [
    "Modify the following section if you'd like to create the AML Workspace in your own subscription."
   ]
  },
  {
   "cell_type": "code",
   "execution_count": 5,
   "metadata": {},
   "outputs": [],
   "source": [
    "# keep these the same for internal deployments\n",
    "subscription_id = ''  # fill out the subscription_id\n",
    "resource_group = ''\n",
    "location = ''\n",
    "storage_account_name = 'cameratrapsc'\n",
    "\n",
    "# used by the workspace to save run outputs, code, logs etc\n",
    "storage_account='subscriptions/{}/resourcegroups/{}/providers/microsoft.storage/storageaccounts/{}'.format(\n",
    "    subscription_id, resource_group, storage_account_name)  \n",
    "key_vault = 'subscriptions/{}/resourcegroups/{}/providers/microsoft.keyvault/vaults/cameratrkeyvaulthblvewsj'.format(\n",
    "    subscription_id, resource_group)\n",
    "app_insights = 'subscriptions/{}/resourcegroups/{}/providers/microsoft.insights/components/cameratrinsightsiqgcufll'.format(\n",
    "    subscription_id, resource_group)\n",
    "container_registry = 'subscriptions/{}/resourcegroups/{}/providers/microsoft.containerregistry/registries/cameratracrsppftkje'.format(\n",
    "    subscription_id, resource_group)"
   ]
  },
  {
   "cell_type": "markdown",
   "metadata": {},
   "source": [
    "### Log in to Azure on the CLI\n",
    "\n",
    "After logging in, make sure the default account shown here is the subscription specified above.\n",
    "\n",
    "```\n",
    "az account show\n",
    "```\n",
    "\n",
    "Otherwise do \n",
    "\n",
    "```\n",
    "az account set --subscription <subscription-id>\n",
    "```"
   ]
  },
  {
   "cell_type": "code",
   "execution_count": null,
   "metadata": {},
   "outputs": [],
   "source": [
    "!az account show"
   ]
  },
  {
   "cell_type": "markdown",
   "metadata": {},
   "source": [
    "### Create an AML Workspace\n",
    "\n",
    "[Documentation](https://docs.microsoft.com/en-us/python/api/azureml-core/azureml.core.workspace%28class%29?view=azure-ml-py#create-name--auth-none--subscription-id-none--resource-group-none--location-none--create-resource-group-true--friendly-name-none--storage-account-none--key-vault-none--app-insights-none--container-registry-none--default-cpu-compute-target-none--default-gpu-compute-target-none--exist-ok-false--show-output-true-)"
   ]
  },
  {
   "cell_type": "code",
   "execution_count": 9,
   "metadata": {},
   "outputs": [
    {
     "name": "stdout",
     "output_type": "stream",
     "text": [
      "Deploying Workspace with name camera_trap_aml_wc_cm.\n",
      "Deployed Workspace with name camera_trap_aml_wc_cm.\n"
     ]
    }
   ],
   "source": [
    "# takes ~10 seconds and it will show a message \"Deployed Workspace with name...\" if successful.\n",
    "\n",
    "workspace = Workspace.create(workspace_name, \n",
    "                             auth=None, # If None the default Azure CLI credentials will be used or the API will prompt for credentials\n",
    "                             subscription_id=subscription_id, \n",
    "                             resource_group=resource_group, \n",
    "                             location=location, \n",
    "                             create_resource_group=False, \n",
    "                             friendly_name=None, \n",
    "                             storage_account=storage_account, \n",
    "                             key_vault=key_vault, \n",
    "                             app_insights=app_insights, \n",
    "                             container_registry=container_registry,\n",
    "                             exist_ok=False, \n",
    "                             show_output=True)"
   ]
  },
  {
   "cell_type": "code",
   "execution_count": 12,
   "metadata": {},
   "outputs": [],
   "source": [
    "# optinally save the Workspace's config to a text file\n",
    "# not necessary - you can identify a Workspace without this file\n",
    "# workspace.write_config(path='')"
   ]
  },
  {
   "cell_type": "markdown",
   "metadata": {},
   "source": [
    "### Create a compute target in the Workspace\n",
    "if it doesn't yet exist\n",
    "\n",
    "[Documentation](https://docs.microsoft.com/en-us/python/api/azureml-core/azureml.core.computetarget?view=azure-ml-py#create-workspace--name--provisioning-configuration-)"
   ]
  },
  {
   "cell_type": "code",
   "execution_count": 10,
   "metadata": {},
   "outputs": [
    {
     "name": "stdout",
     "output_type": "stream",
     "text": [
      "No existing compute target found, creating...\n",
      "Creating\n",
      "Succeeded\n",
      "AmlCompute wait for completion finished\n",
      "Minimum number of nodes requested have been provisioned\n"
     ]
    }
   ],
   "source": [
    "if compute_name in workspace.compute_targets:\n",
    "    compute_target = workspace.compute_targets[compute_name]\n",
    "    if compute_target and type(compute_target) is AmlCompute:\n",
    "        print('Found existing compute target with this name. You can just use it.' + compute_name)\n",
    "else:\n",
    "    print('No existing compute target found, creating...')\n",
    "    compute_config = AmlCompute.provisioning_configuration(\n",
    "        vm_size='STANDARD_NC6S_V3',\n",
    "        min_nodes=min_nodes, max_nodes=max_nodes,\n",
    "        idle_seconds_before_scaledown=idle_seconds_before_scaledown,\n",
    "        admin_username=admin_username, admin_user_password=admin_user_password)\n",
    "    \n",
    "    compute_target = AmlCompute.create(workspace, name=compute_name, provisioning_configuration=compute_config)\n",
    "    compute_target.wait_for_completion(show_output = True)"
   ]
  },
  {
   "cell_type": "markdown",
   "metadata": {},
   "source": [
    "### Authorize our application to access this AML Workspace\n",
    "\n",
    "We created the workspace above by authenticating to our subscription on the CLI. When our API needs to access the AML instance, it has to authenticate as an application (a service principle). We now need the AML workspace to give that application access.\n",
    "\n",
    "Instructions for doing this is [here](https://github.com/Azure/MachineLearningNotebooks/blob/master/how-to-use-azureml/manage-azureml-service/authentication-in-azureml/authentication-in-azureml.ipynb). \n",
    "\n",
    "- If you already have an application/service principle that the API instance will be using, go to the step starting with \"Finally, you need to give the service principal permissions to access your workspace\"."
   ]
  },
  {
   "cell_type": "markdown",
   "metadata": {},
   "source": [
    "## Register and upload model files\n",
    "\n",
    "You could ask each job to load the model from blob storage, but registering them with the AML Workspace allows you to switch models on the go better.\n",
    "\n",
    "This takes a while depending on the size of the model files."
   ]
  },
  {
   "cell_type": "code",
   "execution_count": null,
   "metadata": {},
   "outputs": [],
   "source": [
    "# fill in these details if you are uploading to an existing Workspace\n",
    "\n",
    "workspace_name = 'camera_trap_aml_wc_cm'\n",
    "\n",
    "subscription_id = ''  # fill out the subscription_id\n",
    "resource_group = ''"
   ]
  },
  {
   "cell_type": "code",
   "execution_count": null,
   "metadata": {},
   "outputs": [],
   "source": [
    "# models you'd like to register. The .pb files need to be local\n",
    "models = [\n",
    "    {\n",
    "        'name': 'megadetector_v3_tf19',\n",
    "        'description': 'megadetector version 3, frozen with TF 1.9',\n",
    "        'path': '/AI4Earth/Camera_trap/MegaDetector/v3/step_686872/megadetector_v3_tf19.pb'\n",
    "    },\n",
    "    {\n",
    "        'name': 'megadetector_v2',\n",
    "        'description': 'megadetector version 2',\n",
    "        'path': '/AI4Earth/Camera_trap/MegaDetector/v2/frozen_inference_graph.pb'\n",
    "    }\n",
    "]"
   ]
  },
  {
   "cell_type": "code",
   "execution_count": null,
   "metadata": {},
   "outputs": [],
   "source": [
    "workspace = Workspace(subscription_id, resource_group, workspace_name)"
   ]
  },
  {
   "cell_type": "code",
   "execution_count": 13,
   "metadata": {},
   "outputs": [
    {
     "name": "stdout",
     "output_type": "stream",
     "text": [
      "Registering model megadetector_v3_tf19\n",
      "Registering model megadetector_v2\n"
     ]
    }
   ],
   "source": [
    "for m in models:\n",
    "    model = Model.register(workspace, m['path'], m['name'], description=m['description'])"
   ]
  }
 ],
 "metadata": {
  "anaconda-cloud": {},
  "kernelspec": {
   "display_name": "Python [conda env:tensorflow]",
   "language": "python",
   "name": "conda-env-tensorflow-py"
  },
  "language_info": {
   "codemirror_mode": {
    "name": "ipython",
    "version": 3
   },
   "file_extension": ".py",
   "mimetype": "text/x-python",
   "name": "python",
   "nbconvert_exporter": "python",
   "pygments_lexer": "ipython3",
   "version": "3.5.4"
  }
 },
 "nbformat": 4,
 "nbformat_minor": 1
}
