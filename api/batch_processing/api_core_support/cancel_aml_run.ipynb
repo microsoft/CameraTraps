{
 "cells": [
  {
   "cell_type": "code",
   "execution_count": 1,
   "metadata": {},
   "outputs": [],
   "source": [
    "from IPython.core.interactiveshell import InteractiveShell\n",
    "InteractiveShell.ast_node_interactivity = 'all'"
   ]
  },
  {
   "cell_type": "code",
   "execution_count": 2,
   "metadata": {},
   "outputs": [
    {
     "data": {
      "text/plain": [
       "'1.0.83'"
      ]
     },
     "execution_count": 2,
     "metadata": {},
     "output_type": "execute_result"
    }
   ],
   "source": [
    "import azureml.core\n",
    "azureml.core.__version__"
   ]
  },
  {
   "cell_type": "code",
   "execution_count": 3,
   "metadata": {},
   "outputs": [],
   "source": [
    "import sys\n",
    "sys.path.append('/Users/siyuyang/Source/repos/GitHub_MSFT/CameraTraps')"
   ]
  },
  {
   "cell_type": "code",
   "execution_count": 4,
   "metadata": {},
   "outputs": [],
   "source": [
    "from tqdm import tqdm\n",
    "from azureml.core import Workspace, Experiment\n",
    "from azureml.pipeline.core import PipelineRun\n",
    "from azureml.core.authentication import ServicePrincipalAuthentication\n",
    "\n",
    "import api.batch_processing.api_core.orchestrator_api.api_config as api_config"
   ]
  },
  {
   "cell_type": "code",
   "execution_count": 5,
   "metadata": {},
   "outputs": [
    {
     "name": "stderr",
     "output_type": "stream",
     "text": [
      "WARNING - Warning: Falling back to use azure cli login credentials.\n",
      "If you run your code in unattended mode, i.e., where you can't give a user input, then we recommend to use ServicePrincipalAuthentication or MsiAuthentication.\n",
      "Please refer to aka.ms/aml-notebook-auth for different authentication mechanisms in azureml-sdk.\n"
     ]
    }
   ],
   "source": [
    "# authenticate through the CLI cache\n",
    "ws = Workspace(subscription_id='',\n",
    "               resource_group='',\n",
    "               workspace_name='')"
   ]
  },
  {
   "cell_type": "code",
   "execution_count": null,
   "metadata": {},
   "outputs": [],
   "source": [
    "ws.name"
   ]
  },
  {
   "cell_type": "markdown",
   "metadata": {},
   "source": [
    "## Cancel an individual Experiment \n",
    "\n",
    "corresponds to one job in the request."
   ]
  },
  {
   "cell_type": "code",
   "execution_count": 14,
   "metadata": {
    "collapsed": true
   },
   "outputs": [],
   "source": [
    "experiment = Experiment(ws, 'request8552_jobindex0_total1')"
   ]
  },
  {
   "cell_type": "code",
   "execution_count": 15,
   "metadata": {},
   "outputs": [
    {
     "name": "stdout",
     "output_type": "stream",
     "text": [
      "Run(Experiment: request8552_jobindex0_total1,\n",
      "Id: 6d85163f-2ce5-4603-94f0-0793c9d449ca,\n",
      "Type: azureml.PipelineRun,\n",
      "Status: Running)\n"
     ]
    }
   ],
   "source": [
    "for run in experiment.get_runs():\n",
    "    print(run)"
   ]
  },
  {
   "cell_type": "code",
   "execution_count": 16,
   "metadata": {},
   "outputs": [
    {
     "data": {
      "text/plain": [
       "'6d85163f-2ce5-4603-94f0-0793c9d449ca'"
      ]
     },
     "execution_count": 16,
     "metadata": {},
     "output_type": "execute_result"
    }
   ],
   "source": [
    "run.id"
   ]
  },
  {
   "cell_type": "code",
   "execution_count": 17,
   "metadata": {
    "collapsed": true
   },
   "outputs": [],
   "source": [
    "pipeline_run = PipelineRun(experiment, run.id)"
   ]
  },
  {
   "cell_type": "code",
   "execution_count": 18,
   "metadata": {},
   "outputs": [
    {
     "data": {
      "text/html": [
       "<table style=\"width:100%\"><tr><th>Experiment</th><th>Id</th><th>Type</th><th>Status</th><th>Details Page</th><th>Docs Page</th></tr><tr><td>request8552_jobindex0_total1</td><td>6d85163f-2ce5-4603-94f0-0793c9d449ca</td><td>azureml.PipelineRun</td><td>Running</td><td><a href=\"https://mlworkspace.azure.ai/portal/subscriptions/74d91980-e5b4-4fd9-adb6-263b8f90ec5b/resourceGroups/camera_trap_api_rg/providers/Microsoft.MachineLearningServices/workspaces/camera_trap_aml_ws_sc/experiments/request8552_jobindex0_total1/runs/6d85163f-2ce5-4603-94f0-0793c9d449ca\" target=\"_blank\" rel=\"noopener\">Link to Azure Portal</a></td><td><a href=\"https://docs.microsoft.com/en-us/python/api/overview/azure/ml/intro?view=azure-ml-py\" target=\"_blank\" rel=\"noopener\">Link to Documentation</a></td></tr></table>"
      ],
      "text/plain": [
       "Run(Experiment: request8552_jobindex0_total1,\n",
       "Id: 6d85163f-2ce5-4603-94f0-0793c9d449ca,\n",
       "Type: azureml.PipelineRun,\n",
       "Status: Running)"
      ]
     },
     "execution_count": 18,
     "metadata": {},
     "output_type": "execute_result"
    }
   ],
   "source": [
    "pipeline_run"
   ]
  },
  {
   "cell_type": "code",
   "execution_count": 19,
   "metadata": {
    "collapsed": true
   },
   "outputs": [],
   "source": [
    "pipeline_run.cancel()"
   ]
  },
  {
   "cell_type": "code",
   "execution_count": 25,
   "metadata": {},
   "outputs": [
    {
     "data": {
      "text/html": [
       "<table style=\"width:100%\"><tr><th>Experiment</th><th>Id</th><th>Type</th><th>Status</th><th>Details Page</th><th>Docs Page</th></tr><tr><td>request8552_jobindex0_total1</td><td>6d85163f-2ce5-4603-94f0-0793c9d449ca</td><td>azureml.PipelineRun</td><td>Canceled</td><td><a href=\"https://mlworkspace.azure.ai/portal/subscriptions/74d91980-e5b4-4fd9-adb6-263b8f90ec5b/resourceGroups/camera_trap_api_rg/providers/Microsoft.MachineLearningServices/workspaces/camera_trap_aml_ws_sc/experiments/request8552_jobindex0_total1/runs/6d85163f-2ce5-4603-94f0-0793c9d449ca\" target=\"_blank\" rel=\"noopener\">Link to Azure Portal</a></td><td><a href=\"https://docs.microsoft.com/en-us/python/api/overview/azure/ml/intro?view=azure-ml-py\" target=\"_blank\" rel=\"noopener\">Link to Documentation</a></td></tr></table>"
      ],
      "text/plain": [
       "Run(Experiment: request8552_jobindex0_total1,\n",
       "Id: 6d85163f-2ce5-4603-94f0-0793c9d449ca,\n",
       "Type: azureml.PipelineRun,\n",
       "Status: Canceled)"
      ]
     },
     "execution_count": 25,
     "metadata": {},
     "output_type": "execute_result"
    }
   ],
   "source": [
    "pipeline_run = PipelineRun(experiment, run.id)\n",
    "pipeline_run"
   ]
  },
  {
   "cell_type": "markdown",
   "metadata": {},
   "source": [
    "Observed cluster resizing from 1 to 0 after the run is canceled. \n",
    "\n",
    "The PipelineRun object needs to be instantiated again to see its Status change to Canceled. "
   ]
  },
  {
   "cell_type": "markdown",
   "metadata": {
    "collapsed": true
   },
   "source": [
    "## Cancel a Request\n",
    "\n",
    "Cancel all jobs in one Request submitted via the API."
   ]
  },
  {
   "cell_type": "code",
   "execution_count": 7,
   "metadata": {},
   "outputs": [],
   "source": [
    "total_num_jobs = 150\n",
    "request_id = '1160'\n",
    "\n",
    "job_name_template = 'request{}_jobindex{}_total{}'"
   ]
  },
  {
   "cell_type": "code",
   "execution_count": 8,
   "metadata": {
    "scrolled": true
   },
   "outputs": [
    {
     "name": "stderr",
     "output_type": "stream",
     "text": [
      " 17%|█▋        | 25/150 [01:42<08:31,  4.10s/it]WARNING - Retrying (Retry(total=2, connect=2, read=3, redirect=None, status=None)) after connection broken by 'NewConnectionError('<urllib3.connection.VerifiedHTTPSConnection object at 0x118bc4550>: Failed to establish a new connection: [Errno 60] Operation timed out',)': /history/v1.0/subscriptions/74d91980-e5b4-4fd9-adb6-263b8f90ec5b/resourceGroups/camera_trap_api_rg/providers/Microsoft.MachineLearningServices/workspaces/camera_trap_aml_ws_zooniverse/experiments/request1160_jobindex25_total150/runs:query\n",
      "100%|██████████| 150/150 [15:05<00:00,  6.04s/it]\n"
     ]
    }
   ],
   "source": [
    "for i in tqdm(range(total_num_jobs)):\n",
    "    job_name = job_name_template.format(request_id, i, total_num_jobs)\n",
    "    experiment = Experiment(ws, job_name)\n",
    "    for run in experiment.get_runs():\n",
    "        pipeline_run = PipelineRun(experiment, run.id)\n",
    "        pipeline_run.cancel()"
   ]
  },
  {
   "cell_type": "code",
   "execution_count": null,
   "metadata": {},
   "outputs": [],
   "source": []
  }
 ],
 "metadata": {
  "anaconda-cloud": {},
  "kernelspec": {
   "display_name": "Python [conda env:cameratraps] *",
   "language": "python",
   "name": "conda-env-cameratraps-py"
  },
  "language_info": {
   "codemirror_mode": {
    "name": "ipython",
    "version": 3
   },
   "file_extension": ".py",
   "mimetype": "text/x-python",
   "name": "python",
   "nbconvert_exporter": "python",
   "pygments_lexer": "ipython3",
   "version": "3.6.10"
  }
 },
 "nbformat": 4,
 "nbformat_minor": 1
}
