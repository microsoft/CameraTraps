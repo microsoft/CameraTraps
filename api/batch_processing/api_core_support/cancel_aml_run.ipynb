{
 "cells": [
  {
   "cell_type": "code",
   "execution_count": 1,
   "metadata": {
    "collapsed": true,
    "deletable": true,
    "editable": true
   },
   "outputs": [],
   "source": [
    "from IPython.core.interactiveshell import InteractiveShell\n",
    "InteractiveShell.ast_node_interactivity = 'all'"
   ]
  },
  {
   "cell_type": "code",
   "execution_count": 2,
   "metadata": {
    "collapsed": false,
    "deletable": true,
    "editable": true
   },
   "outputs": [
    {
     "data": {
      "text/plain": [
       "'1.0.33'"
      ]
     },
     "execution_count": 2,
     "metadata": {},
     "output_type": "execute_result"
    }
   ],
   "source": [
    "import azureml.core\n",
    "azureml.core.__version__"
   ]
  },
  {
   "cell_type": "code",
   "execution_count": 3,
   "metadata": {
    "collapsed": false,
    "deletable": true,
    "editable": true
   },
   "outputs": [],
   "source": [
    "import sys\n",
    "sys.path.append('/Users/siyuyang/Source/Repos/GitHub_MSFT/CameraTraps')"
   ]
  },
  {
   "cell_type": "code",
   "execution_count": 6,
   "metadata": {
    "collapsed": false,
    "deletable": true,
    "editable": true
   },
   "outputs": [],
   "source": [
    "from azureml.core import Workspace, Experiment\n",
    "from azureml.pipeline.core import PipelineRun\n",
    "from azureml.core.authentication import ServicePrincipalAuthentication\n",
    "\n",
    "import api.batch_processing.api_core.orchestrator_api.api_config as api_config"
   ]
  },
  {
   "cell_type": "code",
   "execution_count": 12,
   "metadata": {
    "collapsed": false,
    "deletable": true,
    "editable": true
   },
   "outputs": [],
   "source": [
    "# authenticate through the CLI cache\n",
    "ws = Workspace(subscription_id='',\n",
    "               resource_group='',\n",
    "               workspace_name='')"
   ]
  },
  {
   "cell_type": "code",
   "execution_count": 13,
   "metadata": {
    "collapsed": false,
    "deletable": true,
    "editable": true
   },
   "outputs": [
    {
     "data": {
      "text/plain": [
       "'camera_trap_aml_ws_sc'"
      ]
     },
     "execution_count": 13,
     "metadata": {},
     "output_type": "execute_result"
    }
   ],
   "source": [
    "ws.name"
   ]
  },
  {
   "cell_type": "code",
   "execution_count": 14,
   "metadata": {
    "collapsed": true,
    "deletable": true,
    "editable": true
   },
   "outputs": [],
   "source": [
    "experiment = Experiment(ws, 'request8552_jobindex0_total1')"
   ]
  },
  {
   "cell_type": "code",
   "execution_count": 15,
   "metadata": {
    "collapsed": false,
    "deletable": true,
    "editable": true
   },
   "outputs": [
    {
     "name": "stdout",
     "output_type": "stream",
     "text": [
      "Run(Experiment: request8552_jobindex0_total1,\n",
      "Id: 6d85163f-2ce5-4603-94f0-0793c9d449ca,\n",
      "Type: azureml.PipelineRun,\n",
      "Status: Running)\n"
     ]
    }
   ],
   "source": [
    "for run in experiment.get_runs():\n",
    "    print(run)"
   ]
  },
  {
   "cell_type": "code",
   "execution_count": 16,
   "metadata": {
    "collapsed": false
   },
   "outputs": [
    {
     "data": {
      "text/plain": [
       "'6d85163f-2ce5-4603-94f0-0793c9d449ca'"
      ]
     },
     "execution_count": 16,
     "metadata": {},
     "output_type": "execute_result"
    }
   ],
   "source": [
    "run.id"
   ]
  },
  {
   "cell_type": "code",
   "execution_count": 17,
   "metadata": {
    "collapsed": true,
    "deletable": true,
    "editable": true
   },
   "outputs": [],
   "source": [
    "pipeline_run = PipelineRun(experiment, run.id)"
   ]
  },
  {
   "cell_type": "code",
   "execution_count": 18,
   "metadata": {
    "collapsed": false
   },
   "outputs": [
    {
     "data": {
      "text/html": [
       "<table style=\"width:100%\"><tr><th>Experiment</th><th>Id</th><th>Type</th><th>Status</th><th>Details Page</th><th>Docs Page</th></tr><tr><td>request8552_jobindex0_total1</td><td>6d85163f-2ce5-4603-94f0-0793c9d449ca</td><td>azureml.PipelineRun</td><td>Running</td><td><a href=\"https://mlworkspace.azure.ai/portal/subscriptions/74d91980-e5b4-4fd9-adb6-263b8f90ec5b/resourceGroups/camera_trap_api_rg/providers/Microsoft.MachineLearningServices/workspaces/camera_trap_aml_ws_sc/experiments/request8552_jobindex0_total1/runs/6d85163f-2ce5-4603-94f0-0793c9d449ca\" target=\"_blank\" rel=\"noopener\">Link to Azure Portal</a></td><td><a href=\"https://docs.microsoft.com/en-us/python/api/overview/azure/ml/intro?view=azure-ml-py\" target=\"_blank\" rel=\"noopener\">Link to Documentation</a></td></tr></table>"
      ],
      "text/plain": [
       "Run(Experiment: request8552_jobindex0_total1,\n",
       "Id: 6d85163f-2ce5-4603-94f0-0793c9d449ca,\n",
       "Type: azureml.PipelineRun,\n",
       "Status: Running)"
      ]
     },
     "execution_count": 18,
     "metadata": {},
     "output_type": "execute_result"
    }
   ],
   "source": [
    "pipeline_run"
   ]
  },
  {
   "cell_type": "code",
   "execution_count": 19,
   "metadata": {
    "collapsed": true,
    "deletable": true,
    "editable": true
   },
   "outputs": [],
   "source": [
    "pipeline_run.cancel()"
   ]
  },
  {
   "cell_type": "code",
   "execution_count": 25,
   "metadata": {
    "collapsed": false
   },
   "outputs": [
    {
     "data": {
      "text/html": [
       "<table style=\"width:100%\"><tr><th>Experiment</th><th>Id</th><th>Type</th><th>Status</th><th>Details Page</th><th>Docs Page</th></tr><tr><td>request8552_jobindex0_total1</td><td>6d85163f-2ce5-4603-94f0-0793c9d449ca</td><td>azureml.PipelineRun</td><td>Canceled</td><td><a href=\"https://mlworkspace.azure.ai/portal/subscriptions/74d91980-e5b4-4fd9-adb6-263b8f90ec5b/resourceGroups/camera_trap_api_rg/providers/Microsoft.MachineLearningServices/workspaces/camera_trap_aml_ws_sc/experiments/request8552_jobindex0_total1/runs/6d85163f-2ce5-4603-94f0-0793c9d449ca\" target=\"_blank\" rel=\"noopener\">Link to Azure Portal</a></td><td><a href=\"https://docs.microsoft.com/en-us/python/api/overview/azure/ml/intro?view=azure-ml-py\" target=\"_blank\" rel=\"noopener\">Link to Documentation</a></td></tr></table>"
      ],
      "text/plain": [
       "Run(Experiment: request8552_jobindex0_total1,\n",
       "Id: 6d85163f-2ce5-4603-94f0-0793c9d449ca,\n",
       "Type: azureml.PipelineRun,\n",
       "Status: Canceled)"
      ]
     },
     "execution_count": 25,
     "metadata": {},
     "output_type": "execute_result"
    }
   ],
   "source": [
    "pipeline_run = PipelineRun(experiment, run.id)\n",
    "pipeline_run"
   ]
  },
  {
   "cell_type": "markdown",
   "metadata": {},
   "source": [
    "Observed cluster resizing from 1 to 0 after the run is canceled. \n",
    "\n",
    "The PipelineRun object needs to be instantiated again to see its Status change to Canceled. "
   ]
  },
  {
   "cell_type": "code",
   "execution_count": null,
   "metadata": {
    "collapsed": true
   },
   "outputs": [],
   "source": []
  }
 ],
 "metadata": {
  "anaconda-cloud": {},
  "kernelspec": {
   "display_name": "Python [conda env:tensorflow]",
   "language": "python",
   "name": "conda-env-tensorflow-py"
  },
  "language_info": {
   "codemirror_mode": {
    "name": "ipython",
    "version": 3
   },
   "file_extension": ".py",
   "mimetype": "text/x-python",
   "name": "python",
   "nbconvert_exporter": "python",
   "pygments_lexer": "ipython3",
   "version": "3.5.4"
  }
 },
 "nbformat": 4,
 "nbformat_minor": 0
}
