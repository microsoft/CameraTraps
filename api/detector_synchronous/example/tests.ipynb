{
 "cells": [
  {
   "cell_type": "code",
   "execution_count": 1,
   "metadata": {
    "collapsed": false
   },
   "outputs": [],
   "source": [
    "from IPython.core.interactiveshell import InteractiveShell\n",
    "InteractiveShell.ast_node_interactivity = 'all'\n",
    "\n",
    "%load_ext autoreload\n",
    "%autoreload 2"
   ]
  },
  {
   "cell_type": "code",
   "execution_count": 2,
   "metadata": {
    "collapsed": true
   },
   "outputs": [],
   "source": [
    "from requests_toolbelt import MultipartEncoder\n",
    "from requests_toolbelt.multipart import decoder\n",
    "import requests\n",
    "import os\n",
    "import json\n",
    "from PIL import Image\n",
    "import io"
   ]
  },
  {
   "cell_type": "code",
   "execution_count": null,
   "metadata": {
    "collapsed": false
   },
   "outputs": [],
   "source": [
    "# this example notebook will process the first 8 images with filenames ending in .jpg or .JPG in this directory\n",
    "sample_input_root = './sample_input'\n",
    "\n",
    "ip_address = ''\n",
    "port = ''\n",
    "base_url = 'http://{}:{}/v1/camera-trap/detection-sync/'.format(ip_address, port)  # insert the IP address of the API\n",
    "base_url"
   ]
  },
  {
   "cell_type": "markdown",
   "metadata": {},
   "source": [
    "# Tests for the Synchronous API"
   ]
  },
  {
   "cell_type": "markdown",
   "metadata": {},
   "source": [
    "## Functional and bad requests\n",
    "\n",
    "The regular example and too many images are tested using `example.ipynb`."
   ]
  },
  {
   "cell_type": "code",
   "execution_count": 5,
   "metadata": {
    "collapsed": true
   },
   "outputs": [],
   "source": [
    "sample_input_dir = os.path.join(sample_input_root, 'test_images')"
   ]
  },
  {
   "cell_type": "markdown",
   "metadata": {},
   "source": [
    "### Out of range confidence or render (boolean) values"
   ]
  },
  {
   "cell_type": "code",
   "execution_count": 4,
   "metadata": {
    "collapsed": false
   },
   "outputs": [
    {
     "name": "stdout",
     "output_type": "stream",
     "text": [
      "number of images to send: 2\n"
     ]
    },
    {
     "data": {
      "text/plain": [
       "400"
      ]
     },
     "execution_count": 4,
     "metadata": {},
     "output_type": "execute_result"
    },
    {
     "data": {
      "text/plain": [
       "False"
      ]
     },
     "execution_count": 4,
     "metadata": {},
     "output_type": "execute_result"
    },
    {
     "data": {
      "text/plain": [
       "'BAD REQUEST'"
      ]
     },
     "execution_count": 4,
     "metadata": {},
     "output_type": "execute_result"
    },
    {
     "data": {
      "text/plain": [
       "'{\"error\":\"Detection confidence 1.1 is invalid. Needs to be between 0.0 and 1.0.\"}\\n'"
      ]
     },
     "execution_count": 4,
     "metadata": {},
     "output_type": "execute_result"
    },
    {
     "data": {
      "text/plain": [
       "1.109774"
      ]
     },
     "execution_count": 4,
     "metadata": {},
     "output_type": "execute_result"
    }
   ],
   "source": [
    "num_images_to_upload = 2  # the /detect endpoint currently accepts a maximum of 8 images\n",
    "\n",
    "detection_confidence = 1.1  # a value from 0 to 1\n",
    "render_boxes = True  # True to have returned result contain annotated image files; in any case a json with result will be returned\n",
    "# Any other value other than True, 'True', 'true' will be treated as False\n",
    "\n",
    "params = {\n",
    "    'confidence': detection_confidence,\n",
    "    'render': render_boxes\n",
    "}\n",
    "\n",
    "files = {}\n",
    "\n",
    "num_images = 0\n",
    "for i, image_name in enumerate(sorted(os.listdir(sample_input_dir))):\n",
    "    if not image_name.lower().endswith('.jpg'):\n",
    "        continue\n",
    "    \n",
    "    if num_images >= num_images_to_upload:\n",
    "        break\n",
    "    else:\n",
    "        num_images += 1\n",
    "    \n",
    "    img_path = os.path.join(sample_input_dir, image_name)\n",
    "    files[image_name] = (image_name, open(img_path, 'rb'), 'image/jpeg')\n",
    "\n",
    "print('number of images to send:', len(files))\n",
    "\n",
    "r = requests.post(base_url + 'detect', \n",
    "                  params=params,\n",
    "                  files=files)\n",
    "r.status_code\n",
    "r.ok\n",
    "if not r.ok:\n",
    "    r.reason\n",
    "    r.text\n",
    "r.elapsed.total_seconds()"
   ]
  },
  {
   "cell_type": "markdown",
   "metadata": {},
   "source": [
    "### Too many images"
   ]
  },
  {
   "cell_type": "code",
   "execution_count": 6,
   "metadata": {
    "collapsed": false
   },
   "outputs": [
    {
     "name": "stdout",
     "output_type": "stream",
     "text": [
      "number of images to send: 9\n"
     ]
    },
    {
     "data": {
      "text/plain": [
       "413"
      ]
     },
     "execution_count": 6,
     "metadata": {},
     "output_type": "execute_result"
    },
    {
     "data": {
      "text/plain": [
       "False"
      ]
     },
     "execution_count": 6,
     "metadata": {},
     "output_type": "execute_result"
    },
    {
     "data": {
      "text/plain": [
       "'REQUEST ENTITY TOO LARGE'"
      ]
     },
     "execution_count": 6,
     "metadata": {},
     "output_type": "execute_result"
    },
    {
     "data": {
      "text/plain": [
       "'{\"error\":\"Too many images. Maximum number of images that can be processed in one call is 8.\"}\\n'"
      ]
     },
     "execution_count": 6,
     "metadata": {},
     "output_type": "execute_result"
    },
    {
     "data": {
      "text/plain": [
       "1.613611"
      ]
     },
     "execution_count": 6,
     "metadata": {},
     "output_type": "execute_result"
    }
   ],
   "source": [
    "num_images_to_upload = 9  # the /detect endpoint currently accepts a maximum of 8 images\n",
    "\n",
    "detection_confidence = 0.8  # a value from 0 to 1\n",
    "render_boxes = True  # True to have returned result contain annotated image files; in any case a json with result will be returned\n",
    "\n",
    "params = {\n",
    "    'confidence': detection_confidence,\n",
    "    'render': render_boxes\n",
    "}\n",
    "\n",
    "files = {}\n",
    "\n",
    "num_images = 0\n",
    "for i, image_name in enumerate(sorted(os.listdir(sample_input_dir))):\n",
    "    if not image_name.lower().endswith('.jpg'):\n",
    "        continue\n",
    "    \n",
    "    if num_images >= num_images_to_upload:\n",
    "        break\n",
    "    else:\n",
    "        num_images += 1\n",
    "    \n",
    "    img_path = os.path.join(sample_input_dir, image_name)\n",
    "    files[image_name] = (image_name, open(img_path, 'rb'), 'image/jpeg')\n",
    "\n",
    "print('number of images to send:', len(files))\n",
    "\n",
    "r = requests.post(base_url + 'detect', \n",
    "                  params=params,\n",
    "                  files=files)\n",
    "r.status_code\n",
    "r.ok\n",
    "if not r.ok:\n",
    "    r.reason\n",
    "    r.text\n",
    "r.elapsed.total_seconds()"
   ]
  },
  {
   "cell_type": "code",
   "execution_count": 20,
   "metadata": {
    "collapsed": false
   },
   "outputs": [
    {
     "data": {
      "text/plain": [
       "'Payload size 100.00 MB exceeds the maximum allowed of 2.4 MB, or payload content length cannot        be determined. Please upload fewer images or more compressed images.'"
      ]
     },
     "execution_count": 20,
     "metadata": {},
     "output_type": "execute_result"
    }
   ],
   "source": [
    "content_length = 100 * (1024 * 1024)\n",
    "'Payload size {:.2f} MB exceeds the maximum allowed of {} MB, or payload content length cannot\\\n",
    "        be determined. Please upload fewer images or more compressed images.'.format(\n",
    "            content_length / (1024 * 1024), 2.4)"
   ]
  },
  {
   "cell_type": "markdown",
   "metadata": {},
   "source": [
    "### Inputs with 0 images of the valid format according to the user provided request content type"
   ]
  },
  {
   "cell_type": "code",
   "execution_count": 7,
   "metadata": {
    "collapsed": false
   },
   "outputs": [
    {
     "name": "stdout",
     "output_type": "stream",
     "text": [
      "Before post\n",
      "After post\n"
     ]
    },
    {
     "data": {
      "text/plain": [
       "400"
      ]
     },
     "execution_count": 7,
     "metadata": {},
     "output_type": "execute_result"
    },
    {
     "data": {
      "text/plain": [
       "False"
      ]
     },
     "execution_count": 7,
     "metadata": {},
     "output_type": "execute_result"
    },
    {
     "data": {
      "text/plain": [
       "'BAD REQUEST'"
      ]
     },
     "execution_count": 7,
     "metadata": {},
     "output_type": "execute_result"
    },
    {
     "data": {
      "text/plain": [
       "'{\"error\":\"No image(s) of accepted types (image/jpeg, image/png, application/octet-stream) received.\"}\\n'"
      ]
     },
     "execution_count": 7,
     "metadata": {},
     "output_type": "execute_result"
    },
    {
     "data": {
      "text/plain": [
       "0.157581"
      ]
     },
     "execution_count": 7,
     "metadata": {},
     "output_type": "execute_result"
    }
   ],
   "source": [
    "params = {\n",
    "    'confidence': 0.8,\n",
    "    'render': True\n",
    "}\n",
    "\n",
    "files = {}\n",
    "\n",
    "files['not an image'] = ('image_name', 'not an image content', 'content-type-not-image')\n",
    "print('Before post')\n",
    "r = requests.post(base_url + 'detect', \n",
    "                  params=params,\n",
    "                  files=files)\n",
    "print('After post')\n",
    "r.status_code\n",
    "r.ok\n",
    "if not r.ok:\n",
    "    r.reason\n",
    "    r.text\n",
    "r.elapsed.total_seconds()"
   ]
  },
  {
   "cell_type": "markdown",
   "metadata": {},
   "source": [
    "### Inputs with image/jpeg as content type but are not really images"
   ]
  },
  {
   "cell_type": "code",
   "execution_count": 8,
   "metadata": {
    "collapsed": false
   },
   "outputs": [
    {
     "name": "stdout",
     "output_type": "stream",
     "text": [
      "zPDF.pdf\n",
      "Number of files: 1\n",
      "multipart/form-data; boundary=da10cb18d4e14e149f204fdc894481c7\n"
     ]
    }
   ],
   "source": [
    "params = {\n",
    "    'confidence': 0.8,\n",
    "    'render': True\n",
    "}\n",
    "\n",
    "files = {}\n",
    "sample_input_dir = os.path.join(sample_input_root, 'bad_inputs')\n",
    "\n",
    "for i, image_name in enumerate(sorted(os.listdir(sample_input_dir))):\n",
    "    if image_name.startswith('.'):\n",
    "        continue\n",
    "    print(image_name)\n",
    "    img_path = os.path.join(sample_input_dir, image_name)\n",
    "    files[image_name] = (image_name, open(img_path, 'rb'), 'image/jpeg')\n",
    "    \n",
    "print('Number of files:', len(files))\n",
    "\n",
    "m = MultipartEncoder(fields=files)\n",
    "print(m.content_type)"
   ]
  },
  {
   "cell_type": "code",
   "execution_count": 9,
   "metadata": {
    "collapsed": false
   },
   "outputs": [
    {
     "data": {
      "text/plain": [
       "500"
      ]
     },
     "execution_count": 9,
     "metadata": {},
     "output_type": "execute_result"
    },
    {
     "data": {
      "text/plain": [
       "False"
      ]
     },
     "execution_count": 9,
     "metadata": {},
     "output_type": "execute_result"
    },
    {
     "data": {
      "text/plain": [
       "'INTERNAL SERVER ERROR'"
      ]
     },
     "execution_count": 9,
     "metadata": {},
     "output_type": "execute_result"
    },
    {
     "data": {
      "text/plain": [
       "'{\"error\":\"Error reading the images: cannot identify image file <FileStorage: \\'zPDF.pdf\\' (\\'image/jpeg\\')>\"}\\n'"
      ]
     },
     "execution_count": 9,
     "metadata": {},
     "output_type": "execute_result"
    },
    {
     "data": {
      "text/plain": [
       "0.268509"
      ]
     },
     "execution_count": 9,
     "metadata": {},
     "output_type": "execute_result"
    }
   ],
   "source": [
    "r = requests.post(base_url + 'detect', \n",
    "                  params=params,\n",
    "                  data=m,\n",
    "                  headers={'Content-Type': m.content_type})\n",
    "r.status_code\n",
    "r.ok\n",
    "if not r.ok:\n",
    "    r.reason\n",
    "    r.text\n",
    "r.elapsed.total_seconds()"
   ]
  },
  {
   "cell_type": "markdown",
   "metadata": {},
   "source": [
    "For a PDF, PIL will throw an error quickly. "
   ]
  },
  {
   "cell_type": "markdown",
   "metadata": {},
   "source": [
    "### PNG images (accepted)"
   ]
  },
  {
   "cell_type": "code",
   "execution_count": 10,
   "metadata": {
    "collapsed": false
   },
   "outputs": [
    {
     "name": "stdout",
     "output_type": "stream",
     "text": [
      "S1_D04_R6_PICT0022.JPG\n",
      "S1_D04_R6_PICT0022.png\n",
      "S1_D04_R6_PICT0128.JPG\n",
      "S1_D04_R6_PICT0128.png\n",
      "Number of files: 4\n",
      "multipart/form-data; boundary=03a39fe516cb4331b875ebb7f5d76a8b\n"
     ]
    },
    {
     "data": {
      "text/plain": [
       "200"
      ]
     },
     "execution_count": 10,
     "metadata": {},
     "output_type": "execute_result"
    },
    {
     "data": {
      "text/plain": [
       "True"
      ]
     },
     "execution_count": 10,
     "metadata": {},
     "output_type": "execute_result"
    },
    {
     "data": {
      "text/plain": [
       "6.120834"
      ]
     },
     "execution_count": 10,
     "metadata": {},
     "output_type": "execute_result"
    }
   ],
   "source": [
    "params = {\n",
    "    'confidence': 0.8,\n",
    "    'render': True\n",
    "}\n",
    "\n",
    "files = {}\n",
    "sample_input_dir = os.path.join(sample_input_root, 'png')\n",
    "\n",
    "for i, image_name in enumerate(sorted(os.listdir(sample_input_dir))):\n",
    "    if image_name.startswith('.'):\n",
    "        continue\n",
    "    print(image_name)\n",
    "    img_path = os.path.join(sample_input_dir, image_name)\n",
    "    files[image_name] = (image_name, open(img_path, 'rb'), 'image/jpeg')\n",
    "    \n",
    "print('Number of files:', len(files))\n",
    "\n",
    "m = MultipartEncoder(fields=files)\n",
    "print(m.content_type)\n",
    "\n",
    "r = requests.post(base_url + 'detect', \n",
    "                  params=params,\n",
    "                  data=m,\n",
    "                  headers={'Content-Type': m.content_type})\n",
    "r.status_code\n",
    "r.ok\n",
    "if not r.ok:\n",
    "    r.reason\n",
    "    r.text\n",
    "r.elapsed.total_seconds()"
   ]
  },
  {
   "cell_type": "code",
   "execution_count": 11,
   "metadata": {
    "collapsed": false
   },
   "outputs": [
    {
     "data": {
      "text/plain": [
       "{'S1_D04_R6_PICT0022.JPG': [[0.011515299789607525,\n",
       "   0.11399328708648682,\n",
       "   0.9100480079650879,\n",
       "   1.0,\n",
       "   0.9953194260597229]],\n",
       " 'S1_D04_R6_PICT0022.png': [[0.011603851802647114,\n",
       "   0.11421734094619751,\n",
       "   0.9096287488937378,\n",
       "   1.0,\n",
       "   0.9953873753547668]],\n",
       " 'S1_D04_R6_PICT0128.JPG': [[0.5885017514228821,\n",
       "   0.019416168332099915,\n",
       "   0.6662894487380981,\n",
       "   0.16861800849437714,\n",
       "   0.8873215913772583]],\n",
       " 'S1_D04_R6_PICT0128.png': [[0.5874748229980469,\n",
       "   0.01882372796535492,\n",
       "   0.6647481918334961,\n",
       "   0.17003537714481354,\n",
       "   0.8942031264305115]]}"
      ]
     },
     "execution_count": 11,
     "metadata": {},
     "output_type": "execute_result"
    }
   ],
   "source": [
    "results = decoder.MultipartDecoder.from_response(r)\n",
    "text_results = {}\n",
    "images = {}\n",
    "for part in results.parts:\n",
    "    # part is a BodyPart object with b'Content-Type', and b'Content-Disposition', the later includes 'name' and 'filename' info\n",
    "    headers = {}\n",
    "    for k, v in part.headers.items():\n",
    "        headers[k.decode(part.encoding)] = v.decode(part.encoding)\n",
    "    if headers.get('Content-Type', None) == 'image/jpeg':\n",
    "        #images[part.headers['filename']] = part.content\n",
    "        c = headers.get('Content-Disposition')\n",
    "        image_name = c.split('name=\"')[1].split('\"')[0]  # somehow all the filename and name info is all in one string with no obvious forma\n",
    "        image = Image.open(io.BytesIO(part.content))\n",
    "        \n",
    "        images[image_name] = image\n",
    "    \n",
    "    elif headers.get('Content-Type', None) == 'application/json':\n",
    "        text_result = json.loads(part.content.decode())\n",
    "text_result"
   ]
  },
  {
   "cell_type": "code",
   "execution_count": null,
   "metadata": {
    "collapsed": false,
    "scrolled": true
   },
   "outputs": [],
   "source": [
    "for img_name, img in sorted(images.items()):\n",
    "    print(img_name)\n",
    "    img\n",
    "    print()"
   ]
  },
  {
   "cell_type": "markdown",
   "metadata": {},
   "source": [
    "## Load\n",
    "\n",
    "Reference: https://chriskiehl.com/article/parallelism-in-one-line"
   ]
  },
  {
   "cell_type": "code",
   "execution_count": 4,
   "metadata": {
    "collapsed": true
   },
   "outputs": [],
   "source": [
    "from multiprocessing import Pool\n",
    "from multiprocessing.dummy import Pool as ThreadPool\n",
    "from datetime import datetime\n",
    "import sys"
   ]
  },
  {
   "cell_type": "code",
   "execution_count": 5,
   "metadata": {
    "collapsed": true
   },
   "outputs": [],
   "source": [
    "def call_api(args):\n",
    "    url, params, data, headers = args['url'], args['params'], args['data'], args['headers']\n",
    "    response = requests.post(url, params=params, data=data, headers=headers)\n",
    "    return response"
   ]
  },
  {
   "cell_type": "code",
   "execution_count": 20,
   "metadata": {
    "collapsed": false
   },
   "outputs": [],
   "source": [
    "def test_load(num_requests, params, max_images=1):\n",
    "    requests = []\n",
    "    \n",
    "    # read the images anew for each request\n",
    "    for i in range(num_requests):    \n",
    "        files = {}\n",
    "        sample_input_dir = '/Users/siyuyang/Source/Repos/VSTS_AI4E/camera-trap-api/sync/example/sample_input/test_images'\n",
    "\n",
    "        num_images = 0\n",
    "        for i, image_name in enumerate(sorted(os.listdir(sample_input_dir))):\n",
    "            if not image_name.lower().endswith('.jpg'):\n",
    "                continue\n",
    "\n",
    "            if num_images >= max_images:\n",
    "                break\n",
    "            else:\n",
    "                num_images += 1\n",
    "\n",
    "            img_path = os.path.join(sample_input_dir, image_name)\n",
    "            with open(img_path, 'rb') as f:\n",
    "                content = f.read()\n",
    "            files[image_name] = (image_name, content, 'image/jpeg')\n",
    "\n",
    "        m = MultipartEncoder(fields=files)\n",
    "        args = {\n",
    "            'url': base_url + 'detect',\n",
    "            'params': params,\n",
    "            'data': m,\n",
    "            'headers': {'Content-Type': m.content_type}\n",
    "        }\n",
    "        requests.append(args)\n",
    "    \n",
    "    # images are read and in each request by the time we call the API in map()\n",
    "    with ThreadPool(20) as pool:\n",
    "        results = pool.map(call_api, requests)\n",
    "        pool.close()\n",
    "        pool.join()\n",
    "\n",
    "    return results"
   ]
  },
  {
   "cell_type": "code",
   "execution_count": 21,
   "metadata": {
    "collapsed": false
   },
   "outputs": [
    {
     "name": "stdout",
     "output_type": "stream",
     "text": [
      "Total time for 1 requests: 0:00:06.276129\n"
     ]
    }
   ],
   "source": [
    "params = {\n",
    "    'confidence': 0.8,\n",
    "    'render': True\n",
    "}\n",
    "\n",
    "num_requests = 1\n",
    "max_images = 8\n",
    "\n",
    "start = datetime.now()\n",
    "responses = test_load(num_requests, params, max_images=max_images)\n",
    "end = datetime.now()\n",
    "total_time = end - start\n",
    "print('Total time for {} requests: {}'.format(num_requests, total_time))"
   ]
  },
  {
   "cell_type": "code",
   "execution_count": 19,
   "metadata": {
    "collapsed": false
   },
   "outputs": [
    {
     "data": {
      "text/plain": [
       "4.953534"
      ]
     },
     "execution_count": 19,
     "metadata": {},
     "output_type": "execute_result"
    }
   ],
   "source": [
    "for r in responses:\n",
    "    if not r.ok:\n",
    "        r.reason\n",
    "        r.text\n",
    "    r.elapsed.total_seconds()"
   ]
  },
  {
   "cell_type": "code",
   "execution_count": 9,
   "metadata": {
    "collapsed": false
   },
   "outputs": [],
   "source": [
    "results = decoder.MultipartDecoder.from_response(responses[0])\n",
    "\n",
    "text_results = {}\n",
    "images = {}\n",
    "for part in results.parts:\n",
    "    # part is a BodyPart object with b'Content-Type', and b'Content-Disposition', the later includes 'name' and 'filename' info\n",
    "    headers = {}\n",
    "    for k, v in part.headers.items():\n",
    "        headers[k.decode(part.encoding)] = v.decode(part.encoding)\n",
    "    if headers.get('Content-Type', None) == 'image/jpeg':\n",
    "        #images[part.headers['filename']] = part.content\n",
    "        c = headers.get('Content-Disposition')\n",
    "        image_name = c.split('name=\"')[1].split('\"')[0]  # somehow all the filename and name info is all in one string with no obvious forma\n",
    "        image = Image.open(io.BytesIO(part.content))\n",
    "        \n",
    "        images[image_name] = image\n",
    "    \n",
    "    elif headers.get('Content-Type', None) == 'application/json':\n",
    "        text_result = json.loads(part.content.decode())"
   ]
  },
  {
   "cell_type": "code",
   "execution_count": null,
   "metadata": {
    "collapsed": false
   },
   "outputs": [],
   "source": [
    "for img_name, img in sorted(images.items()):\n",
    "    print(img_name)\n",
    "    img\n",
    "    print()"
   ]
  },
  {
   "cell_type": "code",
   "execution_count": null,
   "metadata": {
    "collapsed": true
   },
   "outputs": [],
   "source": []
  }
 ],
 "metadata": {
  "anaconda-cloud": {},
  "kernelspec": {
   "display_name": "Python [tensorflow]",
   "language": "python",
   "name": "Python [tensorflow]"
  },
  "language_info": {
   "codemirror_mode": {
    "name": "ipython",
    "version": 3
   },
   "file_extension": ".py",
   "mimetype": "text/x-python",
   "name": "python",
   "nbconvert_exporter": "python",
   "pygments_lexer": "ipython3",
   "version": "3.5.4"
  }
 },
 "nbformat": 4,
 "nbformat_minor": 0
}
