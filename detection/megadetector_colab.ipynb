{
 "cells": [
  {
   "cell_type": "markdown",
   "metadata": {
    "id": "vUXNQZtwEYiQ"
   },
   "source": [
    "# Running MegaDetector on camera trap images using Google Colab\n",
    "\n",
    "[Open this notebook in Colab](https://colab.research.google.com/github/microsoft/CameraTraps/blob/main/detection/megadetector_colab.ipynb)\n",
    "\n",
    "Adapted from previous versions by [@louis030195](https://github.com/louis030195) \n",
    "and [@alsnothome](https://github.com/alsnothome).\n",
    "\n",
    "Also see the [MegaDetector guide on GitHub](https://github.com/microsoft/CameraTraps/blob/main/megadetector.md).\n",
    "\n",
    "This notebook is designed to load camera trap images that have already been uploaded to Google Drive. If you don't have your own images on Google Drive, this notebook will show you how to download some sample images from [LILA](https://lila.science).\n",
    "\n",
    "MegaDetector output is saved in a .json file whose format is described  [here](https://github.com/microsoft/CameraTraps/tree/main/api/batch_processing#batch-processing-api-output-format). The last cell in this notebook will give you some pointers on how users typically work with MegaDetector output."
   ]
  },
  {
   "cell_type": "markdown",
   "metadata": {
    "id": "9aUlxnm7cnWy"
   },
   "source": [
    "## Set up the Colab instance to run on a GPU accelerator\n",
    "\n",
    "\n",
    "Navigate to Edit→Notebook Settings and select \"GPU\" from the \"Hardware accelerator\" drop-down menu."
   ]
  },
  {
   "cell_type": "markdown",
   "metadata": {
    "id": "LUyqKSAWRGNw"
   },
   "source": [
    "## Install dependencies, download the model, set up your PYTHONPATH\n",
    "\n",
    "From here on, you'll start seeing a mix of code and Linux system commands. System commands are prefixed by a shebang `!`, which tells this notebook to execute them on the command line."
   ]
  },
  {
   "cell_type": "markdown",
   "metadata": {
    "id": "VtNnMxtte0EF"
   },
   "source": [
    "### Install required Python packages\n",
    "\n",
    "This may take 2-3 minutes."
   ]
  },
  {
   "cell_type": "code",
   "execution_count": null,
   "metadata": {
    "id": "EMEkgpy6T0pr"
   },
   "outputs": [],
   "source": [
    "pip install humanfriendly jsonpickle"
   ]
  },
  {
   "cell_type": "code",
   "execution_count": null,
   "metadata": {
    "id": "7hQB4Ifx8M1k"
   },
   "outputs": [],
   "source": [
    "pip install torch==1.10.1 torchvision==0.11.2"
   ]
  },
  {
   "cell_type": "markdown",
   "metadata": {
    "id": "hXn_-PZqTWB4"
   },
   "source": [
    "### Download the MegaDetector model files\n",
    "\n",
    "We'll download both MegaDetector v5a and v5b.  See the [release notes](https://github.com/microsoft/CameraTraps/releases/tag/v5.0) for information about the differences between the two models."
   ]
  },
  {
   "cell_type": "code",
   "execution_count": null,
   "metadata": {
    "id": "s5uwmpmaTZMX"
   },
   "outputs": [],
   "source": [
    "!wget -O /content/md_v5a.0.0.pt https://github.com/microsoft/CameraTraps/releases/download/v5.0/md_v5a.0.0.pt\n",
    "!wget -O /content/md_v5b.0.0.pt https://github.com/microsoft/CameraTraps/releases/download/v5.0/md_v5b.0.0.pt "
   ]
  },
  {
   "cell_type": "markdown",
   "metadata": {
    "id": "nmJ6lQX8S4im"
   },
   "source": [
    "### Clone the required git repos\n",
    "This will copy the latest version of the Microsoft AI for Earth \"utilities\" and \"CameraTraps\" repositories from GitHub, as well as the YOLOv5 repo, all of which are required to run MegaDetector."
   ]
  },
  {
   "cell_type": "code",
   "execution_count": null,
   "metadata": {
    "id": "7qhltAaRSe1W"
   },
   "outputs": [],
   "source": [
    "!git clone https://github.com/microsoft/CameraTraps\n",
    "!git clone https://github.com/microsoft/ai4eutils\n",
    "!git clone https://github.com/ultralytics/yolov5/\n",
    "!cd yolov5 && git checkout c23a441c9df7ca9b1f275e8c8719c949269160d1"
   ]
  },
  {
   "cell_type": "markdown",
   "metadata": {
    "id": "2pzfM5Y-iby1"
   },
   "source": [
    "### Set `PYTHONPATH` to include `CameraTraps`, `ai4eutils`, and `yolov5`\n",
    "\n",
    "Add cloned git folders to the `PYTHONPATH` environment variable so that we can import their modules from any working directory.\n"
   ]
  },
  {
   "cell_type": "code",
   "execution_count": null,
   "metadata": {
    "id": "d8vanlgAOlEj"
   },
   "outputs": [],
   "source": [
    "import os\n",
    "os.environ['PYTHONPATH'] += \":/content/ai4eutils\"\n",
    "os.environ['PYTHONPATH'] += \":/content/CameraTraps\"\n",
    "os.environ['PYTHONPATH'] += \":/content/yolov5\""
   ]
  },
  {
   "cell_type": "markdown",
   "metadata": {
    "id": "JyjEgkCsOsak"
   },
   "source": [
    "## Mount Google Drive in Colab\n",
    "You can mount your Google Drive if you have your sample images there, or if want to save the results to your Google Drive.  \n",
    "\n",
    "Once you run the cell below, you will be prompted to authorize Colab to access your Google Drive.  Your Google Drive folders will then be mounted under `/content/drive` and can be viewed and navigated in the Files pane in Colab.\n",
    "\n",
    "The method is described in [this Colab code snippet](https://colab.research.google.com/notebooks/io.ipynb#scrollTo=u22w3BFiOveA)."
   ]
  },
  {
   "cell_type": "code",
   "execution_count": null,
   "metadata": {
    "id": "XYsrTTR7eF0r"
   },
   "outputs": [],
   "source": [
    "from google.colab import drive\n",
    "drive.mount('/content/drive')"
   ]
  },
  {
   "cell_type": "markdown",
   "metadata": {
    "id": "yM3Dl0Bfe0EM"
   },
   "source": [
    "## Download sample images\n",
    "\n",
    "We install Microsoft's [azcopy](https://docs.microsoft.com/en-us/azure/storage/common/storage-use-azcopy-v10) utility, which we then use to download a few camera trap images from the [Snapshot Serengeti](http://lila.science/datasets/snapshot-serengeti) dataset hosted on [lila.science](http://lila.science).  If you are using your own data, you can skip this step."
   ]
  },
  {
   "cell_type": "code",
   "execution_count": null,
   "metadata": {
    "id": "gAkYScsLe0EM"
   },
   "outputs": [],
   "source": [
    "%%bash\n",
    "\n",
    "# Download azcopy\n",
    "wget -q -O azcopy_linux.tar.gz https://aka.ms/downloadazcopy-v10-linux\n",
    "tar -xvzf azcopy_linux.tar.gz --wildcards */azcopy --strip 1\n",
    "rm azcopy_linux.tar.gz\n",
    "chmod u+x azcopy\n",
    "\n",
    "# Copy a few Snapshot Serengeti images to a local directory\n",
    "DATASET_URL=\"https://lilablobssc.blob.core.windows.net/snapshotserengeti-unzipped/\"\n",
    "SAMPLE_DIR=\"S1/D05/D05_R4\"\n",
    "LOCAL_DIR=\"/content/snapshotserengeti\"\n",
    "\n",
    "./azcopy cp \"${DATASET_URL}${SAMPLE_DIR}\" \"${LOCAL_DIR}\" --recursive"
   ]
  },
  {
   "cell_type": "markdown",
   "metadata": {
    "id": "Lkugt7r3uUEr"
   },
   "source": [
    "## MegaDetector batch processing\n",
    "\n",
    "This step executes the Python script `run_detector_batch.py` from the CameraTraps repo. It has three mandatory arguments and one optional:\n",
    "\n",
    "1. Path to the MegaDetector model file\n",
    "2. A folder containing images.  This notebook points to the folder where we just put our Snapshot Serengeti images; if your images were already on Google Drive, replace `[Image_Folder]` with your folder name.\n",
    "3. The output JSON file location and name."
   ]
  },
  {
   "cell_type": "code",
   "execution_count": null,
   "metadata": {
    "id": "pSIH-k0nfi73"
   },
   "outputs": [],
   "source": [
    "images_dir = '/content/snapshotserengeti'\n",
    "\n",
    "# Choose a location for the output JSON file\n",
    "output_file_path = '/content/drive/My Drive/snapshotserengeti-test/snapshot-serengeti-megadetector-results.json'"
   ]
  },
  {
   "cell_type": "markdown",
   "metadata": {
    "id": "Bsvuux-yhpLw"
   },
   "source": [
    "Here we pass the Python variable value `output_file_path` you specified above to the bash commands below using `$` (double quoting as there are spaces in this path), to run the script. This is so that we can refer to the output file path later for visualization."
   ]
  },
  {
   "cell_type": "markdown",
   "metadata": {
    "id": "3YZs9wT1sAgV"
   },
   "source": [
    "# Run the detection script\n",
    "\n",
    "There are actually two variants of MegaDetector v5, called \"v5a\" and \"v5b\".  By default this notebook runs MDv5a; change \"md_v5a.0.0.pt\" to \"md_v5b.0.0.pt\" to run MDv5b instead.\n",
    "\n",
    "Both run at the same speed; if you are in a Colab session with a GPU accelerator, you should be able to process around four images per second."
   ]
  },
  {
   "cell_type": "code",
   "execution_count": null,
   "metadata": {
    "id": "3AOKfviGuTNg"
   },
   "outputs": [],
   "source": [
    "!python /content/CameraTraps/detection/run_detector_batch.py md_v5a.0.0.pt \"$images_dir\" \"$output_file_path\" --recursive --output_relative_filenames --quiet"
   ]
  },
  {
   "cell_type": "markdown",
   "metadata": {
    "id": "-tHu5WUGDpcd"
   },
   "source": [
    "## Visualize batch processing script outputs\n",
    "\n",
    "Here we use the `visualize_detector_output.py` in the `visualization` folder of the Camera Traps repo to see the output of the MegaDetector visualized on our images. It will save images annotated with the results (original images will *not* be modified) to the folder you specify here.\n",
    "\n",
    "The scripts take in a number of optional parameters to control output image size and how many are sampled (if you've processed a lot of images but only want to visualize the results on a few) - take a look at the `main()` function in the script to see what other parameters are available."
   ]
  },
  {
   "cell_type": "code",
   "execution_count": null,
   "metadata": {
    "id": "en3TbCftkWDE"
   },
   "outputs": [],
   "source": [
    "# Render bounding boxes on our images\n",
    "visualization_dir = '/content/visualized_images'\n",
    "!python /content/CameraTraps/visualization/visualize_detector_output.py \"$output_file_path\" \"$visualization_dir\" --confidence 0.2 --images_dir \"$images_dir\""
   ]
  },
  {
   "cell_type": "code",
   "execution_count": null,
   "metadata": {
    "id": "AglNEK0goyjA"
   },
   "outputs": [],
   "source": [
    "# Show the images with bounding boxes in Colab\n",
    "import os\n",
    "from PIL import Image\n",
    "\n",
    "for viz_file_name in os.listdir(visualization_dir):\n",
    "  print(viz_file_name)\n",
    "  im = Image.open(os.path.join(visualization_dir, viz_file_name))\n",
    "  display(im)"
   ]
  },
  {
   "cell_type": "markdown",
   "metadata": {
    "id": "ycce0Oi_e0EQ"
   },
   "source": [
    "# Next steps\n",
    "\n",
    "Now that you have run MegaDetector on a few images, here are some pointers to help you take advantage of MegaDetector to label your survey images more quickly.\n",
    "\n",
    "### Ways to use the output .json in a camera trap image processing workflow \n",
    "\n",
    "#### 1. Timelapse\n",
    "\n",
    "[Timelapse](http://saul.cpsc.ucalgary.ca/timelapse/pmwiki.php?n=Main.HomePage) is an open-source tool for annotating camera trap images. We have worked with the Timelapse developer to integrate MegaDetector results into Timelapse, so a user can:\n",
    "\n",
    "- Select or sort images based on whether they contain animal or people or vehicles.\n",
    "- View bounding boxes during additional manual annotation steps\n",
    "\n",
    "See the [Timelapse Image Recognition Guide](https://saul.cpsc.ucalgary.ca/timelapse/uploads/Guides/TimelapseImageRecognitionGuide.pdf) for more information.\n",
    "\n",
    "![Screenshot showing the Timelapse application with MegaDetector output, shown as a bounding box around the detected animal](https://github.com/microsoft/CameraTraps/blob/main/api/batch_processing/integration/images/tl_boxes.jpg?raw=1)\n",
    "\n",
    "\n",
    "#### 2. Separating images into folders that contain animals/people/vehicles/nothing\n",
    "\n",
    "Some MegaDetector users do image review without Timelapse, by moving the images to separate folders containing animals/people/vehicles/nothing according to MegaDetector output. You can use the script [separate_detections_into_folders.py](https://github.com/microsoft/CameraTraps/blob/master/api/batch_processing/postprocessing/separate_detections_into_folders.py) for this.\n",
    "\n"
   ]
  }
 ],
 "metadata": {
  "accelerator": "GPU",
  "colab": {
   "collapsed_sections": [],
   "name": "MegaDetector Colab",
   "provenance": []
  },
  "gpuClass": "standard",
  "kernelspec": {
   "display_name": "Python 3 (ipykernel)",
   "language": "python",
   "name": "python3"
  },
  "language_info": {
   "codemirror_mode": {
    "name": "ipython",
    "version": 3
   },
   "file_extension": ".py",
   "mimetype": "text/x-python",
   "name": "python",
   "nbconvert_exporter": "python",
   "pygments_lexer": "ipython3",
   "version": "3.9.7"
  }
 },
 "nbformat": 4,
 "nbformat_minor": 1
}
