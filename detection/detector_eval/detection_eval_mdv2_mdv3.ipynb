{
 "cells": [
  {
   "cell_type": "code",
   "execution_count": 1,
   "metadata": {
    "collapsed": true
   },
   "outputs": [],
   "source": [
    "from IPython.core.interactiveshell import InteractiveShell\n",
    "InteractiveShell.ast_node_interactivity = 'all'\n",
    "\n",
    "%load_ext autoreload\n",
    "%autoreload 2"
   ]
  },
  {
   "cell_type": "code",
   "execution_count": 52,
   "metadata": {
    "collapsed": true
   },
   "outputs": [],
   "source": [
    "import pickle\n",
    "\n",
    "import matplotlib.pyplot as plt\n",
    "\n",
    "import detection_eval_utils as utils"
   ]
  },
  {
   "cell_type": "markdown",
   "metadata": {},
   "source": [
    "# Evaluate MegaDetector v2 and v3 on the v3 validation set\n",
    "\n",
    "This validation set is not the perfect measure of performance for either version, since there are some images in there that are in the training set of MDv2, and that MDv3's checkpoint was selected based on results on ~10% of this validation set.\n",
    "\n",
    "This validation set is relatively noise-less however, since they were bounding box labeled by iMerit."
   ]
  },
  {
   "cell_type": "code",
   "execution_count": 17,
   "metadata": {
    "collapsed": false
   },
   "outputs": [],
   "source": [
    "# using results that exclude the 'person' category, since this is newly added in v3\n",
    "\n",
    "with open('/Users/siyuyang/Source/temp_data/CameraTrap/megadetectorv3/no_human_images/v2_on_val_v3/per_category_metrics.p', 'rb') as f:\n",
    "    v2_results = pickle.load(f)\n",
    "    \n",
    "with open('/Users/siyuyang/Source/temp_data/CameraTrap/megadetectorv3/no_human_images/v3/per_category_metrics.p', 'rb') as f:\n",
    "    v3_results = pickle.load(f)"
   ]
  },
  {
   "cell_type": "code",
   "execution_count": 18,
   "metadata": {
    "collapsed": true
   },
   "outputs": [],
   "source": [
    "v2_animal = v2_results[0][1]"
   ]
  },
  {
   "cell_type": "code",
   "execution_count": 19,
   "metadata": {
    "collapsed": false
   },
   "outputs": [
    {
     "data": {
      "text/plain": [
       "{'average_precision': 0.8301842585885212,\n",
       " 'category': 1,\n",
       " 'num_gt': 19562,\n",
       " 'precision': array([1.        , 1.        , 1.        , ..., 0.01208208, 0.01208207,\n",
       "        0.01208206]),\n",
       " 'recall': array([5.11195174e-05, 1.02239035e-04, 1.53358552e-04, ...,\n",
       "        9.03435232e-01, 9.03435232e-01, 9.03435232e-01]),\n",
       " 'scores': array([9.99992728e-01, 1.71653973e-03, 4.61522082e-04, ...,\n",
       "        1.67497019e-05, 1.62780798e-05, 1.61811004e-05]),\n",
       " 'tp_fp': array([ True, False, False, ..., False, False, False])}"
      ]
     },
     "execution_count": 19,
     "metadata": {},
     "output_type": "execute_result"
    }
   ],
   "source": [
    "v2_animal"
   ]
  },
  {
   "cell_type": "code",
   "execution_count": 20,
   "metadata": {
    "collapsed": false
   },
   "outputs": [
    {
     "data": {
      "text/plain": [
       "0.028376270050028365"
      ]
     },
     "execution_count": 20,
     "metadata": {},
     "output_type": "execute_result"
    }
   ],
   "source": [
    "v2_recall_at_90_prec = utils.find_precision_at_recall(v2_animal['precision'], v2_animal['recall'], recall_level=0.9)\n",
    "v2_recall_at_90_prec"
   ]
  },
  {
   "cell_type": "code",
   "execution_count": 21,
   "metadata": {
    "collapsed": false
   },
   "outputs": [
    {
     "data": {
      "text/plain": [
       "{'average_precision': 0.8978631413464984,\n",
       " 'category': 1,\n",
       " 'num_gt': 19562,\n",
       " 'precision': array([1.        , 1.        , 1.        , ..., 0.01421641, 0.0142164 ,\n",
       "        0.01421639]),\n",
       " 'recall': array([5.11195174e-05, 1.02239035e-04, 1.53358552e-04, ...,\n",
       "        9.47244658e-01, 9.47244658e-01, 9.47244658e-01]),\n",
       " 'scores': array([9.78884995e-01, 7.63085961e-01, 3.37921143e-01, ...,\n",
       "        2.64870578e-05, 2.57388328e-05, 2.35880652e-05]),\n",
       " 'tp_fp': array([False, False,  True, ..., False, False, False])}"
      ]
     },
     "execution_count": 21,
     "metadata": {},
     "output_type": "execute_result"
    }
   ],
   "source": [
    "v3_animal = v3_results[0][1]\n",
    "v3_animal"
   ]
  },
  {
   "cell_type": "code",
   "execution_count": 22,
   "metadata": {
    "collapsed": false
   },
   "outputs": [
    {
     "data": {
      "text/plain": [
       "0.5890067244321033"
      ]
     },
     "execution_count": 22,
     "metadata": {},
     "output_type": "execute_result"
    }
   ],
   "source": [
    "v3_recall_at_90_prec = utils.find_precision_at_recall(v3_animal['precision'], v3_animal['recall'], recall_level=0.9)\n",
    "v3_recall_at_90_prec"
   ]
  },
  {
   "cell_type": "code",
   "execution_count": 62,
   "metadata": {
    "collapsed": false
   },
   "outputs": [
    {
     "data": {
      "text/plain": [
       "8.152272469372615"
      ]
     },
     "execution_count": 62,
     "metadata": {},
     "output_type": "execute_result"
    }
   ],
   "source": [
    "# percentage gain in AP\n",
    "100 * (v3_animal['average_precision'] - v2_animal['average_precision']) / v2_animal['average_precision']"
   ]
  },
  {
   "cell_type": "code",
   "execution_count": 63,
   "metadata": {
    "collapsed": false
   },
   "outputs": [
    {
     "data": {
      "text/plain": [
       "1975.7017162356562"
      ]
     },
     "execution_count": 63,
     "metadata": {},
     "output_type": "execute_result"
    }
   ],
   "source": [
    "# percentage gain in precision at 90% recall\n",
    "100 * (v3_recall_at_90_prec - v2_recall_at_90_prec)/v2_recall_at_90_prec"
   ]
  },
  {
   "cell_type": "markdown",
   "metadata": {},
   "source": [
    "### Plot precision-recall for the `animal` category on one graph"
   ]
  },
  {
   "cell_type": "code",
   "execution_count": 50,
   "metadata": {
    "collapsed": false
   },
   "outputs": [
    {
     "data": {
      "text/plain": [
       "<Figure size 750x750 with 0 Axes>"
      ]
     },
     "execution_count": 50,
     "metadata": {},
     "output_type": "execute_result"
    },
    {
     "data": {
      "text/plain": [
       "[<matplotlib.lines.Line2D at 0x10448abe0>]"
      ]
     },
     "execution_count": 50,
     "metadata": {},
     "output_type": "execute_result"
    },
    {
     "data": {
      "text/plain": [
       "[<matplotlib.lines.Line2D at 0x104467278>]"
      ]
     },
     "execution_count": 50,
     "metadata": {},
     "output_type": "execute_result"
    },
    {
     "data": {
      "text/plain": [
       "Text(0.5,0,'Recall')"
      ]
     },
     "execution_count": 50,
     "metadata": {},
     "output_type": "execute_result"
    },
    {
     "data": {
      "text/plain": [
       "Text(0,0.5,'Precision')"
      ]
     },
     "execution_count": 50,
     "metadata": {},
     "output_type": "execute_result"
    },
    {
     "data": {
      "text/plain": [
       "(0, 1.05)"
      ]
     },
     "execution_count": 50,
     "metadata": {},
     "output_type": "execute_result"
    },
    {
     "data": {
      "text/plain": [
       "(0, 1.05)"
      ]
     },
     "execution_count": 50,
     "metadata": {},
     "output_type": "execute_result"
    },
    {
     "data": {
      "text/plain": [
       "Text(0.5,1,'MegaDetector v2 and v3 precision-recall \\non v3 validation set')"
      ]
     },
     "execution_count": 50,
     "metadata": {},
     "output_type": "execute_result"
    },
    {
     "data": {
      "text/plain": [
       "<matplotlib.legend.Legend at 0x10447f4e0>"
      ]
     },
     "execution_count": 50,
     "metadata": {},
     "output_type": "execute_result"
    },
    {
     "data": {
      "image/png": "[encoded data removed]",
      "text/plain": [
       "<Figure size 750x750 with 1 Axes>"
      ]
     },
     "metadata": {
      "needs_background": "light"
     },
     "output_type": "display_data"
    }
   ],
   "source": [
    "plt.figure(figsize=(5, 5), dpi=150)\n",
    "\n",
    "plt.plot(v2_animal['recall'], v2_animal['precision'], label='v2')\n",
    "plt.plot(v3_animal['recall'], v3_animal['precision'], label='v3')\n",
    "\n",
    "plt.xlabel('Recall')\n",
    "plt.ylabel('Precision')     \n",
    "plt.xlim([0, 1.05])\n",
    "plt.ylim([0, 1.05])\n",
    "plt.title('MegaDetector v2 and v3 precision-recall \\non v3 validation set')\n",
    "plt.axes().set_aspect('equal')\n",
    "plt.legend(loc='lower left')\n",
    "plt.tight_layout()\n",
    "plt.savefig('/Users/siyuyang/Source/temp_data/CameraTrap/megadetectorv3/no_human_images/v2_v3_animal.png')"
   ]
  },
  {
   "cell_type": "markdown",
   "metadata": {},
   "source": [
    "### TP at 90% confidence and 0.5 IoU"
   ]
  },
  {
   "cell_type": "code",
   "execution_count": 56,
   "metadata": {
    "collapsed": false
   },
   "outputs": [
    {
     "data": {
      "text/plain": [
       "1462747"
      ]
     },
     "execution_count": 56,
     "metadata": {},
     "output_type": "execute_result"
    },
    {
     "data": {
      "text/plain": [
       "1303425"
      ]
     },
     "execution_count": 56,
     "metadata": {},
     "output_type": "execute_result"
    }
   ],
   "source": [
    "len(v2_animal['tp_fp'])\n",
    "len(v3_animal['tp_fp'])"
   ]
  },
  {
   "cell_type": "code",
   "execution_count": 67,
   "metadata": {
    "collapsed": false
   },
   "outputs": [],
   "source": [
    "conf_threshold = 0.9\n",
    "\n",
    "tp_fp_confident = [[], []]\n",
    "\n",
    "for i_version, version in enumerate((v2_animal, v3_animal)):\n",
    "    for s, tf in zip(version['scores'], version['tp_fp']):\n",
    "        if s > 0.9:\n",
    "            tp_fp_confident[i_version].append(tf)"
   ]
  },
  {
   "cell_type": "code",
   "execution_count": 74,
   "metadata": {
    "collapsed": false
   },
   "outputs": [
    {
     "data": {
      "text/plain": [
       "17087"
      ]
     },
     "execution_count": 74,
     "metadata": {},
     "output_type": "execute_result"
    },
    {
     "data": {
      "text/plain": [
       "16738"
      ]
     },
     "execution_count": 74,
     "metadata": {},
     "output_type": "execute_result"
    }
   ],
   "source": [
    "len(tp_fp_confident[0])\n",
    "len(tp_fp_confident[1])"
   ]
  },
  {
   "cell_type": "code",
   "execution_count": 68,
   "metadata": {
    "collapsed": false
   },
   "outputs": [
    {
     "data": {
      "text/plain": [
       "0.7850424291994683"
      ]
     },
     "execution_count": 68,
     "metadata": {},
     "output_type": "execute_result"
    },
    {
     "data": {
      "text/plain": [
       "0.8143339126878643"
      ]
     },
     "execution_count": 68,
     "metadata": {},
     "output_type": "execute_result"
    }
   ],
   "source": [
    "total_gt = 19562\n",
    "\n",
    "v2_tp = sum(tp_fp_confident[0]) / total_gt\n",
    "v3_tp = sum(tp_fp_confident[1]) / total_gt\n",
    "\n",
    "v2_tp\n",
    "v3_tp"
   ]
  },
  {
   "cell_type": "markdown",
   "metadata": {},
   "source": [
    "Need to be able to record down false negatives."
   ]
  },
  {
   "cell_type": "code",
   "execution_count": null,
   "metadata": {
    "collapsed": true
   },
   "outputs": [],
   "source": []
  }
 ],
 "metadata": {
  "kernelspec": {
   "display_name": "Python [tensorflow]",
   "language": "python",
   "name": "Python [tensorflow]"
  },
  "language_info": {
   "codemirror_mode": {
    "name": "ipython",
    "version": 3
   },
   "file_extension": ".py",
   "mimetype": "text/x-python",
   "name": "python",
   "nbconvert_exporter": "python",
   "pygments_lexer": "ipython3",
   "version": "3.5.4"
  }
 },
 "nbformat": 4,
 "nbformat_minor": 0
}
