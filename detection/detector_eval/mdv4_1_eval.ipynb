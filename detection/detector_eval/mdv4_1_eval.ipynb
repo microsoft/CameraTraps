{
 "cells": [
  {
   "cell_type": "code",
   "execution_count": 1,
   "metadata": {},
   "outputs": [],
   "source": [
    "from IPython.core.interactiveshell import InteractiveShell\n",
    "InteractiveShell.ast_node_interactivity = 'all'  # default is ‘last_expr’\n",
    "\n",
    "%load_ext autoreload\n",
    "%autoreload 2"
   ]
  },
  {
   "cell_type": "code",
   "execution_count": 2,
   "metadata": {},
   "outputs": [],
   "source": [
    "import sys\n",
    "sys.path.append('/Users/siyuyang/Source/Repos/GitHub_MSFT/CameraTraps')"
   ]
  },
  {
   "cell_type": "code",
   "execution_count": 111,
   "metadata": {},
   "outputs": [],
   "source": [
    "import json\n",
    "import os\n",
    "from collections import defaultdict, Counter\n",
    "from random import sample\n",
    "\n",
    "import matplotlib.pyplot as plt\n",
    "import matplotlib\n",
    "from tqdm import tqdm\n",
    "from azure.storage.blob import BlobServiceClient\n",
    "from PIL import Image\n",
    "\n",
    "# requires the TF Object Detection API be installed\n",
    "from detection.detector_eval import detector_eval  # detector_eval.py functions in this directory\n",
    "from visualization import visualization_utils as viz_utils"
   ]
  },
  {
   "cell_type": "markdown",
   "metadata": {},
   "source": [
    "# MegaDetector v4 experiments - evaluation\n",
    "\n",
    "For MDv2 results, some locations in its training set are in this test set (MDv4 test set)."
   ]
  },
  {
   "cell_type": "code",
   "execution_count": 27,
   "metadata": {},
   "outputs": [],
   "source": [
    "mdv4boxes_label_path = '/Users/siyuyang/OneDrive - Microsoft/AI4Earth/CameraTrap/Databases/query_results/bboxes_inc_empty_20200325.json'\n",
    "\n",
    "res_dir = '/Users/siyuyang/OneDrive - Microsoft/AI4Earth/CameraTrap/MegaDetectorEval/megadetectorv4/mdv4_1_results'\n",
    "test_set_res_paths = {\n",
    "    'MDv4.1 cos LR aug epoch 5.8': '2891_detections_mdv4_1_run10_step3016k_on_test_20200427004012.json',\n",
    "    'MDv4.1 cos LR aug epoch 3.8': '7230_detections_mdv4_1_run10_step1976k_on_test_20200427003838.json',\n",
    "    'MDv4.1 cos LR epoch 5.6': '1831_detections_mdv4_1_run9_step2912k_on_test_20200427003715.json',\n",
    "    'MDv4.1 epoch 7.6': '6725_detections_mdv4_1_run5_step3952k_on_test_20200427003551.json',\n",
    "    'MDv4.1 epoch 5.8': '1654_detections_mdv4_1_run5_step3016k_on_test_20200427003431.json',\n",
    "    'MDv4 aug': '6706_detections_mdv4_aug_run4_step1160k_on_test_20200427005009.json',\n",
    "    'MDv4 baseline': '3014_detections_mdv4_on_test_20200427004828.json'\n",
    "}\n",
    "\n",
    "out_dir = '/Users/siyuyang/OneDrive - Microsoft/AI4Earth/CameraTrap/MegaDetectorEval/megadetectorv4/mdv4_1_results/plots'"
   ]
  },
  {
   "cell_type": "markdown",
   "metadata": {},
   "source": [
    "## Matching label and predicted boxes"
   ]
  },
  {
   "cell_type": "code",
   "execution_count": null,
   "metadata": {
    "scrolled": true
   },
   "outputs": [],
   "source": [
    "test_set_res = {}\n",
    "for checkpoint_name, out_name in test_set_res_paths.items():\n",
    "    with open(os.path.join(res_dir, out_name)) as f:\n",
    "        test_set_res[checkpoint_name] = json.load(f)['images']\n",
    "    print('{}, number of results: {}'.format(checkpoint_name, len(test_set_res[checkpoint_name])))"
   ]
  },
  {
   "cell_type": "code",
   "execution_count": 6,
   "metadata": {},
   "outputs": [],
   "source": [
    "# for numerical IDs from output files of the API, and names in the MegaDB\n",
    "label_map_name_to_id = {\n",
    "    'animal': 1,\n",
    "    'person': 2,\n",
    "    'vehicle': 3\n",
    "}"
   ]
  },
  {
   "cell_type": "code",
   "execution_count": 7,
   "metadata": {},
   "outputs": [
    {
     "data": {
      "text/plain": [
       "{'file': 'mdv4_images/test/wcs+8a02345a-3f14-11ea-92bb-9801a7a664ab.jpg',\n",
       " 'max_detection_conf': 1.0,\n",
       " 'detections': [{'category': '1',\n",
       "   'conf': 1.0,\n",
       "   'bbox': [0.3468, 0.4422, 0.2385, 0.2146]},\n",
       "  {'category': '1', 'conf': 0.987, 'bbox': [0.9007, 0.3621, 0.0985, 0.1064]}]}"
      ]
     },
     "execution_count": 7,
     "metadata": {},
     "output_type": "execute_result"
    }
   ],
   "source": [
    "test_set_res['MDv4 baseline'][100]"
   ]
  },
  {
   "cell_type": "code",
   "execution_count": 8,
   "metadata": {},
   "outputs": [
    {
     "data": {
      "text/plain": [
       "20468"
      ]
     },
     "execution_count": 8,
     "metadata": {},
     "output_type": "execute_result"
    }
   ],
   "source": [
    "test_set = set([i['file'].split('/')[-1].split('.jpg')[0] for i in test_set_res['MDv4 baseline']])\n",
    "len(test_set)"
   ]
  },
  {
   "cell_type": "code",
   "execution_count": 9,
   "metadata": {},
   "outputs": [],
   "source": [
    "with open(mdv4boxes_label_path) as f:\n",
    "    mdv4boxes_labels = json.load(f)"
   ]
  },
  {
   "cell_type": "code",
   "execution_count": 10,
   "metadata": {},
   "outputs": [
    {
     "data": {
      "text/plain": [
       "570092"
      ]
     },
     "execution_count": 10,
     "metadata": {},
     "output_type": "execute_result"
    },
    {
     "data": {
      "text/plain": [
       "{'bbox': [{'category': 'animal', 'bbox': [0.2, 0.722, 0.232, 0.221]},\n",
       "  {'category': 'animal', 'bbox': [0.221, 0.637, 0.0895, 0.122]}],\n",
       " 'file': 'Beaverhead_elk/AM58/Trip 1/100RECNX/2016-02-03 12-48-58 M 2_5.JPG',\n",
       " 'dataset': 'idfg',\n",
       " 'location': 'Beaverhead_elk+AM58',\n",
       " 'download_id': 'idfg+4e999ed1-659e-4f74-b396-3998463b8ae6',\n",
       " 'new_entry': True}"
      ]
     },
     "execution_count": 10,
     "metadata": {},
     "output_type": "execute_result"
    }
   ],
   "source": [
    "len(mdv4boxes_labels)\n",
    "mdv4boxes_labels[100]"
   ]
  },
  {
   "cell_type": "code",
   "execution_count": 11,
   "metadata": {},
   "outputs": [
    {
     "name": "stdout",
     "output_type": "stream",
     "text": [
      "20468\n"
     ]
    }
   ],
   "source": [
    "mdv4boxes_labels_dict = {}\n",
    "for i in mdv4boxes_labels:\n",
    "    if i['download_id'] in test_set:\n",
    "        mdv4boxes_labels_dict[i['download_id']] = i\n",
    "print(len(mdv4boxes_labels_dict))"
   ]
  },
  {
   "cell_type": "code",
   "execution_count": 12,
   "metadata": {},
   "outputs": [
    {
     "data": {
      "text/plain": [
       "{'bbox': [{'category': 'animal', 'bbox': [0.02823, 0.2205, 0.02278, 0.08518]}],\n",
       " 'file': 'Maliau/Maliau_3/OG1-E-38/20120416-005602(2)10 of 10.jpg',\n",
       " 'dataset': 'zsl_borneo',\n",
       " 'location': 'OG1-E-38',\n",
       " 'download_id': 'zsl_borneo+88b7a35a-3f14-11ea-97a2-9801a7a664ab'}"
      ]
     },
     "execution_count": 12,
     "metadata": {},
     "output_type": "execute_result"
    }
   ],
   "source": [
    "mdv4boxes_labels_dict['zsl_borneo+88b7a35a-3f14-11ea-97a2-9801a7a664ab']"
   ]
  },
  {
   "cell_type": "code",
   "execution_count": 134,
   "metadata": {},
   "outputs": [],
   "source": [
    "test_set_by_dataset = defaultdict(int)\n",
    "for i in mdv4boxes_labels:\n",
    "    if i['download_id'] in test_set:\n",
    "        test_set_by_dataset[i['dataset']] += 1"
   ]
  },
  {
   "cell_type": "code",
   "execution_count": null,
   "metadata": {},
   "outputs": [],
   "source": [
    "sorted(test_set_by_dataset.items(), key=lambda x: x[0])"
   ]
  },
  {
   "cell_type": "markdown",
   "metadata": {},
   "source": [
    "## Compute metrics"
   ]
  },
  {
   "cell_type": "code",
   "execution_count": null,
   "metadata": {
    "scrolled": false
   },
   "outputs": [],
   "source": [
    "checkpoint_metrics = {}\n",
    "\n",
    "for checkpoint_name, detection_res in test_set_res.items():\n",
    "    print(checkpoint_name)\n",
    "    \n",
    "    per_image_gts, per_image_detections = detector_eval.get_per_image_gts_and_detections(\n",
    "        mdv4boxes_labels_dict, detection_res, label_map_name_to_id)\n",
    "        \n",
    "    print('Lengths of per_image_gts is {}, per_image_detections is {}'.format(\n",
    "        len(per_image_gts), len(per_image_detections)))\n",
    "    \n",
    "    per_cat_metrics = detector_eval.compute_precision_recall_bbox(per_image_detections, per_image_gts, 3, \n",
    "                                                    matching_iou_threshold=0.5)\n",
    "\n",
    "    checkpoint_metrics[checkpoint_name] = per_cat_metrics\n",
    "    print('one_class average precision is {}'.format(per_cat_metrics['one_class']['average_precision']))\n",
    "    print('-----------')\n",
    "    "
   ]
  },
  {
   "cell_type": "markdown",
   "metadata": {},
   "source": [
    "## Plot precision-recall"
   ]
  },
  {
   "cell_type": "code",
   "execution_count": 14,
   "metadata": {},
   "outputs": [],
   "source": [
    "categories = {\n",
    "    1: 'animal',\n",
    "    2: 'person',\n",
    "    3: 'vehicle',\n",
    "    'one_class': 'one class'\n",
    "}"
   ]
  },
  {
   "cell_type": "code",
   "execution_count": 15,
   "metadata": {
    "scrolled": false
   },
   "outputs": [
    {
     "name": "stdout",
     "output_type": "stream",
     "text": [
      "MDv4.1 cos LR aug epoch 5.8\n",
      "1\n",
      "0.8701549161772134\n",
      "2\n",
      "0.9306805816326822\n",
      "3\n",
      "0.9096424325990644\n",
      "one_class\n",
      "0.8788542894327809\n",
      "mAP is 0.9034926434696534\n",
      "-----------\n",
      "MDv4.1 cos LR aug epoch 3.8\n",
      "1\n",
      "0.8681920422685518\n",
      "2\n",
      "0.932010653519139\n",
      "3\n",
      "0.9037144486960861\n",
      "one_class\n",
      "0.8769928955170816\n",
      "mAP is 0.9013057148279257\n",
      "-----------\n",
      "MDv4.1 cos LR epoch 5.6\n",
      "1\n",
      "0.8780303028152383\n",
      "2\n",
      "0.9342826979123573\n",
      "3\n",
      "0.8969026947933176\n",
      "one_class\n",
      "0.8861010194865517\n",
      "mAP is 0.9030718985069711\n",
      "-----------\n",
      "MDv4.1 epoch 7.6\n",
      "1\n",
      "0.8780935893887386\n",
      "2\n",
      "0.9339168303685309\n",
      "3\n",
      "0.9166736916587306\n",
      "one_class\n",
      "0.8863746452552632\n",
      "mAP is 0.9095613704720001\n",
      "-----------\n",
      "MDv4.1 epoch 5.8\n",
      "1\n",
      "0.8786706792453995\n",
      "2\n",
      "0.9330299798452961\n",
      "3\n",
      "0.9203857837466889\n",
      "one_class\n",
      "0.8864350253142375\n",
      "mAP is 0.9106954809457948\n",
      "-----------\n",
      "MDv4 aug\n",
      "1\n",
      "0.8720859293686467\n",
      "2\n",
      "0.9266237345639334\n",
      "3\n",
      "0.9036554968836412\n",
      "one_class\n",
      "0.8799355238385914\n",
      "mAP is 0.9007883869387404\n",
      "-----------\n",
      "MDv4 baseline\n",
      "1\n",
      "0.8693864959891899\n",
      "2\n",
      "0.9211235610439354\n",
      "3\n",
      "0.8980362991143584\n",
      "one_class\n",
      "0.8766742886770814\n",
      "mAP is 0.8961821187158279\n",
      "-----------\n"
     ]
    }
   ],
   "source": [
    "for checkpoint_name, per_cat_metrics in checkpoint_metrics.items():            \n",
    "    print(checkpoint_name)\n",
    "    average_precision_category = []\n",
    "    for cat in categories:\n",
    "        print(cat)\n",
    "        ave_prec = per_cat_metrics[cat]['average_precision']\n",
    "        print(ave_prec)\n",
    "        if cat in [1, 2, 3] and ave_prec > 0:\n",
    "            average_precision_category.append(ave_prec)\n",
    "    \n",
    "    mAP = sum(average_precision_category) / len(average_precision_category)\n",
    "    print('mAP is {}'.format(mAP))\n",
    "    print('-----------')"
   ]
  },
  {
   "cell_type": "code",
   "execution_count": 38,
   "metadata": {},
   "outputs": [
    {
     "data": {
      "text/plain": [
       "['MDv4.1 cos LR aug epoch 5.8',\n",
       " 'MDv4.1 cos LR aug epoch 3.8',\n",
       " 'MDv4.1 cos LR epoch 5.6',\n",
       " 'MDv4.1 epoch 7.6',\n",
       " 'MDv4.1 epoch 5.8',\n",
       " 'MDv4 aug',\n",
       " 'MDv4 baseline']"
      ]
     },
     "execution_count": 38,
     "metadata": {},
     "output_type": "execute_result"
    }
   ],
   "source": [
    "list(test_set_res_paths.keys())"
   ]
  },
  {
   "cell_type": "code",
   "execution_count": 44,
   "metadata": {},
   "outputs": [],
   "source": [
    "# Cosine decay learning rate vs step learning rate\n",
    "runs_to_show = [\n",
    "    'MDv4.1 epoch 5.8',\n",
    "    'MDv4.1 cos LR epoch 5.6'\n",
    "]\n",
    "\n",
    "cat_to_fig = {}\n",
    "for cat, cat_label in categories.items():\n",
    "    fig = matplotlib.figure.Figure(figsize=(3, 3), dpi=150)\n",
    "    ax = fig.add_axes((0, 0, 1, 1))\n",
    "    \n",
    "    for checkpoint_name in runs_to_show:\n",
    "        per_cat_metrics = checkpoint_metrics[checkpoint_name]\n",
    "        \n",
    "        _ = ax.plot(per_cat_metrics[cat]['recall'], per_cat_metrics[cat]['precision'], \n",
    "                    label=checkpoint_name,\n",
    "                    linewidth=1)  \n",
    "    \n",
    "    _ = ax.legend(loc='upper center', bbox_to_anchor=(0.5, -0.2), shadow=False, ncol=2)\n",
    "    _, _ = ax.set_xlim(left=0.0, right=1.0)\n",
    "    \n",
    "    _ = ax.set_xlabel('Recall')\n",
    "    _ = ax.set_ylabel('Precision')\n",
    "    _ = ax.set_title('category: ' + cat_label)\n",
    "    \n",
    "    cat_to_fig[cat] = fig"
   ]
  },
  {
   "cell_type": "code",
   "execution_count": 70,
   "metadata": {},
   "outputs": [
    {
     "data": {
      "image/png": "[encoded data removed]",
      "text/plain": [
       "<Figure size 2200x500 with 3 Axes>"
      ]
     },
     "metadata": {
      "needs_background": "light"
     },
     "output_type": "display_data"
    }
   ],
   "source": [
    "runs_to_show = [\n",
    "    'MDv4.1 cos LR epoch 5.6',\n",
    "    'MDv4.1 cos LR aug epoch 5.8'\n",
    "]\n",
    "\n",
    "fig, (ax1, ax2, ax3) = plt.subplots(ncols=3, sharex=True, figsize=(11, 2.5), dpi=200)\n",
    "\n",
    "\n",
    "for cat, cat_label, ax in zip([1, 2, 3], ['animal', 'person', 'vehicle'], [ax1, ax2, ax3]):\n",
    "    for checkpoint_name, per_cat_metrics in checkpoint_metrics.items():\n",
    "        if checkpoint_name not in runs_to_show:\n",
    "            continue\n",
    "            \n",
    "        _ = ax.plot(per_cat_metrics[cat]['recall'], per_cat_metrics[cat]['precision'], \n",
    "                    label=checkpoint_name,\n",
    "                    linewidth=0.8)  \n",
    "        _, _ = ax.set_xlim(left=0.0, right=1.0)\n",
    "        _, _ = ax.set_ylim(bottom=0.0, top=1.0)\n",
    "        \n",
    "        if cat == 3:\n",
    "            _ = ax.set_xlabel('Recall')\n",
    "        if cat == 1:\n",
    "            _ = ax.set_ylabel('Precision')\n",
    "            \n",
    "        _ = ax.set_title('category: ' + cat_label)\n",
    "\n",
    "lines, labels = fig.axes[-1].get_legend_handles_labels()\n",
    "_ = fig.legend(lines, labels, loc='center', bbox_to_anchor=(0.4, 0.05), fontsize='x-small')"
   ]
  },
  {
   "cell_type": "markdown",
   "metadata": {},
   "source": [
    "## Number of true and false positives"
   ]
  },
  {
   "cell_type": "code",
   "execution_count": null,
   "metadata": {
    "scrolled": false
   },
   "outputs": [],
   "source": [
    "for checkpoint_name, per_cat_metrics in checkpoint_metrics.items():\n",
    "    \n",
    "    if checkpoint_name not in runs_to_show:\n",
    "        continue\n",
    "    \n",
    "    print('\\n{}'.format(checkpoint_name))\n",
    "    for category, metrics in per_cat_metrics.items():\n",
    "        print('category: {}'.format(category))\n",
    "        for score_threshold in [0.5, 0.8, 0.9, 0.97]:\n",
    "            total_tp = 0\n",
    "            total_fp = 0\n",
    "            for score, tp_fp in zip(metrics['scores'], metrics['tp_fp']):\n",
    "                if score > score_threshold:\n",
    "                    if tp_fp == 1:\n",
    "                        total_tp += 1\n",
    "                    else:\n",
    "                        total_fp += 1\n",
    "                        \n",
    "            ratio = total_tp/total_fp if total_fp > 0 else None\n",
    "            print('    score_threshold: {}, tp: {}, fp: {}, tp:fp ratio: {}'.format(\n",
    "                score_threshold, total_tp, total_fp, ratio))"
   ]
  },
  {
   "cell_type": "markdown",
   "metadata": {},
   "source": [
    "## Visualize some results"
   ]
  },
  {
   "cell_type": "code",
   "execution_count": 78,
   "metadata": {},
   "outputs": [],
   "source": [
    "label_map = {\n",
    "    '1': 'animal',\n",
    "    '2': 'person',\n",
    "    '3': 'vehicle'  # will be available in megadetector v4\n",
    "}"
   ]
  },
  {
   "cell_type": "code",
   "execution_count": 87,
   "metadata": {},
   "outputs": [],
   "source": [
    "test_im_dir = '/Users/siyuyang/Source/temp_data/CameraTrap/samples/mdv4_1_test'"
   ]
  },
  {
   "cell_type": "code",
   "execution_count": 72,
   "metadata": {},
   "outputs": [],
   "source": [
    "runs_to_compare = ['MDv4 baseline', 'MDv4.1 epoch 5.8']\n",
    "\n",
    "results_to_compare = {}\n",
    "\n",
    "test_set_files = set()\n",
    "\n",
    "for run_name in runs_to_compare:\n",
    "    res = test_set_res[run_name]\n",
    "    im_id_to_res = {}\n",
    "    for r in res:\n",
    "        download_id = r['file'].split('/')[-1].split('.jpg')[0]\n",
    "        test_set_files.add(download_id)\n",
    "        im_id_to_res[download_id] = r\n",
    "    results_to_compare[run_name] = im_id_to_res"
   ]
  },
  {
   "cell_type": "code",
   "execution_count": 73,
   "metadata": {},
   "outputs": [
    {
     "data": {
      "text/plain": [
       "554"
      ]
     },
     "execution_count": 73,
     "metadata": {},
     "output_type": "execute_result"
    }
   ],
   "source": [
    "diff_threshold = 0.6\n",
    "\n",
    "very_diff_entries = []\n",
    "\n",
    "for download_id in test_set_files:\n",
    "    conf_scores = []\n",
    "    for run_name in runs_to_compare:\n",
    "        conf_scores.append(results_to_compare[run_name][download_id]['max_detection_conf'])\n",
    "    \n",
    "    if max(conf_scores) - min(conf_scores) > diff_threshold:\n",
    "        very_diff_entries.append(download_id)\n",
    "        \n",
    "len(very_diff_entries)"
   ]
  },
  {
   "cell_type": "code",
   "execution_count": 107,
   "metadata": {},
   "outputs": [
    {
     "data": {
      "text/plain": [
       "{'bbox': [{'category': 'animal', 'bbox': [0.02823, 0.2205, 0.02278, 0.08518]}],\n",
       " 'file': 'Maliau/Maliau_3/OG1-E-38/20120416-005602(2)10 of 10.jpg',\n",
       " 'dataset': 'zsl_borneo',\n",
       " 'location': 'OG1-E-38',\n",
       " 'download_id': 'zsl_borneo+88b7a35a-3f14-11ea-97a2-9801a7a664ab'}"
      ]
     },
     "execution_count": 107,
     "metadata": {},
     "output_type": "execute_result"
    }
   ],
   "source": [
    "mdv4boxes_labels_dict['zsl_borneo+88b7a35a-3f14-11ea-97a2-9801a7a664ab']"
   ]
  },
  {
   "cell_type": "code",
   "execution_count": 108,
   "metadata": {},
   "outputs": [],
   "source": [
    "false_neg_all_models = []\n",
    "false_pos_all_models = []\n",
    "\n",
    "for download_id in test_set_files:\n",
    "    is_positive = len(mdv4boxes_labels_dict[download_id]['bbox']) > 0\n",
    "    \n",
    "    conf_scores = []\n",
    "    for run_name in runs_to_compare:\n",
    "        conf_scores.append(results_to_compare[run_name][download_id]['max_detection_conf'])\n",
    "    \n",
    "    all_preds_negative = max(conf_scores) < 0.3\n",
    "    all_preds_pos = min(conf_scores) > 0.8\n",
    "\n",
    "    if is_positive and all_preds_negative:\n",
    "        false_neg_all_models.append(download_id)\n",
    "    \n",
    "    if not is_positive and all_preds_pos:\n",
    "        false_pos_all_models.append(download_id)"
   ]
  },
  {
   "cell_type": "code",
   "execution_count": 113,
   "metadata": {},
   "outputs": [
    {
     "data": {
      "text/plain": [
       "588"
      ]
     },
     "execution_count": 113,
     "metadata": {},
     "output_type": "execute_result"
    },
    {
     "data": {
      "text/plain": [
       "0.028727770177838577"
      ]
     },
     "execution_count": 113,
     "metadata": {},
     "output_type": "execute_result"
    },
    {
     "data": {
      "text/plain": [
       "257"
      ]
     },
     "execution_count": 113,
     "metadata": {},
     "output_type": "execute_result"
    },
    {
     "data": {
      "text/plain": [
       "0.012556185264803597"
      ]
     },
     "execution_count": 113,
     "metadata": {},
     "output_type": "execute_result"
    }
   ],
   "source": [
    "len(false_neg_all_models)\n",
    "len(false_neg_all_models)/20468\n",
    "len(false_pos_all_models)\n",
    "len(false_pos_all_models)/20468"
   ]
  },
  {
   "cell_type": "code",
   "execution_count": 112,
   "metadata": {},
   "outputs": [
    {
     "data": {
      "text/plain": [
       "defaultdict(int,\n",
       "            {'awc_190430': 408,\n",
       "             'mcshea_emammal': 9,\n",
       "             'zsl_borneo': 110,\n",
       "             'rspb_gola': 10,\n",
       "             'caltech': 1,\n",
       "             'kays_emammal': 22,\n",
       "             'wpz_emammal_2018': 11,\n",
       "             'snapshotserengeti': 2,\n",
       "             'wcs': 13,\n",
       "             'idfg': 2})"
      ]
     },
     "execution_count": 112,
     "metadata": {},
     "output_type": "execute_result"
    }
   ],
   "source": [
    "false_neg_by_dataset = defaultdict(int)\n",
    "for i in false_neg_all_models:\n",
    "    dataset = i.split('+')[0]\n",
    "    false_neg_by_dataset[dataset] += 1\n",
    "false_neg_by_dataset"
   ]
  },
  {
   "cell_type": "code",
   "execution_count": 117,
   "metadata": {},
   "outputs": [
    {
     "data": {
      "text/plain": [
       "defaultdict(int,\n",
       "            {'wcs': 91,\n",
       "             'zsl_borneo': 123,\n",
       "             'awc_190430': 20,\n",
       "             'wcs_private': 23})"
      ]
     },
     "execution_count": 117,
     "metadata": {},
     "output_type": "execute_result"
    }
   ],
   "source": [
    "false_pos_by_dataset = defaultdict(int)\n",
    "for i in false_pos_all_models:\n",
    "    dataset = i.split('+')[0]\n",
    "    false_pos_by_dataset[dataset] += 1\n",
    "false_pos_by_dataset"
   ]
  },
  {
   "cell_type": "code",
   "execution_count": 74,
   "metadata": {},
   "outputs": [],
   "source": [
    "sas_token = '?se=2020-05-28T00%3A18%3A00Z&sp=rl&sv=2018-03-28&sr=c&sig=IYWj8xkjI4EEzle9jan06hAyumOYxtmaL%2FhV7hmgIr0%3D' # os.environ['SAS_TOKEN']"
   ]
  },
  {
   "cell_type": "code",
   "execution_count": 75,
   "metadata": {},
   "outputs": [],
   "source": [
    "blob_service = BlobServiceClient(\n",
    "    account_url='cameratrapsc.blob.core.windows.net',\n",
    "    credential=sas_token)"
   ]
  },
  {
   "cell_type": "code",
   "execution_count": 76,
   "metadata": {},
   "outputs": [],
   "source": [
    "samples = sample(test_set_files, 40)"
   ]
  },
  {
   "cell_type": "code",
   "execution_count": 77,
   "metadata": {},
   "outputs": [],
   "source": [
    "container_client = blob_service.get_container_client('megadetectorv4-artifacts')\n",
    "for i in samples:\n",
    "    if not os.path.exists(os.path.join(test_im_dir, '{}.jpg'.format(i))):\n",
    "        with open(os.path.join(test_im_dir, 'mdv4_1_test_sample', '{}.jpg'.format(i)), 'wb') as f:\n",
    "            container_client.download_blob('mdv4_images/test/' + i + '.jpg').readinto(f)"
   ]
  },
  {
   "cell_type": "code",
   "execution_count": null,
   "metadata": {
    "scrolled": true
   },
   "outputs": [],
   "source": [
    "sub_dir = 'mdv4_1_test_sample'\n",
    "\n",
    "confidence_threshold = 0.5\n",
    "\n",
    "for download_id in samples:\n",
    "    print('\\n{}'.format(download_id))\n",
    "\n",
    "    print('ground truth')\n",
    "    image = viz_utils.resize_image(viz_utils.open_image(os.path.join(test_im_dir, sub_dir, '{}.jpg'.format(download_id))), 600)\n",
    "    gt_bbox = mdv4boxes_labels_dict[download_id]['bbox']    \n",
    "    viz_utils.render_megadb_bounding_boxes(gt_bbox, image)\n",
    "    image\n",
    "\n",
    "    for run_name in runs_to_compare:\n",
    "        print(run_name, '- max_detection_conf: ', results_to_compare[run_name][download_id]['max_detection_conf'])\n",
    "        detections = results_to_compare[run_name][download_id]['detections']\n",
    "\n",
    "        # need to reload the image for each rendering\n",
    "        image = viz_utils.resize_image(viz_utils.open_image(os.path.join(test_im_dir, sub_dir, '{}.jpg'.format(download_id))), 600)\n",
    "\n",
    "        viz_utils.render_detection_bounding_boxes(detections, image, label_map=label_map,\n",
    "                                              confidence_threshold=confidence_threshold)\n",
    "        image"
   ]
  },
  {
   "cell_type": "code",
   "execution_count": 97,
   "metadata": {},
   "outputs": [],
   "source": [
    "sub_dir = 'mdv4_1_test_big_diff'\n",
    "\n",
    "for i in very_diff_entries:\n",
    "    if not os.path.exists(os.path.join(test_im_dir, '{}.jpg'.format(i))):\n",
    "        with open(os.path.join(test_im_dir, sub_dir, '{}.jpg'.format(i))), 'wb') as f:\n",
    "            container_client.download_blob('mdv4_images/test/' + i + '.jpg').readinto(f)"
   ]
  },
  {
   "cell_type": "code",
   "execution_count": null,
   "metadata": {
    "scrolled": true
   },
   "outputs": [],
   "source": [
    "confidence_threshold = 0.5\n",
    "\n",
    "for download_id in sample(very_diff_entries, 10):\n",
    "    print('\\n{}'.format(download_id))\n",
    "\n",
    "    print('ground truth')\n",
    "    image = viz_utils.resize_image(viz_utils.open_image(os.path.join(test_im_dir, sub_dir, '{}.jpg'.format(download_id))), 600)\n",
    "    gt_bbox = mdv4boxes_labels_dict[download_id]['bbox']    \n",
    "    viz_utils.render_megadb_bounding_boxes(gt_bbox, image)\n",
    "    image\n",
    "\n",
    "    for run_name in runs_to_compare:\n",
    "        print(run_name, '- max_detection_conf: ', results_to_compare[run_name][download_id]['max_detection_conf'])\n",
    "        detections = results_to_compare[run_name][download_id]['detections']\n",
    "\n",
    "        # need to reload the image for each rendering\n",
    "        image = viz_utils.resize_image(viz_utils.open_image(os.path.join(test_im_dir, sub_dir, '{}.jpg'.format(download_id))), 600)\n",
    "\n",
    "        viz_utils.render_detection_bounding_boxes(detections, image, label_map=label_map,\n",
    "                                              confidence_threshold=confidence_threshold)\n",
    "        image"
   ]
  },
  {
   "cell_type": "code",
   "execution_count": 110,
   "metadata": {},
   "outputs": [],
   "source": [
    "sub_dir = 'both_mdv4s_false_neg'\n",
    "\n",
    "for i in false_neg_all_models:\n",
    "    if not os.path.exists(os.path.join(test_im_dir, '{}.jpg'.format(i))):\n",
    "        with open(os.path.join(test_im_dir, sub_dir, '{}.jpg'.format(i)), 'wb') as f:\n",
    "            container_client.download_blob('mdv4_images/test/' + i + '.jpg').readinto(f)"
   ]
  },
  {
   "cell_type": "code",
   "execution_count": null,
   "metadata": {
    "scrolled": true
   },
   "outputs": [],
   "source": [
    "confidence_threshold = 0.5\n",
    "\n",
    "for download_id in sample(false_neg_all_models, 20):\n",
    "    print('\\n{}'.format(download_id))\n",
    "\n",
    "    print('ground truth')\n",
    "    image = viz_utils.resize_image(viz_utils.open_image(os.path.join(test_im_dir, sub_dir, '{}.jpg'.format(download_id))), 600)\n",
    "    gt_bbox = mdv4boxes_labels_dict[download_id]['bbox']    \n",
    "    viz_utils.render_megadb_bounding_boxes(gt_bbox, image)\n",
    "    image\n",
    "\n",
    "    for run_name in runs_to_compare:\n",
    "        print(run_name, '- max_detection_conf: ', results_to_compare[run_name][download_id]['max_detection_conf'])\n",
    "        detections = results_to_compare[run_name][download_id]['detections']\n",
    "\n",
    "        # need to reload the image for each rendering\n",
    "        image = viz_utils.resize_image(viz_utils.open_image(os.path.join(test_im_dir, sub_dir, '{}.jpg'.format(download_id))), 600)\n",
    "\n",
    "        viz_utils.render_detection_bounding_boxes(detections, image, label_map=label_map,\n",
    "                                              confidence_threshold=confidence_threshold)\n",
    "        image"
   ]
  },
  {
   "cell_type": "code",
   "execution_count": 121,
   "metadata": {},
   "outputs": [],
   "source": [
    "sub_dir = 'both_mdv4s_false_pos'\n",
    "\n",
    "for i in false_pos_all_models:\n",
    "    if not os.path.exists(os.path.join(test_im_dir, '{}.jpg'.format(i))):\n",
    "        with open(os.path.join(test_im_dir, sub_dir, '{}.jpg'.format(i)), 'wb') as f:\n",
    "            container_client.download_blob('mdv4_images/test/' + i + '.jpg').readinto(f)"
   ]
  },
  {
   "cell_type": "code",
   "execution_count": null,
   "metadata": {
    "scrolled": true
   },
   "outputs": [],
   "source": [
    "confidence_threshold = 0.5\n",
    "\n",
    "for download_id in sample(false_pos_all_models, 20):\n",
    "    print('\\n{}'.format(download_id))\n",
    "\n",
    "    print('ground truth')\n",
    "    image = viz_utils.resize_image(viz_utils.open_image(os.path.join(test_im_dir, sub_dir, '{}.jpg'.format(download_id))), 600)\n",
    "    gt_bbox = mdv4boxes_labels_dict[download_id]['bbox']    \n",
    "    viz_utils.render_megadb_bounding_boxes(gt_bbox, image)\n",
    "    image\n",
    "\n",
    "    for run_name in runs_to_compare:\n",
    "        print(run_name, '- max_detection_conf: ', results_to_compare[run_name][download_id]['max_detection_conf'])\n",
    "        detections = results_to_compare[run_name][download_id]['detections']\n",
    "\n",
    "        # need to reload the image for each rendering\n",
    "        image = viz_utils.resize_image(viz_utils.open_image(os.path.join(test_im_dir, sub_dir, '{}.jpg'.format(download_id))), 600)\n",
    "\n",
    "        viz_utils.render_detection_bounding_boxes(detections, image, label_map=label_map,\n",
    "                                              confidence_threshold=confidence_threshold)\n",
    "        image"
   ]
  },
  {
   "cell_type": "code",
   "execution_count": null,
   "metadata": {},
   "outputs": [],
   "source": []
  }
 ],
 "metadata": {
  "kernelspec": {
   "display_name": "Python [conda env:cameratraps] *",
   "language": "python",
   "name": "conda-env-cameratraps-py"
  },
  "language_info": {
   "codemirror_mode": {
    "name": "ipython",
    "version": 3
   },
   "file_extension": ".py",
   "mimetype": "text/x-python",
   "name": "python",
   "nbconvert_exporter": "python",
   "pygments_lexer": "ipython3",
   "version": "3.6.10"
  }
 },
 "nbformat": 4,
 "nbformat_minor": 2
}
