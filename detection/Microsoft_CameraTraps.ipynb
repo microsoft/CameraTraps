{
  "nbformat": 4,
  "nbformat_minor": 0,
  "metadata": {
    "colab": {
      "name": "Microsoft - CameraTraps.ipynb",
      "version": "0.3.2",
      "provenance": [],
      "collapsed_sections": []
    },
    "kernelspec": {
      "name": "python3",
      "display_name": "Python 3"
    }
  },
  "cells": [
    {
      "cell_type": "markdown",
      "metadata": {
        "id": "nf_XaHVvQPy6",
        "colab_type": "text"
      },
      "source": [
        "<a href=\"https://colab.research.google.com/github/microsoft/CameraTraps/blob/master/detection/Microsoft_CameraTraps.ipynb\"><img src=\"https://colab.research.google.com/assets/colab-badge.svg\" alt=\"Open In Colab\"/></a>"
      ]
    },
    {
      "cell_type": "markdown",
      "metadata": {
        "id": "BIzjmeLItth_",
        "colab_type": "text"
      },
      "source": [
        "# Microsoft camera trap MegaDetector\n",
        "\n",
        "**This notebook is meant to be used on Google Colaboratory and may not work on a typical Jupyter notebook (not tested)**\n",
        "\n",
        "**Don't forget to enable GPU, it process images 10x + faster than CPU**\n",
        "\n",
        "Execution -> Change type of execution -> pick GPU"
      ]
    },
    {
      "cell_type": "markdown",
      "metadata": {
        "id": "aOp-gNkatoyi",
        "colab_type": "text"
      },
      "source": [
        "## Clone the Microsoft/CameraTraps repository & Install dependencies\n",
        "\n"
      ]
    },
    {
      "cell_type": "code",
      "metadata": {
        "id": "02-ocsEtrf74",
        "colab_type": "code",
        "colab": {}
      },
      "source": [
        "!git clone https://github.com/microsoft/CameraTraps.git"
      ],
      "execution_count": 0,
      "outputs": []
    },
    {
      "cell_type": "code",
      "metadata": {
        "id": "zh0TUdB4udK_",
        "colab_type": "code",
        "colab": {}
      },
      "source": [
        "!pip install -r /content/CameraTraps/requirements.txt"
      ],
      "execution_count": 0,
      "outputs": []
    },
    {
      "cell_type": "markdown",
      "metadata": {
        "id": "B0_iIslEtkwL",
        "colab_type": "text"
      },
      "source": [
        "## Download trained model"
      ]
    },
    {
      "cell_type": "code",
      "metadata": {
        "id": "mKC_L9Q5te6n",
        "colab_type": "code",
        "colab": {}
      },
      "source": [
        "!wget https://lilablobssc.blob.core.windows.net/models/camera_traps/megadetector/megadetector_v3.pb"
      ],
      "execution_count": 0,
      "outputs": []
    },
    {
      "cell_type": "markdown",
      "metadata": {
        "id": "G5765_zlt0ID",
        "colab_type": "text"
      },
      "source": [
        "## Import required librairies"
      ]
    },
    {
      "cell_type": "code",
      "metadata": {
        "id": "QKTP3fwur14q",
        "colab_type": "code",
        "colab": {}
      },
      "source": [
        "import os # File management\n",
        "import glob # File management\n",
        "from pathlib import Path # File management\n",
        "import urllib.request # Download image\n",
        "import matplotlib.pyplot as plt # Visualization\n",
        "import matplotlib.image as mpimg # Image visualization"
      ],
      "execution_count": 0,
      "outputs": []
    },
    {
      "cell_type": "markdown",
      "metadata": {
        "id": "twO98Ygtt-oz",
        "colab_type": "text"
      },
      "source": [
        "## Download and display image (from Google Image)\n",
        "https://github.com/hardikvasa/google-images-download"
      ]
    },
    {
      "cell_type": "code",
      "metadata": {
        "id": "eM3TUExQ2XK9",
        "colab_type": "code",
        "colab": {}
      },
      "source": [
        "!pip install google_images_download\n",
        "from google_images_download import google_images_download   #importing the library"
      ],
      "execution_count": 0,
      "outputs": []
    },
    {
      "cell_type": "code",
      "metadata": {
        "id": "9lIY5Lc01xt8",
        "colab_type": "code",
        "colab": {}
      },
      "source": [
        "response = google_images_download.googleimagesdownload()   #class instantiation\n",
        "keywords = ['wolf camera trap', 'lynx camera trap']\n",
        "download_dir = \"/content/downloads\"\n",
        "arguments = {\"keywords\":\",\".join(keywords), \"limit\":20, \"silent_mode\":True}   #creating list of arguments\n",
        "paths = response.download(arguments)   #passing the arguments to the function"
      ],
      "execution_count": 0,
      "outputs": []
    },
    {
      "cell_type": "code",
      "metadata": {
        "id": "ZOD3KLtT2_NS",
        "colab_type": "code",
        "colab": {}
      },
      "source": [
        "def display_images(path = \".\", start_index_of_images_to_display = 0, figsize = (30, 30)):\n",
        "  \"\"\"\n",
        "  Function to display a group of images from a directory\n",
        "  \"\"\"\n",
        "  images = list(Path(path).rglob(\"*.[jJ][pP][gG]\")) + list(Path(path).rglob(\"*.[pP][nN][gG]\"))\n",
        "  # videos = list(Path(path).rglob(\"*.[aA][vV][iI]\")) + list(Path(path).rglob(\"*.[mM][pP][4]\")) # In case we need a list of videos ... \n",
        "  w=10\n",
        "  h=10\n",
        "  fig=plt.figure(figsize=figsize)\n",
        "  columns = 4\n",
        "  rows = 5\n",
        "  for i in range(1, columns*rows +1):\n",
        "    try:\n",
        "      img = plt.imread(images[start_index_of_images_to_display + i - 1])\n",
        "      fig.add_subplot(rows, columns, i)\n",
        "      plt.imshow(img)\n",
        "    except Exception as e:\n",
        "      pass\n",
        "  plt.show()"
      ],
      "execution_count": 0,
      "outputs": []
    },
    {
      "cell_type": "code",
      "metadata": {
        "id": "iPVn6Ur_2pzI",
        "colab_type": "code",
        "colab": {}
      },
      "source": [
        "display_images(os.path.join(download_dir, keywords[0]), figsize=(15,15))"
      ],
      "execution_count": 0,
      "outputs": []
    },
    {
      "cell_type": "code",
      "metadata": {
        "id": "CdolHHt54fZr",
        "colab_type": "code",
        "colab": {}
      },
      "source": [
        "display_images(os.path.join(download_dir, keywords[1]), figsize=(15,15))"
      ],
      "execution_count": 0,
      "outputs": []
    },
    {
      "cell_type": "code",
      "metadata": {
        "id": "B7Xiivhx2Eb1",
        "colab_type": "code",
        "colab": {}
      },
      "source": [
        "#!rm -R $download_dir/* # In case you want to clear the downloads directory"
      ],
      "execution_count": 0,
      "outputs": []
    },
    {
      "cell_type": "markdown",
      "metadata": {
        "id": "3wK9dLT7uBZy",
        "colab_type": "text"
      },
      "source": [
        "## Run the detector\n",
        "https://github.com/Microsoft/CameraTraps/blob/master/detection/run_tf_detector.py"
      ]
    },
    {
      "cell_type": "code",
      "metadata": {
        "id": "xb8Zmg6JtQZp",
        "colab_type": "code",
        "colab": {}
      },
      "source": [
        "!python /content/CameraTraps/detection/run_tf_detector.py /content/megadetector_v3.pb --imageDir $download_dir/wolf\\ camera\\ trap --outputDir /content/output/wolf"
      ],
      "execution_count": 0,
      "outputs": []
    },
    {
      "cell_type": "code",
      "metadata": {
        "id": "9SX-jRph9jJO",
        "colab_type": "code",
        "colab": {}
      },
      "source": [
        "!python /content/CameraTraps/detection/run_tf_detector.py /content/megadetector_v3.pb --imageDir $download_dir/lynx\\ camera\\ trap --outputDir /content/output/lynx"
      ],
      "execution_count": 0,
      "outputs": []
    },
    {
      "cell_type": "markdown",
      "metadata": {
        "id": "1BOfpYFvytXe",
        "colab_type": "text"
      },
      "source": [
        "## Display results"
      ]
    },
    {
      "cell_type": "code",
      "metadata": {
        "id": "UENWUJBtvgW7",
        "colab_type": "code",
        "colab": {}
      },
      "source": [
        "display_images(\"/content/output/wolf\", figsize = (15,15))"
      ],
      "execution_count": 0,
      "outputs": []
    },
    {
      "cell_type": "code",
      "metadata": {
        "id": "-D8qvBXawLKs",
        "colab_type": "code",
        "colab": {}
      },
      "source": [
        "display_images(\"/content/output/lynx\", figsize = (15,15))"
      ],
      "execution_count": 0,
      "outputs": []
    }
  ]
}