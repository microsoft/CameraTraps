{
 "cells": [
  {
   "cell_type": "markdown",
   "metadata": {},
   "source": [
    "## Test notebook for the MegaDetector Flask API"
   ]
  },
  {
   "cell_type": "markdown",
   "metadata": {},
   "source": [
    "### Imports and environment"
   ]
  },
  {
   "cell_type": "code",
   "execution_count": 2,
   "metadata": {},
   "outputs": [
    {
     "name": "stdout",
     "output_type": "stream",
     "text": [
      "http://onemoremallard.southcentralus.cloudapp.azure.com:5050/v1/camera-trap/sync/detect\n"
     ]
    }
   ],
   "source": [
    "import requests\n",
    "import os\n",
    "import json\n",
    "import io\n",
    "\n",
    "from requests_toolbelt import MultipartEncoder\n",
    "from requests_toolbelt.multipart import decoder\n",
    "from PIL import Image\n",
    "\n",
    "# sample_input_dir should point to a folder full of png/jpg files\n",
    "sample_input_root = os.getcwd()\n",
    "sample_input_root = sample_input_root.replace('\\\\api_flask_redis\\\\api_core\\\\tests', '\\\\api\\\\synchronous\\\\sample_input')\n",
    "sample_input_dir = os.path.join(sample_input_root, 'png')\n",
    "\n",
    "ip_address = 'onemoremallard.southcentralus.cloudapp.azure.com'\n",
    "port = '5050'\n",
    "detect_endpoint = 'http://{}:{}/v1/camera-trap/sync/detect'.format(ip_address, port)\n",
    "print(detect_endpoint)"
   ]
  },
  {
   "cell_type": "markdown",
   "metadata": {},
   "source": [
    "### Select images to submit"
   ]
  },
  {
   "cell_type": "code",
   "execution_count": 5,
   "metadata": {},
   "outputs": [
    {
     "name": "stdout",
     "output_type": "stream",
     "text": [
      "Found 4 images files:\n",
      "c:\\git\\cameratraps\\api\\synchronous\\sample_input\\png\\S1_D04_R6_PICT0022.JPG\n",
      "c:\\git\\cameratraps\\api\\synchronous\\sample_input\\png\\S1_D04_R6_PICT0022.png\n",
      "c:\\git\\cameratraps\\api\\synchronous\\sample_input\\png\\S1_D04_R6_PICT0128.JPG\n",
      "c:\\git\\cameratraps\\api\\synchronous\\sample_input\\png\\S1_D04_R6_PICT0128.png\n"
     ]
    }
   ],
   "source": [
    "filenames = os.listdir(sample_input_dir)\n",
    "filenames = [s for s in filenames if (s.lower().endswith('.png') or s.lower().endswith('.jpg'))]\n",
    "filenames = [os.path.join(sample_input_dir,s) for s in filenames]\n",
    "    \n",
    "print('Found {} images files:'.format(len(files)))\n",
    "for fn in filenames:\n",
    "    print(fn)"
   ]
  },
  {
   "cell_type": "markdown",
   "metadata": {},
   "source": [
    "### Submit images"
   ]
  },
  {
   "cell_type": "code",
   "execution_count": 16,
   "metadata": {},
   "outputs": [
    {
     "name": "stdout",
     "output_type": "stream",
     "text": [
      "multipart/form-data; boundary=8fa571a65d5d42da9bcadc2d9e9bbf11\n"
     ]
    }
   ],
   "source": [
    "params = {\n",
    "    'min_confidence': 0.15,\n",
    "    'min_rendering_confidence': 0.8,\n",
    "    'render': True,\n",
    "    'key': None\n",
    "}\n",
    "\n",
    "def clean_filename(s):\n",
    "    s = s.replace('/','_').replace('\\\\','_')\n",
    "    return s\n",
    "    \n",
    "file_handles = {}\n",
    "for fn in filenames:\n",
    "    file_handles[fn] = (clean_filename(fn), open(fn, 'rb'), 'image/jpeg')\n",
    "\n",
    "m = MultipartEncoder(fields=files)\n",
    "print(m.content_type)\n",
    "\n",
    "r = requests.post(detect_endpoint, \n",
    "                  params=params,\n",
    "                  data=m,\n",
    "                  headers={'Content-Type': m.content_type})\n",
    "\n",
    "print('Status: {}'.format(r.status_code))\n",
    "\n",
    "if not r.ok:\n",
    "    print('Error: {}\\n{}'.format(r.reason,r.text))\n",
    "    \n",
    "print('Elapsed time: {}'.format(r.elapsed.total_seconds()))\n",
    "\n",
    "for f in file_handles.values():\n",
    "    f[1].close()"
   ]
  },
  {
   "cell_type": "code",
   "execution_count": null,
   "metadata": {},
   "outputs": [],
   "source": []
  },
  {
   "cell_type": "markdown",
   "metadata": {},
   "source": [
    "### Decode and display results"
   ]
  },
  {
   "cell_type": "code",
   "execution_count": 12,
   "metadata": {},
   "outputs": [],
   "source": [
    "results = decoder.MultipartDecoder.from_response(r)\n",
    "text_results = {}\n",
    "images = {}\n",
    "for part in results.parts:\n",
    "    # part is a BodyPart object with b'Content-Type', and b'Content-Disposition', the later includes 'name' and 'filename' info\n",
    "    headers = {}\n",
    "    for k, v in part.headers.items():\n",
    "        headers[k.decode(part.encoding)] = v.decode(part.encoding)\n",
    "    if headers.get('Content-Type', None) == 'image/jpeg':\n",
    "        #images[part.headers['filename']] = part.content\n",
    "        c = headers.get('Content-Disposition')\n",
    "        image_name = c.split('name=\"')[1].split('\"')[0]  # somehow all the filename and name info is all in one string with no obvious forma\n",
    "        image = Image.open(io.BytesIO(part.content))\n",
    "        \n",
    "        images[image_name] = image\n",
    "    \n",
    "    elif headers.get('Content-Type', None) == 'application/json':\n",
    "        text_result = json.loads(part.content.decode())\n",
    "text_result\n",
    "\n",
    "for img_name, img in sorted(images.items()):\n",
    "    print(img_name)\n",
    "    img\n",
    "    print()\n",
    "    "
   ]
  }
 ],
 "metadata": {
  "anaconda-cloud": {},
  "kernelspec": {
   "display_name": "Python 3",
   "language": "python",
   "name": "python3"
  },
  "language_info": {
   "codemirror_mode": {
    "name": "ipython",
    "version": 3
   },
   "file_extension": ".py",
   "mimetype": "text/x-python",
   "name": "python",
   "nbconvert_exporter": "python",
   "pygments_lexer": "ipython3",
   "version": "3.8.8"
  }
 },
 "nbformat": 4,
 "nbformat_minor": 1
}
