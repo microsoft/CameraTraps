{
 "cells": [
  {
   "cell_type": "markdown",
   "metadata": {},
   "source": [
    "### Imports and environment"
   ]
  },
  {
   "cell_type": "code",
   "execution_count": null,
   "metadata": {},
   "outputs": [],
   "source": [
    "from IPython.core.interactiveshell import InteractiveShell\n",
    "InteractiveShell.ast_node_interactivity = 'all'\n",
    "\n",
    "%load_ext autoreload\n",
    "%autoreload 2"
   ]
  },
  {
   "cell_type": "code",
   "execution_count": null,
   "metadata": {},
   "outputs": [],
   "source": [
    "from requests_toolbelt import MultipartEncoder\n",
    "from requests_toolbelt.multipart import decoder\n",
    "import requests\n",
    "import os\n",
    "import json\n",
    "from PIL import Image\n",
    "import io"
   ]
  },
  {
   "cell_type": "code",
   "execution_count": null,
   "metadata": {},
   "outputs": [],
   "source": [
    "sample_input_root = os.getcwd()\n",
    "sample_input_root = sample_input_root.replace('\\\\api_flask_redis\\\\api_core\\\\tests', '\\\\api\\\\synchronous\\\\sample_input')\n",
    "\n",
    "ip_address = '100.100.200.200'\n",
    "port = '5050'\n",
    "base_url = 'http://{}:{}/v1/camera-trap/sync/'.format(ip_address, port)  # insert the IP address of the API\n",
    "base_url"
   ]
  },
  {
   "cell_type": "markdown",
   "metadata": {},
   "source": [
    "# Test"
   ]
  },
  {
   "cell_type": "code",
   "execution_count": null,
   "metadata": {},
   "outputs": [],
   "source": [
    "sample_input_dir = os.path.join(sample_input_root, 'test_images')"
   ]
  },
  {
   "cell_type": "code",
   "execution_count": null,
   "metadata": {},
   "outputs": [],
   "source": [
    "params = {\n",
    "    'min_confidence': 0.15,\n",
    "    'min_rendering_confidence': 0.8,\n",
    "    'render': True\n",
    "}\n",
    "\n",
    "files = {}\n",
    "sample_input_dir = os.path.join(sample_input_root, 'png')\n",
    "\n",
    "for i, image_name in enumerate(sorted(os.listdir(sample_input_dir))):\n",
    "    if image_name.startswith('.'):\n",
    "        continue\n",
    "    print(image_name)\n",
    "    img_path = os.path.join(sample_input_dir, image_name)\n",
    "    files[image_name] = (image_name, open(img_path, 'rb'), 'image/jpeg')\n",
    "    \n",
    "print('Number of files:', len(files))\n",
    "\n",
    "m = MultipartEncoder(fields=files)\n",
    "print(m.content_type)\n",
    "\n",
    "r = requests.post(base_url + 'detect', \n",
    "                  params=params,\n",
    "                  data=m,\n",
    "                  headers={'Content-Type': m.content_type})\n",
    "r.status_code\n",
    "r.ok\n",
    "if not r.ok:\n",
    "    r.reason\n",
    "    r.text\n",
    "r.elapsed.total_seconds()"
   ]
  },
  {
   "cell_type": "code",
   "execution_count": null,
   "metadata": {},
   "outputs": [],
   "source": [
    "results = decoder.MultipartDecoder.from_response(r)\n",
    "text_results = {}\n",
    "images = {}\n",
    "for part in results.parts:\n",
    "    # part is a BodyPart object with b'Content-Type', and b'Content-Disposition', the later includes 'name' and 'filename' info\n",
    "    headers = {}\n",
    "    for k, v in part.headers.items():\n",
    "        headers[k.decode(part.encoding)] = v.decode(part.encoding)\n",
    "    if headers.get('Content-Type', None) == 'image/jpeg':\n",
    "        #images[part.headers['filename']] = part.content\n",
    "        c = headers.get('Content-Disposition')\n",
    "        image_name = c.split('name=\"')[1].split('\"')[0]  # somehow all the filename and name info is all in one string with no obvious forma\n",
    "        image = Image.open(io.BytesIO(part.content))\n",
    "        \n",
    "        images[image_name] = image\n",
    "    \n",
    "    elif headers.get('Content-Type', None) == 'application/json':\n",
    "        text_result = json.loads(part.content.decode())\n",
    "text_result"
   ]
  },
  {
   "cell_type": "code",
   "execution_count": null,
   "metadata": {
    "scrolled": false
   },
   "outputs": [],
   "source": [
    "for img_name, img in sorted(images.items()):\n",
    "    print(img_name)\n",
    "    img\n",
    "    print()"
   ]
  },
  {
   "cell_type": "code",
   "execution_count": null,
   "metadata": {},
   "outputs": [],
   "source": []
  }
 ],
 "metadata": {
  "anaconda-cloud": {},
  "kernelspec": {
   "display_name": "Python 3",
   "language": "python",
   "name": "python3"
  },
  "language_info": {
   "codemirror_mode": {
    "name": "ipython",
    "version": 3
   },
   "file_extension": ".py",
   "mimetype": "text/x-python",
   "name": "python",
   "nbconvert_exporter": "python",
   "pygments_lexer": "ipython3",
   "version": "3.9.6"
  }
 },
 "nbformat": 4,
 "nbformat_minor": 1
}
