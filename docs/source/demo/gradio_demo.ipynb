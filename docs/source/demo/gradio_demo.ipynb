{
 "cells": [
  {
   "cell_type": "markdown",
   "id": "d263df50",
   "metadata": {},
   "source": [
    "# Gradio Interface Demo with PytorchWildlife"
   ]
  },
  {
   "cell_type": "markdown",
   "id": "5b5ce283",
   "metadata": {},
   "source": [
    "This tutorial demonstrates the capabilities of the PytorchWildlife package for detection and classification, combined with Gradio for a user-friendly interface. We will go through the process of setting up the environment, creating Gradio interfaces for single image, batch image, and video detection, and launching the interface.\n",
    "\n",
    "## Prerequisites\n",
    "Ensure that the PytorchWildlife package, Gradio, and other required libraries are installed. Also, make sure you have a CUDA-capable GPU if you intend to run the model on a GPU.\n",
    "\n",
    "## Setup\n",
    "First, we'll start by importing the necessary libraries and modules."
   ]
  },
  {
   "cell_type": "code",
   "execution_count": null,
   "id": "6f5d9112",
   "metadata": {},
   "outputs": [],
   "source": [
    "from PIL import Image\n",
    "import os\n",
    "import time\n",
    "import supervision as sv\n",
    "import gradio as gr\n",
    "from zipfile import ZipFile\n",
    "from torch.utils.data import DataLoader\n",
    "from PytorchWildlife.models import detection as pw_detection\n",
    "from PytorchWildlife.models import classification as pw_classification\n",
    "from PytorchWildlife.data import transforms as pw_trans\n",
    "from PytorchWildlife.data import datasets as pw_data \n",
    "from PytorchWildlife import utils as pw_utils"
   ]
  },
  {
   "cell_type": "markdown",
   "id": "df7308e5",
   "metadata": {},
   "source": [
    "## Setting GPU\n",
    "Specify which GPU to use for the computations. By default, we're using the GPU with ID 4. Adjust this as per your setup."
   ]
  },
  {
   "cell_type": "code",
   "execution_count": null,
   "id": "75517b86",
   "metadata": {},
   "outputs": [],
   "source": [
    "DEVICE = 'cuda'"
   ]
  },
  {
   "cell_type": "markdown",
   "id": "601ce7fa",
   "metadata": {},
   "source": [
    "## Model and Transformation Initialization\n",
    "We need to initialize the models (both detection and classification) and set up the transformations for preprocessing. Additionally, we will define functions to handle different detection scenarios: single image, batch image, and video detection."
   ]
  },
  {
   "cell_type": "code",
   "execution_count": null,
   "id": "47f93fc9",
   "metadata": {},
   "outputs": [],
   "source": [
    "# Initializing a supervision box annotator for visualizing detections\n",
    "box_annotator = sv.BoxAnnotator(thickness=4, text_thickness=4, text_scale=2)\n",
    "detection_model = None\n",
    "classification_model = None\n",
    "trans_det = None\n",
    "trans_clf = None\n",
    "\n",
    "# All the functions and Gradio UI logic will be placed here"
   ]
  },
  {
   "cell_type": "markdown",
   "id": "1f24ea1d",
   "metadata": {},
   "source": [
    "## Building Gradio UI\n",
    "Gradio allows us to easily create a user-friendly interface for our detection and classification tasks. We will define a Gradio interface with tabs for single image, batch image, and video processing."
   ]
  },
  {
   "cell_type": "code",
   "execution_count": null,
   "id": "33ab9e8a",
   "metadata": {},
   "outputs": [],
   "source": [
    "# Gradio UI construction logic and launching will be placed here"
   ]
  },
  {
   "cell_type": "markdown",
   "id": "fee6e85c",
   "metadata": {},
   "source": [
    "## Conclusion\n",
    "This tutorial covered the creation of a Gradio interface for detection and classification tasks using the PytorchWildlife package. Once you launch the Gradio interface, you can interact with the models in a user-friendly way through your web browser. To actually run the Gradio interface, execute the notebook cells in a local Jupyter environment and access the provided URL."
   ]
  }
 ],
 "metadata": {},
 "nbformat": 4,
 "nbformat_minor": 5
}
